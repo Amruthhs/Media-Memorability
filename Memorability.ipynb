{
 "cells": [
  {
   "cell_type": "code",
   "execution_count": 1,
   "metadata": {},
   "outputs": [],
   "source": [
    "# importing libraries\n",
    "import numpy as np\n",
    "import pandas as pd\n",
    "import matplotlib.pyplot as plt\n",
    "import glob\n",
    "import os"
   ]
  },
  {
   "cell_type": "code",
   "execution_count": 27,
   "metadata": {},
   "outputs": [],
   "source": [
    "ground_truth = pd.read_csv('D:/DCU/2nd Semester/Assignments/Machine Learning/My Assignment/ground-truth.csv')\n",
    "# ground_truth = pd.read_csv('G:/.shortcut-targets-by-id/1UWIdExqb5P94RLqkaiODcwFC2v7g3lB2/CA684_Assignment/Dev-set/Ground-truth/ground-truth.csv')"
   ]
  },
  {
   "cell_type": "code",
   "execution_count": 22,
   "metadata": {},
   "outputs": [
    {
     "data": {
      "text/html": [
       "<div>\n",
       "<style scoped>\n",
       "    .dataframe tbody tr th:only-of-type {\n",
       "        vertical-align: middle;\n",
       "    }\n",
       "\n",
       "    .dataframe tbody tr th {\n",
       "        vertical-align: top;\n",
       "    }\n",
       "\n",
       "    .dataframe thead th {\n",
       "        text-align: right;\n",
       "    }\n",
       "</style>\n",
       "<table border=\"1\" class=\"dataframe\">\n",
       "  <thead>\n",
       "    <tr style=\"text-align: right;\">\n",
       "      <th></th>\n",
       "      <th>video</th>\n",
       "      <th>short-term_memorability</th>\n",
       "      <th>nb_short-term_annotations</th>\n",
       "      <th>long-term_memorability</th>\n",
       "      <th>nb_long-term_annotations</th>\n",
       "    </tr>\n",
       "  </thead>\n",
       "  <tbody>\n",
       "    <tr>\n",
       "      <td>0</td>\n",
       "      <td>video3.webm</td>\n",
       "      <td>0.924</td>\n",
       "      <td>34</td>\n",
       "      <td>0.846</td>\n",
       "      <td>13</td>\n",
       "    </tr>\n",
       "    <tr>\n",
       "      <td>1</td>\n",
       "      <td>video4.webm</td>\n",
       "      <td>0.923</td>\n",
       "      <td>33</td>\n",
       "      <td>0.667</td>\n",
       "      <td>12</td>\n",
       "    </tr>\n",
       "    <tr>\n",
       "      <td>2</td>\n",
       "      <td>video6.webm</td>\n",
       "      <td>0.863</td>\n",
       "      <td>33</td>\n",
       "      <td>0.700</td>\n",
       "      <td>10</td>\n",
       "    </tr>\n",
       "    <tr>\n",
       "      <td>3</td>\n",
       "      <td>video8.webm</td>\n",
       "      <td>0.922</td>\n",
       "      <td>33</td>\n",
       "      <td>0.818</td>\n",
       "      <td>11</td>\n",
       "    </tr>\n",
       "    <tr>\n",
       "      <td>4</td>\n",
       "      <td>video10.webm</td>\n",
       "      <td>0.950</td>\n",
       "      <td>34</td>\n",
       "      <td>0.900</td>\n",
       "      <td>10</td>\n",
       "    </tr>\n",
       "  </tbody>\n",
       "</table>\n",
       "</div>"
      ],
      "text/plain": [
       "          video  short-term_memorability  nb_short-term_annotations  \\\n",
       "0   video3.webm                    0.924                         34   \n",
       "1   video4.webm                    0.923                         33   \n",
       "2   video6.webm                    0.863                         33   \n",
       "3   video8.webm                    0.922                         33   \n",
       "4  video10.webm                    0.950                         34   \n",
       "\n",
       "   long-term_memorability  nb_long-term_annotations  \n",
       "0                   0.846                        13  \n",
       "1                   0.667                        12  \n",
       "2                   0.700                        10  \n",
       "3                   0.818                        11  \n",
       "4                   0.900                        10  "
      ]
     },
     "execution_count": 22,
     "metadata": {},
     "output_type": "execute_result"
    }
   ],
   "source": [
    "ground_truth.head()\n"
   ]
  },
  {
   "cell_type": "code",
   "execution_count": 23,
   "metadata": {},
   "outputs": [
    {
     "data": {
      "text/html": [
       "<div>\n",
       "<style scoped>\n",
       "    .dataframe tbody tr th:only-of-type {\n",
       "        vertical-align: middle;\n",
       "    }\n",
       "\n",
       "    .dataframe tbody tr th {\n",
       "        vertical-align: top;\n",
       "    }\n",
       "\n",
       "    .dataframe thead th {\n",
       "        text-align: right;\n",
       "    }\n",
       "</style>\n",
       "<table border=\"1\" class=\"dataframe\">\n",
       "  <thead>\n",
       "    <tr style=\"text-align: right;\">\n",
       "      <th></th>\n",
       "      <th>short-term_memorability</th>\n",
       "      <th>nb_short-term_annotations</th>\n",
       "      <th>long-term_memorability</th>\n",
       "      <th>nb_long-term_annotations</th>\n",
       "    </tr>\n",
       "  </thead>\n",
       "  <tbody>\n",
       "    <tr>\n",
       "      <td>short-term_memorability</td>\n",
       "      <td>1.000000</td>\n",
       "      <td>-0.021178</td>\n",
       "      <td>0.325002</td>\n",
       "      <td>-0.013858</td>\n",
       "    </tr>\n",
       "    <tr>\n",
       "      <td>nb_short-term_annotations</td>\n",
       "      <td>-0.021178</td>\n",
       "      <td>1.000000</td>\n",
       "      <td>-0.047093</td>\n",
       "      <td>0.285548</td>\n",
       "    </tr>\n",
       "    <tr>\n",
       "      <td>long-term_memorability</td>\n",
       "      <td>0.325002</td>\n",
       "      <td>-0.047093</td>\n",
       "      <td>1.000000</td>\n",
       "      <td>0.036051</td>\n",
       "    </tr>\n",
       "    <tr>\n",
       "      <td>nb_long-term_annotations</td>\n",
       "      <td>-0.013858</td>\n",
       "      <td>0.285548</td>\n",
       "      <td>0.036051</td>\n",
       "      <td>1.000000</td>\n",
       "    </tr>\n",
       "  </tbody>\n",
       "</table>\n",
       "</div>"
      ],
      "text/plain": [
       "                           short-term_memorability  nb_short-term_annotations  \\\n",
       "short-term_memorability                   1.000000                  -0.021178   \n",
       "nb_short-term_annotations                -0.021178                   1.000000   \n",
       "long-term_memorability                    0.325002                  -0.047093   \n",
       "nb_long-term_annotations                 -0.013858                   0.285548   \n",
       "\n",
       "                           long-term_memorability  nb_long-term_annotations  \n",
       "short-term_memorability                  0.325002                 -0.013858  \n",
       "nb_short-term_annotations               -0.047093                  0.285548  \n",
       "long-term_memorability                   1.000000                  0.036051  \n",
       "nb_long-term_annotations                 0.036051                  1.000000  "
      ]
     },
     "execution_count": 23,
     "metadata": {},
     "output_type": "execute_result"
    }
   ],
   "source": [
    "#Checking the correlation between the columns\n",
    "ground_truth.corr()"
   ]
  },
  {
   "cell_type": "code",
   "execution_count": 24,
   "metadata": {},
   "outputs": [],
   "source": [
    "ground_truth = ground_truth.drop(['nb_short-term_annotations', 'nb_long-term_annotations'], axis=1)\n"
   ]
  },
  {
   "cell_type": "code",
   "execution_count": 25,
   "metadata": {},
   "outputs": [
    {
     "data": {
      "text/html": [
       "<div>\n",
       "<style scoped>\n",
       "    .dataframe tbody tr th:only-of-type {\n",
       "        vertical-align: middle;\n",
       "    }\n",
       "\n",
       "    .dataframe tbody tr th {\n",
       "        vertical-align: top;\n",
       "    }\n",
       "\n",
       "    .dataframe thead th {\n",
       "        text-align: right;\n",
       "    }\n",
       "</style>\n",
       "<table border=\"1\" class=\"dataframe\">\n",
       "  <thead>\n",
       "    <tr style=\"text-align: right;\">\n",
       "      <th></th>\n",
       "      <th>video</th>\n",
       "      <th>short-term_memorability</th>\n",
       "      <th>long-term_memorability</th>\n",
       "    </tr>\n",
       "  </thead>\n",
       "  <tbody>\n",
       "    <tr>\n",
       "      <td>0</td>\n",
       "      <td>video3.webm</td>\n",
       "      <td>0.924</td>\n",
       "      <td>0.846</td>\n",
       "    </tr>\n",
       "    <tr>\n",
       "      <td>1</td>\n",
       "      <td>video4.webm</td>\n",
       "      <td>0.923</td>\n",
       "      <td>0.667</td>\n",
       "    </tr>\n",
       "    <tr>\n",
       "      <td>2</td>\n",
       "      <td>video6.webm</td>\n",
       "      <td>0.863</td>\n",
       "      <td>0.700</td>\n",
       "    </tr>\n",
       "    <tr>\n",
       "      <td>3</td>\n",
       "      <td>video8.webm</td>\n",
       "      <td>0.922</td>\n",
       "      <td>0.818</td>\n",
       "    </tr>\n",
       "    <tr>\n",
       "      <td>4</td>\n",
       "      <td>video10.webm</td>\n",
       "      <td>0.950</td>\n",
       "      <td>0.900</td>\n",
       "    </tr>\n",
       "  </tbody>\n",
       "</table>\n",
       "</div>"
      ],
      "text/plain": [
       "          video  short-term_memorability  long-term_memorability\n",
       "0   video3.webm                    0.924                   0.846\n",
       "1   video4.webm                    0.923                   0.667\n",
       "2   video6.webm                    0.863                   0.700\n",
       "3   video8.webm                    0.922                   0.818\n",
       "4  video10.webm                    0.950                   0.900"
      ]
     },
     "execution_count": 25,
     "metadata": {},
     "output_type": "execute_result"
    }
   ],
   "source": [
    "ground_truth.head()"
   ]
  },
  {
   "cell_type": "code",
   "execution_count": 28,
   "metadata": {},
   "outputs": [],
   "source": [
    "#importing the captions from a text file\n",
    "video_captions = pd.read_csv('G:/.shortcut-targets-by-id/1UWIdExqb5P94RLqkaiODcwFC2v7g3lB2/CA684_Assignment/Dev-set/Captions/dev-set_video-captions.txt',delimiter='\\t',header= None,names=('video','Captions'))"
   ]
  },
  {
   "cell_type": "code",
   "execution_count": 29,
   "metadata": {},
   "outputs": [
    {
     "data": {
      "text/html": [
       "<div>\n",
       "<style scoped>\n",
       "    .dataframe tbody tr th:only-of-type {\n",
       "        vertical-align: middle;\n",
       "    }\n",
       "\n",
       "    .dataframe tbody tr th {\n",
       "        vertical-align: top;\n",
       "    }\n",
       "\n",
       "    .dataframe thead th {\n",
       "        text-align: right;\n",
       "    }\n",
       "</style>\n",
       "<table border=\"1\" class=\"dataframe\">\n",
       "  <thead>\n",
       "    <tr style=\"text-align: right;\">\n",
       "      <th></th>\n",
       "      <th>video</th>\n",
       "      <th>Captions</th>\n",
       "    </tr>\n",
       "  </thead>\n",
       "  <tbody>\n",
       "    <tr>\n",
       "      <td>0</td>\n",
       "      <td>video3.webm</td>\n",
       "      <td>blonde-woman-is-massaged-tilt-down</td>\n",
       "    </tr>\n",
       "    <tr>\n",
       "      <td>1</td>\n",
       "      <td>video4.webm</td>\n",
       "      <td>roulette-table-spinning-with-ball-in-closeup-shot</td>\n",
       "    </tr>\n",
       "    <tr>\n",
       "      <td>2</td>\n",
       "      <td>video6.webm</td>\n",
       "      <td>khr-gangsters</td>\n",
       "    </tr>\n",
       "    <tr>\n",
       "      <td>3</td>\n",
       "      <td>video8.webm</td>\n",
       "      <td>medical-helicopter-hovers-at-airport</td>\n",
       "    </tr>\n",
       "    <tr>\n",
       "      <td>4</td>\n",
       "      <td>video10.webm</td>\n",
       "      <td>couple-relaxing-on-picnic-crane-shot</td>\n",
       "    </tr>\n",
       "  </tbody>\n",
       "</table>\n",
       "</div>"
      ],
      "text/plain": [
       "          video                                           Captions\n",
       "0   video3.webm                 blonde-woman-is-massaged-tilt-down\n",
       "1   video4.webm  roulette-table-spinning-with-ball-in-closeup-shot\n",
       "2   video6.webm                                      khr-gangsters\n",
       "3   video8.webm               medical-helicopter-hovers-at-airport\n",
       "4  video10.webm               couple-relaxing-on-picnic-crane-shot"
      ]
     },
     "execution_count": 29,
     "metadata": {},
     "output_type": "execute_result"
    }
   ],
   "source": [
    "video_captions.head()"
   ]
  },
  {
   "cell_type": "code",
   "execution_count": 30,
   "metadata": {},
   "outputs": [],
   "source": [
    "df = pd.merge(ground_truth, video_captions, on = 'video')"
   ]
  },
  {
   "cell_type": "code",
   "execution_count": 31,
   "metadata": {},
   "outputs": [
    {
     "data": {
      "text/html": [
       "<div>\n",
       "<style scoped>\n",
       "    .dataframe tbody tr th:only-of-type {\n",
       "        vertical-align: middle;\n",
       "    }\n",
       "\n",
       "    .dataframe tbody tr th {\n",
       "        vertical-align: top;\n",
       "    }\n",
       "\n",
       "    .dataframe thead th {\n",
       "        text-align: right;\n",
       "    }\n",
       "</style>\n",
       "<table border=\"1\" class=\"dataframe\">\n",
       "  <thead>\n",
       "    <tr style=\"text-align: right;\">\n",
       "      <th></th>\n",
       "      <th>video</th>\n",
       "      <th>short-term_memorability</th>\n",
       "      <th>nb_short-term_annotations</th>\n",
       "      <th>long-term_memorability</th>\n",
       "      <th>nb_long-term_annotations</th>\n",
       "      <th>Captions</th>\n",
       "    </tr>\n",
       "  </thead>\n",
       "  <tbody>\n",
       "    <tr>\n",
       "      <td>651</td>\n",
       "      <td>video798.webm</td>\n",
       "      <td>0.989</td>\n",
       "      <td>34</td>\n",
       "      <td>1.000</td>\n",
       "      <td>10</td>\n",
       "      <td>camera-moves-in-on-beared-man-with-shovel-taki...</td>\n",
       "    </tr>\n",
       "    <tr>\n",
       "      <td>1599</td>\n",
       "      <td>video1981.webm</td>\n",
       "      <td>0.987</td>\n",
       "      <td>34</td>\n",
       "      <td>0.769</td>\n",
       "      <td>13</td>\n",
       "      <td>happy-stylish-elegant-young-couple-welcoming-i...</td>\n",
       "    </tr>\n",
       "    <tr>\n",
       "      <td>3910</td>\n",
       "      <td>video4903.webm</td>\n",
       "      <td>0.987</td>\n",
       "      <td>33</td>\n",
       "      <td>0.600</td>\n",
       "      <td>10</td>\n",
       "      <td>mather-and-daughter-enjoying-a-movie-on-tablet</td>\n",
       "    </tr>\n",
       "    <tr>\n",
       "      <td>1771</td>\n",
       "      <td>video2203.webm</td>\n",
       "      <td>0.986</td>\n",
       "      <td>35</td>\n",
       "      <td>0.800</td>\n",
       "      <td>10</td>\n",
       "      <td>astronaut-in-outer-space-against-the-backdrop-...</td>\n",
       "    </tr>\n",
       "    <tr>\n",
       "      <td>1903</td>\n",
       "      <td>video2364.webm</td>\n",
       "      <td>0.986</td>\n",
       "      <td>34</td>\n",
       "      <td>1.000</td>\n",
       "      <td>10</td>\n",
       "      <td>head-of-big-yellow-eel</td>\n",
       "    </tr>\n",
       "    <tr>\n",
       "      <td>2089</td>\n",
       "      <td>video2596.webm</td>\n",
       "      <td>0.986</td>\n",
       "      <td>46</td>\n",
       "      <td>0.733</td>\n",
       "      <td>15</td>\n",
       "      <td>funny-little-boy-sitting-at-desk-eating-apple-...</td>\n",
       "    </tr>\n",
       "    <tr>\n",
       "      <td>4024</td>\n",
       "      <td>video5047.webm</td>\n",
       "      <td>0.986</td>\n",
       "      <td>33</td>\n",
       "      <td>1.000</td>\n",
       "      <td>12</td>\n",
       "      <td>khr-western-unloadinggun</td>\n",
       "    </tr>\n",
       "    <tr>\n",
       "      <td>4880</td>\n",
       "      <td>video6103.webm</td>\n",
       "      <td>0.986</td>\n",
       "      <td>34</td>\n",
       "      <td>0.731</td>\n",
       "      <td>26</td>\n",
       "      <td>young-asian-woman-during-snowfall-slowmotion</td>\n",
       "    </tr>\n",
       "    <tr>\n",
       "      <td>398</td>\n",
       "      <td>video498.webm</td>\n",
       "      <td>0.985</td>\n",
       "      <td>35</td>\n",
       "      <td>0.750</td>\n",
       "      <td>12</td>\n",
       "      <td>man-reading-in-closed-in-porch</td>\n",
       "    </tr>\n",
       "    <tr>\n",
       "      <td>633</td>\n",
       "      <td>video778.webm</td>\n",
       "      <td>0.985</td>\n",
       "      <td>33</td>\n",
       "      <td>0.929</td>\n",
       "      <td>14</td>\n",
       "      <td>portrait-of-real-asian-people-with-emotions-an...</td>\n",
       "    </tr>\n",
       "  </tbody>\n",
       "</table>\n",
       "</div>"
      ],
      "text/plain": [
       "               video  short-term_memorability  nb_short-term_annotations  \\\n",
       "651    video798.webm                    0.989                         34   \n",
       "1599  video1981.webm                    0.987                         34   \n",
       "3910  video4903.webm                    0.987                         33   \n",
       "1771  video2203.webm                    0.986                         35   \n",
       "1903  video2364.webm                    0.986                         34   \n",
       "2089  video2596.webm                    0.986                         46   \n",
       "4024  video5047.webm                    0.986                         33   \n",
       "4880  video6103.webm                    0.986                         34   \n",
       "398    video498.webm                    0.985                         35   \n",
       "633    video778.webm                    0.985                         33   \n",
       "\n",
       "      long-term_memorability  nb_long-term_annotations  \\\n",
       "651                    1.000                        10   \n",
       "1599                   0.769                        13   \n",
       "3910                   0.600                        10   \n",
       "1771                   0.800                        10   \n",
       "1903                   1.000                        10   \n",
       "2089                   0.733                        15   \n",
       "4024                   1.000                        12   \n",
       "4880                   0.731                        26   \n",
       "398                    0.750                        12   \n",
       "633                    0.929                        14   \n",
       "\n",
       "                                               Captions  \n",
       "651   camera-moves-in-on-beared-man-with-shovel-taki...  \n",
       "1599  happy-stylish-elegant-young-couple-welcoming-i...  \n",
       "3910     mather-and-daughter-enjoying-a-movie-on-tablet  \n",
       "1771  astronaut-in-outer-space-against-the-backdrop-...  \n",
       "1903                             head-of-big-yellow-eel  \n",
       "2089  funny-little-boy-sitting-at-desk-eating-apple-...  \n",
       "4024                           khr-western-unloadinggun  \n",
       "4880       young-asian-woman-during-snowfall-slowmotion  \n",
       "398                      man-reading-in-closed-in-porch  \n",
       "633   portrait-of-real-asian-people-with-emotions-an...  "
      ]
     },
     "execution_count": 31,
     "metadata": {},
     "output_type": "execute_result"
    }
   ],
   "source": [
    "df.nlargest(10, ['short-term_memorability'])"
   ]
  },
  {
   "cell_type": "code",
   "execution_count": 32,
   "metadata": {},
   "outputs": [
    {
     "data": {
      "text/html": [
       "<div>\n",
       "<style scoped>\n",
       "    .dataframe tbody tr th:only-of-type {\n",
       "        vertical-align: middle;\n",
       "    }\n",
       "\n",
       "    .dataframe tbody tr th {\n",
       "        vertical-align: top;\n",
       "    }\n",
       "\n",
       "    .dataframe thead th {\n",
       "        text-align: right;\n",
       "    }\n",
       "</style>\n",
       "<table border=\"1\" class=\"dataframe\">\n",
       "  <thead>\n",
       "    <tr style=\"text-align: right;\">\n",
       "      <th></th>\n",
       "      <th>video</th>\n",
       "      <th>short-term_memorability</th>\n",
       "      <th>nb_short-term_annotations</th>\n",
       "      <th>long-term_memorability</th>\n",
       "      <th>nb_long-term_annotations</th>\n",
       "      <th>Captions</th>\n",
       "    </tr>\n",
       "  </thead>\n",
       "  <tbody>\n",
       "    <tr>\n",
       "      <td>8</td>\n",
       "      <td>video17.webm</td>\n",
       "      <td>0.777</td>\n",
       "      <td>43</td>\n",
       "      <td>1.0</td>\n",
       "      <td>11</td>\n",
       "      <td>hoover-dam-tourists-traffic</td>\n",
       "    </tr>\n",
       "    <tr>\n",
       "      <td>9</td>\n",
       "      <td>video18.webm</td>\n",
       "      <td>0.863</td>\n",
       "      <td>33</td>\n",
       "      <td>1.0</td>\n",
       "      <td>9</td>\n",
       "      <td>happy-girl-stretching-and-relaxing-on-the-station</td>\n",
       "    </tr>\n",
       "    <tr>\n",
       "      <td>33</td>\n",
       "      <td>video44.webm</td>\n",
       "      <td>0.828</td>\n",
       "      <td>38</td>\n",
       "      <td>1.0</td>\n",
       "      <td>13</td>\n",
       "      <td>christmas-market-at-schloss-charlottenburg-cha...</td>\n",
       "    </tr>\n",
       "    <tr>\n",
       "      <td>44</td>\n",
       "      <td>video56.webm</td>\n",
       "      <td>0.953</td>\n",
       "      <td>33</td>\n",
       "      <td>1.0</td>\n",
       "      <td>12</td>\n",
       "      <td>trackingof-a-couple-removing-a-sign-from-the-f...</td>\n",
       "    </tr>\n",
       "    <tr>\n",
       "      <td>46</td>\n",
       "      <td>video58.webm</td>\n",
       "      <td>0.744</td>\n",
       "      <td>33</td>\n",
       "      <td>1.0</td>\n",
       "      <td>11</td>\n",
       "      <td>firefighters-by-flaming-car</td>\n",
       "    </tr>\n",
       "    <tr>\n",
       "      <td>50</td>\n",
       "      <td>video63.webm</td>\n",
       "      <td>0.924</td>\n",
       "      <td>34</td>\n",
       "      <td>1.0</td>\n",
       "      <td>10</td>\n",
       "      <td>steadicamof-african-american-american-sports-f...</td>\n",
       "    </tr>\n",
       "    <tr>\n",
       "      <td>51</td>\n",
       "      <td>video65.webm</td>\n",
       "      <td>0.979</td>\n",
       "      <td>33</td>\n",
       "      <td>1.0</td>\n",
       "      <td>15</td>\n",
       "      <td>cowboy-pounds-fencepost</td>\n",
       "    </tr>\n",
       "    <tr>\n",
       "      <td>54</td>\n",
       "      <td>video68.webm</td>\n",
       "      <td>0.937</td>\n",
       "      <td>42</td>\n",
       "      <td>1.0</td>\n",
       "      <td>22</td>\n",
       "      <td>young-couple-portrait-smile-with-happiness-wit...</td>\n",
       "    </tr>\n",
       "    <tr>\n",
       "      <td>69</td>\n",
       "      <td>video85.webm</td>\n",
       "      <td>0.924</td>\n",
       "      <td>33</td>\n",
       "      <td>1.0</td>\n",
       "      <td>12</td>\n",
       "      <td>puppies-playing</td>\n",
       "    </tr>\n",
       "    <tr>\n",
       "      <td>70</td>\n",
       "      <td>video86.webm</td>\n",
       "      <td>0.983</td>\n",
       "      <td>34</td>\n",
       "      <td>1.0</td>\n",
       "      <td>10</td>\n",
       "      <td>young-couple-with-bottle-of-wine-standing-on-s...</td>\n",
       "    </tr>\n",
       "  </tbody>\n",
       "</table>\n",
       "</div>"
      ],
      "text/plain": [
       "           video  short-term_memorability  nb_short-term_annotations  \\\n",
       "8   video17.webm                    0.777                         43   \n",
       "9   video18.webm                    0.863                         33   \n",
       "33  video44.webm                    0.828                         38   \n",
       "44  video56.webm                    0.953                         33   \n",
       "46  video58.webm                    0.744                         33   \n",
       "50  video63.webm                    0.924                         34   \n",
       "51  video65.webm                    0.979                         33   \n",
       "54  video68.webm                    0.937                         42   \n",
       "69  video85.webm                    0.924                         33   \n",
       "70  video86.webm                    0.983                         34   \n",
       "\n",
       "    long-term_memorability  nb_long-term_annotations  \\\n",
       "8                      1.0                        11   \n",
       "9                      1.0                         9   \n",
       "33                     1.0                        13   \n",
       "44                     1.0                        12   \n",
       "46                     1.0                        11   \n",
       "50                     1.0                        10   \n",
       "51                     1.0                        15   \n",
       "54                     1.0                        22   \n",
       "69                     1.0                        12   \n",
       "70                     1.0                        10   \n",
       "\n",
       "                                             Captions  \n",
       "8                         hoover-dam-tourists-traffic  \n",
       "9   happy-girl-stretching-and-relaxing-on-the-station  \n",
       "33  christmas-market-at-schloss-charlottenburg-cha...  \n",
       "44  trackingof-a-couple-removing-a-sign-from-the-f...  \n",
       "46                        firefighters-by-flaming-car  \n",
       "50  steadicamof-african-american-american-sports-f...  \n",
       "51                            cowboy-pounds-fencepost  \n",
       "54  young-couple-portrait-smile-with-happiness-wit...  \n",
       "69                                    puppies-playing  \n",
       "70  young-couple-with-bottle-of-wine-standing-on-s...  "
      ]
     },
     "execution_count": 32,
     "metadata": {},
     "output_type": "execute_result"
    }
   ],
   "source": [
    "df.nlargest(10, ['long-term_memorability'])"
   ]
  },
  {
   "cell_type": "code",
   "execution_count": 34,
   "metadata": {},
   "outputs": [
    {
     "name": "stderr",
     "output_type": "stream",
     "text": [
      "[nltk_data] Downloading package stopwords to\n",
      "[nltk_data]     C:\\Users\\Dell\\AppData\\Roaming\\nltk_data...\n",
      "[nltk_data]   Unzipping corpora\\stopwords.zip.\n"
     ]
    }
   ],
   "source": [
    "# Importing the NLP Libraries\n",
    "import re\n",
    "import nltk\n",
    "nltk.download('stopwords')\n",
    "from nltk.corpus import stopwords"
   ]
  },
  {
   "cell_type": "code",
   "execution_count": 35,
   "metadata": {},
   "outputs": [],
   "source": [
    "cleaned_captions = []\n",
    "for i in range(0, 6000):\n",
    "    text = re.sub('[^a-zA-Z]', ' ', video_captions['Captions'][i])\n",
    "    text = text.lower()\n",
    "    text = text.split()\n",
    "    text = [word for word in text if not word in set(stopwords.words('english'))]\n",
    "    text = ' '.join(text)\n",
    "    cleaned_captions.append(text)"
   ]
  },
  {
   "cell_type": "code",
   "execution_count": 36,
   "metadata": {},
   "outputs": [
    {
     "data": {
      "text/plain": [
       "'blonde woman massaged tilt'"
      ]
     },
     "execution_count": 36,
     "metadata": {},
     "output_type": "execute_result"
    }
   ],
   "source": [
    "cleaned_captions[0]\n"
   ]
  },
  {
   "cell_type": "code",
   "execution_count": 37,
   "metadata": {},
   "outputs": [],
   "source": [
    "negavtive_weights = {'mountains':0.01,'sunset':0.02,'trees':0.03,'mountain':0.04,'clouds':0.05,'river':0.06,'aerialof':0.07,'lake':0.08,'forest':0.09,'kenya':0.10,'landscape':0.11,'valley':0.12,'leaves':0.13,'sun':0.14}"
   ]
  },
  {
   "cell_type": "code",
   "execution_count": 38,
   "metadata": {},
   "outputs": [],
   "source": [
    "positive_weights = {'woman':0.65,'eating':0.64,'putting':0.63,'lying':0.62,'girl':0.61,'selfie':0.60,'relaxing':0.59,'jellyfish':0.58,'cat':0.57,'super':0.56,'slow':0.55,'super':0.54,'american':0.53,'potrait':0.52,'pregnant':0.51,'couple':0.50}"
   ]
  },
  {
   "cell_type": "code",
   "execution_count": 39,
   "metadata": {},
   "outputs": [],
   "source": [
    "pos_list = []\n",
    "neg_list = []\n",
    "for i in range(0, 6000):\n",
    "    local_pos_weight = 0\n",
    "    local_neg_weight = 0\n",
    "    text = video_captions['Captions'][i]\n",
    "    text = text.split()\n",
    "    for word in text:\n",
    "        if(word in set(positive_weights.keys())):\n",
    "                pw = local_pos_weight + positive_weights[word]\n",
    "        if(word in set(negavtive_weights.keys())):\n",
    "                nw = local_neg_weight + negavtive_weights[word]\n",
    "    pos_list.append(local_pos_weight)\n",
    "    neg_list.append(local_neg_weight)"
   ]
  },
  {
   "cell_type": "code",
   "execution_count": 40,
   "metadata": {},
   "outputs": [],
   "source": [
    "weights_df = pd.DataFrame(\n",
    "    {'positive_weights': pos_list,\n",
    "     'negative_weights': neg_list\n",
    "    })"
   ]
  },
  {
   "cell_type": "code",
   "execution_count": 41,
   "metadata": {},
   "outputs": [],
   "source": [
    "from sklearn.feature_extraction.text import CountVectorizer\n",
    "cv = CountVectorizer()"
   ]
  },
  {
   "cell_type": "code",
   "execution_count": 42,
   "metadata": {},
   "outputs": [],
   "source": [
    "#Extracting the TFIDF features from the captions\n",
    "from sklearn.feature_extraction.text import TfidfVectorizer\n",
    "tf = TfidfVectorizer()"
   ]
  },
  {
   "cell_type": "code",
   "execution_count": 43,
   "metadata": {},
   "outputs": [],
   "source": [
    "#Using CountVectorizer for feature Extraction\n",
    "caption_features = cv.fit_transform(cleaned_captions).toarray()"
   ]
  },
  {
   "cell_type": "code",
   "execution_count": 44,
   "metadata": {},
   "outputs": [
    {
     "data": {
      "text/plain": [
       "array([0, 0, 0, ..., 0, 0, 0], dtype=int64)"
      ]
     },
     "execution_count": 44,
     "metadata": {},
     "output_type": "execute_result"
    }
   ],
   "source": [
    "caption_features[0]"
   ]
  },
  {
   "cell_type": "code",
   "execution_count": 45,
   "metadata": {},
   "outputs": [
    {
     "data": {
      "text/plain": [
       "(6000, 5087)"
      ]
     },
     "execution_count": 45,
     "metadata": {},
     "output_type": "execute_result"
    }
   ],
   "source": [
    "caption_features.shape"
   ]
  },
  {
   "cell_type": "markdown",
   "metadata": {},
   "source": [
    "**Training Caption Modal**"
   ]
  },
  {
   "cell_type": "code",
   "execution_count": 63,
   "metadata": {},
   "outputs": [],
   "source": [
    "X = caption_features\n",
    "y = ground_truth.iloc[:, 1:3].values"
   ]
  },
  {
   "cell_type": "markdown",
   "metadata": {},
   "source": [
    "Splitting the dataset into the Training set and Test set"
   ]
  },
  {
   "cell_type": "code",
   "execution_count": 64,
   "metadata": {},
   "outputs": [],
   "source": [
    "from sklearn.model_selection import train_test_split\n",
    "X_train, X_test, y_train, y_test = train_test_split(X, y, test_size = 0.20)"
   ]
  },
  {
   "cell_type": "code",
   "execution_count": 67,
   "metadata": {},
   "outputs": [],
   "source": [
    "def Get_score(Y_pred,Y_true):\n",
    "    '''Calculate the Spearmann\"s correlation coefficient'''\n",
    "    Y_pred = np.squeeze(Y_pred)\n",
    "    Y_true = np.squeeze(Y_true)\n",
    "    if Y_pred.shape != Y_true.shape:\n",
    "        print('Input shapes don\\'t match!')\n",
    "    else:\n",
    "        if len(Y_pred.shape) == 1:\n",
    "            Res = pd.DataFrame({'Y_true':Y_true,'Y_pred':Y_pred})\n",
    "            score_mat = Res[['Y_true','Y_pred']].corr(method='spearman',min_periods=1)\n",
    "            print('The Spearman\\'s correlation coefficient is: %.3f' % score_mat.iloc[1][0])\n",
    "        else:\n",
    "            for ii in range(Y_pred.shape[1]):\n",
    "                Get_score(Y_pred[:,ii],Y_true[:,ii])"
   ]
  },
  {
   "cell_type": "markdown",
   "metadata": {},
   "source": [
    "**Using Linear Regression Model on Captions**"
   ]
  },
  {
   "cell_type": "code",
   "execution_count": 65,
   "metadata": {},
   "outputs": [
    {
     "data": {
      "text/plain": [
       "LinearRegression(copy_X=True, fit_intercept=True, n_jobs=None, normalize=False)"
      ]
     },
     "execution_count": 65,
     "metadata": {},
     "output_type": "execute_result"
    }
   ],
   "source": [
    "from sklearn.linear_model import LinearRegression\n",
    "LMregressor = LinearRegression()\n",
    "LMregressor.fit(X_train, y_train)"
   ]
  },
  {
   "cell_type": "code",
   "execution_count": 69,
   "metadata": {},
   "outputs": [
    {
     "name": "stdout",
     "output_type": "stream",
     "text": [
      "The Spearman's correlation coefficient is: 0.075\n",
      "The Spearman's correlation coefficient is: 0.009\n"
     ]
    }
   ],
   "source": [
    "y_pred = LMregressor.predict(X_test)\n",
    "Get_score(y_pred, y_test)"
   ]
  },
  {
   "cell_type": "markdown",
   "metadata": {},
   "source": [
    "**Using Decision Tree Regression Model on Captions**\n",
    "\n"
   ]
  },
  {
   "cell_type": "code",
   "execution_count": 70,
   "metadata": {},
   "outputs": [
    {
     "data": {
      "text/plain": [
       "DecisionTreeRegressor(criterion='mse', max_depth=None, max_features=None,\n",
       "                      max_leaf_nodes=None, min_impurity_decrease=0.0,\n",
       "                      min_impurity_split=None, min_samples_leaf=1,\n",
       "                      min_samples_split=2, min_weight_fraction_leaf=0.0,\n",
       "                      presort=False, random_state=None, splitter='best')"
      ]
     },
     "execution_count": 70,
     "metadata": {},
     "output_type": "execute_result"
    }
   ],
   "source": [
    "from sklearn.tree import DecisionTreeRegressor\n",
    "DTregressor = DecisionTreeRegressor()\n",
    "DTregressor.fit(X_train, y_train)"
   ]
  },
  {
   "cell_type": "code",
   "execution_count": 71,
   "metadata": {},
   "outputs": [
    {
     "name": "stdout",
     "output_type": "stream",
     "text": [
      "The Spearman's correlation coefficient is: 0.248\n",
      "The Spearman's correlation coefficient is: -0.020\n"
     ]
    }
   ],
   "source": [
    "y_pred = DTregressor.predict(X_test)\n",
    "Get_score(y_pred, y_test)"
   ]
  },
  {
   "cell_type": "markdown",
   "metadata": {},
   "source": [
    "**Fitting Random Forest Regression model on Captions**"
   ]
  },
  {
   "cell_type": "code",
   "execution_count": 72,
   "metadata": {},
   "outputs": [
    {
     "name": "stderr",
     "output_type": "stream",
     "text": [
      "C:\\Anaconda3\\lib\\site-packages\\sklearn\\ensemble\\forest.py:245: FutureWarning: The default value of n_estimators will change from 10 in version 0.20 to 100 in 0.22.\n",
      "  \"10 in version 0.20 to 100 in 0.22.\", FutureWarning)\n"
     ]
    },
    {
     "data": {
      "text/plain": [
       "RandomForestRegressor(bootstrap=True, criterion='mse', max_depth=None,\n",
       "                      max_features='auto', max_leaf_nodes=None,\n",
       "                      min_impurity_decrease=0.0, min_impurity_split=None,\n",
       "                      min_samples_leaf=1, min_samples_split=2,\n",
       "                      min_weight_fraction_leaf=0.0, n_estimators=10,\n",
       "                      n_jobs=None, oob_score=False, random_state=None,\n",
       "                      verbose=0, warm_start=False)"
      ]
     },
     "execution_count": 72,
     "metadata": {},
     "output_type": "execute_result"
    }
   ],
   "source": [
    "from sklearn.ensemble import RandomForestRegressor\n",
    "RFregressor = RandomForestRegressor()\n",
    "RFregressor.fit(X_train, y_train)"
   ]
  },
  {
   "cell_type": "code",
   "execution_count": 73,
   "metadata": {},
   "outputs": [
    {
     "name": "stdout",
     "output_type": "stream",
     "text": [
      "The Spearman's correlation coefficient is: 0.344\n",
      "The Spearman's correlation coefficient is: -0.032\n"
     ]
    }
   ],
   "source": [
    "y_pred = RFregressor.predict(X_test)\n",
    "Get_score(y_pred, y_test)"
   ]
  },
  {
   "cell_type": "markdown",
   "metadata": {},
   "source": [
    "**Using TFIDF score instead of count vectorizer**"
   ]
  },
  {
   "cell_type": "code",
   "execution_count": 74,
   "metadata": {},
   "outputs": [],
   "source": [
    "#Using tf instead of cv object\n",
    "captions_tfidf_features = tf.fit_transform(cleaned_captions).toarray()\n",
    "X= captions_tfidf_features\n",
    "y = ground_truth.iloc[:, 1:3].values"
   ]
  },
  {
   "cell_type": "code",
   "execution_count": 75,
   "metadata": {},
   "outputs": [],
   "source": [
    "from sklearn.model_selection import train_test_split\n",
    "X_train, X_test, y_train, y_test = train_test_split(X, y, test_size = 0.20)"
   ]
  },
  {
   "cell_type": "markdown",
   "metadata": {},
   "source": [
    "**Using Linear Regression Model on Captions with TFIDF**"
   ]
  },
  {
   "cell_type": "code",
   "execution_count": 76,
   "metadata": {},
   "outputs": [
    {
     "data": {
      "text/plain": [
       "LinearRegression(copy_X=True, fit_intercept=True, n_jobs=None, normalize=False)"
      ]
     },
     "execution_count": 76,
     "metadata": {},
     "output_type": "execute_result"
    }
   ],
   "source": [
    "from sklearn.linear_model import LinearRegression\n",
    "LMregressor = LinearRegression()\n",
    "LMregressor.fit(X_train, y_train)"
   ]
  },
  {
   "cell_type": "markdown",
   "metadata": {},
   "source": [
    "**Using Linear Regression Model on Captions with TFIDF**"
   ]
  },
  {
   "cell_type": "code",
   "execution_count": 77,
   "metadata": {},
   "outputs": [
    {
     "data": {
      "text/plain": [
       "LinearRegression(copy_X=True, fit_intercept=True, n_jobs=None, normalize=False)"
      ]
     },
     "execution_count": 77,
     "metadata": {},
     "output_type": "execute_result"
    }
   ],
   "source": [
    "from sklearn.linear_model import LinearRegression\n",
    "LMregressor = LinearRegression()\n",
    "LMregressor.fit(X_train, y_train)"
   ]
  },
  {
   "cell_type": "code",
   "execution_count": 78,
   "metadata": {},
   "outputs": [
    {
     "name": "stdout",
     "output_type": "stream",
     "text": [
      "The Spearman's correlation coefficient is: 0.090\n",
      "The Spearman's correlation coefficient is: -0.026\n"
     ]
    }
   ],
   "source": [
    "y_pred = LMregressor.predict(X_test)\n",
    "Get_score(y_pred, y_test)"
   ]
  },
  {
   "cell_type": "markdown",
   "metadata": {},
   "source": [
    "**Using Decision Tree Regression Model on Captions with TFIDF**"
   ]
  },
  {
   "cell_type": "code",
   "execution_count": null,
   "metadata": {},
   "outputs": [],
   "source": [
    "from sklearn.tree import DecisionTreeRegressor\n",
    "DTregressor = DecisionTreeRegressor()\n",
    "DTregressor.fit(X_train, y_train)"
   ]
  },
  {
   "cell_type": "code",
   "execution_count": null,
   "metadata": {},
   "outputs": [],
   "source": []
  }
 ],
 "metadata": {
  "kernelspec": {
   "display_name": "Python 3",
   "language": "python",
   "name": "python3"
  },
  "language_info": {
   "codemirror_mode": {
    "name": "ipython",
    "version": 3
   },
   "file_extension": ".py",
   "mimetype": "text/x-python",
   "name": "python",
   "nbconvert_exporter": "python",
   "pygments_lexer": "ipython3",
   "version": "3.7.4"
  }
 },
 "nbformat": 4,
 "nbformat_minor": 2
}
