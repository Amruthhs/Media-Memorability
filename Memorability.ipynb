{
 "cells": [
  {
   "cell_type": "markdown",
   "metadata": {
    "colab_type": "text",
    "id": "rchOfbDvt2-z"
   },
   "source": [
    "# **Memorability Score Assignment - Machine Learning** - **CA684** "
   ]
  },
  {
   "cell_type": "markdown",
   "metadata": {
    "colab_type": "text",
    "id": "m9e808_YlnTL"
   },
   "source": [
    "This notebook is a part of CA-684 assignment. We have been given a dataset of 6000 videos consisting of various features like C3D, HMP, etc. Using these features we need to predict the memoribility of the video in terms of short term memoribility score as well as the long term memoribility score."
   ]
  },
  {
   "cell_type": "markdown",
   "metadata": {
    "colab_type": "text",
    "id": "0dpORJykus1g"
   },
   "source": [
    "Importing necessary packages and libraries"
   ]
  },
  {
   "cell_type": "code",
   "execution_count": 1,
   "metadata": {
    "colab": {},
    "colab_type": "code",
    "id": "R7f3X4PYYaa_",
    "outputId": "25e1bd11-6c0e-4faf-effb-a7a6005d3c7c"
   },
   "outputs": [
    {
     "name": "stderr",
     "output_type": "stream",
     "text": [
      "ERROR: You must give at least one requirement to install (see \"pip help install\")\n"
     ]
    }
   ],
   "source": [
    "!pip install"
   ]
  },
  {
   "cell_type": "code",
   "execution_count": 2,
   "metadata": {
    "colab": {
     "base_uri": "https://localhost:8080/",
     "height": 85
    },
    "colab_type": "code",
    "id": "9-TV7HuhuBmo",
    "outputId": "8e1db4a1-6355-4351-a672-9684ca0e2dca"
   },
   "outputs": [
    {
     "name": "stderr",
     "output_type": "stream",
     "text": [
      "[nltk_data] Downloading package stopwords to\n",
      "[nltk_data]     C:\\Users\\Dell\\AppData\\Roaming\\nltk_data...\n",
      "[nltk_data]   Package stopwords is already up-to-date!\n",
      "[nltk_data] Downloading package wordnet to\n",
      "[nltk_data]     C:\\Users\\Dell\\AppData\\Roaming\\nltk_data...\n",
      "[nltk_data]   Package wordnet is already up-to-date!\n"
     ]
    }
   ],
   "source": [
    "import pandas as pd\n",
    "import numpy as np\n",
    "import os\n",
    "import nltk\n",
    "nltk.download('stopwords')\n",
    "nltk.download('wordnet')\n",
    "from nltk.corpus import stopwords\n",
    "from nltk.stem import WordNetLemmatizer \n",
    "import matplotlib.pyplot as plt\n",
    "from sklearn.model_selection import train_test_split \n",
    "from sklearn import linear_model\n",
    "from sklearn.linear_model import BayesianRidge\n",
    "from sklearn import metrics\n",
    "from sklearn.svm import SVR\n",
    "from sklearn.pipeline import Pipeline\n",
    "from scipy.stats import spearmanr\n",
    "from sklearn.model_selection import RepeatedKFold\n",
    "from sklearn.feature_extraction.text import TfidfVectorizer\n",
    "import seaborn as sns\n",
    "import scipy as sp\n",
    "from sklearn.model_selection import KFold\n",
    "from wordcloud import WordCloud, STOPWORDS"
   ]
  },
  {
   "cell_type": "markdown",
   "metadata": {
    "colab_type": "text",
    "id": "kZ9P7S92luvx"
   },
   "source": [
    "Importing Progres bar"
   ]
  },
  {
   "cell_type": "code",
   "execution_count": 3,
   "metadata": {
    "colab": {
     "base_uri": "https://localhost:8080/",
     "height": 68
    },
    "colab_type": "code",
    "id": "5yl7MYpsvEp0",
    "outputId": "62f5d119-fbff-484b-a576-d27369009fa9"
   },
   "outputs": [
    {
     "name": "stdout",
     "output_type": "stream",
     "text": [
      "Collecting https://github.com/chengs/tqdm/archive/colab.zip\n",
      "  Using cached https://github.com/chengs/tqdm/archive/colab.zip\n",
      "Building wheels for collected packages: tqdm\n",
      "  Building wheel for tqdm (setup.py): started\n",
      "  Building wheel for tqdm (setup.py): finished with status 'done'\n",
      "  Created wheel for tqdm: filename=tqdm-4.28.1-py2.py3-none-any.whl size=47875 sha256=66282b83d976f3d0001800298ca40202203527045fc49608ebbe12c1944382f4\n",
      "  Stored in directory: C:\\Users\\Dell\\AppData\\Local\\Temp\\pip-ephem-wheel-cache-5art5hnz\\wheels\\b5\\36\\d9\\593e7ac06d343d0a32138fa6c402dc3a0bd31442c9fe53f76c\n",
      "Successfully built tqdm\n",
      "Installing collected packages: tqdm\n",
      "  Attempting uninstall: tqdm\n",
      "    Found existing installation: tqdm 4.28.1\n",
      "    Uninstalling tqdm-4.28.1:\n",
      "      Successfully uninstalled tqdm-4.28.1\n",
      "Successfully installed tqdm-4.28.1\n"
     ]
    }
   ],
   "source": [
    "!pip install --force https://github.com/chengs/tqdm/archive/colab.zip\n",
    "from tqdm import tqdm_notebook as tqdm"
   ]
  },
  {
   "cell_type": "markdown",
   "metadata": {
    "colab_type": "text",
    "id": "xhTo0Ny_lyYp"
   },
   "source": [
    "Fetching the data from Drive"
   ]
  },
  {
   "cell_type": "code",
   "execution_count": 0,
   "metadata": {
    "colab": {
     "base_uri": "https://localhost:8080/",
     "height": 34
    },
    "colab_type": "code",
    "id": "l3qPyZSK2wBK",
    "outputId": "2f18fc53-1e53-4a5d-8963-8c30feeb7b00"
   },
   "outputs": [
    {
     "name": "stdout",
     "output_type": "stream",
     "text": [
      "Mounted at /content/drive/\n"
     ]
    }
   ],
   "source": [
    "# from google.colab import drive\n",
    "# drive.mount('/content/drive/', force_remount=True)"
   ]
  },
  {
   "cell_type": "code",
   "execution_count": 0,
   "metadata": {
    "colab": {},
    "colab_type": "code",
    "id": "t03cmQYm3Ta6"
   },
   "outputs": [],
   "source": [
    "# os.chdir(\"/content/drive/My Drive/CA-684-ML/dev-set\")"
   ]
  },
  {
   "cell_type": "code",
   "execution_count": 0,
   "metadata": {
    "colab": {
     "base_uri": "https://localhost:8080/",
     "height": 34
    },
    "colab_type": "code",
    "id": "XOcld2vy3WXV",
    "outputId": "dd86b2cf-753c-4a79-d877-ac5f315b5b51"
   },
   "outputs": [
    {
     "name": "stdout",
     "output_type": "stream",
     "text": [
      "/content/drive/My Drive/CA-684-ML/dev-set\n"
     ]
    }
   ],
   "source": [
    "# check which directory we are currently in\n",
    "# !pwd"
   ]
  },
  {
   "cell_type": "code",
   "execution_count": 0,
   "metadata": {
    "colab": {
     "base_uri": "https://localhost:8080/",
     "height": 51
    },
    "colab_type": "code",
    "id": "J-dpeo5J3WKP",
    "outputId": "9ccd1a04-fa03-44a4-f09b-61e5300d58c3"
   },
   "outputs": [
    {
     "name": "stdout",
     "output_type": "stream",
     "text": [
      "C3D\t\tdev-set_ground-truth.csv    HMP  InceptionV3  ORB\n",
      "ColorHistogram\tdev-set_video-captions.txt  HOG  LBP\t      README.txt\n"
     ]
    }
   ],
   "source": [
    "# List all files available\n",
    "# !ls"
   ]
  },
  {
   "cell_type": "markdown",
   "metadata": {
    "colab_type": "text",
    "id": "e0Cunnx3l4kO"
   },
   "source": [
    "The ground truth consists the mapping of video with the target variables i.e. short term memoribility as well as long term memoribility. The annotations field is the number of people who were shown the video and memoribility signifies the percentage of them who remember the video"
   ]
  },
  {
   "cell_type": "code",
   "execution_count": 4,
   "metadata": {
    "colab": {},
    "colab_type": "code",
    "id": "Rc4Cx4o-3llb"
   },
   "outputs": [],
   "source": [
    "ground_truth = pd.read_csv('G:/.shortcut-targets-by-id/1UWIdExqb5P94RLqkaiODcwFC2v7g3lB2/CA684_Assignment/Dev-set/Ground-truth/ground-truth.csv', header = 0)  "
   ]
  },
  {
   "cell_type": "code",
   "execution_count": 5,
   "metadata": {
    "colab": {
     "base_uri": "https://localhost:8080/",
     "height": 204
    },
    "colab_type": "code",
    "id": "RVZEf2529itE",
    "outputId": "3e833ab4-273d-42f9-f6a5-4a44a6fbe210"
   },
   "outputs": [
    {
     "data": {
      "text/html": [
       "<div>\n",
       "<style scoped>\n",
       "    .dataframe tbody tr th:only-of-type {\n",
       "        vertical-align: middle;\n",
       "    }\n",
       "\n",
       "    .dataframe tbody tr th {\n",
       "        vertical-align: top;\n",
       "    }\n",
       "\n",
       "    .dataframe thead th {\n",
       "        text-align: right;\n",
       "    }\n",
       "</style>\n",
       "<table border=\"1\" class=\"dataframe\">\n",
       "  <thead>\n",
       "    <tr style=\"text-align: right;\">\n",
       "      <th></th>\n",
       "      <th>video</th>\n",
       "      <th>short-term_memorability</th>\n",
       "      <th>nb_short-term_annotations</th>\n",
       "      <th>long-term_memorability</th>\n",
       "      <th>nb_long-term_annotations</th>\n",
       "    </tr>\n",
       "  </thead>\n",
       "  <tbody>\n",
       "    <tr>\n",
       "      <td>0</td>\n",
       "      <td>video3.webm</td>\n",
       "      <td>0.924</td>\n",
       "      <td>34</td>\n",
       "      <td>0.846</td>\n",
       "      <td>13</td>\n",
       "    </tr>\n",
       "    <tr>\n",
       "      <td>1</td>\n",
       "      <td>video4.webm</td>\n",
       "      <td>0.923</td>\n",
       "      <td>33</td>\n",
       "      <td>0.667</td>\n",
       "      <td>12</td>\n",
       "    </tr>\n",
       "    <tr>\n",
       "      <td>2</td>\n",
       "      <td>video6.webm</td>\n",
       "      <td>0.863</td>\n",
       "      <td>33</td>\n",
       "      <td>0.700</td>\n",
       "      <td>10</td>\n",
       "    </tr>\n",
       "    <tr>\n",
       "      <td>3</td>\n",
       "      <td>video8.webm</td>\n",
       "      <td>0.922</td>\n",
       "      <td>33</td>\n",
       "      <td>0.818</td>\n",
       "      <td>11</td>\n",
       "    </tr>\n",
       "    <tr>\n",
       "      <td>4</td>\n",
       "      <td>video10.webm</td>\n",
       "      <td>0.950</td>\n",
       "      <td>34</td>\n",
       "      <td>0.900</td>\n",
       "      <td>10</td>\n",
       "    </tr>\n",
       "  </tbody>\n",
       "</table>\n",
       "</div>"
      ],
      "text/plain": [
       "          video  short-term_memorability  nb_short-term_annotations  \\\n",
       "0   video3.webm                    0.924                         34   \n",
       "1   video4.webm                    0.923                         33   \n",
       "2   video6.webm                    0.863                         33   \n",
       "3   video8.webm                    0.922                         33   \n",
       "4  video10.webm                    0.950                         34   \n",
       "\n",
       "   long-term_memorability  nb_long-term_annotations  \n",
       "0                   0.846                        13  \n",
       "1                   0.667                        12  \n",
       "2                   0.700                        10  \n",
       "3                   0.818                        11  \n",
       "4                   0.900                        10  "
      ]
     },
     "execution_count": 5,
     "metadata": {},
     "output_type": "execute_result"
    }
   ],
   "source": [
    "ground_truth.head()"
   ]
  },
  {
   "cell_type": "markdown",
   "metadata": {
    "colab_type": "text",
    "id": "qIkSYiFFmQ_C"
   },
   "source": [
    "The captions of the video can provide a textual description of the video. It would be interesting to see if we can predict the memoribility using the captions (text data). "
   ]
  },
  {
   "cell_type": "code",
   "execution_count": 6,
   "metadata": {
    "colab": {},
    "colab_type": "code",
    "id": "o2FEzlwk9oEG"
   },
   "outputs": [],
   "source": [
    "captions_dataset = pd.read_csv('G:/.shortcut-targets-by-id/1UWIdExqb5P94RLqkaiODcwFC2v7g3lB2/CA684_Assignment/Dev-set/Captions/dev-set_video-captions.txt', sep = '\\t', header=None, names=['video', 'caption'] )"
   ]
  },
  {
   "cell_type": "code",
   "execution_count": 7,
   "metadata": {
    "colab": {
     "base_uri": "https://localhost:8080/",
     "height": 204
    },
    "colab_type": "code",
    "id": "VGWtqT9k9983",
    "outputId": "29ad4a91-00dc-4c67-e21d-2d3cf33035b5"
   },
   "outputs": [
    {
     "data": {
      "text/html": [
       "<div>\n",
       "<style scoped>\n",
       "    .dataframe tbody tr th:only-of-type {\n",
       "        vertical-align: middle;\n",
       "    }\n",
       "\n",
       "    .dataframe tbody tr th {\n",
       "        vertical-align: top;\n",
       "    }\n",
       "\n",
       "    .dataframe thead th {\n",
       "        text-align: right;\n",
       "    }\n",
       "</style>\n",
       "<table border=\"1\" class=\"dataframe\">\n",
       "  <thead>\n",
       "    <tr style=\"text-align: right;\">\n",
       "      <th></th>\n",
       "      <th>video</th>\n",
       "      <th>caption</th>\n",
       "    </tr>\n",
       "  </thead>\n",
       "  <tbody>\n",
       "    <tr>\n",
       "      <td>0</td>\n",
       "      <td>video3.webm</td>\n",
       "      <td>blonde-woman-is-massaged-tilt-down</td>\n",
       "    </tr>\n",
       "    <tr>\n",
       "      <td>1</td>\n",
       "      <td>video4.webm</td>\n",
       "      <td>roulette-table-spinning-with-ball-in-closeup-shot</td>\n",
       "    </tr>\n",
       "    <tr>\n",
       "      <td>2</td>\n",
       "      <td>video6.webm</td>\n",
       "      <td>khr-gangsters</td>\n",
       "    </tr>\n",
       "    <tr>\n",
       "      <td>3</td>\n",
       "      <td>video8.webm</td>\n",
       "      <td>medical-helicopter-hovers-at-airport</td>\n",
       "    </tr>\n",
       "    <tr>\n",
       "      <td>4</td>\n",
       "      <td>video10.webm</td>\n",
       "      <td>couple-relaxing-on-picnic-crane-shot</td>\n",
       "    </tr>\n",
       "  </tbody>\n",
       "</table>\n",
       "</div>"
      ],
      "text/plain": [
       "          video                                            caption\n",
       "0   video3.webm                 blonde-woman-is-massaged-tilt-down\n",
       "1   video4.webm  roulette-table-spinning-with-ball-in-closeup-shot\n",
       "2   video6.webm                                      khr-gangsters\n",
       "3   video8.webm               medical-helicopter-hovers-at-airport\n",
       "4  video10.webm               couple-relaxing-on-picnic-crane-shot"
      ]
     },
     "execution_count": 7,
     "metadata": {},
     "output_type": "execute_result"
    }
   ],
   "source": [
    "captions_dataset.head()"
   ]
  },
  {
   "cell_type": "code",
   "execution_count": 8,
   "metadata": {
    "colab": {
     "base_uri": "https://localhost:8080/",
     "height": 34
    },
    "colab_type": "code",
    "id": "wY8fsjpi991F",
    "outputId": "9559f86f-cb7b-4c11-e7d8-931174e61a9f"
   },
   "outputs": [
    {
     "data": {
      "text/plain": [
       "(6000, 5)"
      ]
     },
     "execution_count": 8,
     "metadata": {},
     "output_type": "execute_result"
    }
   ],
   "source": [
    "ground_truth.shape"
   ]
  },
  {
   "cell_type": "code",
   "execution_count": 9,
   "metadata": {
    "colab": {
     "base_uri": "https://localhost:8080/",
     "height": 34
    },
    "colab_type": "code",
    "id": "l2fkqmSy_fyO",
    "outputId": "66104479-c2d5-4ca0-d5da-7028db251038"
   },
   "outputs": [
    {
     "data": {
      "text/plain": [
       "(6000, 2)"
      ]
     },
     "execution_count": 9,
     "metadata": {},
     "output_type": "execute_result"
    }
   ],
   "source": [
    "captions_dataset.shape"
   ]
  },
  {
   "cell_type": "code",
   "execution_count": 10,
   "metadata": {
    "colab": {},
    "colab_type": "code",
    "id": "DmUp_pRp_jXF"
   },
   "outputs": [],
   "source": [
    "merged_1 = ground_truth.merge(captions_dataset)"
   ]
  },
  {
   "cell_type": "markdown",
   "metadata": {
    "colab_type": "text",
    "id": "apZyFqrUmgfw"
   },
   "source": [
    "Merging our caption dataset with the ground truth, we get the below results"
   ]
  },
  {
   "cell_type": "code",
   "execution_count": 11,
   "metadata": {
    "colab": {
     "base_uri": "https://localhost:8080/",
     "height": 204
    },
    "colab_type": "code",
    "id": "940_0NaG_oMn",
    "outputId": "3ec62f45-0939-426b-ed26-ccdd225a23f0"
   },
   "outputs": [
    {
     "data": {
      "text/html": [
       "<div>\n",
       "<style scoped>\n",
       "    .dataframe tbody tr th:only-of-type {\n",
       "        vertical-align: middle;\n",
       "    }\n",
       "\n",
       "    .dataframe tbody tr th {\n",
       "        vertical-align: top;\n",
       "    }\n",
       "\n",
       "    .dataframe thead th {\n",
       "        text-align: right;\n",
       "    }\n",
       "</style>\n",
       "<table border=\"1\" class=\"dataframe\">\n",
       "  <thead>\n",
       "    <tr style=\"text-align: right;\">\n",
       "      <th></th>\n",
       "      <th>video</th>\n",
       "      <th>short-term_memorability</th>\n",
       "      <th>nb_short-term_annotations</th>\n",
       "      <th>long-term_memorability</th>\n",
       "      <th>nb_long-term_annotations</th>\n",
       "      <th>caption</th>\n",
       "    </tr>\n",
       "  </thead>\n",
       "  <tbody>\n",
       "    <tr>\n",
       "      <td>0</td>\n",
       "      <td>video3.webm</td>\n",
       "      <td>0.924</td>\n",
       "      <td>34</td>\n",
       "      <td>0.846</td>\n",
       "      <td>13</td>\n",
       "      <td>blonde-woman-is-massaged-tilt-down</td>\n",
       "    </tr>\n",
       "    <tr>\n",
       "      <td>1</td>\n",
       "      <td>video4.webm</td>\n",
       "      <td>0.923</td>\n",
       "      <td>33</td>\n",
       "      <td>0.667</td>\n",
       "      <td>12</td>\n",
       "      <td>roulette-table-spinning-with-ball-in-closeup-shot</td>\n",
       "    </tr>\n",
       "    <tr>\n",
       "      <td>2</td>\n",
       "      <td>video6.webm</td>\n",
       "      <td>0.863</td>\n",
       "      <td>33</td>\n",
       "      <td>0.700</td>\n",
       "      <td>10</td>\n",
       "      <td>khr-gangsters</td>\n",
       "    </tr>\n",
       "    <tr>\n",
       "      <td>3</td>\n",
       "      <td>video8.webm</td>\n",
       "      <td>0.922</td>\n",
       "      <td>33</td>\n",
       "      <td>0.818</td>\n",
       "      <td>11</td>\n",
       "      <td>medical-helicopter-hovers-at-airport</td>\n",
       "    </tr>\n",
       "    <tr>\n",
       "      <td>4</td>\n",
       "      <td>video10.webm</td>\n",
       "      <td>0.950</td>\n",
       "      <td>34</td>\n",
       "      <td>0.900</td>\n",
       "      <td>10</td>\n",
       "      <td>couple-relaxing-on-picnic-crane-shot</td>\n",
       "    </tr>\n",
       "  </tbody>\n",
       "</table>\n",
       "</div>"
      ],
      "text/plain": [
       "          video  short-term_memorability  nb_short-term_annotations  \\\n",
       "0   video3.webm                    0.924                         34   \n",
       "1   video4.webm                    0.923                         33   \n",
       "2   video6.webm                    0.863                         33   \n",
       "3   video8.webm                    0.922                         33   \n",
       "4  video10.webm                    0.950                         34   \n",
       "\n",
       "   long-term_memorability  nb_long-term_annotations  \\\n",
       "0                   0.846                        13   \n",
       "1                   0.667                        12   \n",
       "2                   0.700                        10   \n",
       "3                   0.818                        11   \n",
       "4                   0.900                        10   \n",
       "\n",
       "                                             caption  \n",
       "0                 blonde-woman-is-massaged-tilt-down  \n",
       "1  roulette-table-spinning-with-ball-in-closeup-shot  \n",
       "2                                      khr-gangsters  \n",
       "3               medical-helicopter-hovers-at-airport  \n",
       "4               couple-relaxing-on-picnic-crane-shot  "
      ]
     },
     "execution_count": 11,
     "metadata": {},
     "output_type": "execute_result"
    }
   ],
   "source": [
    "merged_1.head()"
   ]
  },
  {
   "cell_type": "markdown",
   "metadata": {
    "colab_type": "text",
    "id": "idYCBxllmoY-"
   },
   "source": [
    "Another feature that can be used to determine the memoribility can be the aesthetic features of the videos. These aesthetic features are a collection of features used in the prediction of visual aesthetics, composed of color, texture and object based descriptors, aggregated at video level by median and mean methods.\n",
    "\n",
    "For this analysis, I am using the median features as it can provide a insight into the distribution of parameters in a non normal distributed set of values"
   ]
  },
  {
   "cell_type": "code",
   "execution_count": 0,
   "metadata": {
    "colab": {
     "base_uri": "https://localhost:8080/",
     "height": 34
    },
    "colab_type": "code",
    "id": "iewKWLKb_wH7",
    "outputId": "d811bbe8-9e3d-439f-d5ed-e9f67f7169b0"
   },
   "outputs": [
    {
     "name": "stdout",
     "output_type": "stream",
     "text": [
      "Mounted at /content/drive/\n"
     ]
    }
   ],
   "source": [
    "# drive.mount('/content/drive/', force_remount=True)\n",
    "# os.chdir(\"/content/drive/My Drive/CA-684-ML/aesthetic_feat_dev-set_median/\")"
   ]
  },
  {
   "cell_type": "markdown",
   "metadata": {
    "colab_type": "text",
    "id": "hp5Y1W2c26uT"
   },
   "source": [
    "Function to read aesthetic features   "
   ]
  },
  {
   "cell_type": "code",
   "execution_count": 12,
   "metadata": {
    "colab": {},
    "colab_type": "code",
    "id": "UGJgRKAyByLG"
   },
   "outputs": [],
   "source": [
    "def read_features_from_file(dataframe, filename):\n",
    "  dataframe_1 = pd.read_csv(filename, header=None)\n",
    "  dataframe_1['video'] = filename[filename.find('video'):filename.find('.txt')] + '.webm'\n",
    "  dataframe = dataframe.append(dataframe_1, ignore_index=True)\n",
    "  return dataframe\n",
    "  "
   ]
  },
  {
   "cell_type": "markdown",
   "metadata": {
    "colab_type": "text",
    "id": "ZkEoUrh73MrA"
   },
   "source": [
    "Function to read C3D feature"
   ]
  },
  {
   "cell_type": "code",
   "execution_count": 13,
   "metadata": {
    "colab": {},
    "colab_type": "code",
    "id": "l2qc-Y8Bv8UF"
   },
   "outputs": [],
   "source": [
    "def read_c3d_from_file(dataframe, filename):\n",
    "  dataframe_1 = pd.read_csv(filename, header=None, sep=' ')\n",
    "  dataframe_1['video'] = filename[filename.find('video'):filename.find('.txt')] + '.webm'\n",
    "  dataframe = dataframe.append(dataframe_1, ignore_index=True)\n",
    "  return dataframe"
   ]
  },
  {
   "cell_type": "markdown",
   "metadata": {
    "colab_type": "text",
    "id": "QX8w4-x-nnZr"
   },
   "source": [
    "Each file in this  path represents a single video and contains 109 columns. We need to read each file , store the columns in that file and map it to the video. For performing this activity we are using the below for loop"
   ]
  },
  {
   "cell_type": "markdown",
   "metadata": {
    "colab_type": "text",
    "id": "4OBkvzZhoBLd"
   },
   "source": [
    "\n",
    "Function to read file names from a particular path\n",
    "This 1st for loop is making an array with the path and name of all the files present in the above path"
   ]
  },
  {
   "cell_type": "code",
   "execution_count": 14,
   "metadata": {
    "colab": {},
    "colab_type": "code",
    "id": "yXAVKj2BFMwZ"
   },
   "outputs": [],
   "source": [
    "def reading_file_names(path):\n",
    "  files = []\n",
    "  file_number=0\n",
    "  # r=root, d=directories, f = files\n",
    "  for r, d, f in os.walk(path):\n",
    "      for file in f:\n",
    "          if '.txt' in file:\n",
    "              files.append(os.path.join(r, file))\n",
    "              file_number = file_number + 1\n",
    "  print(\"total files read = \" + str(file_number))\n",
    "  return files"
   ]
  },
  {
   "cell_type": "markdown",
   "metadata": {
    "colab_type": "text",
    "id": "SZYg1OwioQSj"
   },
   "source": [
    "Now that we have the file array, we can proceed to read those files and build our dataset\n",
    "\n",
    "---\n",
    "\n"
   ]
  },
  {
   "cell_type": "code",
   "execution_count": 15,
   "metadata": {
    "colab": {
     "base_uri": "https://localhost:8080/",
     "height": 34
    },
    "colab_type": "code",
    "id": "E0bjNBypFtVi",
    "outputId": "147b7105-6c3c-407c-9b3d-e6dbd98d9e9e"
   },
   "outputs": [
    {
     "name": "stdout",
     "output_type": "stream",
     "text": [
      "total files read = 6022\n"
     ]
    }
   ],
   "source": [
    "path='D:/DCU/2nd Semester/Assignments/Machine Learning/My Assignment/dev-set_aesthetic-features/features/aesthetic_visual_features/aesthetic_feat_dev-set_median/'\n",
    "files = reading_file_names(path)\n",
    "dataframe_aesthetic = pd.DataFrame()\n",
    "for filename in files:\n",
    "  dataframe_aesthetic = read_features_from_file(dataframe_aesthetic, filename)"
   ]
  },
  {
   "cell_type": "code",
   "execution_count": 16,
   "metadata": {
    "colab": {
     "base_uri": "https://localhost:8080/",
     "height": 253
    },
    "colab_type": "code",
    "id": "nDfQgJj9_wUk",
    "outputId": "804e212b-3b1b-4869-9954-08d3c5b91508"
   },
   "outputs": [
    {
     "data": {
      "text/html": [
       "<div>\n",
       "<style scoped>\n",
       "    .dataframe tbody tr th:only-of-type {\n",
       "        vertical-align: middle;\n",
       "    }\n",
       "\n",
       "    .dataframe tbody tr th {\n",
       "        vertical-align: top;\n",
       "    }\n",
       "\n",
       "    .dataframe thead th {\n",
       "        text-align: right;\n",
       "    }\n",
       "</style>\n",
       "<table border=\"1\" class=\"dataframe\">\n",
       "  <thead>\n",
       "    <tr style=\"text-align: right;\">\n",
       "      <th></th>\n",
       "      <th>0</th>\n",
       "      <th>1</th>\n",
       "      <th>2</th>\n",
       "      <th>3</th>\n",
       "      <th>4</th>\n",
       "      <th>5</th>\n",
       "      <th>6</th>\n",
       "      <th>7</th>\n",
       "      <th>8</th>\n",
       "      <th>9</th>\n",
       "      <th>...</th>\n",
       "      <th>100</th>\n",
       "      <th>101</th>\n",
       "      <th>102</th>\n",
       "      <th>103</th>\n",
       "      <th>104</th>\n",
       "      <th>105</th>\n",
       "      <th>106</th>\n",
       "      <th>107</th>\n",
       "      <th>108</th>\n",
       "      <th>video</th>\n",
       "    </tr>\n",
       "  </thead>\n",
       "  <tbody>\n",
       "    <tr>\n",
       "      <td>0</td>\n",
       "      <td>0.427258</td>\n",
       "      <td>0.381448</td>\n",
       "      <td>0.582746</td>\n",
       "      <td>0.409475</td>\n",
       "      <td>0.489531</td>\n",
       "      <td>0.198180</td>\n",
       "      <td>39.394310</td>\n",
       "      <td>0.583333</td>\n",
       "      <td>0.039983</td>\n",
       "      <td>7.0</td>\n",
       "      <td>...</td>\n",
       "      <td>0.000065</td>\n",
       "      <td>0.000000</td>\n",
       "      <td>0.442575</td>\n",
       "      <td>0.347355</td>\n",
       "      <td>1.285838</td>\n",
       "      <td>0.0</td>\n",
       "      <td>-0.279630</td>\n",
       "      <td>-0.012414</td>\n",
       "      <td>0.197281</td>\n",
       "      <td>video10.webm</td>\n",
       "    </tr>\n",
       "    <tr>\n",
       "      <td>1</td>\n",
       "      <td>0.160579</td>\n",
       "      <td>0.238155</td>\n",
       "      <td>0.408475</td>\n",
       "      <td>0.180416</td>\n",
       "      <td>0.366411</td>\n",
       "      <td>0.345585</td>\n",
       "      <td>47.599246</td>\n",
       "      <td>0.083333</td>\n",
       "      <td>0.002136</td>\n",
       "      <td>2.0</td>\n",
       "      <td>...</td>\n",
       "      <td>-0.000081</td>\n",
       "      <td>0.116705</td>\n",
       "      <td>0.084845</td>\n",
       "      <td>0.145045</td>\n",
       "      <td>1.053873</td>\n",
       "      <td>0.0</td>\n",
       "      <td>0.719529</td>\n",
       "      <td>1.099627</td>\n",
       "      <td>1.690907</td>\n",
       "      <td>video100.webm</td>\n",
       "    </tr>\n",
       "    <tr>\n",
       "      <td>2</td>\n",
       "      <td>0.302134</td>\n",
       "      <td>0.330636</td>\n",
       "      <td>0.496383</td>\n",
       "      <td>0.287178</td>\n",
       "      <td>0.430446</td>\n",
       "      <td>0.246384</td>\n",
       "      <td>43.865849</td>\n",
       "      <td>0.083333</td>\n",
       "      <td>0.030235</td>\n",
       "      <td>3.0</td>\n",
       "      <td>...</td>\n",
       "      <td>0.000029</td>\n",
       "      <td>0.016424</td>\n",
       "      <td>0.350831</td>\n",
       "      <td>0.370096</td>\n",
       "      <td>1.415410</td>\n",
       "      <td>0.0</td>\n",
       "      <td>-0.126543</td>\n",
       "      <td>-0.033257</td>\n",
       "      <td>-0.062579</td>\n",
       "      <td>video1001.webm</td>\n",
       "    </tr>\n",
       "    <tr>\n",
       "      <td>3</td>\n",
       "      <td>0.289857</td>\n",
       "      <td>0.261362</td>\n",
       "      <td>0.534633</td>\n",
       "      <td>0.291529</td>\n",
       "      <td>0.485201</td>\n",
       "      <td>0.299456</td>\n",
       "      <td>47.997030</td>\n",
       "      <td>0.065891</td>\n",
       "      <td>0.025044</td>\n",
       "      <td>2.0</td>\n",
       "      <td>...</td>\n",
       "      <td>-0.007455</td>\n",
       "      <td>0.864074</td>\n",
       "      <td>0.473810</td>\n",
       "      <td>0.456259</td>\n",
       "      <td>1.940068</td>\n",
       "      <td>0.0</td>\n",
       "      <td>-0.114065</td>\n",
       "      <td>0.232043</td>\n",
       "      <td>0.398709</td>\n",
       "      <td>video1003.webm</td>\n",
       "    </tr>\n",
       "    <tr>\n",
       "      <td>4</td>\n",
       "      <td>0.637255</td>\n",
       "      <td>0.319937</td>\n",
       "      <td>0.317086</td>\n",
       "      <td>0.229754</td>\n",
       "      <td>0.261037</td>\n",
       "      <td>0.543062</td>\n",
       "      <td>52.033505</td>\n",
       "      <td>0.584848</td>\n",
       "      <td>0.084615</td>\n",
       "      <td>3.0</td>\n",
       "      <td>...</td>\n",
       "      <td>0.000404</td>\n",
       "      <td>0.183904</td>\n",
       "      <td>0.347324</td>\n",
       "      <td>0.425562</td>\n",
       "      <td>0.474023</td>\n",
       "      <td>0.0</td>\n",
       "      <td>0.292011</td>\n",
       "      <td>0.338289</td>\n",
       "      <td>-0.196339</td>\n",
       "      <td>video1004.webm</td>\n",
       "    </tr>\n",
       "  </tbody>\n",
       "</table>\n",
       "<p>5 rows × 110 columns</p>\n",
       "</div>"
      ],
      "text/plain": [
       "          0         1         2         3         4         5          6  \\\n",
       "0  0.427258  0.381448  0.582746  0.409475  0.489531  0.198180  39.394310   \n",
       "1  0.160579  0.238155  0.408475  0.180416  0.366411  0.345585  47.599246   \n",
       "2  0.302134  0.330636  0.496383  0.287178  0.430446  0.246384  43.865849   \n",
       "3  0.289857  0.261362  0.534633  0.291529  0.485201  0.299456  47.997030   \n",
       "4  0.637255  0.319937  0.317086  0.229754  0.261037  0.543062  52.033505   \n",
       "\n",
       "          7         8    9  ...       100       101       102       103  \\\n",
       "0  0.583333  0.039983  7.0  ...  0.000065  0.000000  0.442575  0.347355   \n",
       "1  0.083333  0.002136  2.0  ... -0.000081  0.116705  0.084845  0.145045   \n",
       "2  0.083333  0.030235  3.0  ...  0.000029  0.016424  0.350831  0.370096   \n",
       "3  0.065891  0.025044  2.0  ... -0.007455  0.864074  0.473810  0.456259   \n",
       "4  0.584848  0.084615  3.0  ...  0.000404  0.183904  0.347324  0.425562   \n",
       "\n",
       "        104  105       106       107       108           video  \n",
       "0  1.285838  0.0 -0.279630 -0.012414  0.197281    video10.webm  \n",
       "1  1.053873  0.0  0.719529  1.099627  1.690907   video100.webm  \n",
       "2  1.415410  0.0 -0.126543 -0.033257 -0.062579  video1001.webm  \n",
       "3  1.940068  0.0 -0.114065  0.232043  0.398709  video1003.webm  \n",
       "4  0.474023  0.0  0.292011  0.338289 -0.196339  video1004.webm  \n",
       "\n",
       "[5 rows x 110 columns]"
      ]
     },
     "execution_count": 16,
     "metadata": {},
     "output_type": "execute_result"
    }
   ],
   "source": [
    "dataframe_aesthetic.head()"
   ]
  },
  {
   "cell_type": "code",
   "execution_count": 17,
   "metadata": {
    "colab": {},
    "colab_type": "code",
    "id": "Q9yTJN9Jd5oK"
   },
   "outputs": [],
   "source": [
    "new_columns = list()\n",
    "for colname in dataframe_aesthetic.columns:\n",
    "  new_columns.append('AES_' + str(colname))\n",
    "dataframe_aesthetic.columns = new_columns\n",
    "dataframe_aesthetic = dataframe_aesthetic.rename(columns={'AES_video':'video'})"
   ]
  },
  {
   "cell_type": "code",
   "execution_count": 18,
   "metadata": {
    "colab": {
     "base_uri": "https://localhost:8080/",
     "height": 253
    },
    "colab_type": "code",
    "id": "cm6cA7NdHTCX",
    "outputId": "1afbd2e3-6b86-46b5-9282-0318e1ebd3aa"
   },
   "outputs": [
    {
     "data": {
      "text/html": [
       "<div>\n",
       "<style scoped>\n",
       "    .dataframe tbody tr th:only-of-type {\n",
       "        vertical-align: middle;\n",
       "    }\n",
       "\n",
       "    .dataframe tbody tr th {\n",
       "        vertical-align: top;\n",
       "    }\n",
       "\n",
       "    .dataframe thead th {\n",
       "        text-align: right;\n",
       "    }\n",
       "</style>\n",
       "<table border=\"1\" class=\"dataframe\">\n",
       "  <thead>\n",
       "    <tr style=\"text-align: right;\">\n",
       "      <th></th>\n",
       "      <th>AES_0</th>\n",
       "      <th>AES_1</th>\n",
       "      <th>AES_2</th>\n",
       "      <th>AES_3</th>\n",
       "      <th>AES_4</th>\n",
       "      <th>AES_5</th>\n",
       "      <th>AES_6</th>\n",
       "      <th>AES_7</th>\n",
       "      <th>AES_8</th>\n",
       "      <th>AES_9</th>\n",
       "      <th>...</th>\n",
       "      <th>AES_100</th>\n",
       "      <th>AES_101</th>\n",
       "      <th>AES_102</th>\n",
       "      <th>AES_103</th>\n",
       "      <th>AES_104</th>\n",
       "      <th>AES_105</th>\n",
       "      <th>AES_106</th>\n",
       "      <th>AES_107</th>\n",
       "      <th>AES_108</th>\n",
       "      <th>video</th>\n",
       "    </tr>\n",
       "  </thead>\n",
       "  <tbody>\n",
       "    <tr>\n",
       "      <td>0</td>\n",
       "      <td>0.427258</td>\n",
       "      <td>0.381448</td>\n",
       "      <td>0.582746</td>\n",
       "      <td>0.409475</td>\n",
       "      <td>0.489531</td>\n",
       "      <td>0.198180</td>\n",
       "      <td>39.394310</td>\n",
       "      <td>0.583333</td>\n",
       "      <td>0.039983</td>\n",
       "      <td>7.0</td>\n",
       "      <td>...</td>\n",
       "      <td>0.000065</td>\n",
       "      <td>0.000000</td>\n",
       "      <td>0.442575</td>\n",
       "      <td>0.347355</td>\n",
       "      <td>1.285838</td>\n",
       "      <td>0.0</td>\n",
       "      <td>-0.279630</td>\n",
       "      <td>-0.012414</td>\n",
       "      <td>0.197281</td>\n",
       "      <td>video10.webm</td>\n",
       "    </tr>\n",
       "    <tr>\n",
       "      <td>1</td>\n",
       "      <td>0.160579</td>\n",
       "      <td>0.238155</td>\n",
       "      <td>0.408475</td>\n",
       "      <td>0.180416</td>\n",
       "      <td>0.366411</td>\n",
       "      <td>0.345585</td>\n",
       "      <td>47.599246</td>\n",
       "      <td>0.083333</td>\n",
       "      <td>0.002136</td>\n",
       "      <td>2.0</td>\n",
       "      <td>...</td>\n",
       "      <td>-0.000081</td>\n",
       "      <td>0.116705</td>\n",
       "      <td>0.084845</td>\n",
       "      <td>0.145045</td>\n",
       "      <td>1.053873</td>\n",
       "      <td>0.0</td>\n",
       "      <td>0.719529</td>\n",
       "      <td>1.099627</td>\n",
       "      <td>1.690907</td>\n",
       "      <td>video100.webm</td>\n",
       "    </tr>\n",
       "    <tr>\n",
       "      <td>2</td>\n",
       "      <td>0.302134</td>\n",
       "      <td>0.330636</td>\n",
       "      <td>0.496383</td>\n",
       "      <td>0.287178</td>\n",
       "      <td>0.430446</td>\n",
       "      <td>0.246384</td>\n",
       "      <td>43.865849</td>\n",
       "      <td>0.083333</td>\n",
       "      <td>0.030235</td>\n",
       "      <td>3.0</td>\n",
       "      <td>...</td>\n",
       "      <td>0.000029</td>\n",
       "      <td>0.016424</td>\n",
       "      <td>0.350831</td>\n",
       "      <td>0.370096</td>\n",
       "      <td>1.415410</td>\n",
       "      <td>0.0</td>\n",
       "      <td>-0.126543</td>\n",
       "      <td>-0.033257</td>\n",
       "      <td>-0.062579</td>\n",
       "      <td>video1001.webm</td>\n",
       "    </tr>\n",
       "    <tr>\n",
       "      <td>3</td>\n",
       "      <td>0.289857</td>\n",
       "      <td>0.261362</td>\n",
       "      <td>0.534633</td>\n",
       "      <td>0.291529</td>\n",
       "      <td>0.485201</td>\n",
       "      <td>0.299456</td>\n",
       "      <td>47.997030</td>\n",
       "      <td>0.065891</td>\n",
       "      <td>0.025044</td>\n",
       "      <td>2.0</td>\n",
       "      <td>...</td>\n",
       "      <td>-0.007455</td>\n",
       "      <td>0.864074</td>\n",
       "      <td>0.473810</td>\n",
       "      <td>0.456259</td>\n",
       "      <td>1.940068</td>\n",
       "      <td>0.0</td>\n",
       "      <td>-0.114065</td>\n",
       "      <td>0.232043</td>\n",
       "      <td>0.398709</td>\n",
       "      <td>video1003.webm</td>\n",
       "    </tr>\n",
       "    <tr>\n",
       "      <td>4</td>\n",
       "      <td>0.637255</td>\n",
       "      <td>0.319937</td>\n",
       "      <td>0.317086</td>\n",
       "      <td>0.229754</td>\n",
       "      <td>0.261037</td>\n",
       "      <td>0.543062</td>\n",
       "      <td>52.033505</td>\n",
       "      <td>0.584848</td>\n",
       "      <td>0.084615</td>\n",
       "      <td>3.0</td>\n",
       "      <td>...</td>\n",
       "      <td>0.000404</td>\n",
       "      <td>0.183904</td>\n",
       "      <td>0.347324</td>\n",
       "      <td>0.425562</td>\n",
       "      <td>0.474023</td>\n",
       "      <td>0.0</td>\n",
       "      <td>0.292011</td>\n",
       "      <td>0.338289</td>\n",
       "      <td>-0.196339</td>\n",
       "      <td>video1004.webm</td>\n",
       "    </tr>\n",
       "  </tbody>\n",
       "</table>\n",
       "<p>5 rows × 110 columns</p>\n",
       "</div>"
      ],
      "text/plain": [
       "      AES_0     AES_1     AES_2     AES_3     AES_4     AES_5      AES_6  \\\n",
       "0  0.427258  0.381448  0.582746  0.409475  0.489531  0.198180  39.394310   \n",
       "1  0.160579  0.238155  0.408475  0.180416  0.366411  0.345585  47.599246   \n",
       "2  0.302134  0.330636  0.496383  0.287178  0.430446  0.246384  43.865849   \n",
       "3  0.289857  0.261362  0.534633  0.291529  0.485201  0.299456  47.997030   \n",
       "4  0.637255  0.319937  0.317086  0.229754  0.261037  0.543062  52.033505   \n",
       "\n",
       "      AES_7     AES_8  AES_9  ...   AES_100   AES_101   AES_102   AES_103  \\\n",
       "0  0.583333  0.039983    7.0  ...  0.000065  0.000000  0.442575  0.347355   \n",
       "1  0.083333  0.002136    2.0  ... -0.000081  0.116705  0.084845  0.145045   \n",
       "2  0.083333  0.030235    3.0  ...  0.000029  0.016424  0.350831  0.370096   \n",
       "3  0.065891  0.025044    2.0  ... -0.007455  0.864074  0.473810  0.456259   \n",
       "4  0.584848  0.084615    3.0  ...  0.000404  0.183904  0.347324  0.425562   \n",
       "\n",
       "    AES_104  AES_105   AES_106   AES_107   AES_108           video  \n",
       "0  1.285838      0.0 -0.279630 -0.012414  0.197281    video10.webm  \n",
       "1  1.053873      0.0  0.719529  1.099627  1.690907   video100.webm  \n",
       "2  1.415410      0.0 -0.126543 -0.033257 -0.062579  video1001.webm  \n",
       "3  1.940068      0.0 -0.114065  0.232043  0.398709  video1003.webm  \n",
       "4  0.474023      0.0  0.292011  0.338289 -0.196339  video1004.webm  \n",
       "\n",
       "[5 rows x 110 columns]"
      ]
     },
     "execution_count": 18,
     "metadata": {},
     "output_type": "execute_result"
    }
   ],
   "source": [
    "dataframe_aesthetic.head()"
   ]
  },
  {
   "cell_type": "code",
   "execution_count": 19,
   "metadata": {
    "colab": {
     "base_uri": "https://localhost:8080/",
     "height": 34
    },
    "colab_type": "code",
    "id": "dIV8anjLJzbb",
    "outputId": "6328fa8e-68e5-431d-dabe-ad0b171e2600"
   },
   "outputs": [
    {
     "data": {
      "text/plain": [
       "(6022, 110)"
      ]
     },
     "execution_count": 19,
     "metadata": {},
     "output_type": "execute_result"
    }
   ],
   "source": [
    "dataframe_aesthetic.shape"
   ]
  },
  {
   "cell_type": "markdown",
   "metadata": {
    "colab_type": "text",
    "id": "WSSccV9do0tb"
   },
   "source": [
    "Merging the above dataset with our captions and ground truth dataset"
   ]
  },
  {
   "cell_type": "code",
   "execution_count": 22,
   "metadata": {
    "colab": {},
    "colab_type": "code",
    "id": "ShHKUb3vHYtH"
   },
   "outputs": [],
   "source": [
    "merged_dataset = merged_1.merge(dataframe_aesthetic)"
   ]
  },
  {
   "cell_type": "code",
   "execution_count": 23,
   "metadata": {
    "colab": {
     "base_uri": "https://localhost:8080/",
     "height": 525
    },
    "colab_type": "code",
    "id": "0WpZBbs0H-MX",
    "outputId": "698e20ce-666c-49f8-8905-333e94c1381c"
   },
   "outputs": [
    {
     "data": {
      "text/html": [
       "<div>\n",
       "<style scoped>\n",
       "    .dataframe tbody tr th:only-of-type {\n",
       "        vertical-align: middle;\n",
       "    }\n",
       "\n",
       "    .dataframe tbody tr th {\n",
       "        vertical-align: top;\n",
       "    }\n",
       "\n",
       "    .dataframe thead th {\n",
       "        text-align: right;\n",
       "    }\n",
       "</style>\n",
       "<table border=\"1\" class=\"dataframe\">\n",
       "  <thead>\n",
       "    <tr style=\"text-align: right;\">\n",
       "      <th></th>\n",
       "      <th>video</th>\n",
       "      <th>short-term_memorability</th>\n",
       "      <th>nb_short-term_annotations</th>\n",
       "      <th>long-term_memorability</th>\n",
       "      <th>nb_long-term_annotations</th>\n",
       "      <th>caption</th>\n",
       "      <th>AES_0</th>\n",
       "      <th>AES_1</th>\n",
       "      <th>AES_2</th>\n",
       "      <th>AES_3</th>\n",
       "      <th>...</th>\n",
       "      <th>AES_99</th>\n",
       "      <th>AES_100</th>\n",
       "      <th>AES_101</th>\n",
       "      <th>AES_102</th>\n",
       "      <th>AES_103</th>\n",
       "      <th>AES_104</th>\n",
       "      <th>AES_105</th>\n",
       "      <th>AES_106</th>\n",
       "      <th>AES_107</th>\n",
       "      <th>AES_108</th>\n",
       "    </tr>\n",
       "  </thead>\n",
       "  <tbody>\n",
       "    <tr>\n",
       "      <td>0</td>\n",
       "      <td>video3.webm</td>\n",
       "      <td>0.924</td>\n",
       "      <td>34</td>\n",
       "      <td>0.846</td>\n",
       "      <td>13</td>\n",
       "      <td>blonde-woman-is-massaged-tilt-down</td>\n",
       "      <td>0.180874</td>\n",
       "      <td>0.715626</td>\n",
       "      <td>0.198930</td>\n",
       "      <td>0.610453</td>\n",
       "      <td>...</td>\n",
       "      <td>-0.002154</td>\n",
       "      <td>-0.000850</td>\n",
       "      <td>0.000000</td>\n",
       "      <td>0.260845</td>\n",
       "      <td>0.294153</td>\n",
       "      <td>0.575061</td>\n",
       "      <td>0.0</td>\n",
       "      <td>0.129661</td>\n",
       "      <td>0.412381</td>\n",
       "      <td>0.788761</td>\n",
       "    </tr>\n",
       "    <tr>\n",
       "      <td>1</td>\n",
       "      <td>video4.webm</td>\n",
       "      <td>0.923</td>\n",
       "      <td>33</td>\n",
       "      <td>0.667</td>\n",
       "      <td>12</td>\n",
       "      <td>roulette-table-spinning-with-ball-in-closeup-shot</td>\n",
       "      <td>0.146076</td>\n",
       "      <td>0.550070</td>\n",
       "      <td>0.460729</td>\n",
       "      <td>0.424397</td>\n",
       "      <td>...</td>\n",
       "      <td>0.000007</td>\n",
       "      <td>-0.000399</td>\n",
       "      <td>0.920270</td>\n",
       "      <td>0.337932</td>\n",
       "      <td>0.382134</td>\n",
       "      <td>0.943198</td>\n",
       "      <td>0.0</td>\n",
       "      <td>0.692224</td>\n",
       "      <td>0.762354</td>\n",
       "      <td>-0.561793</td>\n",
       "    </tr>\n",
       "    <tr>\n",
       "      <td>2</td>\n",
       "      <td>video6.webm</td>\n",
       "      <td>0.863</td>\n",
       "      <td>33</td>\n",
       "      <td>0.700</td>\n",
       "      <td>10</td>\n",
       "      <td>khr-gangsters</td>\n",
       "      <td>0.063898</td>\n",
       "      <td>0.827439</td>\n",
       "      <td>0.211925</td>\n",
       "      <td>0.720297</td>\n",
       "      <td>...</td>\n",
       "      <td>0.002896</td>\n",
       "      <td>0.002309</td>\n",
       "      <td>0.374684</td>\n",
       "      <td>0.019155</td>\n",
       "      <td>0.187358</td>\n",
       "      <td>0.512601</td>\n",
       "      <td>0.0</td>\n",
       "      <td>0.438261</td>\n",
       "      <td>-0.219560</td>\n",
       "      <td>0.276687</td>\n",
       "    </tr>\n",
       "    <tr>\n",
       "      <td>3</td>\n",
       "      <td>video8.webm</td>\n",
       "      <td>0.922</td>\n",
       "      <td>33</td>\n",
       "      <td>0.818</td>\n",
       "      <td>11</td>\n",
       "      <td>medical-helicopter-hovers-at-airport</td>\n",
       "      <td>0.380539</td>\n",
       "      <td>0.134683</td>\n",
       "      <td>0.746891</td>\n",
       "      <td>0.171604</td>\n",
       "      <td>...</td>\n",
       "      <td>0.000568</td>\n",
       "      <td>0.000514</td>\n",
       "      <td>0.970656</td>\n",
       "      <td>0.435550</td>\n",
       "      <td>0.431595</td>\n",
       "      <td>1.142377</td>\n",
       "      <td>0.0</td>\n",
       "      <td>0.424483</td>\n",
       "      <td>0.326030</td>\n",
       "      <td>0.688481</td>\n",
       "    </tr>\n",
       "    <tr>\n",
       "      <td>4</td>\n",
       "      <td>video10.webm</td>\n",
       "      <td>0.950</td>\n",
       "      <td>34</td>\n",
       "      <td>0.900</td>\n",
       "      <td>10</td>\n",
       "      <td>couple-relaxing-on-picnic-crane-shot</td>\n",
       "      <td>0.427258</td>\n",
       "      <td>0.381448</td>\n",
       "      <td>0.582746</td>\n",
       "      <td>0.409475</td>\n",
       "      <td>...</td>\n",
       "      <td>0.005307</td>\n",
       "      <td>0.000065</td>\n",
       "      <td>0.000000</td>\n",
       "      <td>0.442575</td>\n",
       "      <td>0.347355</td>\n",
       "      <td>1.285838</td>\n",
       "      <td>0.0</td>\n",
       "      <td>-0.279630</td>\n",
       "      <td>-0.012414</td>\n",
       "      <td>0.197281</td>\n",
       "    </tr>\n",
       "  </tbody>\n",
       "</table>\n",
       "<p>5 rows × 115 columns</p>\n",
       "</div>"
      ],
      "text/plain": [
       "          video  short-term_memorability  nb_short-term_annotations  \\\n",
       "0   video3.webm                    0.924                         34   \n",
       "1   video4.webm                    0.923                         33   \n",
       "2   video6.webm                    0.863                         33   \n",
       "3   video8.webm                    0.922                         33   \n",
       "4  video10.webm                    0.950                         34   \n",
       "\n",
       "   long-term_memorability  nb_long-term_annotations  \\\n",
       "0                   0.846                        13   \n",
       "1                   0.667                        12   \n",
       "2                   0.700                        10   \n",
       "3                   0.818                        11   \n",
       "4                   0.900                        10   \n",
       "\n",
       "                                             caption     AES_0     AES_1  \\\n",
       "0                 blonde-woman-is-massaged-tilt-down  0.180874  0.715626   \n",
       "1  roulette-table-spinning-with-ball-in-closeup-shot  0.146076  0.550070   \n",
       "2                                      khr-gangsters  0.063898  0.827439   \n",
       "3               medical-helicopter-hovers-at-airport  0.380539  0.134683   \n",
       "4               couple-relaxing-on-picnic-crane-shot  0.427258  0.381448   \n",
       "\n",
       "      AES_2     AES_3  ...    AES_99   AES_100   AES_101   AES_102   AES_103  \\\n",
       "0  0.198930  0.610453  ... -0.002154 -0.000850  0.000000  0.260845  0.294153   \n",
       "1  0.460729  0.424397  ...  0.000007 -0.000399  0.920270  0.337932  0.382134   \n",
       "2  0.211925  0.720297  ...  0.002896  0.002309  0.374684  0.019155  0.187358   \n",
       "3  0.746891  0.171604  ...  0.000568  0.000514  0.970656  0.435550  0.431595   \n",
       "4  0.582746  0.409475  ...  0.005307  0.000065  0.000000  0.442575  0.347355   \n",
       "\n",
       "    AES_104  AES_105   AES_106   AES_107   AES_108  \n",
       "0  0.575061      0.0  0.129661  0.412381  0.788761  \n",
       "1  0.943198      0.0  0.692224  0.762354 -0.561793  \n",
       "2  0.512601      0.0  0.438261 -0.219560  0.276687  \n",
       "3  1.142377      0.0  0.424483  0.326030  0.688481  \n",
       "4  1.285838      0.0 -0.279630 -0.012414  0.197281  \n",
       "\n",
       "[5 rows x 115 columns]"
      ]
     },
     "execution_count": 23,
     "metadata": {},
     "output_type": "execute_result"
    }
   ],
   "source": [
    "merged_dataset.head()"
   ]
  },
  {
   "cell_type": "code",
   "execution_count": 24,
   "metadata": {
    "colab": {
     "base_uri": "https://localhost:8080/",
     "height": 34
    },
    "colab_type": "code",
    "id": "nXfItc8pJUnm",
    "outputId": "955d4eda-d9c4-49e0-b707-968530037600"
   },
   "outputs": [
    {
     "data": {
      "text/plain": [
       "(6000, 115)"
      ]
     },
     "execution_count": 24,
     "metadata": {},
     "output_type": "execute_result"
    }
   ],
   "source": [
    "merged_dataset.shape"
   ]
  },
  {
   "cell_type": "markdown",
   "metadata": {
    "colab_type": "text",
    "id": "QSKogWT4o_CE"
   },
   "source": [
    "From the papers that I referred, one of the key points that I took was that C3D can be used to provide a good insight to the memoribility score. Hence, i want to use C3D as well for my predictions"
   ]
  },
  {
   "cell_type": "markdown",
   "metadata": {
    "colab_type": "text",
    "id": "ZEZQchuEpa5K"
   },
   "source": [
    "Loading the C3D data "
   ]
  },
  {
   "cell_type": "code",
   "execution_count": 0,
   "metadata": {
    "colab": {},
    "colab_type": "code",
    "id": "rBCtj4NzpaRn"
   },
   "outputs": [],
   "source": [
    "# os.chdir(\"/content/drive/My Drive/CA-684-ML/dev-set/C3D\")"
   ]
  },
  {
   "cell_type": "code",
   "execution_count": 0,
   "metadata": {
    "colab": {
     "base_uri": "https://localhost:8080/",
     "height": 34
    },
    "colab_type": "code",
    "id": "HCzOOG8Yo9r4",
    "outputId": "57f688f3-4a20-4b61-bf64-286c411711eb"
   },
   "outputs": [
    {
     "name": "stdout",
     "output_type": "stream",
     "text": [
      "/content/drive/My Drive/CA-684-ML/dev-set/C3D\n"
     ]
    }
   ],
   "source": [
    "# !pwd"
   ]
  },
  {
   "cell_type": "code",
   "execution_count": 25,
   "metadata": {
    "colab": {
     "base_uri": "https://localhost:8080/",
     "height": 34
    },
    "colab_type": "code",
    "id": "p3kyT6W1p0vd",
    "outputId": "c7acf688-38ce-4426-8b51-e6809e03bf49"
   },
   "outputs": [
    {
     "name": "stdout",
     "output_type": "stream",
     "text": [
      "total files read = 6000\n"
     ]
    }
   ],
   "source": [
    "path=\"G:/.shortcut-targets-by-id/1UWIdExqb5P94RLqkaiODcwFC2v7g3lB2/CA684_Assignment/Dev-set/C3D\"\n",
    "files = reading_file_names(path)\n",
    "dataframe_C3D = pd.DataFrame()\n",
    "for filename in files:\n",
    "  dataframe_C3D = read_c3d_from_file(dataframe_C3D, filename)"
   ]
  },
  {
   "cell_type": "code",
   "execution_count": 26,
   "metadata": {
    "colab": {
     "base_uri": "https://localhost:8080/",
     "height": 338
    },
    "colab_type": "code",
    "id": "jfI3cX0tvx0L",
    "outputId": "3ee1bd9c-8e7a-4da1-c568-8eb905a24115"
   },
   "outputs": [
    {
     "data": {
      "text/html": [
       "<div>\n",
       "<style scoped>\n",
       "    .dataframe tbody tr th:only-of-type {\n",
       "        vertical-align: middle;\n",
       "    }\n",
       "\n",
       "    .dataframe tbody tr th {\n",
       "        vertical-align: top;\n",
       "    }\n",
       "\n",
       "    .dataframe thead th {\n",
       "        text-align: right;\n",
       "    }\n",
       "</style>\n",
       "<table border=\"1\" class=\"dataframe\">\n",
       "  <thead>\n",
       "    <tr style=\"text-align: right;\">\n",
       "      <th></th>\n",
       "      <th>0</th>\n",
       "      <th>1</th>\n",
       "      <th>2</th>\n",
       "      <th>3</th>\n",
       "      <th>4</th>\n",
       "      <th>5</th>\n",
       "      <th>6</th>\n",
       "      <th>7</th>\n",
       "      <th>8</th>\n",
       "      <th>9</th>\n",
       "      <th>...</th>\n",
       "      <th>93</th>\n",
       "      <th>94</th>\n",
       "      <th>95</th>\n",
       "      <th>96</th>\n",
       "      <th>97</th>\n",
       "      <th>98</th>\n",
       "      <th>99</th>\n",
       "      <th>100</th>\n",
       "      <th>101</th>\n",
       "      <th>video</th>\n",
       "    </tr>\n",
       "  </thead>\n",
       "  <tbody>\n",
       "    <tr>\n",
       "      <td>0</td>\n",
       "      <td>0.010858</td>\n",
       "      <td>0.010386</td>\n",
       "      <td>0.000000</td>\n",
       "      <td>0.000000e+00</td>\n",
       "      <td>0.000000e+00</td>\n",
       "      <td>0.000000</td>\n",
       "      <td>2.700000e-07</td>\n",
       "      <td>0.000000</td>\n",
       "      <td>1.000000e-08</td>\n",
       "      <td>3.400000e-07</td>\n",
       "      <td>...</td>\n",
       "      <td>0.000000</td>\n",
       "      <td>1.700000e-07</td>\n",
       "      <td>0.000000</td>\n",
       "      <td>0.000000e+00</td>\n",
       "      <td>1.000000e-08</td>\n",
       "      <td>1.300000e-06</td>\n",
       "      <td>2.600000e-06</td>\n",
       "      <td>8.000000e-08</td>\n",
       "      <td>NaN</td>\n",
       "      <td>video6632.webm</td>\n",
       "    </tr>\n",
       "    <tr>\n",
       "      <td>1</td>\n",
       "      <td>0.000200</td>\n",
       "      <td>0.000065</td>\n",
       "      <td>0.993807</td>\n",
       "      <td>2.000000e-07</td>\n",
       "      <td>4.700000e-07</td>\n",
       "      <td>0.000073</td>\n",
       "      <td>3.700000e-06</td>\n",
       "      <td>0.000337</td>\n",
       "      <td>6.710000e-06</td>\n",
       "      <td>2.290000e-06</td>\n",
       "      <td>...</td>\n",
       "      <td>0.000002</td>\n",
       "      <td>5.800000e-06</td>\n",
       "      <td>0.000001</td>\n",
       "      <td>1.490000e-06</td>\n",
       "      <td>1.170000e-05</td>\n",
       "      <td>1.500000e-07</td>\n",
       "      <td>8.300000e-07</td>\n",
       "      <td>1.060000e-04</td>\n",
       "      <td>NaN</td>\n",
       "      <td>video6634.webm</td>\n",
       "    </tr>\n",
       "    <tr>\n",
       "      <td>2</td>\n",
       "      <td>0.000000</td>\n",
       "      <td>0.000000</td>\n",
       "      <td>0.000000</td>\n",
       "      <td>0.000000e+00</td>\n",
       "      <td>0.000000e+00</td>\n",
       "      <td>0.000000</td>\n",
       "      <td>0.000000e+00</td>\n",
       "      <td>0.000000</td>\n",
       "      <td>0.000000e+00</td>\n",
       "      <td>0.000000e+00</td>\n",
       "      <td>...</td>\n",
       "      <td>0.000000</td>\n",
       "      <td>0.000000e+00</td>\n",
       "      <td>0.000000</td>\n",
       "      <td>0.000000e+00</td>\n",
       "      <td>0.000000e+00</td>\n",
       "      <td>0.000000e+00</td>\n",
       "      <td>0.000000e+00</td>\n",
       "      <td>7.120000e-06</td>\n",
       "      <td>NaN</td>\n",
       "      <td>video6633.webm</td>\n",
       "    </tr>\n",
       "    <tr>\n",
       "      <td>3</td>\n",
       "      <td>0.005959</td>\n",
       "      <td>0.004765</td>\n",
       "      <td>0.003757</td>\n",
       "      <td>5.787100e-04</td>\n",
       "      <td>7.344000e-05</td>\n",
       "      <td>0.000129</td>\n",
       "      <td>4.665300e-04</td>\n",
       "      <td>0.010266</td>\n",
       "      <td>3.028100e-04</td>\n",
       "      <td>2.196500e-04</td>\n",
       "      <td>...</td>\n",
       "      <td>0.004137</td>\n",
       "      <td>3.670390e-02</td>\n",
       "      <td>0.000767</td>\n",
       "      <td>3.692100e-04</td>\n",
       "      <td>1.251980e-02</td>\n",
       "      <td>8.422000e-05</td>\n",
       "      <td>1.159825e-02</td>\n",
       "      <td>1.155040e-03</td>\n",
       "      <td>NaN</td>\n",
       "      <td>video6645.webm</td>\n",
       "    </tr>\n",
       "    <tr>\n",
       "      <td>4</td>\n",
       "      <td>0.005782</td>\n",
       "      <td>0.000306</td>\n",
       "      <td>0.004011</td>\n",
       "      <td>1.007000e-05</td>\n",
       "      <td>1.034000e-05</td>\n",
       "      <td>0.000002</td>\n",
       "      <td>3.160000e-06</td>\n",
       "      <td>0.000003</td>\n",
       "      <td>1.984000e-05</td>\n",
       "      <td>5.750000e-06</td>\n",
       "      <td>...</td>\n",
       "      <td>0.000004</td>\n",
       "      <td>6.818350e-03</td>\n",
       "      <td>0.000005</td>\n",
       "      <td>5.000000e-08</td>\n",
       "      <td>2.088000e-05</td>\n",
       "      <td>1.271750e-03</td>\n",
       "      <td>4.862200e-04</td>\n",
       "      <td>1.965000e-05</td>\n",
       "      <td>NaN</td>\n",
       "      <td>video6643.webm</td>\n",
       "    </tr>\n",
       "  </tbody>\n",
       "</table>\n",
       "<p>5 rows × 103 columns</p>\n",
       "</div>"
      ],
      "text/plain": [
       "          0         1         2             3             4         5  \\\n",
       "0  0.010858  0.010386  0.000000  0.000000e+00  0.000000e+00  0.000000   \n",
       "1  0.000200  0.000065  0.993807  2.000000e-07  4.700000e-07  0.000073   \n",
       "2  0.000000  0.000000  0.000000  0.000000e+00  0.000000e+00  0.000000   \n",
       "3  0.005959  0.004765  0.003757  5.787100e-04  7.344000e-05  0.000129   \n",
       "4  0.005782  0.000306  0.004011  1.007000e-05  1.034000e-05  0.000002   \n",
       "\n",
       "              6         7             8             9  ...        93  \\\n",
       "0  2.700000e-07  0.000000  1.000000e-08  3.400000e-07  ...  0.000000   \n",
       "1  3.700000e-06  0.000337  6.710000e-06  2.290000e-06  ...  0.000002   \n",
       "2  0.000000e+00  0.000000  0.000000e+00  0.000000e+00  ...  0.000000   \n",
       "3  4.665300e-04  0.010266  3.028100e-04  2.196500e-04  ...  0.004137   \n",
       "4  3.160000e-06  0.000003  1.984000e-05  5.750000e-06  ...  0.000004   \n",
       "\n",
       "             94        95            96            97            98  \\\n",
       "0  1.700000e-07  0.000000  0.000000e+00  1.000000e-08  1.300000e-06   \n",
       "1  5.800000e-06  0.000001  1.490000e-06  1.170000e-05  1.500000e-07   \n",
       "2  0.000000e+00  0.000000  0.000000e+00  0.000000e+00  0.000000e+00   \n",
       "3  3.670390e-02  0.000767  3.692100e-04  1.251980e-02  8.422000e-05   \n",
       "4  6.818350e-03  0.000005  5.000000e-08  2.088000e-05  1.271750e-03   \n",
       "\n",
       "             99           100  101           video  \n",
       "0  2.600000e-06  8.000000e-08  NaN  video6632.webm  \n",
       "1  8.300000e-07  1.060000e-04  NaN  video6634.webm  \n",
       "2  0.000000e+00  7.120000e-06  NaN  video6633.webm  \n",
       "3  1.159825e-02  1.155040e-03  NaN  video6645.webm  \n",
       "4  4.862200e-04  1.965000e-05  NaN  video6643.webm  \n",
       "\n",
       "[5 rows x 103 columns]"
      ]
     },
     "execution_count": 26,
     "metadata": {},
     "output_type": "execute_result"
    }
   ],
   "source": [
    "dataframe_C3D.head()"
   ]
  },
  {
   "cell_type": "markdown",
   "metadata": {
    "colab_type": "text",
    "id": "BoNNCUDkxKsD"
   },
   "source": [
    "we see we have an extra column which has NaN as a value, Lets delete this column as this is due to trailing spaces in the data "
   ]
  },
  {
   "cell_type": "code",
   "execution_count": 27,
   "metadata": {
    "colab": {},
    "colab_type": "code",
    "id": "0Gz_bSqrxJcG"
   },
   "outputs": [],
   "source": [
    "dataframe_C3D = dataframe_C3D.drop(columns=101)"
   ]
  },
  {
   "cell_type": "code",
   "execution_count": 28,
   "metadata": {
    "colab": {
     "base_uri": "https://localhost:8080/",
     "height": 338
    },
    "colab_type": "code",
    "id": "2gD8eKD4xh6a",
    "outputId": "f285cad7-7b42-43c1-f58c-8b62d3b01d00"
   },
   "outputs": [
    {
     "data": {
      "text/html": [
       "<div>\n",
       "<style scoped>\n",
       "    .dataframe tbody tr th:only-of-type {\n",
       "        vertical-align: middle;\n",
       "    }\n",
       "\n",
       "    .dataframe tbody tr th {\n",
       "        vertical-align: top;\n",
       "    }\n",
       "\n",
       "    .dataframe thead th {\n",
       "        text-align: right;\n",
       "    }\n",
       "</style>\n",
       "<table border=\"1\" class=\"dataframe\">\n",
       "  <thead>\n",
       "    <tr style=\"text-align: right;\">\n",
       "      <th></th>\n",
       "      <th>0</th>\n",
       "      <th>1</th>\n",
       "      <th>2</th>\n",
       "      <th>3</th>\n",
       "      <th>4</th>\n",
       "      <th>5</th>\n",
       "      <th>6</th>\n",
       "      <th>7</th>\n",
       "      <th>8</th>\n",
       "      <th>9</th>\n",
       "      <th>...</th>\n",
       "      <th>92</th>\n",
       "      <th>93</th>\n",
       "      <th>94</th>\n",
       "      <th>95</th>\n",
       "      <th>96</th>\n",
       "      <th>97</th>\n",
       "      <th>98</th>\n",
       "      <th>99</th>\n",
       "      <th>100</th>\n",
       "      <th>video</th>\n",
       "    </tr>\n",
       "  </thead>\n",
       "  <tbody>\n",
       "    <tr>\n",
       "      <td>0</td>\n",
       "      <td>0.010858</td>\n",
       "      <td>0.010386</td>\n",
       "      <td>0.000000</td>\n",
       "      <td>0.000000e+00</td>\n",
       "      <td>0.000000e+00</td>\n",
       "      <td>0.000000</td>\n",
       "      <td>2.700000e-07</td>\n",
       "      <td>0.000000</td>\n",
       "      <td>1.000000e-08</td>\n",
       "      <td>3.400000e-07</td>\n",
       "      <td>...</td>\n",
       "      <td>0.000000</td>\n",
       "      <td>0.000000</td>\n",
       "      <td>1.700000e-07</td>\n",
       "      <td>0.000000</td>\n",
       "      <td>0.000000e+00</td>\n",
       "      <td>1.000000e-08</td>\n",
       "      <td>1.300000e-06</td>\n",
       "      <td>2.600000e-06</td>\n",
       "      <td>8.000000e-08</td>\n",
       "      <td>video6632.webm</td>\n",
       "    </tr>\n",
       "    <tr>\n",
       "      <td>1</td>\n",
       "      <td>0.000200</td>\n",
       "      <td>0.000065</td>\n",
       "      <td>0.993807</td>\n",
       "      <td>2.000000e-07</td>\n",
       "      <td>4.700000e-07</td>\n",
       "      <td>0.000073</td>\n",
       "      <td>3.700000e-06</td>\n",
       "      <td>0.000337</td>\n",
       "      <td>6.710000e-06</td>\n",
       "      <td>2.290000e-06</td>\n",
       "      <td>...</td>\n",
       "      <td>0.000010</td>\n",
       "      <td>0.000002</td>\n",
       "      <td>5.800000e-06</td>\n",
       "      <td>0.000001</td>\n",
       "      <td>1.490000e-06</td>\n",
       "      <td>1.170000e-05</td>\n",
       "      <td>1.500000e-07</td>\n",
       "      <td>8.300000e-07</td>\n",
       "      <td>1.060000e-04</td>\n",
       "      <td>video6634.webm</td>\n",
       "    </tr>\n",
       "    <tr>\n",
       "      <td>2</td>\n",
       "      <td>0.000000</td>\n",
       "      <td>0.000000</td>\n",
       "      <td>0.000000</td>\n",
       "      <td>0.000000e+00</td>\n",
       "      <td>0.000000e+00</td>\n",
       "      <td>0.000000</td>\n",
       "      <td>0.000000e+00</td>\n",
       "      <td>0.000000</td>\n",
       "      <td>0.000000e+00</td>\n",
       "      <td>0.000000e+00</td>\n",
       "      <td>...</td>\n",
       "      <td>0.000000</td>\n",
       "      <td>0.000000</td>\n",
       "      <td>0.000000e+00</td>\n",
       "      <td>0.000000</td>\n",
       "      <td>0.000000e+00</td>\n",
       "      <td>0.000000e+00</td>\n",
       "      <td>0.000000e+00</td>\n",
       "      <td>0.000000e+00</td>\n",
       "      <td>7.120000e-06</td>\n",
       "      <td>video6633.webm</td>\n",
       "    </tr>\n",
       "    <tr>\n",
       "      <td>3</td>\n",
       "      <td>0.005959</td>\n",
       "      <td>0.004765</td>\n",
       "      <td>0.003757</td>\n",
       "      <td>5.787100e-04</td>\n",
       "      <td>7.344000e-05</td>\n",
       "      <td>0.000129</td>\n",
       "      <td>4.665300e-04</td>\n",
       "      <td>0.010266</td>\n",
       "      <td>3.028100e-04</td>\n",
       "      <td>2.196500e-04</td>\n",
       "      <td>...</td>\n",
       "      <td>0.003992</td>\n",
       "      <td>0.004137</td>\n",
       "      <td>3.670390e-02</td>\n",
       "      <td>0.000767</td>\n",
       "      <td>3.692100e-04</td>\n",
       "      <td>1.251980e-02</td>\n",
       "      <td>8.422000e-05</td>\n",
       "      <td>1.159825e-02</td>\n",
       "      <td>1.155040e-03</td>\n",
       "      <td>video6645.webm</td>\n",
       "    </tr>\n",
       "    <tr>\n",
       "      <td>4</td>\n",
       "      <td>0.005782</td>\n",
       "      <td>0.000306</td>\n",
       "      <td>0.004011</td>\n",
       "      <td>1.007000e-05</td>\n",
       "      <td>1.034000e-05</td>\n",
       "      <td>0.000002</td>\n",
       "      <td>3.160000e-06</td>\n",
       "      <td>0.000003</td>\n",
       "      <td>1.984000e-05</td>\n",
       "      <td>5.750000e-06</td>\n",
       "      <td>...</td>\n",
       "      <td>0.000002</td>\n",
       "      <td>0.000004</td>\n",
       "      <td>6.818350e-03</td>\n",
       "      <td>0.000005</td>\n",
       "      <td>5.000000e-08</td>\n",
       "      <td>2.088000e-05</td>\n",
       "      <td>1.271750e-03</td>\n",
       "      <td>4.862200e-04</td>\n",
       "      <td>1.965000e-05</td>\n",
       "      <td>video6643.webm</td>\n",
       "    </tr>\n",
       "  </tbody>\n",
       "</table>\n",
       "<p>5 rows × 102 columns</p>\n",
       "</div>"
      ],
      "text/plain": [
       "          0         1         2             3             4         5  \\\n",
       "0  0.010858  0.010386  0.000000  0.000000e+00  0.000000e+00  0.000000   \n",
       "1  0.000200  0.000065  0.993807  2.000000e-07  4.700000e-07  0.000073   \n",
       "2  0.000000  0.000000  0.000000  0.000000e+00  0.000000e+00  0.000000   \n",
       "3  0.005959  0.004765  0.003757  5.787100e-04  7.344000e-05  0.000129   \n",
       "4  0.005782  0.000306  0.004011  1.007000e-05  1.034000e-05  0.000002   \n",
       "\n",
       "              6         7             8             9  ...        92  \\\n",
       "0  2.700000e-07  0.000000  1.000000e-08  3.400000e-07  ...  0.000000   \n",
       "1  3.700000e-06  0.000337  6.710000e-06  2.290000e-06  ...  0.000010   \n",
       "2  0.000000e+00  0.000000  0.000000e+00  0.000000e+00  ...  0.000000   \n",
       "3  4.665300e-04  0.010266  3.028100e-04  2.196500e-04  ...  0.003992   \n",
       "4  3.160000e-06  0.000003  1.984000e-05  5.750000e-06  ...  0.000002   \n",
       "\n",
       "         93            94        95            96            97            98  \\\n",
       "0  0.000000  1.700000e-07  0.000000  0.000000e+00  1.000000e-08  1.300000e-06   \n",
       "1  0.000002  5.800000e-06  0.000001  1.490000e-06  1.170000e-05  1.500000e-07   \n",
       "2  0.000000  0.000000e+00  0.000000  0.000000e+00  0.000000e+00  0.000000e+00   \n",
       "3  0.004137  3.670390e-02  0.000767  3.692100e-04  1.251980e-02  8.422000e-05   \n",
       "4  0.000004  6.818350e-03  0.000005  5.000000e-08  2.088000e-05  1.271750e-03   \n",
       "\n",
       "             99           100           video  \n",
       "0  2.600000e-06  8.000000e-08  video6632.webm  \n",
       "1  8.300000e-07  1.060000e-04  video6634.webm  \n",
       "2  0.000000e+00  7.120000e-06  video6633.webm  \n",
       "3  1.159825e-02  1.155040e-03  video6645.webm  \n",
       "4  4.862200e-04  1.965000e-05  video6643.webm  \n",
       "\n",
       "[5 rows x 102 columns]"
      ]
     },
     "execution_count": 28,
     "metadata": {},
     "output_type": "execute_result"
    }
   ],
   "source": [
    "dataframe_C3D.head()"
   ]
  },
  {
   "cell_type": "markdown",
   "metadata": {
    "colab_type": "text",
    "id": "EDutJ5aQxkur"
   },
   "source": [
    "Merging the above dataset with our previously created dataset, but before we need to change the name of the columns "
   ]
  },
  {
   "cell_type": "code",
   "execution_count": 29,
   "metadata": {
    "colab": {},
    "colab_type": "code",
    "id": "wQnGXWPk0vDL"
   },
   "outputs": [],
   "source": [
    "new_columns = list()\n",
    "for colname in dataframe_C3D.columns:\n",
    "  new_columns.append('C3D_' + str(colname))\n",
    "dataframe_C3D.columns = new_columns\n",
    "dataframe_C3D = dataframe_C3D.rename(columns={'C3D_video':'video'})"
   ]
  },
  {
   "cell_type": "code",
   "execution_count": 30,
   "metadata": {
    "colab": {
     "base_uri": "https://localhost:8080/",
     "height": 338
    },
    "colab_type": "code",
    "id": "zoHZf4p3Axq9",
    "outputId": "cb2e1b3b-0934-4b9f-d83b-ff564d9629be"
   },
   "outputs": [
    {
     "data": {
      "text/html": [
       "<div>\n",
       "<style scoped>\n",
       "    .dataframe tbody tr th:only-of-type {\n",
       "        vertical-align: middle;\n",
       "    }\n",
       "\n",
       "    .dataframe tbody tr th {\n",
       "        vertical-align: top;\n",
       "    }\n",
       "\n",
       "    .dataframe thead th {\n",
       "        text-align: right;\n",
       "    }\n",
       "</style>\n",
       "<table border=\"1\" class=\"dataframe\">\n",
       "  <thead>\n",
       "    <tr style=\"text-align: right;\">\n",
       "      <th></th>\n",
       "      <th>C3D_0</th>\n",
       "      <th>C3D_1</th>\n",
       "      <th>C3D_2</th>\n",
       "      <th>C3D_3</th>\n",
       "      <th>C3D_4</th>\n",
       "      <th>C3D_5</th>\n",
       "      <th>C3D_6</th>\n",
       "      <th>C3D_7</th>\n",
       "      <th>C3D_8</th>\n",
       "      <th>C3D_9</th>\n",
       "      <th>...</th>\n",
       "      <th>C3D_92</th>\n",
       "      <th>C3D_93</th>\n",
       "      <th>C3D_94</th>\n",
       "      <th>C3D_95</th>\n",
       "      <th>C3D_96</th>\n",
       "      <th>C3D_97</th>\n",
       "      <th>C3D_98</th>\n",
       "      <th>C3D_99</th>\n",
       "      <th>C3D_100</th>\n",
       "      <th>video</th>\n",
       "    </tr>\n",
       "  </thead>\n",
       "  <tbody>\n",
       "    <tr>\n",
       "      <td>0</td>\n",
       "      <td>0.010858</td>\n",
       "      <td>0.010386</td>\n",
       "      <td>0.000000</td>\n",
       "      <td>0.000000e+00</td>\n",
       "      <td>0.000000e+00</td>\n",
       "      <td>0.000000</td>\n",
       "      <td>2.700000e-07</td>\n",
       "      <td>0.000000</td>\n",
       "      <td>1.000000e-08</td>\n",
       "      <td>3.400000e-07</td>\n",
       "      <td>...</td>\n",
       "      <td>0.000000</td>\n",
       "      <td>0.000000</td>\n",
       "      <td>1.700000e-07</td>\n",
       "      <td>0.000000</td>\n",
       "      <td>0.000000e+00</td>\n",
       "      <td>1.000000e-08</td>\n",
       "      <td>1.300000e-06</td>\n",
       "      <td>2.600000e-06</td>\n",
       "      <td>8.000000e-08</td>\n",
       "      <td>video6632.webm</td>\n",
       "    </tr>\n",
       "    <tr>\n",
       "      <td>1</td>\n",
       "      <td>0.000200</td>\n",
       "      <td>0.000065</td>\n",
       "      <td>0.993807</td>\n",
       "      <td>2.000000e-07</td>\n",
       "      <td>4.700000e-07</td>\n",
       "      <td>0.000073</td>\n",
       "      <td>3.700000e-06</td>\n",
       "      <td>0.000337</td>\n",
       "      <td>6.710000e-06</td>\n",
       "      <td>2.290000e-06</td>\n",
       "      <td>...</td>\n",
       "      <td>0.000010</td>\n",
       "      <td>0.000002</td>\n",
       "      <td>5.800000e-06</td>\n",
       "      <td>0.000001</td>\n",
       "      <td>1.490000e-06</td>\n",
       "      <td>1.170000e-05</td>\n",
       "      <td>1.500000e-07</td>\n",
       "      <td>8.300000e-07</td>\n",
       "      <td>1.060000e-04</td>\n",
       "      <td>video6634.webm</td>\n",
       "    </tr>\n",
       "    <tr>\n",
       "      <td>2</td>\n",
       "      <td>0.000000</td>\n",
       "      <td>0.000000</td>\n",
       "      <td>0.000000</td>\n",
       "      <td>0.000000e+00</td>\n",
       "      <td>0.000000e+00</td>\n",
       "      <td>0.000000</td>\n",
       "      <td>0.000000e+00</td>\n",
       "      <td>0.000000</td>\n",
       "      <td>0.000000e+00</td>\n",
       "      <td>0.000000e+00</td>\n",
       "      <td>...</td>\n",
       "      <td>0.000000</td>\n",
       "      <td>0.000000</td>\n",
       "      <td>0.000000e+00</td>\n",
       "      <td>0.000000</td>\n",
       "      <td>0.000000e+00</td>\n",
       "      <td>0.000000e+00</td>\n",
       "      <td>0.000000e+00</td>\n",
       "      <td>0.000000e+00</td>\n",
       "      <td>7.120000e-06</td>\n",
       "      <td>video6633.webm</td>\n",
       "    </tr>\n",
       "    <tr>\n",
       "      <td>3</td>\n",
       "      <td>0.005959</td>\n",
       "      <td>0.004765</td>\n",
       "      <td>0.003757</td>\n",
       "      <td>5.787100e-04</td>\n",
       "      <td>7.344000e-05</td>\n",
       "      <td>0.000129</td>\n",
       "      <td>4.665300e-04</td>\n",
       "      <td>0.010266</td>\n",
       "      <td>3.028100e-04</td>\n",
       "      <td>2.196500e-04</td>\n",
       "      <td>...</td>\n",
       "      <td>0.003992</td>\n",
       "      <td>0.004137</td>\n",
       "      <td>3.670390e-02</td>\n",
       "      <td>0.000767</td>\n",
       "      <td>3.692100e-04</td>\n",
       "      <td>1.251980e-02</td>\n",
       "      <td>8.422000e-05</td>\n",
       "      <td>1.159825e-02</td>\n",
       "      <td>1.155040e-03</td>\n",
       "      <td>video6645.webm</td>\n",
       "    </tr>\n",
       "    <tr>\n",
       "      <td>4</td>\n",
       "      <td>0.005782</td>\n",
       "      <td>0.000306</td>\n",
       "      <td>0.004011</td>\n",
       "      <td>1.007000e-05</td>\n",
       "      <td>1.034000e-05</td>\n",
       "      <td>0.000002</td>\n",
       "      <td>3.160000e-06</td>\n",
       "      <td>0.000003</td>\n",
       "      <td>1.984000e-05</td>\n",
       "      <td>5.750000e-06</td>\n",
       "      <td>...</td>\n",
       "      <td>0.000002</td>\n",
       "      <td>0.000004</td>\n",
       "      <td>6.818350e-03</td>\n",
       "      <td>0.000005</td>\n",
       "      <td>5.000000e-08</td>\n",
       "      <td>2.088000e-05</td>\n",
       "      <td>1.271750e-03</td>\n",
       "      <td>4.862200e-04</td>\n",
       "      <td>1.965000e-05</td>\n",
       "      <td>video6643.webm</td>\n",
       "    </tr>\n",
       "  </tbody>\n",
       "</table>\n",
       "<p>5 rows × 102 columns</p>\n",
       "</div>"
      ],
      "text/plain": [
       "      C3D_0     C3D_1     C3D_2         C3D_3         C3D_4     C3D_5  \\\n",
       "0  0.010858  0.010386  0.000000  0.000000e+00  0.000000e+00  0.000000   \n",
       "1  0.000200  0.000065  0.993807  2.000000e-07  4.700000e-07  0.000073   \n",
       "2  0.000000  0.000000  0.000000  0.000000e+00  0.000000e+00  0.000000   \n",
       "3  0.005959  0.004765  0.003757  5.787100e-04  7.344000e-05  0.000129   \n",
       "4  0.005782  0.000306  0.004011  1.007000e-05  1.034000e-05  0.000002   \n",
       "\n",
       "          C3D_6     C3D_7         C3D_8         C3D_9  ...    C3D_92  \\\n",
       "0  2.700000e-07  0.000000  1.000000e-08  3.400000e-07  ...  0.000000   \n",
       "1  3.700000e-06  0.000337  6.710000e-06  2.290000e-06  ...  0.000010   \n",
       "2  0.000000e+00  0.000000  0.000000e+00  0.000000e+00  ...  0.000000   \n",
       "3  4.665300e-04  0.010266  3.028100e-04  2.196500e-04  ...  0.003992   \n",
       "4  3.160000e-06  0.000003  1.984000e-05  5.750000e-06  ...  0.000002   \n",
       "\n",
       "     C3D_93        C3D_94    C3D_95        C3D_96        C3D_97        C3D_98  \\\n",
       "0  0.000000  1.700000e-07  0.000000  0.000000e+00  1.000000e-08  1.300000e-06   \n",
       "1  0.000002  5.800000e-06  0.000001  1.490000e-06  1.170000e-05  1.500000e-07   \n",
       "2  0.000000  0.000000e+00  0.000000  0.000000e+00  0.000000e+00  0.000000e+00   \n",
       "3  0.004137  3.670390e-02  0.000767  3.692100e-04  1.251980e-02  8.422000e-05   \n",
       "4  0.000004  6.818350e-03  0.000005  5.000000e-08  2.088000e-05  1.271750e-03   \n",
       "\n",
       "         C3D_99       C3D_100           video  \n",
       "0  2.600000e-06  8.000000e-08  video6632.webm  \n",
       "1  8.300000e-07  1.060000e-04  video6634.webm  \n",
       "2  0.000000e+00  7.120000e-06  video6633.webm  \n",
       "3  1.159825e-02  1.155040e-03  video6645.webm  \n",
       "4  4.862200e-04  1.965000e-05  video6643.webm  \n",
       "\n",
       "[5 rows x 102 columns]"
      ]
     },
     "execution_count": 30,
     "metadata": {},
     "output_type": "execute_result"
    }
   ],
   "source": [
    "dataframe_C3D.head()"
   ]
  },
  {
   "cell_type": "code",
   "execution_count": 31,
   "metadata": {
    "colab": {},
    "colab_type": "code",
    "id": "Z7hcepGXxpUA"
   },
   "outputs": [],
   "source": [
    "merged_dataset = merged_dataset.merge(dataframe_C3D)"
   ]
  },
  {
   "cell_type": "code",
   "execution_count": 32,
   "metadata": {
    "colab": {
     "base_uri": "https://localhost:8080/",
     "height": 525
    },
    "colab_type": "code",
    "id": "1HAjpuZpx0el",
    "outputId": "c85420dd-b023-4365-85c8-682ec026af2e"
   },
   "outputs": [
    {
     "data": {
      "text/html": [
       "<div>\n",
       "<style scoped>\n",
       "    .dataframe tbody tr th:only-of-type {\n",
       "        vertical-align: middle;\n",
       "    }\n",
       "\n",
       "    .dataframe tbody tr th {\n",
       "        vertical-align: top;\n",
       "    }\n",
       "\n",
       "    .dataframe thead th {\n",
       "        text-align: right;\n",
       "    }\n",
       "</style>\n",
       "<table border=\"1\" class=\"dataframe\">\n",
       "  <thead>\n",
       "    <tr style=\"text-align: right;\">\n",
       "      <th></th>\n",
       "      <th>video</th>\n",
       "      <th>short-term_memorability</th>\n",
       "      <th>nb_short-term_annotations</th>\n",
       "      <th>long-term_memorability</th>\n",
       "      <th>nb_long-term_annotations</th>\n",
       "      <th>caption</th>\n",
       "      <th>AES_0</th>\n",
       "      <th>AES_1</th>\n",
       "      <th>AES_2</th>\n",
       "      <th>AES_3</th>\n",
       "      <th>...</th>\n",
       "      <th>C3D_91</th>\n",
       "      <th>C3D_92</th>\n",
       "      <th>C3D_93</th>\n",
       "      <th>C3D_94</th>\n",
       "      <th>C3D_95</th>\n",
       "      <th>C3D_96</th>\n",
       "      <th>C3D_97</th>\n",
       "      <th>C3D_98</th>\n",
       "      <th>C3D_99</th>\n",
       "      <th>C3D_100</th>\n",
       "    </tr>\n",
       "  </thead>\n",
       "  <tbody>\n",
       "    <tr>\n",
       "      <td>0</td>\n",
       "      <td>video3.webm</td>\n",
       "      <td>0.924</td>\n",
       "      <td>34</td>\n",
       "      <td>0.846</td>\n",
       "      <td>13</td>\n",
       "      <td>blonde-woman-is-massaged-tilt-down</td>\n",
       "      <td>0.180874</td>\n",
       "      <td>0.715626</td>\n",
       "      <td>0.198930</td>\n",
       "      <td>0.610453</td>\n",
       "      <td>...</td>\n",
       "      <td>0.001042</td>\n",
       "      <td>0.000161</td>\n",
       "      <td>0.000257</td>\n",
       "      <td>0.046617</td>\n",
       "      <td>0.000156</td>\n",
       "      <td>0.000006</td>\n",
       "      <td>0.000537</td>\n",
       "      <td>0.000339</td>\n",
       "      <td>0.008437</td>\n",
       "      <td>0.000470</td>\n",
       "    </tr>\n",
       "    <tr>\n",
       "      <td>1</td>\n",
       "      <td>video4.webm</td>\n",
       "      <td>0.923</td>\n",
       "      <td>33</td>\n",
       "      <td>0.667</td>\n",
       "      <td>12</td>\n",
       "      <td>roulette-table-spinning-with-ball-in-closeup-shot</td>\n",
       "      <td>0.146076</td>\n",
       "      <td>0.550070</td>\n",
       "      <td>0.460729</td>\n",
       "      <td>0.424397</td>\n",
       "      <td>...</td>\n",
       "      <td>0.000582</td>\n",
       "      <td>0.000393</td>\n",
       "      <td>0.000864</td>\n",
       "      <td>0.000947</td>\n",
       "      <td>0.000136</td>\n",
       "      <td>0.000007</td>\n",
       "      <td>0.000360</td>\n",
       "      <td>0.000159</td>\n",
       "      <td>0.001025</td>\n",
       "      <td>0.000020</td>\n",
       "    </tr>\n",
       "    <tr>\n",
       "      <td>2</td>\n",
       "      <td>video6.webm</td>\n",
       "      <td>0.863</td>\n",
       "      <td>33</td>\n",
       "      <td>0.700</td>\n",
       "      <td>10</td>\n",
       "      <td>khr-gangsters</td>\n",
       "      <td>0.063898</td>\n",
       "      <td>0.827439</td>\n",
       "      <td>0.211925</td>\n",
       "      <td>0.720297</td>\n",
       "      <td>...</td>\n",
       "      <td>0.000224</td>\n",
       "      <td>0.000003</td>\n",
       "      <td>0.000031</td>\n",
       "      <td>0.002538</td>\n",
       "      <td>0.000104</td>\n",
       "      <td>0.000005</td>\n",
       "      <td>0.000064</td>\n",
       "      <td>0.005380</td>\n",
       "      <td>0.001027</td>\n",
       "      <td>0.001384</td>\n",
       "    </tr>\n",
       "    <tr>\n",
       "      <td>3</td>\n",
       "      <td>video8.webm</td>\n",
       "      <td>0.922</td>\n",
       "      <td>33</td>\n",
       "      <td>0.818</td>\n",
       "      <td>11</td>\n",
       "      <td>medical-helicopter-hovers-at-airport</td>\n",
       "      <td>0.380539</td>\n",
       "      <td>0.134683</td>\n",
       "      <td>0.746891</td>\n",
       "      <td>0.171604</td>\n",
       "      <td>...</td>\n",
       "      <td>0.000046</td>\n",
       "      <td>0.000009</td>\n",
       "      <td>0.000023</td>\n",
       "      <td>0.000053</td>\n",
       "      <td>0.000048</td>\n",
       "      <td>0.000019</td>\n",
       "      <td>0.000001</td>\n",
       "      <td>0.000004</td>\n",
       "      <td>0.000380</td>\n",
       "      <td>0.000029</td>\n",
       "    </tr>\n",
       "    <tr>\n",
       "      <td>4</td>\n",
       "      <td>video10.webm</td>\n",
       "      <td>0.950</td>\n",
       "      <td>34</td>\n",
       "      <td>0.900</td>\n",
       "      <td>10</td>\n",
       "      <td>couple-relaxing-on-picnic-crane-shot</td>\n",
       "      <td>0.427258</td>\n",
       "      <td>0.381448</td>\n",
       "      <td>0.582746</td>\n",
       "      <td>0.409475</td>\n",
       "      <td>...</td>\n",
       "      <td>0.000037</td>\n",
       "      <td>0.000690</td>\n",
       "      <td>0.000171</td>\n",
       "      <td>0.000231</td>\n",
       "      <td>0.000637</td>\n",
       "      <td>0.000040</td>\n",
       "      <td>0.000061</td>\n",
       "      <td>0.000075</td>\n",
       "      <td>0.000002</td>\n",
       "      <td>0.001323</td>\n",
       "    </tr>\n",
       "  </tbody>\n",
       "</table>\n",
       "<p>5 rows × 216 columns</p>\n",
       "</div>"
      ],
      "text/plain": [
       "          video  short-term_memorability  nb_short-term_annotations  \\\n",
       "0   video3.webm                    0.924                         34   \n",
       "1   video4.webm                    0.923                         33   \n",
       "2   video6.webm                    0.863                         33   \n",
       "3   video8.webm                    0.922                         33   \n",
       "4  video10.webm                    0.950                         34   \n",
       "\n",
       "   long-term_memorability  nb_long-term_annotations  \\\n",
       "0                   0.846                        13   \n",
       "1                   0.667                        12   \n",
       "2                   0.700                        10   \n",
       "3                   0.818                        11   \n",
       "4                   0.900                        10   \n",
       "\n",
       "                                             caption     AES_0     AES_1  \\\n",
       "0                 blonde-woman-is-massaged-tilt-down  0.180874  0.715626   \n",
       "1  roulette-table-spinning-with-ball-in-closeup-shot  0.146076  0.550070   \n",
       "2                                      khr-gangsters  0.063898  0.827439   \n",
       "3               medical-helicopter-hovers-at-airport  0.380539  0.134683   \n",
       "4               couple-relaxing-on-picnic-crane-shot  0.427258  0.381448   \n",
       "\n",
       "      AES_2     AES_3  ...    C3D_91    C3D_92    C3D_93    C3D_94    C3D_95  \\\n",
       "0  0.198930  0.610453  ...  0.001042  0.000161  0.000257  0.046617  0.000156   \n",
       "1  0.460729  0.424397  ...  0.000582  0.000393  0.000864  0.000947  0.000136   \n",
       "2  0.211925  0.720297  ...  0.000224  0.000003  0.000031  0.002538  0.000104   \n",
       "3  0.746891  0.171604  ...  0.000046  0.000009  0.000023  0.000053  0.000048   \n",
       "4  0.582746  0.409475  ...  0.000037  0.000690  0.000171  0.000231  0.000637   \n",
       "\n",
       "     C3D_96    C3D_97    C3D_98    C3D_99   C3D_100  \n",
       "0  0.000006  0.000537  0.000339  0.008437  0.000470  \n",
       "1  0.000007  0.000360  0.000159  0.001025  0.000020  \n",
       "2  0.000005  0.000064  0.005380  0.001027  0.001384  \n",
       "3  0.000019  0.000001  0.000004  0.000380  0.000029  \n",
       "4  0.000040  0.000061  0.000075  0.000002  0.001323  \n",
       "\n",
       "[5 rows x 216 columns]"
      ]
     },
     "execution_count": 32,
     "metadata": {},
     "output_type": "execute_result"
    }
   ],
   "source": [
    "merged_dataset.head()"
   ]
  },
  {
   "cell_type": "markdown",
   "metadata": {
    "colab_type": "text",
    "id": "2d1BTxa64TTj"
   },
   "source": [
    "Now that we have our final merged dataset, we need to extract features from it. Since we cannot input text directly into our model, we need to first convert this text into numerical form\n"
   ]
  },
  {
   "cell_type": "markdown",
   "metadata": {
    "colab_type": "text",
    "id": "g3zJOcCWm58g"
   },
   "source": [
    "### Converting Captions into Features"
   ]
  },
  {
   "cell_type": "markdown",
   "metadata": {
    "colab_type": "text",
    "id": "i0f8A4QC6TTk"
   },
   "source": [
    "Lets begin with cleaning our data.\n",
    "\n",
    "Converting the captions into lowercase"
   ]
  },
  {
   "cell_type": "code",
   "execution_count": 33,
   "metadata": {
    "colab": {},
    "colab_type": "code",
    "id": "RTBEw650l9rw"
   },
   "outputs": [],
   "source": [
    "merged_dataset['caption'] = merged_dataset['caption'].apply(lambda x: \" \".join(x.lower() for x in x.split()))"
   ]
  },
  {
   "cell_type": "code",
   "execution_count": 34,
   "metadata": {
    "colab": {
     "base_uri": "https://localhost:8080/",
     "height": 119
    },
    "colab_type": "code",
    "id": "F1i0wn2knlIr",
    "outputId": "f4053a95-49b3-43c6-8a12-6b9bc06b4c6f"
   },
   "outputs": [
    {
     "data": {
      "text/plain": [
       "0                   blonde-woman-is-massaged-tilt-down\n",
       "1    roulette-table-spinning-with-ball-in-closeup-shot\n",
       "2                                        khr-gangsters\n",
       "3                 medical-helicopter-hovers-at-airport\n",
       "4                 couple-relaxing-on-picnic-crane-shot\n",
       "Name: caption, dtype: object"
      ]
     },
     "execution_count": 34,
     "metadata": {},
     "output_type": "execute_result"
    }
   ],
   "source": [
    "merged_dataset['caption'].head()"
   ]
  },
  {
   "cell_type": "markdown",
   "metadata": {
    "colab_type": "text",
    "id": "19Nf9iuS6crY"
   },
   "source": [
    "we can see that our text is '-' separated, we need to replace it with ' '  for better evaluation"
   ]
  },
  {
   "cell_type": "code",
   "execution_count": 35,
   "metadata": {
    "colab": {},
    "colab_type": "code",
    "id": "-URaLWP1oUEK"
   },
   "outputs": [],
   "source": [
    "merged_dataset['caption'] = merged_dataset['caption'].str.replace('-',' ')"
   ]
  },
  {
   "cell_type": "code",
   "execution_count": 36,
   "metadata": {
    "colab": {
     "base_uri": "https://localhost:8080/",
     "height": 119
    },
    "colab_type": "code",
    "id": "ZIYcOQ5UoYLw",
    "outputId": "12b173d3-24a6-4b68-9deb-c7b35d756d29"
   },
   "outputs": [
    {
     "data": {
      "text/plain": [
       "0                   blonde woman is massaged tilt down\n",
       "1    roulette table spinning with ball in closeup shot\n",
       "2                                        khr gangsters\n",
       "3                 medical helicopter hovers at airport\n",
       "4                 couple relaxing on picnic crane shot\n",
       "Name: caption, dtype: object"
      ]
     },
     "execution_count": 36,
     "metadata": {},
     "output_type": "execute_result"
    }
   ],
   "source": [
    "merged_dataset['caption'].head()"
   ]
  },
  {
   "cell_type": "markdown",
   "metadata": {
    "colab_type": "text",
    "id": "j33hRYuG6luR"
   },
   "source": [
    "Let us remove all the punctuations from our captions "
   ]
  },
  {
   "cell_type": "code",
   "execution_count": 37,
   "metadata": {
    "colab": {},
    "colab_type": "code",
    "id": "nlJ7oglZnvwG"
   },
   "outputs": [],
   "source": [
    "#Removal of punctuations \n",
    "merged_dataset['caption'] = merged_dataset['caption'].str.replace('[^\\w\\s]','')"
   ]
  },
  {
   "cell_type": "code",
   "execution_count": 38,
   "metadata": {
    "colab": {
     "base_uri": "https://localhost:8080/",
     "height": 119
    },
    "colab_type": "code",
    "id": "SmqQTw9kn2rz",
    "outputId": "5d111cb1-2996-4134-acc4-7211850ed7ba"
   },
   "outputs": [
    {
     "data": {
      "text/plain": [
       "0                   blonde woman is massaged tilt down\n",
       "1    roulette table spinning with ball in closeup shot\n",
       "2                                        khr gangsters\n",
       "3                 medical helicopter hovers at airport\n",
       "4                 couple relaxing on picnic crane shot\n",
       "Name: caption, dtype: object"
      ]
     },
     "execution_count": 38,
     "metadata": {},
     "output_type": "execute_result"
    }
   ],
   "source": [
    "merged_dataset['caption'].head()"
   ]
  },
  {
   "cell_type": "markdown",
   "metadata": {
    "colab_type": "text",
    "id": "Pnvn3QNq6uaY"
   },
   "source": [
    "Removing stop words from our dataset"
   ]
  },
  {
   "cell_type": "code",
   "execution_count": 39,
   "metadata": {
    "colab": {
     "base_uri": "https://localhost:8080/",
     "height": 119
    },
    "colab_type": "code",
    "id": "Jga_Tm_dob--",
    "outputId": "22da91c2-ffdf-4559-88e1-b4cbe2cdf01e"
   },
   "outputs": [
    {
     "data": {
      "text/plain": [
       "0                   blonde woman massaged tilt\n",
       "1    roulette table spinning ball closeup shot\n",
       "2                                khr gangsters\n",
       "3            medical helicopter hovers airport\n",
       "4            couple relaxing picnic crane shot\n",
       "Name: caption, dtype: object"
      ]
     },
     "execution_count": 39,
     "metadata": {},
     "output_type": "execute_result"
    }
   ],
   "source": [
    "#Removal of stop words\n",
    "stop = stopwords.words('english')\n",
    "merged_dataset['caption'] = merged_dataset['caption'].apply(lambda x: \" \".join(x for x in x.split() if x not in stop))\n",
    "merged_dataset['caption'].head()"
   ]
  },
  {
   "cell_type": "markdown",
   "metadata": {
    "colab_type": "text",
    "id": "4d5TTXkG6zdR"
   },
   "source": [
    "Let us now lematize our captions, this will transform all words into their root form, such that the meaning of the word is retained as well as number of fetaures is reduced"
   ]
  },
  {
   "cell_type": "code",
   "execution_count": 40,
   "metadata": {
    "colab": {
     "base_uri": "https://localhost:8080/",
     "height": 119
    },
    "colab_type": "code",
    "id": "PDnquYkRqHAJ",
    "outputId": "4989ec74-03f1-4f1a-a0bc-c74d6cd63037"
   },
   "outputs": [
    {
     "data": {
      "text/plain": [
       "0                   blonde woman massaged tilt\n",
       "1    roulette table spinning ball closeup shot\n",
       "2                                 khr gangster\n",
       "3            medical helicopter hovers airport\n",
       "4            couple relaxing picnic crane shot\n",
       "Name: caption, dtype: object"
      ]
     },
     "execution_count": 40,
     "metadata": {},
     "output_type": "execute_result"
    }
   ],
   "source": [
    "#Lemmatizing our captions \n",
    "lemmatizer = WordNetLemmatizer() \n",
    "merged_dataset['caption'] = merged_dataset['caption'].apply(lambda x: \" \".join([lemmatizer.lemmatize(word) for word in x.split()]))\n",
    "merged_dataset['caption'].head()"
   ]
  },
  {
   "cell_type": "markdown",
   "metadata": {
    "colab_type": "text",
    "id": "ijMKLQ9w8Ms_"
   },
   "source": [
    "Removing digits from our data "
   ]
  },
  {
   "cell_type": "code",
   "execution_count": 41,
   "metadata": {
    "colab": {},
    "colab_type": "code",
    "id": "Bs2XsXDN8MTp"
   },
   "outputs": [],
   "source": [
    "merged_dataset['caption'] = merged_dataset['caption'].str.replace('[0-9]','')"
   ]
  },
  {
   "cell_type": "code",
   "execution_count": 42,
   "metadata": {
    "colab": {
     "base_uri": "https://localhost:8080/",
     "height": 119
    },
    "colab_type": "code",
    "id": "VBK1ectY-jzL",
    "outputId": "8fbab5f0-a1eb-4564-beb4-6edff91e045f"
   },
   "outputs": [
    {
     "data": {
      "text/plain": [
       "0                   blonde woman massaged tilt\n",
       "1    roulette table spinning ball closeup shot\n",
       "2                                 khr gangster\n",
       "3            medical helicopter hovers airport\n",
       "4            couple relaxing picnic crane shot\n",
       "Name: caption, dtype: object"
      ]
     },
     "execution_count": 42,
     "metadata": {},
     "output_type": "execute_result"
    }
   ],
   "source": [
    "merged_dataset['caption'].head()"
   ]
  },
  {
   "cell_type": "markdown",
   "metadata": {
    "colab_type": "text",
    "id": "1GOCRl_m5zdQ"
   },
   "source": [
    "All the above steps can be encapsulated into a function, which can be  used later on our test data "
   ]
  },
  {
   "cell_type": "code",
   "execution_count": 43,
   "metadata": {
    "colab": {},
    "colab_type": "code",
    "id": "CtLtQ2HO56Av"
   },
   "outputs": [],
   "source": [
    "def cleaning_captions(merged_dataset):\n",
    "  merged_dataset['caption'] = merged_dataset['caption'].apply(lambda x: \" \".join(x.lower() for x in x.split()))\n",
    "  merged_dataset['caption'] = merged_dataset['caption'].str.replace('-',' ')\n",
    "  merged_dataset['caption'] = merged_dataset['caption'].str.replace('[^\\w\\s]','')\n",
    "  stop = stopwords.words('english')\n",
    "  merged_dataset['caption'] = merged_dataset['caption'].apply(lambda x: \" \".join(x for x in x.split() if x not in stop))\n",
    "  lemmatizer = WordNetLemmatizer() \n",
    "  merged_dataset['caption'] = merged_dataset['caption'].apply(lambda x: \" \".join([lemmatizer.lemmatize(word) for word in x.split()]))\n",
    "  merged_dataset['caption'] = merged_dataset['caption'].str.replace('[0-9]','')\n",
    "  return merged_dataset['caption']"
   ]
  },
  {
   "cell_type": "markdown",
   "metadata": {
    "colab_type": "text",
    "id": "bCZPigrveGdX"
   },
   "source": [
    "## Exploratory Data Analysis "
   ]
  },
  {
   "cell_type": "markdown",
   "metadata": {
    "colab_type": "text",
    "id": "c8gtxXKXd5A1"
   },
   "source": [
    "Now that we have our dataset ready, Let us perform some data exploration activities"
   ]
  },
  {
   "cell_type": "markdown",
   "metadata": {
    "colab_type": "text",
    "id": "r5dsaBrCh96u"
   },
   "source": [
    "Let's see the top 10 video captions with highest short term memoribility"
   ]
  },
  {
   "cell_type": "code",
   "execution_count": 44,
   "metadata": {
    "colab": {
     "base_uri": "https://localhost:8080/",
     "height": 359
    },
    "colab_type": "code",
    "id": "un21w3Sdd4du",
    "outputId": "1681e500-04c3-4932-ca3d-f7b558b85ca9"
   },
   "outputs": [
    {
     "data": {
      "text/html": [
       "<div>\n",
       "<style scoped>\n",
       "    .dataframe tbody tr th:only-of-type {\n",
       "        vertical-align: middle;\n",
       "    }\n",
       "\n",
       "    .dataframe tbody tr th {\n",
       "        vertical-align: top;\n",
       "    }\n",
       "\n",
       "    .dataframe thead th {\n",
       "        text-align: right;\n",
       "    }\n",
       "</style>\n",
       "<table border=\"1\" class=\"dataframe\">\n",
       "  <thead>\n",
       "    <tr style=\"text-align: right;\">\n",
       "      <th></th>\n",
       "      <th>caption</th>\n",
       "      <th>short-term_memorability</th>\n",
       "    </tr>\n",
       "  </thead>\n",
       "  <tbody>\n",
       "    <tr>\n",
       "      <td>651</td>\n",
       "      <td>camera move beared man shovel taking breather ...</td>\n",
       "      <td>0.989</td>\n",
       "    </tr>\n",
       "    <tr>\n",
       "      <td>3910</td>\n",
       "      <td>mather daughter enjoying movie tablet</td>\n",
       "      <td>0.987</td>\n",
       "    </tr>\n",
       "    <tr>\n",
       "      <td>1599</td>\n",
       "      <td>happy stylish elegant young couple welcoming n...</td>\n",
       "      <td>0.987</td>\n",
       "    </tr>\n",
       "    <tr>\n",
       "      <td>1903</td>\n",
       "      <td>head big yellow eel</td>\n",
       "      <td>0.986</td>\n",
       "    </tr>\n",
       "    <tr>\n",
       "      <td>2089</td>\n",
       "      <td>funny little boy sitting desk eating apple dra...</td>\n",
       "      <td>0.986</td>\n",
       "    </tr>\n",
       "    <tr>\n",
       "      <td>4024</td>\n",
       "      <td>khr western unloadinggun</td>\n",
       "      <td>0.986</td>\n",
       "    </tr>\n",
       "    <tr>\n",
       "      <td>1771</td>\n",
       "      <td>astronaut outer space backdrop planet earth el...</td>\n",
       "      <td>0.986</td>\n",
       "    </tr>\n",
       "    <tr>\n",
       "      <td>4880</td>\n",
       "      <td>young asian woman snowfall slowmotion</td>\n",
       "      <td>0.986</td>\n",
       "    </tr>\n",
       "    <tr>\n",
       "      <td>4969</td>\n",
       "      <td>giraffe fighting</td>\n",
       "      <td>0.985</td>\n",
       "    </tr>\n",
       "    <tr>\n",
       "      <td>3531</td>\n",
       "      <td>runner woman running park exercising outdoors ...</td>\n",
       "      <td>0.985</td>\n",
       "    </tr>\n",
       "  </tbody>\n",
       "</table>\n",
       "</div>"
      ],
      "text/plain": [
       "                                                caption  \\\n",
       "651   camera move beared man shovel taking breather ...   \n",
       "3910              mather daughter enjoying movie tablet   \n",
       "1599  happy stylish elegant young couple welcoming n...   \n",
       "1903                                head big yellow eel   \n",
       "2089  funny little boy sitting desk eating apple dra...   \n",
       "4024                           khr western unloadinggun   \n",
       "1771  astronaut outer space backdrop planet earth el...   \n",
       "4880              young asian woman snowfall slowmotion   \n",
       "4969                                   giraffe fighting   \n",
       "3531  runner woman running park exercising outdoors ...   \n",
       "\n",
       "      short-term_memorability  \n",
       "651                     0.989  \n",
       "3910                    0.987  \n",
       "1599                    0.987  \n",
       "1903                    0.986  \n",
       "2089                    0.986  \n",
       "4024                    0.986  \n",
       "1771                    0.986  \n",
       "4880                    0.986  \n",
       "4969                    0.985  \n",
       "3531                    0.985  "
      ]
     },
     "execution_count": 44,
     "metadata": {},
     "output_type": "execute_result"
    }
   ],
   "source": [
    "merged_dataset.sort_values('short-term_memorability',ascending=False)[['caption','short-term_memorability']].head(10)"
   ]
  },
  {
   "cell_type": "markdown",
   "metadata": {
    "colab_type": "text",
    "id": "7CNqEx_FiHA_"
   },
   "source": [
    "Let's see the top 10 video captions with highest long term memoribility"
   ]
  },
  {
   "cell_type": "code",
   "execution_count": 45,
   "metadata": {
    "colab": {
     "base_uri": "https://localhost:8080/",
     "height": 359
    },
    "colab_type": "code",
    "id": "avrgyLQwiN75",
    "outputId": "787a9382-f3e3-4135-e9d8-dd91628b7bcc"
   },
   "outputs": [
    {
     "data": {
      "text/html": [
       "<div>\n",
       "<style scoped>\n",
       "    .dataframe tbody tr th:only-of-type {\n",
       "        vertical-align: middle;\n",
       "    }\n",
       "\n",
       "    .dataframe tbody tr th {\n",
       "        vertical-align: top;\n",
       "    }\n",
       "\n",
       "    .dataframe thead th {\n",
       "        text-align: right;\n",
       "    }\n",
       "</style>\n",
       "<table border=\"1\" class=\"dataframe\">\n",
       "  <thead>\n",
       "    <tr style=\"text-align: right;\">\n",
       "      <th></th>\n",
       "      <th>caption</th>\n",
       "      <th>long-term_memorability</th>\n",
       "    </tr>\n",
       "  </thead>\n",
       "  <tbody>\n",
       "    <tr>\n",
       "      <td>4304</td>\n",
       "      <td>nurse moving patient one another</td>\n",
       "      <td>1.0</td>\n",
       "    </tr>\n",
       "    <tr>\n",
       "      <td>4361</td>\n",
       "      <td>cute blond woman lifestyle scene white luxury ...</td>\n",
       "      <td>1.0</td>\n",
       "    </tr>\n",
       "    <tr>\n",
       "      <td>424</td>\n",
       "      <td>female doctor showing patient x ray chest usin...</td>\n",
       "      <td>1.0</td>\n",
       "    </tr>\n",
       "    <tr>\n",
       "      <td>1253</td>\n",
       "      <td>people walking snowy street</td>\n",
       "      <td>1.0</td>\n",
       "    </tr>\n",
       "    <tr>\n",
       "      <td>1247</td>\n",
       "      <td>kitten playing string</td>\n",
       "      <td>1.0</td>\n",
       "    </tr>\n",
       "    <tr>\n",
       "      <td>4396</td>\n",
       "      <td>father little son running along beach playing ...</td>\n",
       "      <td>1.0</td>\n",
       "    </tr>\n",
       "    <tr>\n",
       "      <td>2735</td>\n",
       "      <td>giraffe fighting</td>\n",
       "      <td>1.0</td>\n",
       "    </tr>\n",
       "    <tr>\n",
       "      <td>432</td>\n",
       "      <td>mother daughter drinking healthy juice looking...</td>\n",
       "      <td>1.0</td>\n",
       "    </tr>\n",
       "    <tr>\n",
       "      <td>434</td>\n",
       "      <td>scientist us pipette transfer sample</td>\n",
       "      <td>1.0</td>\n",
       "    </tr>\n",
       "    <tr>\n",
       "      <td>4409</td>\n",
       "      <td>young couple playing son seaside swinging air ...</td>\n",
       "      <td>1.0</td>\n",
       "    </tr>\n",
       "  </tbody>\n",
       "</table>\n",
       "</div>"
      ],
      "text/plain": [
       "                                                caption  \\\n",
       "4304                   nurse moving patient one another   \n",
       "4361  cute blond woman lifestyle scene white luxury ...   \n",
       "424   female doctor showing patient x ray chest usin...   \n",
       "1253                        people walking snowy street   \n",
       "1247                              kitten playing string   \n",
       "4396  father little son running along beach playing ...   \n",
       "2735                                   giraffe fighting   \n",
       "432   mother daughter drinking healthy juice looking...   \n",
       "434                scientist us pipette transfer sample   \n",
       "4409  young couple playing son seaside swinging air ...   \n",
       "\n",
       "      long-term_memorability  \n",
       "4304                     1.0  \n",
       "4361                     1.0  \n",
       "424                      1.0  \n",
       "1253                     1.0  \n",
       "1247                     1.0  \n",
       "4396                     1.0  \n",
       "2735                     1.0  \n",
       "432                      1.0  \n",
       "434                      1.0  \n",
       "4409                     1.0  "
      ]
     },
     "execution_count": 45,
     "metadata": {},
     "output_type": "execute_result"
    }
   ],
   "source": [
    "merged_dataset.sort_values('long-term_memorability',ascending=False)[['caption','long-term_memorability']].head(10)"
   ]
  },
  {
   "cell_type": "markdown",
   "metadata": {
    "colab_type": "text",
    "id": "cFZGSq1EivTK"
   },
   "source": [
    "Let's compare the words that have been used for reviews with high memoribility for short term and low memoribility for short term"
   ]
  },
  {
   "cell_type": "code",
   "execution_count": 46,
   "metadata": {
    "colab": {
     "base_uri": "https://localhost:8080/",
     "height": 421
    },
    "colab_type": "code",
    "id": "FIzjeicQitQ0",
    "outputId": "128fb709-cdcd-49d1-8c19-d42e30503119"
   },
   "outputs": [
    {
     "data": {
      "image/png": "[encoded data removed]",
      "text/plain": [
       "<Figure size 432x288 with 1 Axes>"
      ]
     },
     "metadata": {
      "needs_background": "light"
     },
     "output_type": "display_data"
    },
    {
     "data": {
      "image/png": "[encoded data removed]",
      "text/plain": [
       "<Figure size 432x288 with 1 Axes>"
      ]
     },
     "metadata": {
      "needs_background": "light"
     },
     "output_type": "display_data"
    }
   ],
   "source": [
    "word_string=\" \".join(merged_dataset.sort_values('short-term_memorability', ascending=False)[['caption']].head(50)['caption'].str.lower())\n",
    "wordcloud = WordCloud(stopwords=STOPWORDS,\n",
    "                          background_color='white', \n",
    "                      max_words=50, color_func=(lambda *args, **kwargs: (0,128,0))\n",
    "                         ).generate(word_string)\n",
    "plt.clf()\n",
    "plt.imshow(wordcloud)\n",
    "plt.axis('off')\n",
    "plt.show()\n",
    "\n",
    "word_string=\" \".join(merged_dataset.sort_values('short-term_memorability')[['caption']].head(50)['caption'].str.lower())\n",
    "wordcloud = WordCloud(stopwords=STOPWORDS,\n",
    "                          background_color='white', \n",
    "                      max_words=50, color_func=(lambda *args, **kwargs: (255,0,0))\n",
    "                         ).generate(word_string)\n",
    "plt.clf()\n",
    "plt.imshow(wordcloud)\n",
    "plt.axis('off')\n",
    "plt.show()"
   ]
  },
  {
   "cell_type": "markdown",
   "metadata": {
    "colab_type": "text",
    "id": "jh1uNus86OWb"
   },
   "source": [
    "From the above graphs we can see that most  of the videos having high short memoribility have words woman, couple, man in it, whereas videos with less memorability score have words like mountain, tree, etc in it. This might signify that human object is far more memorable than a landscape or nature related video. "
   ]
  },
  {
   "cell_type": "markdown",
   "metadata": {
    "colab_type": "text",
    "id": "YPKF3zKD6r2W"
   },
   "source": [
    "Let us see if this assumption holds true for long term memorability"
   ]
  },
  {
   "cell_type": "code",
   "execution_count": 47,
   "metadata": {
    "colab": {
     "base_uri": "https://localhost:8080/",
     "height": 421
    },
    "colab_type": "code",
    "id": "Sr-HZZh-irMB",
    "outputId": "d949d85c-565d-4278-bc6e-b6a05aa4ac46"
   },
   "outputs": [
    {
     "data": {
      "image/png": "[encoded data removed]",
      "text/plain": [
       "<Figure size 432x288 with 1 Axes>"
      ]
     },
     "metadata": {
      "needs_background": "light"
     },
     "output_type": "display_data"
    },
    {
     "data": {
      "image/png": "[encoded data removed]",
      "text/plain": [
       "<Figure size 432x288 with 1 Axes>"
      ]
     },
     "metadata": {
      "needs_background": "light"
     },
     "output_type": "display_data"
    }
   ],
   "source": [
    "word_string=\" \".join(merged_dataset.sort_values('long-term_memorability', ascending=False)[['caption']].head(50)['caption'].str.lower())\n",
    "wordcloud = WordCloud(stopwords=STOPWORDS,\n",
    "                          background_color='white', \n",
    "                      max_words=50, color_func=(lambda *args, **kwargs: (0,128,0))\n",
    "                         ).generate(word_string)\n",
    "plt.clf()\n",
    "plt.imshow(wordcloud)\n",
    "plt.axis('off')\n",
    "plt.show()\n",
    "\n",
    "word_string=\" \".join(merged_dataset.sort_values('long-term_memorability')[['caption']].head(50)['caption'].str.lower())\n",
    "wordcloud = WordCloud(stopwords=STOPWORDS,\n",
    "                          background_color='white', \n",
    "                      max_words=50, color_func=(lambda *args, **kwargs: (255,0,0))\n",
    "                         ).generate(word_string)\n",
    "plt.clf()\n",
    "plt.imshow(wordcloud)\n",
    "plt.axis('off')\n",
    "plt.show()"
   ]
  },
  {
   "cell_type": "markdown",
   "metadata": {
    "colab_type": "text",
    "id": "3oxduvjZ60Of"
   },
   "source": [
    "We can see a similar pattern in long term as well"
   ]
  },
  {
   "cell_type": "markdown",
   "metadata": {
    "colab_type": "text",
    "id": "cv2X1fA1oGd_"
   },
   "source": [
    "Let us see if short term memoribility and long term  memoribility follow the same pattern "
   ]
  },
  {
   "cell_type": "code",
   "execution_count": 48,
   "metadata": {
    "colab": {
     "base_uri": "https://localhost:8080/",
     "height": 286
    },
    "colab_type": "code",
    "id": "DYcI6r9YoQKv",
    "outputId": "5897aae4-d1fa-4c7b-866b-84e9ae851cfd"
   },
   "outputs": [
    {
     "data": {
      "text/plain": [
       "<matplotlib.axes._subplots.AxesSubplot at 0x190f1b34348>"
      ]
     },
     "execution_count": 48,
     "metadata": {},
     "output_type": "execute_result"
    },
    {
     "data": {
      "image/png": "[encoded data removed]",
      "text/plain": [
       "<Figure size 432x288 with 1 Axes>"
      ]
     },
     "metadata": {
      "needs_background": "light"
     },
     "output_type": "display_data"
    }
   ],
   "source": [
    "merged_dataset['short-term_memorability'].hist()"
   ]
  },
  {
   "cell_type": "code",
   "execution_count": 49,
   "metadata": {
    "colab": {
     "base_uri": "https://localhost:8080/",
     "height": 286
    },
    "colab_type": "code",
    "id": "2sTljnYH2L60",
    "outputId": "5b30f75e-87e9-4dd5-ed00-2ba6d3ef601c"
   },
   "outputs": [
    {
     "data": {
      "text/plain": [
       "<matplotlib.axes._subplots.AxesSubplot at 0x190f4f293c8>"
      ]
     },
     "execution_count": 49,
     "metadata": {},
     "output_type": "execute_result"
    },
    {
     "data": {
      "image/png": "[encoded data removed]",
      "text/plain": [
       "<Figure size 432x288 with 1 Axes>"
      ]
     },
     "metadata": {
      "needs_background": "light"
     },
     "output_type": "display_data"
    }
   ],
   "source": [
    "merged_dataset['long-term_memorability'].hist()"
   ]
  },
  {
   "cell_type": "markdown",
   "metadata": {
    "colab_type": "text",
    "id": "hNt2posq66MX"
   },
   "source": [
    "From the distributions we can see that both the distribution are skewed, they seem to follow a similar pattern. Videos are more memorable in short term than long term"
   ]
  },
  {
   "cell_type": "markdown",
   "metadata": {
    "colab_type": "text",
    "id": "Zn_kdYTUeMoR"
   },
   "source": [
    "## Building Model"
   ]
  },
  {
   "cell_type": "markdown",
   "metadata": {
    "colab_type": "text",
    "id": "4m98rlujt2Zv"
   },
   "source": [
    "Using k-fold cross validation technique on our model"
   ]
  },
  {
   "cell_type": "code",
   "execution_count": 50,
   "metadata": {
    "colab": {},
    "colab_type": "code",
    "id": "_EjDQCOT084h"
   },
   "outputs": [],
   "source": [
    "kf = KFold(n_splits=10)"
   ]
  },
  {
   "cell_type": "markdown",
   "metadata": {
    "colab_type": "text",
    "id": "iH9A6RFe8Huz"
   },
   "source": [
    "Function to get the correlation value of a model "
   ]
  },
  {
   "cell_type": "code",
   "execution_count": 51,
   "metadata": {
    "colab": {},
    "colab_type": "code",
    "id": "6Qprxyj41aRD"
   },
   "outputs": [],
   "source": [
    "def get_corr_for_model(model, traing_caption, test_caption, y_train, y_test):\n",
    "  model.fit(traing_caption, y_train)\n",
    "  predictions_validation = model.predict(test_caption)\n",
    "  corr, p_value = spearmanr(y_test, predictions_validation)\n",
    "  return corr"
   ]
  },
  {
   "cell_type": "markdown",
   "metadata": {
    "colab_type": "text",
    "id": "aWdwrPZUELmE"
   },
   "source": [
    "Using the bag of words technique for vectorising our data, we can use the tfidf vectoriser as it gives a better performance than regular count vectoriser"
   ]
  },
  {
   "cell_type": "code",
   "execution_count": 52,
   "metadata": {
    "colab": {},
    "colab_type": "code",
    "id": "0ZIphsYu70mm"
   },
   "outputs": [],
   "source": [
    "def vectorize_data(X_train, X_test):\n",
    "  bow = TfidfVectorizer(max_features=1000, lowercase=True, ngram_range=(1,2),analyzer = \"word\")\n",
    "  train_bow = bow.fit(X_train['caption'])\n",
    "  train_caption = train_bow.transform(X_train['caption'])\n",
    "  test_caption = train_bow.transform(X_test['caption'])\n",
    "  return train_caption, test_caption"
   ]
  },
  {
   "cell_type": "markdown",
   "metadata": {
    "colab_type": "text",
    "id": "jD2H2DzGEPZQ"
   },
   "source": [
    "Separating the predictor and target variables"
   ]
  },
  {
   "cell_type": "code",
   "execution_count": 53,
   "metadata": {
    "colab": {},
    "colab_type": "code",
    "id": "6Msp9DBk6oWI"
   },
   "outputs": [],
   "source": [
    "training_set =  merged_dataset.drop(columns=['short-term_memorability','long-term_memorability','nb_short-term_annotations','nb_long-term_annotations'])\n",
    "testing_set_short_term = merged_dataset['short-term_memorability'].to_frame()\n",
    "testing_set_long_term = merged_dataset['long-term_memorability'].to_frame()"
   ]
  },
  {
   "cell_type": "markdown",
   "metadata": {
    "colab_type": "text",
    "id": "kC0WpzbyEjgK"
   },
   "source": [
    "Applying K-fold validation technique to evaluate the performance of our model.  The method get_corr_for_model returns the spearman rank score for each fold"
   ]
  },
  {
   "cell_type": "markdown",
   "metadata": {
    "colab_type": "text",
    "id": "QZeyYTw48tWm"
   },
   "source": [
    "### Caption based feature model"
   ]
  },
  {
   "cell_type": "markdown",
   "metadata": {
    "colab_type": "text",
    "id": "MtKwnpOoLHMg"
   },
   "source": [
    "Comparing the results of Bayesian Ridge regression and Support Vector Regression for caption"
   ]
  },
  {
   "cell_type": "code",
   "execution_count": 54,
   "metadata": {
    "colab": {},
    "colab_type": "code",
    "id": "KrV84lvH5Wfk"
   },
   "outputs": [],
   "source": [
    "scores_svr_short_term = []\n",
    "scores_svr_long_term = []\n",
    "scores_BR_short_term = []\n",
    "scores_BR_long_term = []\n",
    "\n",
    "for train_index, test_index in kf.split(training_set):\n",
    "  X_train, X_test, y_train, y_test =training_set.iloc[train_index, :], training_set.iloc[test_index, :],testing_set_long_term['long-term_memorability'][train_index],testing_set_long_term['long-term_memorability'][test_index]\n",
    "  training_caption, testing_caption  = vectorize_data(X_train, X_test)\n",
    "  scores_svr_long_term.append(get_corr_for_model(SVR(kernel='linear'), training_caption, testing_caption, y_train, y_test))\n",
    "  scores_BR_long_term.append(get_corr_for_model(BayesianRidge(), training_caption.toarray(), testing_caption.toarray(), y_train, y_test))\n",
    "  X_train, X_test, y_train, y_test =training_set.iloc[train_index, :], training_set.iloc[test_index, :],testing_set_short_term['short-term_memorability'][train_index],testing_set_short_term['short-term_memorability'][test_index]\n",
    "  training_caption, testing_caption  = vectorize_data(X_train, X_test)\n",
    "  scores_BR_short_term.append(get_corr_for_model(BayesianRidge(), training_caption.toarray(), testing_caption.toarray(), y_train, y_test))\n",
    "  scores_svr_short_term.append(get_corr_for_model(SVR(kernel='linear'), training_caption, testing_caption, y_train, y_test))\n",
    "  "
   ]
  },
  {
   "cell_type": "markdown",
   "metadata": {
    "colab_type": "text",
    "id": "eCL917GdFIW4"
   },
   "source": [
    "Checking the average of the various scores"
   ]
  },
  {
   "cell_type": "code",
   "execution_count": 55,
   "metadata": {
    "colab": {
     "base_uri": "https://localhost:8080/",
     "height": 85
    },
    "colab_type": "code",
    "id": "2fsWQ21785WD",
    "outputId": "407ffa83-c4c5-4fbc-bed5-c9122b8d216e"
   },
   "outputs": [
    {
     "name": "stdout",
     "output_type": "stream",
     "text": [
      "average score for SVR short term memory = 0.32223194778379\n",
      "average score for SVR long term memory = 0.12873606856939476\n",
      "average score for Bayesian Ridge short term memory = 0.4225770935654337\n",
      "average score for Bayesian Ridge long term memory = 0.18740171816207604\n"
     ]
    }
   ],
   "source": [
    "avg_score_short_term_SVR = sum(scores_svr_short_term)/len(scores_svr_short_term)\n",
    "print(\"average score for SVR short term memory = \" + str(avg_score_short_term_SVR))\n",
    "avg_score_long_term_SVR = sum(scores_svr_long_term)/len(scores_svr_long_term)\n",
    "print(\"average score for SVR long term memory = \" + str(avg_score_long_term_SVR))\n",
    "\n",
    "avg_score_short_term_BR = sum(scores_BR_short_term)/len(scores_BR_short_term)\n",
    "print(\"average score for Bayesian Ridge short term memory = \" + str(avg_score_short_term_BR))\n",
    "avg_score_long_term_BR = sum(scores_BR_long_term)/len(scores_BR_long_term)\n",
    "print(\"average score for Bayesian Ridge long term memory = \" + str(avg_score_long_term_BR))"
   ]
  },
  {
   "cell_type": "markdown",
   "metadata": {
    "colab_type": "text",
    "id": "Wr-XYhmFNd-O"
   },
   "source": [
    "Here we can see Bayesian Ridge is performing better on our dataset, Let us use that for our predictions of long and short term memoribility using text data "
   ]
  },
  {
   "cell_type": "markdown",
   "metadata": {
    "colab_type": "text",
    "id": "hJNcSKIs8gl6"
   },
   "source": [
    "### Video based features model"
   ]
  },
  {
   "cell_type": "markdown",
   "metadata": {
    "colab_type": "text",
    "id": "dhIDLgw6VQ19"
   },
   "source": [
    "Now let us work with the video based features in our dataset "
   ]
  },
  {
   "cell_type": "markdown",
   "metadata": {
    "colab_type": "text",
    "id": "gwhkq4SVXaLz"
   },
   "source": [
    "Checking the correlation between the data"
   ]
  },
  {
   "cell_type": "code",
   "execution_count": 56,
   "metadata": {
    "colab": {
     "base_uri": "https://localhost:8080/",
     "height": 1199
    },
    "colab_type": "code",
    "id": "_eP3ys1wXVSJ",
    "outputId": "430e3e88-c8d5-4a58-bb71-76d0ae43e539"
   },
   "outputs": [
    {
     "data": {
      "text/plain": [
       "<matplotlib.axes._subplots.AxesSubplot at 0x190f4fdac08>"
      ]
     },
     "execution_count": 56,
     "metadata": {},
     "output_type": "execute_result"
    },
    {
     "data": {
      "image/png": "[encoded data removed]",
      "text/plain": [
       "<Figure size 1440x1440 with 2 Axes>"
      ]
     },
     "metadata": {},
     "output_type": "display_data"
    }
   ],
   "source": [
    "corr_data = training_set.drop(columns='video')\n",
    "corr_data_2 = corr_data[corr_data.columns[corr_data.columns.str.startswith('AES')]]\n",
    "corre = corr_data_2.corr()\n",
    "sns.set(rc={'figure.figsize':(20,20)})\n",
    "sns.heatmap(corre,\n",
    "            cmap='coolwarm',\n",
    "            xticklabels=corre.columns.values,\n",
    "            yticklabels=corre.columns.values)\n"
   ]
  },
  {
   "cell_type": "code",
   "execution_count": 57,
   "metadata": {
    "colab": {
     "base_uri": "https://localhost:8080/",
     "height": 1200
    },
    "colab_type": "code",
    "id": "3zRXVFupDyPn",
    "outputId": "70291911-1b6a-429b-cd4d-60f98fa114bf"
   },
   "outputs": [
    {
     "data": {
      "text/plain": [
       "<matplotlib.axes._subplots.AxesSubplot at 0x190f4fdab08>"
      ]
     },
     "execution_count": 57,
     "metadata": {},
     "output_type": "execute_result"
    },
    {
     "data": {
      "image/png": "[encoded data removed]",
      "text/plain": [
       "<Figure size 1440x1440 with 2 Axes>"
      ]
     },
     "metadata": {},
     "output_type": "display_data"
    }
   ],
   "source": [
    "corr_data = training_set.drop(columns='video')\n",
    "corr_data_2 = corr_data[corr_data.columns[corr_data.columns.str.startswith('C3D')]]\n",
    "corre = corr_data_2.corr()\n",
    "sns.set(rc={'figure.figsize':(20,20)})\n",
    "sns.heatmap(corre,\n",
    "            cmap='coolwarm',\n",
    "            xticklabels=corre.columns.values,\n",
    "            yticklabels=corre.columns.values)\n"
   ]
  },
  {
   "cell_type": "markdown",
   "metadata": {
    "colab_type": "text",
    "id": "L_MLfI_0bZYV"
   },
   "source": [
    "From the correlation matrix we can see that some of the variables have high correlation for Aesthetic values"
   ]
  },
  {
   "cell_type": "markdown",
   "metadata": {
    "colab_type": "text",
    "id": "r2Rz9O1587ov"
   },
   "source": [
    "**Aesthetic Features**"
   ]
  },
  {
   "cell_type": "code",
   "execution_count": 58,
   "metadata": {
    "colab": {},
    "colab_type": "code",
    "id": "uzAF8gtdYIek"
   },
   "outputs": [],
   "source": [
    "Aesthetic_features = training_set[training_set.columns[training_set.columns.str.startswith('AES')]]"
   ]
  },
  {
   "cell_type": "code",
   "execution_count": 59,
   "metadata": {
    "colab": {
     "base_uri": "https://localhost:8080/",
     "height": 253
    },
    "colab_type": "code",
    "id": "WvekPfc9SRDF",
    "outputId": "4fdca5ed-a2e0-4630-9d6e-63b5f1c71e24"
   },
   "outputs": [
    {
     "data": {
      "text/html": [
       "<div>\n",
       "<style scoped>\n",
       "    .dataframe tbody tr th:only-of-type {\n",
       "        vertical-align: middle;\n",
       "    }\n",
       "\n",
       "    .dataframe tbody tr th {\n",
       "        vertical-align: top;\n",
       "    }\n",
       "\n",
       "    .dataframe thead th {\n",
       "        text-align: right;\n",
       "    }\n",
       "</style>\n",
       "<table border=\"1\" class=\"dataframe\">\n",
       "  <thead>\n",
       "    <tr style=\"text-align: right;\">\n",
       "      <th></th>\n",
       "      <th>AES_0</th>\n",
       "      <th>AES_1</th>\n",
       "      <th>AES_2</th>\n",
       "      <th>AES_3</th>\n",
       "      <th>AES_4</th>\n",
       "      <th>AES_5</th>\n",
       "      <th>AES_6</th>\n",
       "      <th>AES_7</th>\n",
       "      <th>AES_8</th>\n",
       "      <th>AES_9</th>\n",
       "      <th>...</th>\n",
       "      <th>AES_99</th>\n",
       "      <th>AES_100</th>\n",
       "      <th>AES_101</th>\n",
       "      <th>AES_102</th>\n",
       "      <th>AES_103</th>\n",
       "      <th>AES_104</th>\n",
       "      <th>AES_105</th>\n",
       "      <th>AES_106</th>\n",
       "      <th>AES_107</th>\n",
       "      <th>AES_108</th>\n",
       "    </tr>\n",
       "  </thead>\n",
       "  <tbody>\n",
       "    <tr>\n",
       "      <td>0</td>\n",
       "      <td>0.180874</td>\n",
       "      <td>0.715626</td>\n",
       "      <td>0.198930</td>\n",
       "      <td>0.610453</td>\n",
       "      <td>0.121610</td>\n",
       "      <td>0.692880</td>\n",
       "      <td>55.008914</td>\n",
       "      <td>0.103175</td>\n",
       "      <td>0.001049</td>\n",
       "      <td>2.0</td>\n",
       "      <td>...</td>\n",
       "      <td>-0.002154</td>\n",
       "      <td>-0.000850</td>\n",
       "      <td>0.000000</td>\n",
       "      <td>0.260845</td>\n",
       "      <td>0.294153</td>\n",
       "      <td>0.575061</td>\n",
       "      <td>0.0</td>\n",
       "      <td>0.129661</td>\n",
       "      <td>0.412381</td>\n",
       "      <td>0.788761</td>\n",
       "    </tr>\n",
       "    <tr>\n",
       "      <td>1</td>\n",
       "      <td>0.146076</td>\n",
       "      <td>0.550070</td>\n",
       "      <td>0.460729</td>\n",
       "      <td>0.424397</td>\n",
       "      <td>0.341807</td>\n",
       "      <td>0.398212</td>\n",
       "      <td>47.307755</td>\n",
       "      <td>0.119048</td>\n",
       "      <td>0.001859</td>\n",
       "      <td>2.0</td>\n",
       "      <td>...</td>\n",
       "      <td>0.000007</td>\n",
       "      <td>-0.000399</td>\n",
       "      <td>0.920270</td>\n",
       "      <td>0.337932</td>\n",
       "      <td>0.382134</td>\n",
       "      <td>0.943198</td>\n",
       "      <td>0.0</td>\n",
       "      <td>0.692224</td>\n",
       "      <td>0.762354</td>\n",
       "      <td>-0.561793</td>\n",
       "    </tr>\n",
       "    <tr>\n",
       "      <td>2</td>\n",
       "      <td>0.063898</td>\n",
       "      <td>0.827439</td>\n",
       "      <td>0.211925</td>\n",
       "      <td>0.720297</td>\n",
       "      <td>0.129499</td>\n",
       "      <td>0.722464</td>\n",
       "      <td>60.535453</td>\n",
       "      <td>0.069048</td>\n",
       "      <td>0.000423</td>\n",
       "      <td>1.0</td>\n",
       "      <td>...</td>\n",
       "      <td>0.002896</td>\n",
       "      <td>0.002309</td>\n",
       "      <td>0.374684</td>\n",
       "      <td>0.019155</td>\n",
       "      <td>0.187358</td>\n",
       "      <td>0.512601</td>\n",
       "      <td>0.0</td>\n",
       "      <td>0.438261</td>\n",
       "      <td>-0.219560</td>\n",
       "      <td>0.276687</td>\n",
       "    </tr>\n",
       "    <tr>\n",
       "      <td>3</td>\n",
       "      <td>0.380539</td>\n",
       "      <td>0.134683</td>\n",
       "      <td>0.746891</td>\n",
       "      <td>0.171604</td>\n",
       "      <td>0.697045</td>\n",
       "      <td>0.452995</td>\n",
       "      <td>47.827289</td>\n",
       "      <td>0.580247</td>\n",
       "      <td>0.008550</td>\n",
       "      <td>2.0</td>\n",
       "      <td>...</td>\n",
       "      <td>0.000568</td>\n",
       "      <td>0.000514</td>\n",
       "      <td>0.970656</td>\n",
       "      <td>0.435550</td>\n",
       "      <td>0.431595</td>\n",
       "      <td>1.142377</td>\n",
       "      <td>0.0</td>\n",
       "      <td>0.424483</td>\n",
       "      <td>0.326030</td>\n",
       "      <td>0.688481</td>\n",
       "    </tr>\n",
       "    <tr>\n",
       "      <td>4</td>\n",
       "      <td>0.427258</td>\n",
       "      <td>0.381448</td>\n",
       "      <td>0.582746</td>\n",
       "      <td>0.409475</td>\n",
       "      <td>0.489531</td>\n",
       "      <td>0.198180</td>\n",
       "      <td>39.394310</td>\n",
       "      <td>0.583333</td>\n",
       "      <td>0.039983</td>\n",
       "      <td>7.0</td>\n",
       "      <td>...</td>\n",
       "      <td>0.005307</td>\n",
       "      <td>0.000065</td>\n",
       "      <td>0.000000</td>\n",
       "      <td>0.442575</td>\n",
       "      <td>0.347355</td>\n",
       "      <td>1.285838</td>\n",
       "      <td>0.0</td>\n",
       "      <td>-0.279630</td>\n",
       "      <td>-0.012414</td>\n",
       "      <td>0.197281</td>\n",
       "    </tr>\n",
       "  </tbody>\n",
       "</table>\n",
       "<p>5 rows × 109 columns</p>\n",
       "</div>"
      ],
      "text/plain": [
       "      AES_0     AES_1     AES_2     AES_3     AES_4     AES_5      AES_6  \\\n",
       "0  0.180874  0.715626  0.198930  0.610453  0.121610  0.692880  55.008914   \n",
       "1  0.146076  0.550070  0.460729  0.424397  0.341807  0.398212  47.307755   \n",
       "2  0.063898  0.827439  0.211925  0.720297  0.129499  0.722464  60.535453   \n",
       "3  0.380539  0.134683  0.746891  0.171604  0.697045  0.452995  47.827289   \n",
       "4  0.427258  0.381448  0.582746  0.409475  0.489531  0.198180  39.394310   \n",
       "\n",
       "      AES_7     AES_8  AES_9  ...    AES_99   AES_100   AES_101   AES_102  \\\n",
       "0  0.103175  0.001049    2.0  ... -0.002154 -0.000850  0.000000  0.260845   \n",
       "1  0.119048  0.001859    2.0  ...  0.000007 -0.000399  0.920270  0.337932   \n",
       "2  0.069048  0.000423    1.0  ...  0.002896  0.002309  0.374684  0.019155   \n",
       "3  0.580247  0.008550    2.0  ...  0.000568  0.000514  0.970656  0.435550   \n",
       "4  0.583333  0.039983    7.0  ...  0.005307  0.000065  0.000000  0.442575   \n",
       "\n",
       "    AES_103   AES_104  AES_105   AES_106   AES_107   AES_108  \n",
       "0  0.294153  0.575061      0.0  0.129661  0.412381  0.788761  \n",
       "1  0.382134  0.943198      0.0  0.692224  0.762354 -0.561793  \n",
       "2  0.187358  0.512601      0.0  0.438261 -0.219560  0.276687  \n",
       "3  0.431595  1.142377      0.0  0.424483  0.326030  0.688481  \n",
       "4  0.347355  1.285838      0.0 -0.279630 -0.012414  0.197281  \n",
       "\n",
       "[5 rows x 109 columns]"
      ]
     },
     "execution_count": 59,
     "metadata": {},
     "output_type": "execute_result"
    }
   ],
   "source": [
    "Aesthetic_features.head()"
   ]
  },
  {
   "cell_type": "code",
   "execution_count": 60,
   "metadata": {
    "colab": {},
    "colab_type": "code",
    "id": "71AcBQvNSYsj"
   },
   "outputs": [],
   "source": [
    "X = Aesthetic_features"
   ]
  },
  {
   "cell_type": "markdown",
   "metadata": {
    "colab_type": "text",
    "id": "EuluEdNLDvwU"
   },
   "source": [
    "Applying K fold validation technique using Bayesian Ridge Regression on aesthetic features "
   ]
  },
  {
   "cell_type": "markdown",
   "metadata": {
    "colab_type": "text",
    "id": "e8F_Ac2wJmvW"
   },
   "source": [
    "We are using Bayesian ridge regression as we have a variety of features and Bayesian ridge will regularize the data and apply bayesian probability to get our target variables"
   ]
  },
  {
   "cell_type": "code",
   "execution_count": 61,
   "metadata": {
    "colab": {},
    "colab_type": "code",
    "id": "o3akJnG6CqIu"
   },
   "outputs": [],
   "source": [
    "scores_BR_short_term = []\n",
    "scores_BR_long_term = []\n",
    "\n",
    "for train_index, test_index in kf.split(X):\n",
    "  X_train, X_test, y_train, y_test =X.iloc[train_index, :], X.iloc[test_index, :],testing_set_long_term['long-term_memorability'][train_index],testing_set_long_term['long-term_memorability'][test_index]\n",
    "  scores_BR_long_term.append(get_corr_for_model(BayesianRidge(), X_train, X_test, y_train, y_test))\n",
    "  X_train, X_test, y_train, y_test =X.iloc[train_index, :], X.iloc[test_index, :],testing_set_short_term['short-term_memorability'][train_index],testing_set_short_term['short-term_memorability'][test_index]\n",
    "  scores_BR_short_term.append(get_corr_for_model(BayesianRidge(), X_train, X_test, y_train, y_test))"
   ]
  },
  {
   "cell_type": "code",
   "execution_count": 62,
   "metadata": {
    "colab": {
     "base_uri": "https://localhost:8080/",
     "height": 51
    },
    "colab_type": "code",
    "id": "iPvPmwD_EFuk",
    "outputId": "66fa5676-ba7a-413d-d71b-a4f9c7d64e24"
   },
   "outputs": [
    {
     "name": "stdout",
     "output_type": "stream",
     "text": [
      "average score for Bayesian Ridge short term memory = 0.2577014056332336\n",
      "average score for Bayesian Ridge long term memory = 0.07080779177158154\n"
     ]
    }
   ],
   "source": [
    "avg_score_short_term_BR_AF = sum(scores_BR_short_term)/len(scores_BR_short_term)\n",
    "print(\"average score for Bayesian Ridge short term memory = \" + str(avg_score_short_term_BR_AF))\n",
    "avg_score_long_term_BR_AF = sum(scores_BR_long_term)/len(scores_BR_long_term)\n",
    "print(\"average score for Bayesian Ridge long term memory = \" + str(avg_score_long_term_BR_AF))"
   ]
  },
  {
   "cell_type": "markdown",
   "metadata": {
    "colab_type": "text",
    "id": "NC8UfZ_X9E7N"
   },
   "source": [
    "**C3D features**"
   ]
  },
  {
   "cell_type": "markdown",
   "metadata": {
    "colab_type": "text",
    "id": "4jt4_5iQEAo5"
   },
   "source": [
    "Let us work on C3D features "
   ]
  },
  {
   "cell_type": "code",
   "execution_count": 63,
   "metadata": {
    "colab": {},
    "colab_type": "code",
    "id": "zrYC-yMjJ8nR"
   },
   "outputs": [],
   "source": [
    "C3D_features = training_set[training_set.columns[training_set.columns.str.startswith('C3D')]]"
   ]
  },
  {
   "cell_type": "code",
   "execution_count": 64,
   "metadata": {
    "colab": {
     "base_uri": "https://localhost:8080/",
     "height": 253
    },
    "colab_type": "code",
    "id": "7-BhE7DjKIZC",
    "outputId": "82ad9080-08a1-4b55-8fb3-e4ca6a002790"
   },
   "outputs": [
    {
     "data": {
      "text/html": [
       "<div>\n",
       "<style scoped>\n",
       "    .dataframe tbody tr th:only-of-type {\n",
       "        vertical-align: middle;\n",
       "    }\n",
       "\n",
       "    .dataframe tbody tr th {\n",
       "        vertical-align: top;\n",
       "    }\n",
       "\n",
       "    .dataframe thead th {\n",
       "        text-align: right;\n",
       "    }\n",
       "</style>\n",
       "<table border=\"1\" class=\"dataframe\">\n",
       "  <thead>\n",
       "    <tr style=\"text-align: right;\">\n",
       "      <th></th>\n",
       "      <th>C3D_0</th>\n",
       "      <th>C3D_1</th>\n",
       "      <th>C3D_2</th>\n",
       "      <th>C3D_3</th>\n",
       "      <th>C3D_4</th>\n",
       "      <th>C3D_5</th>\n",
       "      <th>C3D_6</th>\n",
       "      <th>C3D_7</th>\n",
       "      <th>C3D_8</th>\n",
       "      <th>C3D_9</th>\n",
       "      <th>...</th>\n",
       "      <th>C3D_91</th>\n",
       "      <th>C3D_92</th>\n",
       "      <th>C3D_93</th>\n",
       "      <th>C3D_94</th>\n",
       "      <th>C3D_95</th>\n",
       "      <th>C3D_96</th>\n",
       "      <th>C3D_97</th>\n",
       "      <th>C3D_98</th>\n",
       "      <th>C3D_99</th>\n",
       "      <th>C3D_100</th>\n",
       "    </tr>\n",
       "  </thead>\n",
       "  <tbody>\n",
       "    <tr>\n",
       "      <td>0</td>\n",
       "      <td>0.020249</td>\n",
       "      <td>0.001578</td>\n",
       "      <td>0.000826</td>\n",
       "      <td>0.000945</td>\n",
       "      <td>0.000063</td>\n",
       "      <td>0.000003</td>\n",
       "      <td>0.001162</td>\n",
       "      <td>0.000097</td>\n",
       "      <td>0.000022</td>\n",
       "      <td>0.000010</td>\n",
       "      <td>...</td>\n",
       "      <td>0.001042</td>\n",
       "      <td>0.000161</td>\n",
       "      <td>0.000257</td>\n",
       "      <td>0.046617</td>\n",
       "      <td>0.000156</td>\n",
       "      <td>0.000006</td>\n",
       "      <td>0.000537</td>\n",
       "      <td>0.000339</td>\n",
       "      <td>0.008437</td>\n",
       "      <td>0.000470</td>\n",
       "    </tr>\n",
       "    <tr>\n",
       "      <td>1</td>\n",
       "      <td>0.000118</td>\n",
       "      <td>0.000891</td>\n",
       "      <td>0.000188</td>\n",
       "      <td>0.000045</td>\n",
       "      <td>0.000063</td>\n",
       "      <td>0.000002</td>\n",
       "      <td>0.000641</td>\n",
       "      <td>0.000011</td>\n",
       "      <td>0.000017</td>\n",
       "      <td>0.000014</td>\n",
       "      <td>...</td>\n",
       "      <td>0.000582</td>\n",
       "      <td>0.000393</td>\n",
       "      <td>0.000864</td>\n",
       "      <td>0.000947</td>\n",
       "      <td>0.000136</td>\n",
       "      <td>0.000007</td>\n",
       "      <td>0.000360</td>\n",
       "      <td>0.000159</td>\n",
       "      <td>0.001025</td>\n",
       "      <td>0.000020</td>\n",
       "    </tr>\n",
       "    <tr>\n",
       "      <td>2</td>\n",
       "      <td>0.011765</td>\n",
       "      <td>0.000746</td>\n",
       "      <td>0.000784</td>\n",
       "      <td>0.000013</td>\n",
       "      <td>0.000007</td>\n",
       "      <td>0.000028</td>\n",
       "      <td>0.000041</td>\n",
       "      <td>0.000014</td>\n",
       "      <td>0.000041</td>\n",
       "      <td>0.000083</td>\n",
       "      <td>...</td>\n",
       "      <td>0.000224</td>\n",
       "      <td>0.000003</td>\n",
       "      <td>0.000031</td>\n",
       "      <td>0.002538</td>\n",
       "      <td>0.000104</td>\n",
       "      <td>0.000005</td>\n",
       "      <td>0.000064</td>\n",
       "      <td>0.005380</td>\n",
       "      <td>0.001027</td>\n",
       "      <td>0.001384</td>\n",
       "    </tr>\n",
       "    <tr>\n",
       "      <td>3</td>\n",
       "      <td>0.000223</td>\n",
       "      <td>0.000165</td>\n",
       "      <td>0.000007</td>\n",
       "      <td>0.000016</td>\n",
       "      <td>0.000005</td>\n",
       "      <td>0.000014</td>\n",
       "      <td>0.000154</td>\n",
       "      <td>0.000008</td>\n",
       "      <td>0.000004</td>\n",
       "      <td>0.000009</td>\n",
       "      <td>...</td>\n",
       "      <td>0.000046</td>\n",
       "      <td>0.000009</td>\n",
       "      <td>0.000023</td>\n",
       "      <td>0.000053</td>\n",
       "      <td>0.000048</td>\n",
       "      <td>0.000019</td>\n",
       "      <td>0.000001</td>\n",
       "      <td>0.000004</td>\n",
       "      <td>0.000380</td>\n",
       "      <td>0.000029</td>\n",
       "    </tr>\n",
       "    <tr>\n",
       "      <td>4</td>\n",
       "      <td>0.000090</td>\n",
       "      <td>0.000615</td>\n",
       "      <td>0.003436</td>\n",
       "      <td>0.001281</td>\n",
       "      <td>0.003551</td>\n",
       "      <td>0.000313</td>\n",
       "      <td>0.000042</td>\n",
       "      <td>0.000018</td>\n",
       "      <td>0.000157</td>\n",
       "      <td>0.000117</td>\n",
       "      <td>...</td>\n",
       "      <td>0.000037</td>\n",
       "      <td>0.000690</td>\n",
       "      <td>0.000171</td>\n",
       "      <td>0.000231</td>\n",
       "      <td>0.000637</td>\n",
       "      <td>0.000040</td>\n",
       "      <td>0.000061</td>\n",
       "      <td>0.000075</td>\n",
       "      <td>0.000002</td>\n",
       "      <td>0.001323</td>\n",
       "    </tr>\n",
       "  </tbody>\n",
       "</table>\n",
       "<p>5 rows × 101 columns</p>\n",
       "</div>"
      ],
      "text/plain": [
       "      C3D_0     C3D_1     C3D_2     C3D_3     C3D_4     C3D_5     C3D_6  \\\n",
       "0  0.020249  0.001578  0.000826  0.000945  0.000063  0.000003  0.001162   \n",
       "1  0.000118  0.000891  0.000188  0.000045  0.000063  0.000002  0.000641   \n",
       "2  0.011765  0.000746  0.000784  0.000013  0.000007  0.000028  0.000041   \n",
       "3  0.000223  0.000165  0.000007  0.000016  0.000005  0.000014  0.000154   \n",
       "4  0.000090  0.000615  0.003436  0.001281  0.003551  0.000313  0.000042   \n",
       "\n",
       "      C3D_7     C3D_8     C3D_9  ...    C3D_91    C3D_92    C3D_93    C3D_94  \\\n",
       "0  0.000097  0.000022  0.000010  ...  0.001042  0.000161  0.000257  0.046617   \n",
       "1  0.000011  0.000017  0.000014  ...  0.000582  0.000393  0.000864  0.000947   \n",
       "2  0.000014  0.000041  0.000083  ...  0.000224  0.000003  0.000031  0.002538   \n",
       "3  0.000008  0.000004  0.000009  ...  0.000046  0.000009  0.000023  0.000053   \n",
       "4  0.000018  0.000157  0.000117  ...  0.000037  0.000690  0.000171  0.000231   \n",
       "\n",
       "     C3D_95    C3D_96    C3D_97    C3D_98    C3D_99   C3D_100  \n",
       "0  0.000156  0.000006  0.000537  0.000339  0.008437  0.000470  \n",
       "1  0.000136  0.000007  0.000360  0.000159  0.001025  0.000020  \n",
       "2  0.000104  0.000005  0.000064  0.005380  0.001027  0.001384  \n",
       "3  0.000048  0.000019  0.000001  0.000004  0.000380  0.000029  \n",
       "4  0.000637  0.000040  0.000061  0.000075  0.000002  0.001323  \n",
       "\n",
       "[5 rows x 101 columns]"
      ]
     },
     "execution_count": 64,
     "metadata": {},
     "output_type": "execute_result"
    }
   ],
   "source": [
    "C3D_features.head()"
   ]
  },
  {
   "cell_type": "markdown",
   "metadata": {
    "colab_type": "text",
    "id": "HQ_RPH9K9MFD"
   },
   "source": [
    "Applying Bayesian Ridge model on C3D features using KFold "
   ]
  },
  {
   "cell_type": "code",
   "execution_count": 65,
   "metadata": {
    "colab": {},
    "colab_type": "code",
    "id": "Tz0VUmnYKPT9"
   },
   "outputs": [],
   "source": [
    "X = C3D_features\n",
    "scores_BR_short_term = []\n",
    "scores_BR_long_term = []\n",
    "\n",
    "for train_index, test_index in kf.split(X):\n",
    "  X_train, X_test, y_train, y_test =X.iloc[train_index, :], X.iloc[test_index, :],testing_set_long_term['long-term_memorability'][train_index],testing_set_long_term['long-term_memorability'][test_index]\n",
    "  scores_BR_long_term.append(get_corr_for_model(BayesianRidge(), X_train, X_test, y_train, y_test))\n",
    "  X_train, X_test, y_train, y_test =X.iloc[train_index, :], X.iloc[test_index, :],testing_set_short_term['short-term_memorability'][train_index],testing_set_short_term['short-term_memorability'][test_index]\n",
    "  scores_BR_short_term.append(get_corr_for_model(BayesianRidge(), X_train, X_test, y_train, y_test))"
   ]
  },
  {
   "cell_type": "markdown",
   "metadata": {
    "colab_type": "text",
    "id": "0f3yfks49cTu"
   },
   "source": [
    "Checking scores of our model"
   ]
  },
  {
   "cell_type": "code",
   "execution_count": 66,
   "metadata": {
    "colab": {
     "base_uri": "https://localhost:8080/",
     "height": 51
    },
    "colab_type": "code",
    "id": "0_ONQ2vHKWzI",
    "outputId": "ae9a9f15-622f-4d81-c57f-5aac848e2382"
   },
   "outputs": [
    {
     "name": "stdout",
     "output_type": "stream",
     "text": [
      "average score for Bayesian Ridge short term memory = 0.28408236759096844\n",
      "average score for Bayesian Ridge long term memory = 0.128516651068326\n"
     ]
    }
   ],
   "source": [
    "avg_score_short_term_BR_C3D = sum(scores_BR_short_term)/len(scores_BR_short_term)\n",
    "print(\"average score for Bayesian Ridge short term memory = \" + str(avg_score_short_term_BR_C3D))\n",
    "avg_score_long_term_BR_C3D = sum(scores_BR_long_term)/len(scores_BR_long_term)\n",
    "print(\"average score for Bayesian Ridge long term memory = \" + str(avg_score_long_term_BR_C3D))"
   ]
  },
  {
   "cell_type": "markdown",
   "metadata": {
    "colab_type": "text",
    "id": "2RTrBaq99o7l"
   },
   "source": [
    "**Bayesian Ridge on combined dataset (captions + aesthetic + C3D)**"
   ]
  },
  {
   "cell_type": "markdown",
   "metadata": {
    "colab_type": "text",
    "id": "Zr4hlk6oZeNt"
   },
   "source": [
    "We can see that Bayesian ridge is performing well for C3D, Aesthetic and captions individually. Let us try to run Bayesian Ridge on the complete model"
   ]
  },
  {
   "cell_type": "code",
   "execution_count": 67,
   "metadata": {
    "colab": {},
    "colab_type": "code",
    "id": "YjE3RKd8Kpjg"
   },
   "outputs": [],
   "source": [
    "X=training_set.drop(columns='video')\n",
    "\n",
    "scores_BR_short_term = []\n",
    "scores_BR_long_term = []\n",
    "\n",
    "for train_index, test_index in kf.split(X):\n",
    "  X_train, X_test, y_train, y_test =X.iloc[train_index, :], X.iloc[test_index, :],testing_set_long_term['long-term_memorability'][train_index],testing_set_long_term['long-term_memorability'][test_index]\n",
    "  training_caption, testing_caption  = vectorize_data(X_train[['caption']], X_test[['caption']])\n",
    "  X_train = X_train.drop(columns='caption')\n",
    "  X_test = X_test.drop(columns='caption')\n",
    "  final_train = sp.sparse.hstack((training_caption,X_train.values.astype(float)),format='csr')\n",
    "  final_test = sp.sparse.hstack((testing_caption,X_test.values),format='csr')\n",
    "  scores_BR_long_term.append(get_corr_for_model(BayesianRidge(), final_train.toarray(), final_test.toarray(), y_train, y_test))\n",
    "  X_train, X_test, y_train, y_test =X.iloc[train_index, :], X.iloc[test_index, :],testing_set_short_term['short-term_memorability'][train_index],testing_set_short_term['short-term_memorability'][test_index]\n",
    "  training_caption, testing_caption  = vectorize_data(X_train[['caption']], X_test[['caption']])\n",
    "  X_train = X_train.drop(columns='caption')\n",
    "  X_test = X_test.drop(columns='caption')\n",
    "  final_train = sp.sparse.hstack((training_caption,X_train.values.astype(float)),format='csr')\n",
    "  final_test = sp.sparse.hstack((testing_caption,X_test.values.astype(float)),format='csr')\n",
    "  scores_BR_short_term.append(get_corr_for_model(BayesianRidge(), final_train.toarray(), final_test.toarray(), y_train, y_test))"
   ]
  },
  {
   "cell_type": "markdown",
   "metadata": {
    "colab_type": "text",
    "id": "dOelP_cK92VO"
   },
   "source": [
    "Checking average score "
   ]
  },
  {
   "cell_type": "code",
   "execution_count": 68,
   "metadata": {
    "colab": {
     "base_uri": "https://localhost:8080/",
     "height": 51
    },
    "colab_type": "code",
    "id": "j6KDo7uvXIny",
    "outputId": "fc12bba7-66cb-441e-9c05-f3784e48ad65"
   },
   "outputs": [
    {
     "name": "stdout",
     "output_type": "stream",
     "text": [
      "average score for Bayesian Ridge short term memory = 0.4318639968963205\n",
      "average score for Bayesian Ridge long term memory = 0.17191436369612453\n"
     ]
    }
   ],
   "source": [
    "avg_score_short_term_BR_combined = sum(scores_BR_short_term)/len(scores_BR_short_term)\n",
    "print(\"average score for Bayesian Ridge short term memory = \" + str(avg_score_short_term_BR_combined))\n",
    "avg_score_long_term_BR_combined = sum(scores_BR_long_term)/len(scores_BR_long_term)\n",
    "print(\"average score for Bayesian Ridge long term memory = \" + str(avg_score_long_term_BR_combined))"
   ]
  },
  {
   "cell_type": "markdown",
   "metadata": {
    "colab_type": "text",
    "id": "HghIUS5-ZrgP"
   },
   "source": [
    "From the results, we can see that our short term memoribility score has improved, but our long term memory score has reduced compared to the score of just captions. By applying an ensemble technique I wil be able to assign weights to my models and use it for prediction. Hence applying ensemble technique using weighted average technique"
   ]
  },
  {
   "cell_type": "markdown",
   "metadata": {
    "colab_type": "text",
    "id": "wOCMAmv496pm"
   },
   "source": [
    "### **Ensemble model building**"
   ]
  },
  {
   "cell_type": "markdown",
   "metadata": {
    "colab_type": "text",
    "id": "jl2VYNG1-Cx3"
   },
   "source": [
    "Function to build model on captions"
   ]
  },
  {
   "cell_type": "code",
   "execution_count": 69,
   "metadata": {
    "colab": {},
    "colab_type": "code",
    "id": "MLybjY5ck7ns"
   },
   "outputs": [],
   "source": [
    "def model_for_captions(X_train, X_test, y_train, y_test):\n",
    "  training_caption, testing_caption  = vectorize_data(X_train[['caption']], X_test[['caption']])\n",
    "  model = BayesianRidge()\n",
    "  model.fit(training_caption.toarray(), y_train)\n",
    "  predictions_validation = model.predict(testing_caption.toarray())\n",
    "  return predictions_validation"
   ]
  },
  {
   "cell_type": "markdown",
   "metadata": {
    "colab_type": "text",
    "id": "329KREAf-H8F"
   },
   "source": [
    "Function to build model on Aesthetics"
   ]
  },
  {
   "cell_type": "code",
   "execution_count": 70,
   "metadata": {
    "colab": {},
    "colab_type": "code",
    "id": "JMdSMrwhmLoC"
   },
   "outputs": [],
   "source": [
    "def model_for_AES(X_train, X_test, y_train, y_test):\n",
    "  Aesthetic_features_train = X_train[X_train.columns[X_train.columns.str.startswith('AES')]]\n",
    "  Aesthetic_features_test = X_test[X_test.columns[X_test.columns.str.startswith('AES')]]\n",
    "  model = BayesianRidge()\n",
    "  model.fit(Aesthetic_features_train, y_train)\n",
    "  predictions_validation = model.predict(Aesthetic_features_test)\n",
    "  return predictions_validation"
   ]
  },
  {
   "cell_type": "markdown",
   "metadata": {
    "colab_type": "text",
    "id": "lOYg3l6M-MPx"
   },
   "source": [
    "Function to build model on C3D"
   ]
  },
  {
   "cell_type": "code",
   "execution_count": 71,
   "metadata": {
    "colab": {},
    "colab_type": "code",
    "id": "s5RtBal9mu-w"
   },
   "outputs": [],
   "source": [
    "def model_for_C3D(X_train, X_test, y_train, y_test):\n",
    "  C3D_features_train = X_train[X_train.columns[X_train.columns.str.startswith('C3D')]]\n",
    "  C3D_features_test = X_test[X_test.columns[X_test.columns.str.startswith('C3D')]]\n",
    "  model = BayesianRidge()\n",
    "  model.fit(C3D_features_train, y_train)\n",
    "  predictions_validation = model.predict(C3D_features_test)\n",
    "  return predictions_validation"
   ]
  },
  {
   "cell_type": "markdown",
   "metadata": {
    "colab_type": "text",
    "id": "mm0UhnW6-Q0T"
   },
   "source": [
    "Function to model for long term memorability"
   ]
  },
  {
   "cell_type": "code",
   "execution_count": 72,
   "metadata": {
    "colab": {},
    "colab_type": "code",
    "id": "dDuzMgomnUNF"
   },
   "outputs": [],
   "source": [
    "def predict_for_long_term(X_train, X_test, y_train, y_test):\n",
    "  predictions_for_captions_long_term = model_for_captions(X_train, X_test, y_train, y_test)\n",
    "  predictions_for_AES_long_term =  model_for_AES(X_train, X_test, y_train, y_test)\n",
    "  predictions_for_C3D_long_term = model_for_C3D(X_train, X_test, y_train, y_test)\n",
    "  Prediction_final = 0.5*predictions_for_captions_long_term + 0.1*predictions_for_AES_long_term + 0.4*predictions_for_C3D_long_term\n",
    "  return Prediction_final"
   ]
  },
  {
   "cell_type": "markdown",
   "metadata": {
    "colab_type": "text",
    "id": "MEHSaPHW-VUg"
   },
   "source": [
    "Function to model for short term memorability"
   ]
  },
  {
   "cell_type": "code",
   "execution_count": 73,
   "metadata": {
    "colab": {},
    "colab_type": "code",
    "id": "TitU3twinzyq"
   },
   "outputs": [],
   "source": [
    "def predict_for_short_term(X_train, X_test, y_train, y_test):\n",
    "  predictions_for_captions_short_term = model_for_captions(X_train, X_test, y_train, y_test)\n",
    "  predictions_for_AES_short_term =  model_for_AES(X_train, X_test, y_train, y_test)\n",
    "  predictions_for_C3D_short_term = model_for_C3D(X_train, X_test, y_train, y_test)\n",
    "  Prediction_final = 0.6*predictions_for_captions_short_term + 0.1*predictions_for_AES_short_term + 0.3*predictions_for_C3D_short_term\n",
    "  return Prediction_final"
   ]
  },
  {
   "cell_type": "markdown",
   "metadata": {
    "colab_type": "text",
    "id": "vM_dyCz6-ZAx"
   },
   "source": [
    "Function to get Spearman correlation value for the results"
   ]
  },
  {
   "cell_type": "code",
   "execution_count": 74,
   "metadata": {
    "colab": {},
    "colab_type": "code",
    "id": "Dr9F4ph4oZEz"
   },
   "outputs": [],
   "source": [
    "def get_spearman_correlation(Predictions,y_test):\n",
    "  corr, p_value = spearmanr(y_test, Predictions)\n",
    "  return corr"
   ]
  },
  {
   "cell_type": "markdown",
   "metadata": {
    "colab_type": "text",
    "id": "7pswVf2r-f_T"
   },
   "source": [
    "Applying KFolds technique"
   ]
  },
  {
   "cell_type": "code",
   "execution_count": 75,
   "metadata": {
    "colab": {},
    "colab_type": "code",
    "id": "O4l9_nH-peMU"
   },
   "outputs": [],
   "source": [
    "kf_ensemble = KFold(n_splits=10)"
   ]
  },
  {
   "cell_type": "markdown",
   "metadata": {
    "colab_type": "text",
    "id": "r_jtB0MK-k5y"
   },
   "source": [
    "Applying ensemble model on training and validation set "
   ]
  },
  {
   "cell_type": "code",
   "execution_count": 76,
   "metadata": {
    "colab": {},
    "colab_type": "code",
    "id": "Ql1UBDFvjllg"
   },
   "outputs": [],
   "source": [
    "X=training_set.drop(columns='video')\n",
    "\n",
    "scores_BR_short_term = []\n",
    "scores_BR_long_term = []\n",
    "\n",
    "for train_index, test_index in kf_ensemble.split(X):\n",
    "  X_train, X_test, y_train, y_test =X.iloc[train_index, :], X.iloc[test_index, :],testing_set_long_term['long-term_memorability'][train_index],testing_set_long_term['long-term_memorability'][test_index]\n",
    "  Prediction_final_long_term = predict_for_long_term(X_train, X_test, y_train, y_test)\n",
    "  scores_BR_long_term.append(get_spearman_correlation(Prediction_final_long_term,y_test))\n",
    "  X_train, X_test, y_train, y_test =X.iloc[train_index, :], X.iloc[test_index, :],testing_set_short_term['short-term_memorability'][train_index],testing_set_short_term['short-term_memorability'][test_index]\n",
    "  Prediction_final_short_term = predict_for_short_term(X_train, X_test, y_train, y_test)\n",
    "  scores_BR_short_term.append(get_spearman_correlation(Prediction_final_short_term,y_test))"
   ]
  },
  {
   "cell_type": "markdown",
   "metadata": {
    "colab_type": "text",
    "id": "AQHFwNBP-zQb"
   },
   "source": [
    "Getting the average score, various simulations were run to find the optimal value for the weights"
   ]
  },
  {
   "cell_type": "code",
   "execution_count": 77,
   "metadata": {
    "colab": {
     "base_uri": "https://localhost:8080/",
     "height": 51
    },
    "colab_type": "code",
    "id": "ldu0O5RsjvHP",
    "outputId": "8e44d069-4598-4732-9850-da13d197251b"
   },
   "outputs": [
    {
     "name": "stdout",
     "output_type": "stream",
     "text": [
      "average score for Bayesian Ridge short term memory ensemble model = 0.43885267490313196\n",
      "average score for Bayesian Ridge long term memory ensemble model = 0.19873081506978754\n"
     ]
    }
   ],
   "source": [
    "# weights 0.8, 0.1, 0.1 --- captions, AES, C3D\n",
    "avg_score_short_term_BR_ensemble = sum(scores_BR_short_term)/len(scores_BR_short_term)\n",
    "print(\"average score for Bayesian Ridge short term memory ensemble model = \" + str(avg_score_short_term_BR_ensemble))\n",
    "avg_score_long_term_BR_ensemble = sum(scores_BR_long_term)/len(scores_BR_long_term)\n",
    "print(\"average score for Bayesian Ridge long term memory ensemble model = \" + str(avg_score_long_term_BR_ensemble))"
   ]
  },
  {
   "cell_type": "code",
   "execution_count": 78,
   "metadata": {
    "colab": {
     "base_uri": "https://localhost:8080/",
     "height": 51
    },
    "colab_type": "code",
    "id": "xpga5elwrh6L",
    "outputId": "660937e4-a197-424b-b490-a6d747ce7ecd"
   },
   "outputs": [
    {
     "name": "stdout",
     "output_type": "stream",
     "text": [
      "average score for Bayesian Ridge short term memory ensemble model = 0.43885267490313196\n",
      "average score for Bayesian Ridge long term memory ensemble model = 0.19873081506978754\n"
     ]
    }
   ],
   "source": [
    "# weights 0.75, 0.1, 0.15 --- captions, AES, C3D\n",
    "avg_score_short_term_BR_ensemble = sum(scores_BR_short_term)/len(scores_BR_short_term)\n",
    "print(\"average score for Bayesian Ridge short term memory ensemble model = \" + str(avg_score_short_term_BR_ensemble))\n",
    "avg_score_long_term_BR_ensemble = sum(scores_BR_long_term)/len(scores_BR_long_term)\n",
    "print(\"average score for Bayesian Ridge long term memory ensemble model = \" + str(avg_score_long_term_BR_ensemble))"
   ]
  },
  {
   "cell_type": "code",
   "execution_count": 79,
   "metadata": {
    "colab": {
     "base_uri": "https://localhost:8080/",
     "height": 51
    },
    "colab_type": "code",
    "id": "HmTsO9gPvIJ_",
    "outputId": "1b44635a-5278-42d1-f670-78d8736af466"
   },
   "outputs": [
    {
     "name": "stdout",
     "output_type": "stream",
     "text": [
      "average score for Bayesian Ridge short term memory ensemble model = 0.43885267490313196\n",
      "average score for Bayesian Ridge long term memory ensemble model = 0.19873081506978754\n"
     ]
    }
   ],
   "source": [
    "# weights 0.7, 0.1, 0.2 --- captions, AES, C3D\n",
    "## weights 0.7, 0.1, 0.2 --- captions, AES, C3D\n",
    "avg_score_short_term_BR_ensemble = sum(scores_BR_short_term)/len(scores_BR_short_term)\n",
    "print(\"average score for Bayesian Ridge short term memory ensemble model = \" + str(avg_score_short_term_BR_ensemble))\n",
    "avg_score_long_term_BR_ensemble = sum(scores_BR_long_term)/len(scores_BR_long_term)\n",
    "print(\"average score for Bayesian Ridge long term memory ensemble model = \" + str(avg_score_long_term_BR_ensemble))"
   ]
  },
  {
   "cell_type": "code",
   "execution_count": 80,
   "metadata": {
    "colab": {
     "base_uri": "https://localhost:8080/",
     "height": 51
    },
    "colab_type": "code",
    "id": "ncuCw0ODxb83",
    "outputId": "afcfdf61-80b8-4c98-d6e2-b5994e4de9c1"
   },
   "outputs": [
    {
     "name": "stdout",
     "output_type": "stream",
     "text": [
      "average score for Bayesian Ridge short term memory ensemble model = 0.43885267490313196\n",
      "average score for Bayesian Ridge long term memory ensemble model = 0.19873081506978754\n"
     ]
    }
   ],
   "source": [
    "# weights 0.6, 0.1, 0.3 --- captions, AES, C3D\n",
    "## weights 0.6, 0.1, 0.3 --- captions, AES, C3D\n",
    "avg_score_short_term_BR_ensemble = sum(scores_BR_short_term)/len(scores_BR_short_term)\n",
    "print(\"average score for Bayesian Ridge short term memory ensemble model = \" + str(avg_score_short_term_BR_ensemble))\n",
    "avg_score_long_term_BR_ensemble = sum(scores_BR_long_term)/len(scores_BR_long_term)\n",
    "print(\"average score for Bayesian Ridge long term memory ensemble model = \" + str(avg_score_long_term_BR_ensemble))"
   ]
  },
  {
   "cell_type": "code",
   "execution_count": 81,
   "metadata": {
    "colab": {
     "base_uri": "https://localhost:8080/",
     "height": 51
    },
    "colab_type": "code",
    "id": "x3lXDO720YuQ",
    "outputId": "b33c41da-6621-4c50-c809-5e79a6d3e336"
   },
   "outputs": [
    {
     "name": "stdout",
     "output_type": "stream",
     "text": [
      "average score for Bayesian Ridge short term memory ensemble model = 0.43885267490313196\n",
      "average score for Bayesian Ridge long term memory ensemble model = 0.19873081506978754\n"
     ]
    }
   ],
   "source": [
    "# weights 0.5, 0.1, 0.4 --- captions, AES, C3D\n",
    "## weights 0.5, 0.1, 0.4 --- captions, AES, C3D\n",
    "avg_score_short_term_BR_ensemble = sum(scores_BR_short_term)/len(scores_BR_short_term)\n",
    "print(\"average score for Bayesian Ridge short term memory ensemble model = \" + str(avg_score_short_term_BR_ensemble))\n",
    "avg_score_long_term_BR_ensemble = sum(scores_BR_long_term)/len(scores_BR_long_term)\n",
    "print(\"average score for Bayesian Ridge long term memory ensemble model = \" + str(avg_score_long_term_BR_ensemble))"
   ]
  },
  {
   "cell_type": "markdown",
   "metadata": {
    "colab_type": "text",
    "id": "r3BqPJJq5GXh"
   },
   "source": [
    "We can see that our performance for long term increased but short term deteriorated, hence we should use weights 0.6, 0.1, 0.3 for short term, and 0.5, 0.1 and 0.4 for long term"
   ]
  },
  {
   "cell_type": "code",
   "execution_count": 82,
   "metadata": {
    "colab": {
     "base_uri": "https://localhost:8080/",
     "height": 51
    },
    "colab_type": "code",
    "id": "nUP-WRk63-wO",
    "outputId": "cc748e70-5a8a-47bd-c15a-cc1ea2c66a49"
   },
   "outputs": [
    {
     "name": "stdout",
     "output_type": "stream",
     "text": [
      "average score for Bayesian Ridge short term memory ensemble model = 0.43885267490313196\n",
      "average score for Bayesian Ridge long term memory ensemble model = 0.19873081506978754\n"
     ]
    }
   ],
   "source": [
    "# weights 0.6, 0.1, 0.3 --- captions, AES, C3D\n",
    "## weights 0.5, 0.1, 0.4 --- captions, AES, C3D\n",
    "avg_score_short_term_BR_ensemble = sum(scores_BR_short_term)/len(scores_BR_short_term)\n",
    "print(\"average score for Bayesian Ridge short term memory ensemble model = \" + str(avg_score_short_term_BR_ensemble))\n",
    "avg_score_long_term_BR_ensemble = sum(scores_BR_long_term)/len(scores_BR_long_term)\n",
    "print(\"average score for Bayesian Ridge long term memory ensemble model = \" + str(avg_score_long_term_BR_ensemble))"
   ]
  },
  {
   "cell_type": "markdown",
   "metadata": {
    "colab_type": "text",
    "id": "Lw_qE1WAv5eV"
   },
   "source": [
    "Now that I have decided weights for my model, we will go forward and predict for our test data set that has been shared to us without the target variables  "
   ]
  },
  {
   "cell_type": "markdown",
   "metadata": {
    "colab_type": "text",
    "id": "uZtE_HhG_bQr"
   },
   "source": [
    "## Model on Test Data"
   ]
  },
  {
   "cell_type": "markdown",
   "metadata": {
    "colab_type": "text",
    "id": "aHEocfjfwjLB"
   },
   "source": [
    "Loading our test data "
   ]
  },
  {
   "cell_type": "code",
   "execution_count": 0,
   "metadata": {
    "colab": {
     "base_uri": "https://localhost:8080/",
     "height": 34
    },
    "colab_type": "code",
    "id": "oM27_lMI4Cob",
    "outputId": "1ce53fa8-5c98-4527-9742-f7335c77b6d7"
   },
   "outputs": [
    {
     "name": "stdout",
     "output_type": "stream",
     "text": [
      "Mounted at /content/drive/\n"
     ]
    }
   ],
   "source": [
    "# drive.mount('/content/drive/', force_remount=True)\n",
    "# os.chdir(\"/content/drive/My Drive/\")"
   ]
  },
  {
   "cell_type": "code",
   "execution_count": 0,
   "metadata": {
    "colab": {
     "base_uri": "https://localhost:8080/",
     "height": 34
    },
    "colab_type": "code",
    "id": "9-IQbEtLwPKN",
    "outputId": "5ca06a45-5275-40eb-e19d-e497e4253595"
   },
   "outputs": [
    {
     "name": "stdout",
     "output_type": "stream",
     "text": [
      "total files read = 2000\n"
     ]
    }
   ],
   "source": [
    "path=\"D:/DCU/2nd Semester/Assignments/Machine Learning/My Assignment/dev-set_aesthetic-features/features/aesthetic_visual_features/aesthetic_feat_dev-set_median/\"\n",
    "files = reading_file_names(path)\n",
    "dataframe_aesthetic_test = pd.DataFrame()\n",
    "for filename in files:\n",
    "  dataframe_aesthetic_test = read_features_from_file(dataframe_aesthetic_test, filename)"
   ]
  },
  {
   "cell_type": "code",
   "execution_count": 0,
   "metadata": {
    "colab": {},
    "colab_type": "code",
    "id": "rIw0lzdA5gRE"
   },
   "outputs": [],
   "source": [
    "new_columns = list()\n",
    "for colname in dataframe_aesthetic_test.columns:\n",
    "  new_columns.append('AES_' + str(colname))\n",
    "dataframe_aesthetic_test.columns = new_columns\n",
    "dataframe_aesthetic_test = dataframe_aesthetic_test.rename(columns={'AES_video':'video'})"
   ]
  },
  {
   "cell_type": "code",
   "execution_count": 0,
   "metadata": {
    "colab": {
     "base_uri": "https://localhost:8080/",
     "height": 253
    },
    "colab_type": "code",
    "id": "2H52kilf6cRu",
    "outputId": "b8117ceb-661f-4839-a6f7-b7ce22e7a4ff"
   },
   "outputs": [
    {
     "data": {
      "text/html": [
       "<div>\n",
       "<style scoped>\n",
       "    .dataframe tbody tr th:only-of-type {\n",
       "        vertical-align: middle;\n",
       "    }\n",
       "\n",
       "    .dataframe tbody tr th {\n",
       "        vertical-align: top;\n",
       "    }\n",
       "\n",
       "    .dataframe thead th {\n",
       "        text-align: right;\n",
       "    }\n",
       "</style>\n",
       "<table border=\"1\" class=\"dataframe\">\n",
       "  <thead>\n",
       "    <tr style=\"text-align: right;\">\n",
       "      <th></th>\n",
       "      <th>AES_0</th>\n",
       "      <th>AES_1</th>\n",
       "      <th>AES_2</th>\n",
       "      <th>AES_3</th>\n",
       "      <th>AES_4</th>\n",
       "      <th>AES_5</th>\n",
       "      <th>AES_6</th>\n",
       "      <th>AES_7</th>\n",
       "      <th>AES_8</th>\n",
       "      <th>AES_9</th>\n",
       "      <th>...</th>\n",
       "      <th>AES_100</th>\n",
       "      <th>AES_101</th>\n",
       "      <th>AES_102</th>\n",
       "      <th>AES_103</th>\n",
       "      <th>AES_104</th>\n",
       "      <th>AES_105</th>\n",
       "      <th>AES_106</th>\n",
       "      <th>AES_107</th>\n",
       "      <th>AES_108</th>\n",
       "      <th>video</th>\n",
       "    </tr>\n",
       "  </thead>\n",
       "  <tbody>\n",
       "    <tr>\n",
       "      <th>0</th>\n",
       "      <td>0.270589</td>\n",
       "      <td>0.354729</td>\n",
       "      <td>0.516568</td>\n",
       "      <td>0.303221</td>\n",
       "      <td>0.446719</td>\n",
       "      <td>0.251911</td>\n",
       "      <td>41.882477</td>\n",
       "      <td>0.102564</td>\n",
       "      <td>0.014481</td>\n",
       "      <td>7.0</td>\n",
       "      <td>...</td>\n",
       "      <td>0.000031</td>\n",
       "      <td>0.072940</td>\n",
       "      <td>0.382474</td>\n",
       "      <td>0.531038</td>\n",
       "      <td>1.933607</td>\n",
       "      <td>0.0</td>\n",
       "      <td>-0.610044</td>\n",
       "      <td>0.356858</td>\n",
       "      <td>-0.018747</td>\n",
       "      <td>video9901.webm</td>\n",
       "    </tr>\n",
       "    <tr>\n",
       "      <th>1</th>\n",
       "      <td>0.071170</td>\n",
       "      <td>0.646879</td>\n",
       "      <td>0.600170</td>\n",
       "      <td>0.636162</td>\n",
       "      <td>0.429450</td>\n",
       "      <td>0.352698</td>\n",
       "      <td>50.375382</td>\n",
       "      <td>0.083333</td>\n",
       "      <td>0.003462</td>\n",
       "      <td>1.0</td>\n",
       "      <td>...</td>\n",
       "      <td>-0.000569</td>\n",
       "      <td>0.717446</td>\n",
       "      <td>0.043435</td>\n",
       "      <td>0.393597</td>\n",
       "      <td>1.490415</td>\n",
       "      <td>0.0</td>\n",
       "      <td>0.039880</td>\n",
       "      <td>0.712733</td>\n",
       "      <td>1.289268</td>\n",
       "      <td>video8561.webm</td>\n",
       "    </tr>\n",
       "    <tr>\n",
       "      <th>2</th>\n",
       "      <td>0.587458</td>\n",
       "      <td>0.326311</td>\n",
       "      <td>0.507446</td>\n",
       "      <td>0.399857</td>\n",
       "      <td>0.432789</td>\n",
       "      <td>0.282504</td>\n",
       "      <td>43.665699</td>\n",
       "      <td>0.611111</td>\n",
       "      <td>0.013566</td>\n",
       "      <td>3.0</td>\n",
       "      <td>...</td>\n",
       "      <td>-0.000003</td>\n",
       "      <td>0.016111</td>\n",
       "      <td>0.133481</td>\n",
       "      <td>0.234052</td>\n",
       "      <td>1.650592</td>\n",
       "      <td>0.0</td>\n",
       "      <td>0.805432</td>\n",
       "      <td>0.134323</td>\n",
       "      <td>0.339574</td>\n",
       "      <td>video8554.webm</td>\n",
       "    </tr>\n",
       "    <tr>\n",
       "      <th>3</th>\n",
       "      <td>0.341185</td>\n",
       "      <td>0.251274</td>\n",
       "      <td>0.548991</td>\n",
       "      <td>0.296381</td>\n",
       "      <td>0.493898</td>\n",
       "      <td>0.254785</td>\n",
       "      <td>46.605301</td>\n",
       "      <td>0.583333</td>\n",
       "      <td>0.012088</td>\n",
       "      <td>2.0</td>\n",
       "      <td>...</td>\n",
       "      <td>0.002806</td>\n",
       "      <td>0.278534</td>\n",
       "      <td>0.438014</td>\n",
       "      <td>0.241516</td>\n",
       "      <td>2.065453</td>\n",
       "      <td>0.0</td>\n",
       "      <td>0.085207</td>\n",
       "      <td>0.277910</td>\n",
       "      <td>0.459928</td>\n",
       "      <td>video8546.webm</td>\n",
       "    </tr>\n",
       "    <tr>\n",
       "      <th>4</th>\n",
       "      <td>0.112613</td>\n",
       "      <td>0.277869</td>\n",
       "      <td>0.537006</td>\n",
       "      <td>0.197711</td>\n",
       "      <td>0.461235</td>\n",
       "      <td>0.287246</td>\n",
       "      <td>44.554962</td>\n",
       "      <td>0.166667</td>\n",
       "      <td>0.001334</td>\n",
       "      <td>3.0</td>\n",
       "      <td>...</td>\n",
       "      <td>-0.001477</td>\n",
       "      <td>0.009622</td>\n",
       "      <td>0.016891</td>\n",
       "      <td>0.123139</td>\n",
       "      <td>0.861777</td>\n",
       "      <td>0.0</td>\n",
       "      <td>-0.081865</td>\n",
       "      <td>0.049326</td>\n",
       "      <td>0.419058</td>\n",
       "      <td>video8668.webm</td>\n",
       "    </tr>\n",
       "  </tbody>\n",
       "</table>\n",
       "<p>5 rows × 110 columns</p>\n",
       "</div>"
      ],
      "text/plain": [
       "      AES_0     AES_1     AES_2     AES_3     AES_4     AES_5      AES_6  \\\n",
       "0  0.270589  0.354729  0.516568  0.303221  0.446719  0.251911  41.882477   \n",
       "1  0.071170  0.646879  0.600170  0.636162  0.429450  0.352698  50.375382   \n",
       "2  0.587458  0.326311  0.507446  0.399857  0.432789  0.282504  43.665699   \n",
       "3  0.341185  0.251274  0.548991  0.296381  0.493898  0.254785  46.605301   \n",
       "4  0.112613  0.277869  0.537006  0.197711  0.461235  0.287246  44.554962   \n",
       "\n",
       "      AES_7     AES_8  AES_9  ...   AES_100   AES_101   AES_102   AES_103  \\\n",
       "0  0.102564  0.014481    7.0  ...  0.000031  0.072940  0.382474  0.531038   \n",
       "1  0.083333  0.003462    1.0  ... -0.000569  0.717446  0.043435  0.393597   \n",
       "2  0.611111  0.013566    3.0  ... -0.000003  0.016111  0.133481  0.234052   \n",
       "3  0.583333  0.012088    2.0  ...  0.002806  0.278534  0.438014  0.241516   \n",
       "4  0.166667  0.001334    3.0  ... -0.001477  0.009622  0.016891  0.123139   \n",
       "\n",
       "    AES_104  AES_105   AES_106   AES_107   AES_108           video  \n",
       "0  1.933607      0.0 -0.610044  0.356858 -0.018747  video9901.webm  \n",
       "1  1.490415      0.0  0.039880  0.712733  1.289268  video8561.webm  \n",
       "2  1.650592      0.0  0.805432  0.134323  0.339574  video8554.webm  \n",
       "3  2.065453      0.0  0.085207  0.277910  0.459928  video8546.webm  \n",
       "4  0.861777      0.0 -0.081865  0.049326  0.419058  video8668.webm  \n",
       "\n",
       "[5 rows x 110 columns]"
      ]
     },
     "execution_count": 190,
     "metadata": {
      "tags": []
     },
     "output_type": "execute_result"
    }
   ],
   "source": [
    "dataframe_aesthetic_test.head()"
   ]
  },
  {
   "cell_type": "markdown",
   "metadata": {
    "colab_type": "text",
    "id": "ky2xYmaQ6WUR"
   },
   "source": [
    "Reading test caption data "
   ]
  },
  {
   "cell_type": "code",
   "execution_count": 0,
   "metadata": {
    "colab": {},
    "colab_type": "code",
    "id": "j-L24GQ25yEp"
   },
   "outputs": [],
   "source": [
    "# os.chdir(\"/content/drive/My Drive/CA684_Assignment_Data/test-set/\")"
   ]
  },
  {
   "cell_type": "code",
   "execution_count": 0,
   "metadata": {
    "colab": {},
    "colab_type": "code",
    "id": "CtTtnhC959cF"
   },
   "outputs": [],
   "source": [
    "dataframe_captions_test = pd.read_csv('D:/DCU/2nd Semester/Assignments/Machine Learning/My Assignment/Captions/dev-set_video-captions.txt', sep='\\t',names = ['video','caption'])"
   ]
  },
  {
   "cell_type": "code",
   "execution_count": 0,
   "metadata": {
    "colab": {
     "base_uri": "https://localhost:8080/",
     "height": 204
    },
    "colab_type": "code",
    "id": "m6cJjso56iBj",
    "outputId": "fdb9e3db-4db9-4b9f-a636-46966f4dc3b3"
   },
   "outputs": [
    {
     "data": {
      "text/html": [
       "<div>\n",
       "<style scoped>\n",
       "    .dataframe tbody tr th:only-of-type {\n",
       "        vertical-align: middle;\n",
       "    }\n",
       "\n",
       "    .dataframe tbody tr th {\n",
       "        vertical-align: top;\n",
       "    }\n",
       "\n",
       "    .dataframe thead th {\n",
       "        text-align: right;\n",
       "    }\n",
       "</style>\n",
       "<table border=\"1\" class=\"dataframe\">\n",
       "  <thead>\n",
       "    <tr style=\"text-align: right;\">\n",
       "      <th></th>\n",
       "      <th>video</th>\n",
       "      <th>caption</th>\n",
       "    </tr>\n",
       "  </thead>\n",
       "  <tbody>\n",
       "    <tr>\n",
       "      <th>0</th>\n",
       "      <td>video7494.webm</td>\n",
       "      <td>green-jeep-struggling-to-drive-over-huge-rocks</td>\n",
       "    </tr>\n",
       "    <tr>\n",
       "      <th>1</th>\n",
       "      <td>video7495.webm</td>\n",
       "      <td>hiking-woman-tourist-is-walking-forward-in-mou...</td>\n",
       "    </tr>\n",
       "    <tr>\n",
       "      <th>2</th>\n",
       "      <td>video7496.webm</td>\n",
       "      <td>close-up-of-african-american-doctors-hands-usi...</td>\n",
       "    </tr>\n",
       "    <tr>\n",
       "      <th>3</th>\n",
       "      <td>video7497.webm</td>\n",
       "      <td>slow-motion-of-a-man-using-treadmill-in-the-gy...</td>\n",
       "    </tr>\n",
       "    <tr>\n",
       "      <th>4</th>\n",
       "      <td>video7498.webm</td>\n",
       "      <td>slow-motion-of-photographer-in-national-park</td>\n",
       "    </tr>\n",
       "  </tbody>\n",
       "</table>\n",
       "</div>"
      ],
      "text/plain": [
       "            video                                            caption\n",
       "0  video7494.webm     green-jeep-struggling-to-drive-over-huge-rocks\n",
       "1  video7495.webm  hiking-woman-tourist-is-walking-forward-in-mou...\n",
       "2  video7496.webm  close-up-of-african-american-doctors-hands-usi...\n",
       "3  video7497.webm  slow-motion-of-a-man-using-treadmill-in-the-gy...\n",
       "4  video7498.webm       slow-motion-of-photographer-in-national-park"
      ]
     },
     "execution_count": 193,
     "metadata": {
      "tags": []
     },
     "output_type": "execute_result"
    }
   ],
   "source": [
    "dataframe_captions_test.head()"
   ]
  },
  {
   "cell_type": "markdown",
   "metadata": {
    "colab_type": "text",
    "id": "K65kEigH6la2"
   },
   "source": [
    "Reading C3D data"
   ]
  },
  {
   "cell_type": "code",
   "execution_count": 0,
   "metadata": {
    "colab": {},
    "colab_type": "code",
    "id": "tPhvrlYD79o0"
   },
   "outputs": [],
   "source": [
    "os.chdir(\"/content/drive/My Drive/CA684_Assignment_Data/test-set/C3D_test/\")"
   ]
  },
  {
   "cell_type": "code",
   "execution_count": 0,
   "metadata": {
    "colab": {
     "base_uri": "https://localhost:8080/",
     "height": 34
    },
    "colab_type": "code",
    "id": "LW0Kn3j57KM5",
    "outputId": "f3df6dff-fd9c-476a-fd84-06b7fda7f007"
   },
   "outputs": [
    {
     "name": "stdout",
     "output_type": "stream",
     "text": [
      "total files read = 2000\n"
     ]
    }
   ],
   "source": [
    "path=\"/content/drive/My Drive/CA684_Assignment_Data/test-set/C3D_test/\"\n",
    "files = reading_file_names(path)\n",
    "dataframe_c3d_test = pd.DataFrame()\n",
    "for filename in files:\n",
    "  dataframe_c3d_test = read_c3d_from_file(dataframe_c3d_test, filename)"
   ]
  },
  {
   "cell_type": "code",
   "execution_count": 0,
   "metadata": {
    "colab": {},
    "colab_type": "code",
    "id": "knAl8ke17aP5"
   },
   "outputs": [],
   "source": [
    "new_columns = list()\n",
    "for colname in dataframe_c3d_test.columns:\n",
    "  new_columns.append('C3D_' + str(colname))\n",
    "dataframe_c3d_test.columns = new_columns\n",
    "dataframe_c3d_test = dataframe_c3d_test.rename(columns={'C3D_video':'video'})"
   ]
  },
  {
   "cell_type": "code",
   "execution_count": 0,
   "metadata": {
    "colab": {},
    "colab_type": "code",
    "id": "dIHD3PgHG50_"
   },
   "outputs": [],
   "source": [
    "dataframe_c3d_test.drop(columns='C3D_101', inplace=True)"
   ]
  },
  {
   "cell_type": "code",
   "execution_count": 0,
   "metadata": {
    "colab": {
     "base_uri": "https://localhost:8080/",
     "height": 338
    },
    "colab_type": "code",
    "id": "RGGOflBm7kIT",
    "outputId": "801c71cd-9641-47fa-ae34-1b60b3775b0c"
   },
   "outputs": [
    {
     "data": {
      "text/html": [
       "<div>\n",
       "<style scoped>\n",
       "    .dataframe tbody tr th:only-of-type {\n",
       "        vertical-align: middle;\n",
       "    }\n",
       "\n",
       "    .dataframe tbody tr th {\n",
       "        vertical-align: top;\n",
       "    }\n",
       "\n",
       "    .dataframe thead th {\n",
       "        text-align: right;\n",
       "    }\n",
       "</style>\n",
       "<table border=\"1\" class=\"dataframe\">\n",
       "  <thead>\n",
       "    <tr style=\"text-align: right;\">\n",
       "      <th></th>\n",
       "      <th>C3D_0</th>\n",
       "      <th>C3D_1</th>\n",
       "      <th>C3D_2</th>\n",
       "      <th>C3D_3</th>\n",
       "      <th>C3D_4</th>\n",
       "      <th>C3D_5</th>\n",
       "      <th>C3D_6</th>\n",
       "      <th>C3D_7</th>\n",
       "      <th>C3D_8</th>\n",
       "      <th>C3D_9</th>\n",
       "      <th>...</th>\n",
       "      <th>C3D_92</th>\n",
       "      <th>C3D_93</th>\n",
       "      <th>C3D_94</th>\n",
       "      <th>C3D_95</th>\n",
       "      <th>C3D_96</th>\n",
       "      <th>C3D_97</th>\n",
       "      <th>C3D_98</th>\n",
       "      <th>C3D_99</th>\n",
       "      <th>C3D_100</th>\n",
       "      <th>video</th>\n",
       "    </tr>\n",
       "  </thead>\n",
       "  <tbody>\n",
       "    <tr>\n",
       "      <th>0</th>\n",
       "      <td>0.663500</td>\n",
       "      <td>0.018277</td>\n",
       "      <td>1.381600e-04</td>\n",
       "      <td>1.000000e-07</td>\n",
       "      <td>9.000000e-08</td>\n",
       "      <td>7.900000e-07</td>\n",
       "      <td>0.000010</td>\n",
       "      <td>3.960000e-06</td>\n",
       "      <td>0.000014</td>\n",
       "      <td>0.000005</td>\n",
       "      <td>...</td>\n",
       "      <td>7.000000e-07</td>\n",
       "      <td>4.600000e-07</td>\n",
       "      <td>4.947800e-04</td>\n",
       "      <td>0.000001</td>\n",
       "      <td>1.300000e-07</td>\n",
       "      <td>1.210000e-06</td>\n",
       "      <td>5.594800e-04</td>\n",
       "      <td>0.010371</td>\n",
       "      <td>0.000009</td>\n",
       "      <td>video9909.webm</td>\n",
       "    </tr>\n",
       "    <tr>\n",
       "      <th>1</th>\n",
       "      <td>0.000900</td>\n",
       "      <td>0.000011</td>\n",
       "      <td>1.926040e-03</td>\n",
       "      <td>2.700000e-07</td>\n",
       "      <td>1.889600e-04</td>\n",
       "      <td>1.806000e-05</td>\n",
       "      <td>0.000003</td>\n",
       "      <td>2.900000e-07</td>\n",
       "      <td>0.000002</td>\n",
       "      <td>0.000403</td>\n",
       "      <td>...</td>\n",
       "      <td>6.710000e-06</td>\n",
       "      <td>1.305590e-03</td>\n",
       "      <td>6.967230e-03</td>\n",
       "      <td>0.000012</td>\n",
       "      <td>1.300000e-07</td>\n",
       "      <td>3.009000e-04</td>\n",
       "      <td>1.082000e-05</td>\n",
       "      <td>0.000009</td>\n",
       "      <td>0.000273</td>\n",
       "      <td>video9908.webm</td>\n",
       "    </tr>\n",
       "    <tr>\n",
       "      <th>2</th>\n",
       "      <td>0.002532</td>\n",
       "      <td>0.002872</td>\n",
       "      <td>4.059100e-04</td>\n",
       "      <td>2.844000e-05</td>\n",
       "      <td>6.084000e-05</td>\n",
       "      <td>3.980000e-05</td>\n",
       "      <td>0.000023</td>\n",
       "      <td>1.442980e-03</td>\n",
       "      <td>0.000666</td>\n",
       "      <td>0.000043</td>\n",
       "      <td>...</td>\n",
       "      <td>1.442330e-03</td>\n",
       "      <td>1.129760e-03</td>\n",
       "      <td>1.813120e-03</td>\n",
       "      <td>0.000271</td>\n",
       "      <td>2.311000e-05</td>\n",
       "      <td>2.909000e-05</td>\n",
       "      <td>3.329000e-05</td>\n",
       "      <td>0.000360</td>\n",
       "      <td>0.000076</td>\n",
       "      <td>video9881.webm</td>\n",
       "    </tr>\n",
       "    <tr>\n",
       "      <th>3</th>\n",
       "      <td>0.000033</td>\n",
       "      <td>0.001178</td>\n",
       "      <td>6.100000e-07</td>\n",
       "      <td>1.250000e-06</td>\n",
       "      <td>6.100000e-07</td>\n",
       "      <td>9.200000e-07</td>\n",
       "      <td>0.000126</td>\n",
       "      <td>7.180000e-06</td>\n",
       "      <td>0.000257</td>\n",
       "      <td>0.000002</td>\n",
       "      <td>...</td>\n",
       "      <td>5.700000e-07</td>\n",
       "      <td>5.000000e-08</td>\n",
       "      <td>1.000000e-07</td>\n",
       "      <td>0.000022</td>\n",
       "      <td>6.000000e-08</td>\n",
       "      <td>1.400000e-07</td>\n",
       "      <td>2.200000e-07</td>\n",
       "      <td>0.000001</td>\n",
       "      <td>0.132085</td>\n",
       "      <td>video9875.webm</td>\n",
       "    </tr>\n",
       "    <tr>\n",
       "      <th>4</th>\n",
       "      <td>0.000156</td>\n",
       "      <td>0.000031</td>\n",
       "      <td>1.002700e-04</td>\n",
       "      <td>6.776900e-04</td>\n",
       "      <td>1.560000e-05</td>\n",
       "      <td>4.020000e-06</td>\n",
       "      <td>0.000006</td>\n",
       "      <td>8.280000e-06</td>\n",
       "      <td>0.000002</td>\n",
       "      <td>0.000014</td>\n",
       "      <td>...</td>\n",
       "      <td>1.620000e-06</td>\n",
       "      <td>3.210000e-06</td>\n",
       "      <td>1.682280e-03</td>\n",
       "      <td>0.000104</td>\n",
       "      <td>4.217000e-05</td>\n",
       "      <td>2.894700e-04</td>\n",
       "      <td>7.764000e-05</td>\n",
       "      <td>0.000843</td>\n",
       "      <td>0.000956</td>\n",
       "      <td>video9858.webm</td>\n",
       "    </tr>\n",
       "  </tbody>\n",
       "</table>\n",
       "<p>5 rows × 102 columns</p>\n",
       "</div>"
      ],
      "text/plain": [
       "      C3D_0     C3D_1         C3D_2         C3D_3         C3D_4         C3D_5  \\\n",
       "0  0.663500  0.018277  1.381600e-04  1.000000e-07  9.000000e-08  7.900000e-07   \n",
       "1  0.000900  0.000011  1.926040e-03  2.700000e-07  1.889600e-04  1.806000e-05   \n",
       "2  0.002532  0.002872  4.059100e-04  2.844000e-05  6.084000e-05  3.980000e-05   \n",
       "3  0.000033  0.001178  6.100000e-07  1.250000e-06  6.100000e-07  9.200000e-07   \n",
       "4  0.000156  0.000031  1.002700e-04  6.776900e-04  1.560000e-05  4.020000e-06   \n",
       "\n",
       "      C3D_6         C3D_7     C3D_8     C3D_9  ...        C3D_92  \\\n",
       "0  0.000010  3.960000e-06  0.000014  0.000005  ...  7.000000e-07   \n",
       "1  0.000003  2.900000e-07  0.000002  0.000403  ...  6.710000e-06   \n",
       "2  0.000023  1.442980e-03  0.000666  0.000043  ...  1.442330e-03   \n",
       "3  0.000126  7.180000e-06  0.000257  0.000002  ...  5.700000e-07   \n",
       "4  0.000006  8.280000e-06  0.000002  0.000014  ...  1.620000e-06   \n",
       "\n",
       "         C3D_93        C3D_94    C3D_95        C3D_96        C3D_97  \\\n",
       "0  4.600000e-07  4.947800e-04  0.000001  1.300000e-07  1.210000e-06   \n",
       "1  1.305590e-03  6.967230e-03  0.000012  1.300000e-07  3.009000e-04   \n",
       "2  1.129760e-03  1.813120e-03  0.000271  2.311000e-05  2.909000e-05   \n",
       "3  5.000000e-08  1.000000e-07  0.000022  6.000000e-08  1.400000e-07   \n",
       "4  3.210000e-06  1.682280e-03  0.000104  4.217000e-05  2.894700e-04   \n",
       "\n",
       "         C3D_98    C3D_99   C3D_100           video  \n",
       "0  5.594800e-04  0.010371  0.000009  video9909.webm  \n",
       "1  1.082000e-05  0.000009  0.000273  video9908.webm  \n",
       "2  3.329000e-05  0.000360  0.000076  video9881.webm  \n",
       "3  2.200000e-07  0.000001  0.132085  video9875.webm  \n",
       "4  7.764000e-05  0.000843  0.000956  video9858.webm  \n",
       "\n",
       "[5 rows x 102 columns]"
      ]
     },
     "execution_count": 202,
     "metadata": {
      "tags": []
     },
     "output_type": "execute_result"
    }
   ],
   "source": [
    "dataframe_c3d_test.head()"
   ]
  },
  {
   "cell_type": "markdown",
   "metadata": {
    "colab_type": "text",
    "id": "yqO_MnER7vHr"
   },
   "source": [
    "Reading Ground Truth data "
   ]
  },
  {
   "cell_type": "code",
   "execution_count": 0,
   "metadata": {
    "colab": {},
    "colab_type": "code",
    "id": "UbrdLRcJHT3L"
   },
   "outputs": [],
   "source": [
    "os.chdir(\"/content/drive/My Drive/CA684_Assignment_Data/test-set\")"
   ]
  },
  {
   "cell_type": "code",
   "execution_count": 0,
   "metadata": {
    "colab": {
     "base_uri": "https://localhost:8080/",
     "height": 204
    },
    "colab_type": "code",
    "id": "19RaryuH7rvM",
    "outputId": "b338eacf-4d77-4515-b450-2e6e739b8bc7"
   },
   "outputs": [
    {
     "data": {
      "text/html": [
       "<div>\n",
       "<style scoped>\n",
       "    .dataframe tbody tr th:only-of-type {\n",
       "        vertical-align: middle;\n",
       "    }\n",
       "\n",
       "    .dataframe tbody tr th {\n",
       "        vertical-align: top;\n",
       "    }\n",
       "\n",
       "    .dataframe thead th {\n",
       "        text-align: right;\n",
       "    }\n",
       "</style>\n",
       "<table border=\"1\" class=\"dataframe\">\n",
       "  <thead>\n",
       "    <tr style=\"text-align: right;\">\n",
       "      <th></th>\n",
       "      <th>video</th>\n",
       "      <th>short-term_memorability</th>\n",
       "      <th>nb_short-term_annotations</th>\n",
       "      <th>long-term_memorability</th>\n",
       "      <th>nb_long-term_annotations</th>\n",
       "    </tr>\n",
       "  </thead>\n",
       "  <tbody>\n",
       "    <tr>\n",
       "      <th>0</th>\n",
       "      <td>7494</td>\n",
       "      <td>NaN</td>\n",
       "      <td>33</td>\n",
       "      <td>NaN</td>\n",
       "      <td>12</td>\n",
       "    </tr>\n",
       "    <tr>\n",
       "      <th>1</th>\n",
       "      <td>7495</td>\n",
       "      <td>NaN</td>\n",
       "      <td>34</td>\n",
       "      <td>NaN</td>\n",
       "      <td>10</td>\n",
       "    </tr>\n",
       "    <tr>\n",
       "      <th>2</th>\n",
       "      <td>7496</td>\n",
       "      <td>NaN</td>\n",
       "      <td>32</td>\n",
       "      <td>NaN</td>\n",
       "      <td>13</td>\n",
       "    </tr>\n",
       "    <tr>\n",
       "      <th>3</th>\n",
       "      <td>7497</td>\n",
       "      <td>NaN</td>\n",
       "      <td>33</td>\n",
       "      <td>NaN</td>\n",
       "      <td>10</td>\n",
       "    </tr>\n",
       "    <tr>\n",
       "      <th>4</th>\n",
       "      <td>7498</td>\n",
       "      <td>NaN</td>\n",
       "      <td>33</td>\n",
       "      <td>NaN</td>\n",
       "      <td>10</td>\n",
       "    </tr>\n",
       "  </tbody>\n",
       "</table>\n",
       "</div>"
      ],
      "text/plain": [
       "   video  short-term_memorability  nb_short-term_annotations  \\\n",
       "0   7494                      NaN                         33   \n",
       "1   7495                      NaN                         34   \n",
       "2   7496                      NaN                         32   \n",
       "3   7497                      NaN                         33   \n",
       "4   7498                      NaN                         33   \n",
       "\n",
       "   long-term_memorability  nb_long-term_annotations  \n",
       "0                     NaN                        12  \n",
       "1                     NaN                        10  \n",
       "2                     NaN                        13  \n",
       "3                     NaN                        10  \n",
       "4                     NaN                        10  "
      ]
     },
     "execution_count": 204,
     "metadata": {
      "tags": []
     },
     "output_type": "execute_result"
    }
   ],
   "source": [
    "dataframe_ground_truth_test = pd.read_csv('ground_truth_template.csv')\n",
    "dataframe_ground_truth_test.head()"
   ]
  },
  {
   "cell_type": "markdown",
   "metadata": {
    "colab_type": "text",
    "id": "ZW7LkQ5dASwM"
   },
   "source": [
    "function to add prefix and suffin ground truth data"
   ]
  },
  {
   "cell_type": "code",
   "execution_count": 0,
   "metadata": {
    "colab": {},
    "colab_type": "code",
    "id": "cqbyxGDYLOV4"
   },
   "outputs": [],
   "source": [
    "def change_video_name(val):\n",
    "  val = 'video' +str(val) + '.webm' \n",
    "  return val"
   ]
  },
  {
   "cell_type": "code",
   "execution_count": 0,
   "metadata": {
    "colab": {},
    "colab_type": "code",
    "id": "VubuUhvPSyJ8"
   },
   "outputs": [],
   "source": [
    "def change_video_name_remove(val):\n",
    "  val = str(val)[str(val).find('o')+1:str(val).find('.')]\n",
    "  return val"
   ]
  },
  {
   "cell_type": "markdown",
   "metadata": {
    "colab_type": "text",
    "id": "YtXbVBIBAZVg"
   },
   "source": [
    "adding prefix and suffix to 'video' column values in ground truth, so that we can merge with test_data_set"
   ]
  },
  {
   "cell_type": "code",
   "execution_count": 0,
   "metadata": {
    "colab": {},
    "colab_type": "code",
    "id": "EJ5rJ2MNJkmL"
   },
   "outputs": [],
   "source": [
    "dataframe_ground_truth_test['video'] = dataframe_ground_truth_test['video'].apply(change_video_name)"
   ]
  },
  {
   "cell_type": "markdown",
   "metadata": {
    "colab_type": "text",
    "id": "phHvRITeAp-Y"
   },
   "source": [
    "Merging to get final test dataset"
   ]
  },
  {
   "cell_type": "code",
   "execution_count": 0,
   "metadata": {
    "colab": {},
    "colab_type": "code",
    "id": "lhISQhCvGzu8"
   },
   "outputs": [],
   "source": [
    "test_data_set = dataframe_aesthetic_test.merge(dataframe_c3d_test)\n",
    "test_data_set = test_data_set.merge(dataframe_captions_test)\n",
    "test_data_set = test_data_set.merge(dataframe_ground_truth_test)"
   ]
  },
  {
   "cell_type": "code",
   "execution_count": 0,
   "metadata": {
    "colab": {
     "base_uri": "https://localhost:8080/",
     "height": 313
    },
    "colab_type": "code",
    "id": "OFPmHtKvL-4-",
    "outputId": "d469fe0d-19a1-4a1b-a809-cffc60156af9"
   },
   "outputs": [
    {
     "data": {
      "text/html": [
       "<div>\n",
       "<style scoped>\n",
       "    .dataframe tbody tr th:only-of-type {\n",
       "        vertical-align: middle;\n",
       "    }\n",
       "\n",
       "    .dataframe tbody tr th {\n",
       "        vertical-align: top;\n",
       "    }\n",
       "\n",
       "    .dataframe thead th {\n",
       "        text-align: right;\n",
       "    }\n",
       "</style>\n",
       "<table border=\"1\" class=\"dataframe\">\n",
       "  <thead>\n",
       "    <tr style=\"text-align: right;\">\n",
       "      <th></th>\n",
       "      <th>AES_0</th>\n",
       "      <th>AES_1</th>\n",
       "      <th>AES_2</th>\n",
       "      <th>AES_3</th>\n",
       "      <th>AES_4</th>\n",
       "      <th>AES_5</th>\n",
       "      <th>AES_6</th>\n",
       "      <th>AES_7</th>\n",
       "      <th>AES_8</th>\n",
       "      <th>AES_9</th>\n",
       "      <th>...</th>\n",
       "      <th>C3D_96</th>\n",
       "      <th>C3D_97</th>\n",
       "      <th>C3D_98</th>\n",
       "      <th>C3D_99</th>\n",
       "      <th>C3D_100</th>\n",
       "      <th>caption</th>\n",
       "      <th>short-term_memorability</th>\n",
       "      <th>nb_short-term_annotations</th>\n",
       "      <th>long-term_memorability</th>\n",
       "      <th>nb_long-term_annotations</th>\n",
       "    </tr>\n",
       "  </thead>\n",
       "  <tbody>\n",
       "    <tr>\n",
       "      <th>0</th>\n",
       "      <td>0.270589</td>\n",
       "      <td>0.354729</td>\n",
       "      <td>0.516568</td>\n",
       "      <td>0.303221</td>\n",
       "      <td>0.446719</td>\n",
       "      <td>0.251911</td>\n",
       "      <td>41.882477</td>\n",
       "      <td>0.102564</td>\n",
       "      <td>0.014481</td>\n",
       "      <td>7.0</td>\n",
       "      <td>...</td>\n",
       "      <td>5.700000e-07</td>\n",
       "      <td>0.00001</td>\n",
       "      <td>0.000156</td>\n",
       "      <td>1.233703e-02</td>\n",
       "      <td>0.00023</td>\n",
       "      <td>chinese-businessman-commuter-walking-to-office...</td>\n",
       "      <td>NaN</td>\n",
       "      <td>33</td>\n",
       "      <td>NaN</td>\n",
       "      <td>10</td>\n",
       "    </tr>\n",
       "    <tr>\n",
       "      <th>1</th>\n",
       "      <td>0.071170</td>\n",
       "      <td>0.646879</td>\n",
       "      <td>0.600170</td>\n",
       "      <td>0.636162</td>\n",
       "      <td>0.429450</td>\n",
       "      <td>0.352698</td>\n",
       "      <td>50.375382</td>\n",
       "      <td>0.083333</td>\n",
       "      <td>0.003462</td>\n",
       "      <td>1.0</td>\n",
       "      <td>...</td>\n",
       "      <td>0.000000e+00</td>\n",
       "      <td>0.00000</td>\n",
       "      <td>0.000000</td>\n",
       "      <td>1.000000e-08</td>\n",
       "      <td>0.00000</td>\n",
       "      <td>trendy-woman-walks-up-to-camera-and-smiles</td>\n",
       "      <td>NaN</td>\n",
       "      <td>55</td>\n",
       "      <td>NaN</td>\n",
       "      <td>14</td>\n",
       "    </tr>\n",
       "  </tbody>\n",
       "</table>\n",
       "<p>2 rows × 216 columns</p>\n",
       "</div>"
      ],
      "text/plain": [
       "      AES_0     AES_1     AES_2     AES_3     AES_4     AES_5      AES_6  \\\n",
       "0  0.270589  0.354729  0.516568  0.303221  0.446719  0.251911  41.882477   \n",
       "1  0.071170  0.646879  0.600170  0.636162  0.429450  0.352698  50.375382   \n",
       "\n",
       "      AES_7     AES_8  AES_9  ...        C3D_96   C3D_97    C3D_98  \\\n",
       "0  0.102564  0.014481    7.0  ...  5.700000e-07  0.00001  0.000156   \n",
       "1  0.083333  0.003462    1.0  ...  0.000000e+00  0.00000  0.000000   \n",
       "\n",
       "         C3D_99  C3D_100                                            caption  \\\n",
       "0  1.233703e-02  0.00023  chinese-businessman-commuter-walking-to-office...   \n",
       "1  1.000000e-08  0.00000         trendy-woman-walks-up-to-camera-and-smiles   \n",
       "\n",
       "   short-term_memorability  nb_short-term_annotations  long-term_memorability  \\\n",
       "0                      NaN                         33                     NaN   \n",
       "1                      NaN                         55                     NaN   \n",
       "\n",
       "   nb_long-term_annotations  \n",
       "0                        10  \n",
       "1                        14  \n",
       "\n",
       "[2 rows x 216 columns]"
      ]
     },
     "execution_count": 209,
     "metadata": {
      "tags": []
     },
     "output_type": "execute_result"
    }
   ],
   "source": [
    "test_data_set.head(2)"
   ]
  },
  {
   "cell_type": "markdown",
   "metadata": {
    "colab_type": "text",
    "id": "ENH-PYlWAyWU"
   },
   "source": [
    "cleaning caption data in  test"
   ]
  },
  {
   "cell_type": "code",
   "execution_count": 0,
   "metadata": {
    "colab": {},
    "colab_type": "code",
    "id": "-ivD8kvmMCiL"
   },
   "outputs": [],
   "source": [
    "test_data_set['caption'] = cleaning_captions(test_data_set)"
   ]
  },
  {
   "cell_type": "code",
   "execution_count": 0,
   "metadata": {
    "colab": {
     "base_uri": "https://localhost:8080/",
     "height": 142
    },
    "colab_type": "code",
    "id": "VbPLg6gLNfYA",
    "outputId": "b5b03dee-9519-4d55-8345-40d75f3133e5"
   },
   "outputs": [
    {
     "data": {
      "text/html": [
       "<div>\n",
       "<style scoped>\n",
       "    .dataframe tbody tr th:only-of-type {\n",
       "        vertical-align: middle;\n",
       "    }\n",
       "\n",
       "    .dataframe tbody tr th {\n",
       "        vertical-align: top;\n",
       "    }\n",
       "\n",
       "    .dataframe thead th {\n",
       "        text-align: right;\n",
       "    }\n",
       "</style>\n",
       "<table border=\"1\" class=\"dataframe\">\n",
       "  <thead>\n",
       "    <tr style=\"text-align: right;\">\n",
       "      <th></th>\n",
       "      <th>caption</th>\n",
       "    </tr>\n",
       "  </thead>\n",
       "  <tbody>\n",
       "    <tr>\n",
       "      <th>0</th>\n",
       "      <td>chinese businessman commuter walking office bu...</td>\n",
       "    </tr>\n",
       "    <tr>\n",
       "      <th>1</th>\n",
       "      <td>trendy woman walk camera smile</td>\n",
       "    </tr>\n",
       "    <tr>\n",
       "      <th>2</th>\n",
       "      <td>panning view rally crowd</td>\n",
       "    </tr>\n",
       "  </tbody>\n",
       "</table>\n",
       "</div>"
      ],
      "text/plain": [
       "                                             caption\n",
       "0  chinese businessman commuter walking office bu...\n",
       "1                     trendy woman walk camera smile\n",
       "2                           panning view rally crowd"
      ]
     },
     "execution_count": 211,
     "metadata": {
      "tags": []
     },
     "output_type": "execute_result"
    }
   ],
   "source": [
    "test_data_set[['caption']].head(3)"
   ]
  },
  {
   "cell_type": "markdown",
   "metadata": {
    "colab_type": "text",
    "id": "Pq44jorCBAsY"
   },
   "source": [
    "**Building model**"
   ]
  },
  {
   "cell_type": "markdown",
   "metadata": {
    "colab_type": "text",
    "id": "_MJLkHl1NxfA"
   },
   "source": [
    "Now we have our final dataset, Now we can train the model that we have created before on the complete training set and get our predictions"
   ]
  },
  {
   "cell_type": "code",
   "execution_count": 0,
   "metadata": {
    "colab": {},
    "colab_type": "code",
    "id": "2POGfuvxPd2t"
   },
   "outputs": [],
   "source": [
    "X_training_set =  merged_dataset.drop(columns=['short-term_memorability', 'nb_short-term_annotations','long-term_memorability','nb_long-term_annotations','video'])\n",
    "Y_training_set = merged_dataset[['short-term_memorability', 'long-term_memorability']]"
   ]
  },
  {
   "cell_type": "code",
   "execution_count": 0,
   "metadata": {
    "colab": {
     "base_uri": "https://localhost:8080/",
     "height": 296
    },
    "colab_type": "code",
    "id": "aup9uUE5OKoJ",
    "outputId": "3da5789f-ad00-492e-d877-c0b9a8eec9f4"
   },
   "outputs": [
    {
     "data": {
      "text/html": [
       "<div>\n",
       "<style scoped>\n",
       "    .dataframe tbody tr th:only-of-type {\n",
       "        vertical-align: middle;\n",
       "    }\n",
       "\n",
       "    .dataframe tbody tr th {\n",
       "        vertical-align: top;\n",
       "    }\n",
       "\n",
       "    .dataframe thead th {\n",
       "        text-align: right;\n",
       "    }\n",
       "</style>\n",
       "<table border=\"1\" class=\"dataframe\">\n",
       "  <thead>\n",
       "    <tr style=\"text-align: right;\">\n",
       "      <th></th>\n",
       "      <th>caption</th>\n",
       "      <th>AES_0</th>\n",
       "      <th>AES_1</th>\n",
       "      <th>AES_2</th>\n",
       "      <th>AES_3</th>\n",
       "      <th>AES_4</th>\n",
       "      <th>AES_5</th>\n",
       "      <th>AES_6</th>\n",
       "      <th>AES_7</th>\n",
       "      <th>AES_8</th>\n",
       "      <th>...</th>\n",
       "      <th>C3D_91</th>\n",
       "      <th>C3D_92</th>\n",
       "      <th>C3D_93</th>\n",
       "      <th>C3D_94</th>\n",
       "      <th>C3D_95</th>\n",
       "      <th>C3D_96</th>\n",
       "      <th>C3D_97</th>\n",
       "      <th>C3D_98</th>\n",
       "      <th>C3D_99</th>\n",
       "      <th>C3D_100</th>\n",
       "    </tr>\n",
       "  </thead>\n",
       "  <tbody>\n",
       "    <tr>\n",
       "      <th>0</th>\n",
       "      <td>blonde woman massaged tilt</td>\n",
       "      <td>0.180874</td>\n",
       "      <td>0.715626</td>\n",
       "      <td>0.198930</td>\n",
       "      <td>0.610453</td>\n",
       "      <td>0.121610</td>\n",
       "      <td>0.692880</td>\n",
       "      <td>55.008914</td>\n",
       "      <td>0.103175</td>\n",
       "      <td>0.001049</td>\n",
       "      <td>...</td>\n",
       "      <td>0.001042</td>\n",
       "      <td>0.000161</td>\n",
       "      <td>0.000257</td>\n",
       "      <td>0.046617</td>\n",
       "      <td>0.000156</td>\n",
       "      <td>0.000006</td>\n",
       "      <td>0.000537</td>\n",
       "      <td>0.000339</td>\n",
       "      <td>0.008437</td>\n",
       "      <td>0.00047</td>\n",
       "    </tr>\n",
       "    <tr>\n",
       "      <th>1</th>\n",
       "      <td>roulette table spinning ball closeup shot</td>\n",
       "      <td>0.146076</td>\n",
       "      <td>0.550070</td>\n",
       "      <td>0.460729</td>\n",
       "      <td>0.424397</td>\n",
       "      <td>0.341807</td>\n",
       "      <td>0.398212</td>\n",
       "      <td>47.307755</td>\n",
       "      <td>0.119048</td>\n",
       "      <td>0.001859</td>\n",
       "      <td>...</td>\n",
       "      <td>0.000582</td>\n",
       "      <td>0.000393</td>\n",
       "      <td>0.000864</td>\n",
       "      <td>0.000947</td>\n",
       "      <td>0.000136</td>\n",
       "      <td>0.000007</td>\n",
       "      <td>0.000360</td>\n",
       "      <td>0.000159</td>\n",
       "      <td>0.001025</td>\n",
       "      <td>0.00002</td>\n",
       "    </tr>\n",
       "  </tbody>\n",
       "</table>\n",
       "<p>2 rows × 211 columns</p>\n",
       "</div>"
      ],
      "text/plain": [
       "                                     caption     AES_0     AES_1     AES_2  \\\n",
       "0                 blonde woman massaged tilt  0.180874  0.715626  0.198930   \n",
       "1  roulette table spinning ball closeup shot  0.146076  0.550070  0.460729   \n",
       "\n",
       "      AES_3     AES_4     AES_5      AES_6     AES_7     AES_8  ...    C3D_91  \\\n",
       "0  0.610453  0.121610  0.692880  55.008914  0.103175  0.001049  ...  0.001042   \n",
       "1  0.424397  0.341807  0.398212  47.307755  0.119048  0.001859  ...  0.000582   \n",
       "\n",
       "     C3D_92    C3D_93    C3D_94    C3D_95    C3D_96    C3D_97    C3D_98  \\\n",
       "0  0.000161  0.000257  0.046617  0.000156  0.000006  0.000537  0.000339   \n",
       "1  0.000393  0.000864  0.000947  0.000136  0.000007  0.000360  0.000159   \n",
       "\n",
       "     C3D_99  C3D_100  \n",
       "0  0.008437  0.00047  \n",
       "1  0.001025  0.00002  \n",
       "\n",
       "[2 rows x 211 columns]"
      ]
     },
     "execution_count": 213,
     "metadata": {
      "tags": []
     },
     "output_type": "execute_result"
    }
   ],
   "source": [
    "X_training_set.head(2)"
   ]
  },
  {
   "cell_type": "code",
   "execution_count": 0,
   "metadata": {
    "colab": {},
    "colab_type": "code",
    "id": "ACDcex3kOcaS"
   },
   "outputs": [],
   "source": [
    "X_testing_set = test_data_set.drop(columns=['short-term_memorability','long-term_memorability','nb_short-term_annotations','nb_long-term_annotations','video'])\n",
    "Y_testing_set = test_data_set[['short-term_memorability','long-term_memorability']]"
   ]
  },
  {
   "cell_type": "markdown",
   "metadata": {
    "colab_type": "text",
    "id": "NyiXV0cBBHrj"
   },
   "source": [
    "building a dataframe which will store our predictions"
   ]
  },
  {
   "cell_type": "code",
   "execution_count": 0,
   "metadata": {
    "colab": {},
    "colab_type": "code",
    "id": "8hYZWf4qRgPO"
   },
   "outputs": [],
   "source": [
    "Predictions = pd.DataFrame()\n",
    "Predictions['video'] = test_data_set['video']"
   ]
  },
  {
   "cell_type": "code",
   "execution_count": 0,
   "metadata": {
    "colab": {
     "base_uri": "https://localhost:8080/",
     "height": 51
    },
    "colab_type": "code",
    "id": "uPN-uNiVOWp6",
    "outputId": "441f6d8a-ddbd-4b0b-8c03-f37d55292598"
   },
   "outputs": [
    {
     "name": "stdout",
     "output_type": "stream",
     "text": [
      "(2000, 211)\n",
      "(2000, 2)\n"
     ]
    }
   ],
   "source": [
    "print(X_testing_set.shape)\n",
    "print(Y_testing_set.shape)"
   ]
  },
  {
   "cell_type": "markdown",
   "metadata": {
    "colab_type": "text",
    "id": "NKwUQofXBbfz"
   },
   "source": [
    "Applying our model"
   ]
  },
  {
   "cell_type": "code",
   "execution_count": 0,
   "metadata": {
    "colab": {},
    "colab_type": "code",
    "id": "664_Sd5qNwUn"
   },
   "outputs": [],
   "source": [
    "X_train, X_test, y_train, y_test = X_training_set, X_testing_set, Y_training_set['long-term_memorability'],Y_testing_set['long-term_memorability']\n",
    "Predictions['long-term_memorability'] = predict_for_long_term(X_train, X_test, y_train, y_test)\n",
    "X_train, X_test, y_train, y_test = X_training_set, X_testing_set, Y_training_set['short-term_memorability'],Y_testing_set['short-term_memorability']\n",
    "Predictions['short-term_memorability'] = predict_for_short_term(X_train, X_test, y_train, y_test)"
   ]
  },
  {
   "cell_type": "markdown",
   "metadata": {
    "colab_type": "text",
    "id": "y2G5578OBduM"
   },
   "source": [
    "checking our predictions"
   ]
  },
  {
   "cell_type": "code",
   "execution_count": 0,
   "metadata": {
    "colab": {
     "base_uri": "https://localhost:8080/",
     "height": 204
    },
    "colab_type": "code",
    "id": "VW9GO0vTNheo",
    "outputId": "3912696a-330d-4798-ab87-9fe7a4bb093e"
   },
   "outputs": [
    {
     "data": {
      "text/html": [
       "<div>\n",
       "<style scoped>\n",
       "    .dataframe tbody tr th:only-of-type {\n",
       "        vertical-align: middle;\n",
       "    }\n",
       "\n",
       "    .dataframe tbody tr th {\n",
       "        vertical-align: top;\n",
       "    }\n",
       "\n",
       "    .dataframe thead th {\n",
       "        text-align: right;\n",
       "    }\n",
       "</style>\n",
       "<table border=\"1\" class=\"dataframe\">\n",
       "  <thead>\n",
       "    <tr style=\"text-align: right;\">\n",
       "      <th></th>\n",
       "      <th>video</th>\n",
       "      <th>long-term_memorability</th>\n",
       "      <th>short-term_memorability</th>\n",
       "    </tr>\n",
       "  </thead>\n",
       "  <tbody>\n",
       "    <tr>\n",
       "      <th>0</th>\n",
       "      <td>video9901.webm</td>\n",
       "      <td>0.785049</td>\n",
       "      <td>0.868050</td>\n",
       "    </tr>\n",
       "    <tr>\n",
       "      <th>1</th>\n",
       "      <td>video8561.webm</td>\n",
       "      <td>0.800809</td>\n",
       "      <td>0.906020</td>\n",
       "    </tr>\n",
       "    <tr>\n",
       "      <th>2</th>\n",
       "      <td>video8554.webm</td>\n",
       "      <td>0.767544</td>\n",
       "      <td>0.813926</td>\n",
       "    </tr>\n",
       "    <tr>\n",
       "      <th>3</th>\n",
       "      <td>video8546.webm</td>\n",
       "      <td>0.779855</td>\n",
       "      <td>0.872924</td>\n",
       "    </tr>\n",
       "    <tr>\n",
       "      <th>4</th>\n",
       "      <td>video8668.webm</td>\n",
       "      <td>0.780351</td>\n",
       "      <td>0.865848</td>\n",
       "    </tr>\n",
       "  </tbody>\n",
       "</table>\n",
       "</div>"
      ],
      "text/plain": [
       "            video  long-term_memorability  short-term_memorability\n",
       "0  video9901.webm                0.785049                 0.868050\n",
       "1  video8561.webm                0.800809                 0.906020\n",
       "2  video8554.webm                0.767544                 0.813926\n",
       "3  video8546.webm                0.779855                 0.872924\n",
       "4  video8668.webm                0.780351                 0.865848"
      ]
     },
     "execution_count": 218,
     "metadata": {
      "tags": []
     },
     "output_type": "execute_result"
    }
   ],
   "source": [
    "Predictions.head()"
   ]
  },
  {
   "cell_type": "markdown",
   "metadata": {
    "colab_type": "text",
    "id": "XUbE4XIZBlRw"
   },
   "source": [
    "removing video prefix and suffix to match with the ground truth template"
   ]
  },
  {
   "cell_type": "code",
   "execution_count": 0,
   "metadata": {
    "colab": {},
    "colab_type": "code",
    "id": "oOP9-wG0SYxc"
   },
   "outputs": [],
   "source": [
    "Predictions['video'] = Predictions['video'].apply(change_video_name_remove)"
   ]
  },
  {
   "cell_type": "code",
   "execution_count": 0,
   "metadata": {
    "colab": {},
    "colab_type": "code",
    "id": "nReotc6lTFoB"
   },
   "outputs": [],
   "source": [
    "dataframe_ground_truth_test['video'] = dataframe_ground_truth_test['video'].apply(change_video_name_remove)"
   ]
  },
  {
   "cell_type": "code",
   "execution_count": 0,
   "metadata": {
    "colab": {
     "base_uri": "https://localhost:8080/",
     "height": 204
    },
    "colab_type": "code",
    "id": "WfPT_1tQVlOX",
    "outputId": "b470c32c-a44b-4696-9910-d3ab577984f0"
   },
   "outputs": [
    {
     "data": {
      "text/html": [
       "<div>\n",
       "<style scoped>\n",
       "    .dataframe tbody tr th:only-of-type {\n",
       "        vertical-align: middle;\n",
       "    }\n",
       "\n",
       "    .dataframe tbody tr th {\n",
       "        vertical-align: top;\n",
       "    }\n",
       "\n",
       "    .dataframe thead th {\n",
       "        text-align: right;\n",
       "    }\n",
       "</style>\n",
       "<table border=\"1\" class=\"dataframe\">\n",
       "  <thead>\n",
       "    <tr style=\"text-align: right;\">\n",
       "      <th></th>\n",
       "      <th>video</th>\n",
       "      <th>long-term_memorability</th>\n",
       "      <th>short-term_memorability</th>\n",
       "    </tr>\n",
       "  </thead>\n",
       "  <tbody>\n",
       "    <tr>\n",
       "      <th>0</th>\n",
       "      <td>9901</td>\n",
       "      <td>0.785049</td>\n",
       "      <td>0.868050</td>\n",
       "    </tr>\n",
       "    <tr>\n",
       "      <th>1</th>\n",
       "      <td>8561</td>\n",
       "      <td>0.800809</td>\n",
       "      <td>0.906020</td>\n",
       "    </tr>\n",
       "    <tr>\n",
       "      <th>2</th>\n",
       "      <td>8554</td>\n",
       "      <td>0.767544</td>\n",
       "      <td>0.813926</td>\n",
       "    </tr>\n",
       "    <tr>\n",
       "      <th>3</th>\n",
       "      <td>8546</td>\n",
       "      <td>0.779855</td>\n",
       "      <td>0.872924</td>\n",
       "    </tr>\n",
       "    <tr>\n",
       "      <th>4</th>\n",
       "      <td>8668</td>\n",
       "      <td>0.780351</td>\n",
       "      <td>0.865848</td>\n",
       "    </tr>\n",
       "  </tbody>\n",
       "</table>\n",
       "</div>"
      ],
      "text/plain": [
       "  video  long-term_memorability  short-term_memorability\n",
       "0  9901                0.785049                 0.868050\n",
       "1  8561                0.800809                 0.906020\n",
       "2  8554                0.767544                 0.813926\n",
       "3  8546                0.779855                 0.872924\n",
       "4  8668                0.780351                 0.865848"
      ]
     },
     "execution_count": 221,
     "metadata": {
      "tags": []
     },
     "output_type": "execute_result"
    }
   ],
   "source": [
    "Predictions.head()"
   ]
  },
  {
   "cell_type": "code",
   "execution_count": 0,
   "metadata": {
    "colab": {
     "base_uri": "https://localhost:8080/",
     "height": 204
    },
    "colab_type": "code",
    "id": "q-KoutJ_VhG-",
    "outputId": "27ee10af-69a2-4d43-9ed2-d05d37796947"
   },
   "outputs": [
    {
     "data": {
      "text/html": [
       "<div>\n",
       "<style scoped>\n",
       "    .dataframe tbody tr th:only-of-type {\n",
       "        vertical-align: middle;\n",
       "    }\n",
       "\n",
       "    .dataframe tbody tr th {\n",
       "        vertical-align: top;\n",
       "    }\n",
       "\n",
       "    .dataframe thead th {\n",
       "        text-align: right;\n",
       "    }\n",
       "</style>\n",
       "<table border=\"1\" class=\"dataframe\">\n",
       "  <thead>\n",
       "    <tr style=\"text-align: right;\">\n",
       "      <th></th>\n",
       "      <th>video</th>\n",
       "      <th>short-term_memorability</th>\n",
       "      <th>nb_short-term_annotations</th>\n",
       "      <th>long-term_memorability</th>\n",
       "      <th>nb_long-term_annotations</th>\n",
       "    </tr>\n",
       "  </thead>\n",
       "  <tbody>\n",
       "    <tr>\n",
       "      <th>0</th>\n",
       "      <td>7494</td>\n",
       "      <td>NaN</td>\n",
       "      <td>33</td>\n",
       "      <td>NaN</td>\n",
       "      <td>12</td>\n",
       "    </tr>\n",
       "    <tr>\n",
       "      <th>1</th>\n",
       "      <td>7495</td>\n",
       "      <td>NaN</td>\n",
       "      <td>34</td>\n",
       "      <td>NaN</td>\n",
       "      <td>10</td>\n",
       "    </tr>\n",
       "    <tr>\n",
       "      <th>2</th>\n",
       "      <td>7496</td>\n",
       "      <td>NaN</td>\n",
       "      <td>32</td>\n",
       "      <td>NaN</td>\n",
       "      <td>13</td>\n",
       "    </tr>\n",
       "    <tr>\n",
       "      <th>3</th>\n",
       "      <td>7497</td>\n",
       "      <td>NaN</td>\n",
       "      <td>33</td>\n",
       "      <td>NaN</td>\n",
       "      <td>10</td>\n",
       "    </tr>\n",
       "    <tr>\n",
       "      <th>4</th>\n",
       "      <td>7498</td>\n",
       "      <td>NaN</td>\n",
       "      <td>33</td>\n",
       "      <td>NaN</td>\n",
       "      <td>10</td>\n",
       "    </tr>\n",
       "  </tbody>\n",
       "</table>\n",
       "</div>"
      ],
      "text/plain": [
       "  video  short-term_memorability  nb_short-term_annotations  \\\n",
       "0  7494                      NaN                         33   \n",
       "1  7495                      NaN                         34   \n",
       "2  7496                      NaN                         32   \n",
       "3  7497                      NaN                         33   \n",
       "4  7498                      NaN                         33   \n",
       "\n",
       "   long-term_memorability  nb_long-term_annotations  \n",
       "0                     NaN                        12  \n",
       "1                     NaN                        10  \n",
       "2                     NaN                        13  \n",
       "3                     NaN                        10  \n",
       "4                     NaN                        10  "
      ]
     },
     "execution_count": 222,
     "metadata": {
      "tags": []
     },
     "output_type": "execute_result"
    }
   ],
   "source": [
    "dataframe_ground_truth_test.head()"
   ]
  },
  {
   "cell_type": "code",
   "execution_count": 0,
   "metadata": {
    "colab": {},
    "colab_type": "code",
    "id": "0e4QW4btThTQ"
   },
   "outputs": [],
   "source": [
    "dataframe_ground_truth_test = dataframe_ground_truth_test.drop(columns=['long-term_memorability','short-term_memorability'])"
   ]
  },
  {
   "cell_type": "markdown",
   "metadata": {
    "colab_type": "text",
    "id": "i0w6x20ABvwW"
   },
   "source": [
    "Merging our predictions with ground truth"
   ]
  },
  {
   "cell_type": "code",
   "execution_count": 0,
   "metadata": {
    "colab": {},
    "colab_type": "code",
    "id": "Rj5pzS3mTxjN"
   },
   "outputs": [],
   "source": [
    "dataframe_ground_truth_test = dataframe_ground_truth_test.merge(Predictions)"
   ]
  },
  {
   "cell_type": "code",
   "execution_count": 0,
   "metadata": {
    "colab": {
     "base_uri": "https://localhost:8080/",
     "height": 204
    },
    "colab_type": "code",
    "id": "sxTAwaF4UOXl",
    "outputId": "122c0771-1da1-4967-a312-2ea747c894b0"
   },
   "outputs": [
    {
     "data": {
      "text/html": [
       "<div>\n",
       "<style scoped>\n",
       "    .dataframe tbody tr th:only-of-type {\n",
       "        vertical-align: middle;\n",
       "    }\n",
       "\n",
       "    .dataframe tbody tr th {\n",
       "        vertical-align: top;\n",
       "    }\n",
       "\n",
       "    .dataframe thead th {\n",
       "        text-align: right;\n",
       "    }\n",
       "</style>\n",
       "<table border=\"1\" class=\"dataframe\">\n",
       "  <thead>\n",
       "    <tr style=\"text-align: right;\">\n",
       "      <th></th>\n",
       "      <th>video</th>\n",
       "      <th>nb_short-term_annotations</th>\n",
       "      <th>nb_long-term_annotations</th>\n",
       "      <th>long-term_memorability</th>\n",
       "      <th>short-term_memorability</th>\n",
       "    </tr>\n",
       "  </thead>\n",
       "  <tbody>\n",
       "    <tr>\n",
       "      <th>0</th>\n",
       "      <td>7494</td>\n",
       "      <td>33</td>\n",
       "      <td>12</td>\n",
       "      <td>0.778246</td>\n",
       "      <td>0.851348</td>\n",
       "    </tr>\n",
       "    <tr>\n",
       "      <th>1</th>\n",
       "      <td>7495</td>\n",
       "      <td>34</td>\n",
       "      <td>10</td>\n",
       "      <td>0.756611</td>\n",
       "      <td>0.792997</td>\n",
       "    </tr>\n",
       "    <tr>\n",
       "      <th>2</th>\n",
       "      <td>7496</td>\n",
       "      <td>32</td>\n",
       "      <td>13</td>\n",
       "      <td>0.814712</td>\n",
       "      <td>0.907615</td>\n",
       "    </tr>\n",
       "    <tr>\n",
       "      <th>3</th>\n",
       "      <td>7497</td>\n",
       "      <td>33</td>\n",
       "      <td>10</td>\n",
       "      <td>0.782705</td>\n",
       "      <td>0.881360</td>\n",
       "    </tr>\n",
       "    <tr>\n",
       "      <th>4</th>\n",
       "      <td>7498</td>\n",
       "      <td>33</td>\n",
       "      <td>10</td>\n",
       "      <td>0.761416</td>\n",
       "      <td>0.852007</td>\n",
       "    </tr>\n",
       "  </tbody>\n",
       "</table>\n",
       "</div>"
      ],
      "text/plain": [
       "  video  nb_short-term_annotations  nb_long-term_annotations  \\\n",
       "0  7494                         33                        12   \n",
       "1  7495                         34                        10   \n",
       "2  7496                         32                        13   \n",
       "3  7497                         33                        10   \n",
       "4  7498                         33                        10   \n",
       "\n",
       "   long-term_memorability  short-term_memorability  \n",
       "0                0.778246                 0.851348  \n",
       "1                0.756611                 0.792997  \n",
       "2                0.814712                 0.907615  \n",
       "3                0.782705                 0.881360  \n",
       "4                0.761416                 0.852007  "
      ]
     },
     "execution_count": 225,
     "metadata": {
      "tags": []
     },
     "output_type": "execute_result"
    }
   ],
   "source": [
    "dataframe_ground_truth_test.head()"
   ]
  },
  {
   "cell_type": "markdown",
   "metadata": {
    "colab_type": "text",
    "id": "bwG46bgtBzrM"
   },
   "source": [
    "Arranging columns as per template"
   ]
  },
  {
   "cell_type": "code",
   "execution_count": 0,
   "metadata": {
    "colab": {},
    "colab_type": "code",
    "id": "f4hPvB5lUQZO"
   },
   "outputs": [],
   "source": [
    "dataframe_ground_truth_test = dataframe_ground_truth_test[['video','short-term_memorability','nb_short-term_annotations','long-term_memorability','nb_long-term_annotations']]"
   ]
  },
  {
   "cell_type": "code",
   "execution_count": 0,
   "metadata": {
    "colab": {
     "base_uri": "https://localhost:8080/",
     "height": 204
    },
    "colab_type": "code",
    "id": "p23ky8OcVHWL",
    "outputId": "d2c6e28b-613d-49c9-924e-d4a95d3aafa3"
   },
   "outputs": [
    {
     "data": {
      "text/html": [
       "<div>\n",
       "<style scoped>\n",
       "    .dataframe tbody tr th:only-of-type {\n",
       "        vertical-align: middle;\n",
       "    }\n",
       "\n",
       "    .dataframe tbody tr th {\n",
       "        vertical-align: top;\n",
       "    }\n",
       "\n",
       "    .dataframe thead th {\n",
       "        text-align: right;\n",
       "    }\n",
       "</style>\n",
       "<table border=\"1\" class=\"dataframe\">\n",
       "  <thead>\n",
       "    <tr style=\"text-align: right;\">\n",
       "      <th></th>\n",
       "      <th>video</th>\n",
       "      <th>short-term_memorability</th>\n",
       "      <th>nb_short-term_annotations</th>\n",
       "      <th>long-term_memorability</th>\n",
       "      <th>nb_long-term_annotations</th>\n",
       "    </tr>\n",
       "  </thead>\n",
       "  <tbody>\n",
       "    <tr>\n",
       "      <th>0</th>\n",
       "      <td>7494</td>\n",
       "      <td>0.851348</td>\n",
       "      <td>33</td>\n",
       "      <td>0.778246</td>\n",
       "      <td>12</td>\n",
       "    </tr>\n",
       "    <tr>\n",
       "      <th>1</th>\n",
       "      <td>7495</td>\n",
       "      <td>0.792997</td>\n",
       "      <td>34</td>\n",
       "      <td>0.756611</td>\n",
       "      <td>10</td>\n",
       "    </tr>\n",
       "    <tr>\n",
       "      <th>2</th>\n",
       "      <td>7496</td>\n",
       "      <td>0.907615</td>\n",
       "      <td>32</td>\n",
       "      <td>0.814712</td>\n",
       "      <td>13</td>\n",
       "    </tr>\n",
       "    <tr>\n",
       "      <th>3</th>\n",
       "      <td>7497</td>\n",
       "      <td>0.881360</td>\n",
       "      <td>33</td>\n",
       "      <td>0.782705</td>\n",
       "      <td>10</td>\n",
       "    </tr>\n",
       "    <tr>\n",
       "      <th>4</th>\n",
       "      <td>7498</td>\n",
       "      <td>0.852007</td>\n",
       "      <td>33</td>\n",
       "      <td>0.761416</td>\n",
       "      <td>10</td>\n",
       "    </tr>\n",
       "  </tbody>\n",
       "</table>\n",
       "</div>"
      ],
      "text/plain": [
       "  video  short-term_memorability  nb_short-term_annotations  \\\n",
       "0  7494                 0.851348                         33   \n",
       "1  7495                 0.792997                         34   \n",
       "2  7496                 0.907615                         32   \n",
       "3  7497                 0.881360                         33   \n",
       "4  7498                 0.852007                         33   \n",
       "\n",
       "   long-term_memorability  nb_long-term_annotations  \n",
       "0                0.778246                        12  \n",
       "1                0.756611                        10  \n",
       "2                0.814712                        13  \n",
       "3                0.782705                        10  \n",
       "4                0.761416                        10  "
      ]
     },
     "execution_count": 227,
     "metadata": {
      "tags": []
     },
     "output_type": "execute_result"
    }
   ],
   "source": [
    "dataframe_ground_truth_test.head()"
   ]
  },
  {
   "cell_type": "markdown",
   "metadata": {
    "colab_type": "text",
    "id": "cMf5ot6_B46Y"
   },
   "source": [
    "Storing our result"
   ]
  },
  {
   "cell_type": "code",
   "execution_count": 0,
   "metadata": {
    "colab": {
     "base_uri": "https://localhost:8080/",
     "height": 34
    },
    "colab_type": "code",
    "id": "SI_nF5UgVJc4",
    "outputId": "f8314183-298a-4cdd-94e4-c32a1cd108fa"
   },
   "outputs": [
    {
     "name": "stdout",
     "output_type": "stream",
     "text": [
      "Mounted at /content/drive/\n"
     ]
    }
   ],
   "source": [
    "drive.mount('/content/drive/', force_remount=True)\n",
    "os.chdir(\"/content/drive/My Drive/CA-684-ML/Results\")"
   ]
  },
  {
   "cell_type": "code",
   "execution_count": 0,
   "metadata": {
    "colab": {},
    "colab_type": "code",
    "id": "988ixMMJWw8H"
   },
   "outputs": [],
   "source": [
    "dataframe_ground_truth_test.to_csv('ground_truth_results.csv')"
   ]
  },
  {
   "cell_type": "markdown",
   "metadata": {
    "colab_type": "text",
    "id": "qLUhnuWrB-e2"
   },
   "source": [
    "**-------------------------------------------------------------------- END ---------------------------------------------------------------------**"
   ]
  }
 ],
 "metadata": {
  "colab": {
   "collapsed_sections": [],
   "name": "memorability.ipynb",
   "provenance": [],
   "version": "0.3.2"
  },
  "kernelspec": {
   "display_name": "Python 3",
   "language": "python",
   "name": "python3"
  },
  "language_info": {
   "codemirror_mode": {
    "name": "ipython",
    "version": 3
   },
   "file_extension": ".py",
   "mimetype": "text/x-python",
   "name": "python",
   "nbconvert_exporter": "python",
   "pygments_lexer": "ipython3",
   "version": "3.7.4"
  }
 },
 "nbformat": 4,
 "nbformat_minor": 1
}
