{
 "cells": [
  {
   "cell_type": "code",
   "execution_count": 1,
   "metadata": {
    "colab": {},
    "colab_type": "code",
    "id": "6ZaOYKAIhwUU"
   },
   "outputs": [],
   "source": [
    "import numpy as np\n",
    "import pandas as pd\n",
    "import matplotlib.pyplot as plt\n",
    "import glob\n",
    "import os"
   ]
  },
  {
   "cell_type": "code",
   "execution_count": 4,
   "metadata": {
    "colab": {
     "base_uri": "https://localhost:8080/",
     "height": 121
    },
    "colab_type": "code",
    "executionInfo": {
     "elapsed": 25164,
     "status": "ok",
     "timestamp": 1587152002935,
     "user": {
      "displayName": "Amruth Hebbasuru Suryanarayana",
      "photoUrl": "",
      "userId": "18271264597795541557"
     },
     "user_tz": -60
    },
    "id": "EQ5zXo8wh6kV",
    "outputId": "df915d1a-112a-4622-e168-d62a08244cdc"
   },
   "outputs": [
    {
     "name": "stdout",
     "output_type": "stream",
     "text": [
      "Go to this URL in a browser: https://accounts.google.com/o/oauth2/auth?client_id=947318989803-6bn6qk8qdgf4n4g3pfee6491hc0brc4i.apps.googleusercontent.com&redirect_uri=urn%3aietf%3awg%3aoauth%3a2.0%3aoob&response_type=code&scope=email%20https%3a%2f%2fwww.googleapis.com%2fauth%2fdocs.test%20https%3a%2f%2fwww.googleapis.com%2fauth%2fdrive%20https%3a%2f%2fwww.googleapis.com%2fauth%2fdrive.photos.readonly%20https%3a%2f%2fwww.googleapis.com%2fauth%2fpeopleapi.readonly\n",
      "\n",
      "Enter your authorization code:\n",
      "··········\n",
      "Mounted at /content/drive\n"
     ]
    }
   ],
   "source": [
    "# from google.colab import drive\n",
    "# drive.mount('/content/drive', force_remount=True)\n"
   ]
  },
  {
   "cell_type": "code",
   "execution_count": 0,
   "metadata": {
    "colab": {},
    "colab_type": "code",
    "id": "RVO5nQ8biYmX"
   },
   "outputs": [],
   "source": [
    "# os.chdir(\"/content/drive/My Drive/CA684_Assignment/Dev-set\")"
   ]
  },
  {
   "cell_type": "code",
   "execution_count": 2,
   "metadata": {
    "colab": {},
    "colab_type": "code",
    "id": "ONFGG_aakfFG"
   },
   "outputs": [],
   "source": [
    "ground_truth = pd.read_csv('D:/DCU/2nd Semester/Assignments/Machine Learning/My Assignment/ground-truth.csv', header=0)"
   ]
  },
  {
   "cell_type": "code",
   "execution_count": 3,
   "metadata": {
    "colab": {
     "base_uri": "https://localhost:8080/",
     "height": 195
    },
    "colab_type": "code",
    "executionInfo": {
     "elapsed": 679,
     "status": "ok",
     "timestamp": 1587152129203,
     "user": {
      "displayName": "Amruth Hebbasuru Suryanarayana",
      "photoUrl": "",
      "userId": "18271264597795541557"
     },
     "user_tz": -60
    },
    "id": "wBnAS4DNko-_",
    "outputId": "b23f87d7-e65c-4627-cd6e-ab40812af7bc"
   },
   "outputs": [
    {
     "data": {
      "text/html": [
       "<div>\n",
       "<style scoped>\n",
       "    .dataframe tbody tr th:only-of-type {\n",
       "        vertical-align: middle;\n",
       "    }\n",
       "\n",
       "    .dataframe tbody tr th {\n",
       "        vertical-align: top;\n",
       "    }\n",
       "\n",
       "    .dataframe thead th {\n",
       "        text-align: right;\n",
       "    }\n",
       "</style>\n",
       "<table border=\"1\" class=\"dataframe\">\n",
       "  <thead>\n",
       "    <tr style=\"text-align: right;\">\n",
       "      <th></th>\n",
       "      <th>video</th>\n",
       "      <th>short-term_memorability</th>\n",
       "      <th>nb_short-term_annotations</th>\n",
       "      <th>long-term_memorability</th>\n",
       "      <th>nb_long-term_annotations</th>\n",
       "    </tr>\n",
       "  </thead>\n",
       "  <tbody>\n",
       "    <tr>\n",
       "      <td>0</td>\n",
       "      <td>video3.webm</td>\n",
       "      <td>0.924</td>\n",
       "      <td>34</td>\n",
       "      <td>0.846</td>\n",
       "      <td>13</td>\n",
       "    </tr>\n",
       "    <tr>\n",
       "      <td>1</td>\n",
       "      <td>video4.webm</td>\n",
       "      <td>0.923</td>\n",
       "      <td>33</td>\n",
       "      <td>0.667</td>\n",
       "      <td>12</td>\n",
       "    </tr>\n",
       "    <tr>\n",
       "      <td>2</td>\n",
       "      <td>video6.webm</td>\n",
       "      <td>0.863</td>\n",
       "      <td>33</td>\n",
       "      <td>0.700</td>\n",
       "      <td>10</td>\n",
       "    </tr>\n",
       "    <tr>\n",
       "      <td>3</td>\n",
       "      <td>video8.webm</td>\n",
       "      <td>0.922</td>\n",
       "      <td>33</td>\n",
       "      <td>0.818</td>\n",
       "      <td>11</td>\n",
       "    </tr>\n",
       "    <tr>\n",
       "      <td>4</td>\n",
       "      <td>video10.webm</td>\n",
       "      <td>0.950</td>\n",
       "      <td>34</td>\n",
       "      <td>0.900</td>\n",
       "      <td>10</td>\n",
       "    </tr>\n",
       "  </tbody>\n",
       "</table>\n",
       "</div>"
      ],
      "text/plain": [
       "          video  short-term_memorability  nb_short-term_annotations  \\\n",
       "0   video3.webm                    0.924                         34   \n",
       "1   video4.webm                    0.923                         33   \n",
       "2   video6.webm                    0.863                         33   \n",
       "3   video8.webm                    0.922                         33   \n",
       "4  video10.webm                    0.950                         34   \n",
       "\n",
       "   long-term_memorability  nb_long-term_annotations  \n",
       "0                   0.846                        13  \n",
       "1                   0.667                        12  \n",
       "2                   0.700                        10  \n",
       "3                   0.818                        11  \n",
       "4                   0.900                        10  "
      ]
     },
     "execution_count": 3,
     "metadata": {},
     "output_type": "execute_result"
    }
   ],
   "source": [
    "ground_truth.head()"
   ]
  },
  {
   "cell_type": "code",
   "execution_count": 4,
   "metadata": {
    "colab": {
     "base_uri": "https://localhost:8080/",
     "height": 166
    },
    "colab_type": "code",
    "executionInfo": {
     "elapsed": 1132,
     "status": "ok",
     "timestamp": 1587152133803,
     "user": {
      "displayName": "Amruth Hebbasuru Suryanarayana",
      "photoUrl": "",
      "userId": "18271264597795541557"
     },
     "user_tz": -60
    },
    "id": "sx7iVcJTk8iN",
    "outputId": "925b6962-92bd-499c-e6d2-224d1c1cc61c"
   },
   "outputs": [
    {
     "data": {
      "text/html": [
       "<div>\n",
       "<style scoped>\n",
       "    .dataframe tbody tr th:only-of-type {\n",
       "        vertical-align: middle;\n",
       "    }\n",
       "\n",
       "    .dataframe tbody tr th {\n",
       "        vertical-align: top;\n",
       "    }\n",
       "\n",
       "    .dataframe thead th {\n",
       "        text-align: right;\n",
       "    }\n",
       "</style>\n",
       "<table border=\"1\" class=\"dataframe\">\n",
       "  <thead>\n",
       "    <tr style=\"text-align: right;\">\n",
       "      <th></th>\n",
       "      <th>short-term_memorability</th>\n",
       "      <th>nb_short-term_annotations</th>\n",
       "      <th>long-term_memorability</th>\n",
       "      <th>nb_long-term_annotations</th>\n",
       "    </tr>\n",
       "  </thead>\n",
       "  <tbody>\n",
       "    <tr>\n",
       "      <td>short-term_memorability</td>\n",
       "      <td>1.000000</td>\n",
       "      <td>-0.021178</td>\n",
       "      <td>0.325002</td>\n",
       "      <td>-0.013858</td>\n",
       "    </tr>\n",
       "    <tr>\n",
       "      <td>nb_short-term_annotations</td>\n",
       "      <td>-0.021178</td>\n",
       "      <td>1.000000</td>\n",
       "      <td>-0.047093</td>\n",
       "      <td>0.285548</td>\n",
       "    </tr>\n",
       "    <tr>\n",
       "      <td>long-term_memorability</td>\n",
       "      <td>0.325002</td>\n",
       "      <td>-0.047093</td>\n",
       "      <td>1.000000</td>\n",
       "      <td>0.036051</td>\n",
       "    </tr>\n",
       "    <tr>\n",
       "      <td>nb_long-term_annotations</td>\n",
       "      <td>-0.013858</td>\n",
       "      <td>0.285548</td>\n",
       "      <td>0.036051</td>\n",
       "      <td>1.000000</td>\n",
       "    </tr>\n",
       "  </tbody>\n",
       "</table>\n",
       "</div>"
      ],
      "text/plain": [
       "                           short-term_memorability  nb_short-term_annotations  \\\n",
       "short-term_memorability                   1.000000                  -0.021178   \n",
       "nb_short-term_annotations                -0.021178                   1.000000   \n",
       "long-term_memorability                    0.325002                  -0.047093   \n",
       "nb_long-term_annotations                 -0.013858                   0.285548   \n",
       "\n",
       "                           long-term_memorability  nb_long-term_annotations  \n",
       "short-term_memorability                  0.325002                 -0.013858  \n",
       "nb_short-term_annotations               -0.047093                  0.285548  \n",
       "long-term_memorability                   1.000000                  0.036051  \n",
       "nb_long-term_annotations                 0.036051                  1.000000  "
      ]
     },
     "execution_count": 4,
     "metadata": {},
     "output_type": "execute_result"
    }
   ],
   "source": [
    "#Checking the correlation between the columns\n",
    "ground_truth.corr()"
   ]
  },
  {
   "cell_type": "code",
   "execution_count": 5,
   "metadata": {
    "colab": {},
    "colab_type": "code",
    "id": "eCNcrEaJk_Nd"
   },
   "outputs": [],
   "source": [
    "ground_truth = ground_truth.drop(['nb_short-term_annotations', 'nb_long-term_annotations'], axis=1)"
   ]
  },
  {
   "cell_type": "code",
   "execution_count": 6,
   "metadata": {
    "colab": {},
    "colab_type": "code",
    "id": "gIsrl5X-lBLA"
   },
   "outputs": [],
   "source": [
    "#importing the captions from a text file\n",
    "video_captions = pd.read_csv('G:/.shortcut-targets-by-id/1UWIdExqb5P94RLqkaiODcwFC2v7g3lB2/CA684_Assignment/Dev-set/Captions/dev-set_video-captions.txt',delimiter='\\t',header= None,names=('video','Captions'))"
   ]
  },
  {
   "cell_type": "code",
   "execution_count": 7,
   "metadata": {
    "colab": {
     "base_uri": "https://localhost:8080/",
     "height": 195
    },
    "colab_type": "code",
    "executionInfo": {
     "elapsed": 1227,
     "status": "ok",
     "timestamp": 1587152139344,
     "user": {
      "displayName": "Amruth Hebbasuru Suryanarayana",
      "photoUrl": "",
      "userId": "18271264597795541557"
     },
     "user_tz": -60
    },
    "id": "xLK9pFJklMH5",
    "outputId": "c5442209-736a-4ae8-dd60-b1de593434a8"
   },
   "outputs": [
    {
     "data": {
      "text/html": [
       "<div>\n",
       "<style scoped>\n",
       "    .dataframe tbody tr th:only-of-type {\n",
       "        vertical-align: middle;\n",
       "    }\n",
       "\n",
       "    .dataframe tbody tr th {\n",
       "        vertical-align: top;\n",
       "    }\n",
       "\n",
       "    .dataframe thead th {\n",
       "        text-align: right;\n",
       "    }\n",
       "</style>\n",
       "<table border=\"1\" class=\"dataframe\">\n",
       "  <thead>\n",
       "    <tr style=\"text-align: right;\">\n",
       "      <th></th>\n",
       "      <th>video</th>\n",
       "      <th>Captions</th>\n",
       "    </tr>\n",
       "  </thead>\n",
       "  <tbody>\n",
       "    <tr>\n",
       "      <td>0</td>\n",
       "      <td>video3.webm</td>\n",
       "      <td>blonde-woman-is-massaged-tilt-down</td>\n",
       "    </tr>\n",
       "    <tr>\n",
       "      <td>1</td>\n",
       "      <td>video4.webm</td>\n",
       "      <td>roulette-table-spinning-with-ball-in-closeup-shot</td>\n",
       "    </tr>\n",
       "    <tr>\n",
       "      <td>2</td>\n",
       "      <td>video6.webm</td>\n",
       "      <td>khr-gangsters</td>\n",
       "    </tr>\n",
       "    <tr>\n",
       "      <td>3</td>\n",
       "      <td>video8.webm</td>\n",
       "      <td>medical-helicopter-hovers-at-airport</td>\n",
       "    </tr>\n",
       "    <tr>\n",
       "      <td>4</td>\n",
       "      <td>video10.webm</td>\n",
       "      <td>couple-relaxing-on-picnic-crane-shot</td>\n",
       "    </tr>\n",
       "  </tbody>\n",
       "</table>\n",
       "</div>"
      ],
      "text/plain": [
       "          video                                           Captions\n",
       "0   video3.webm                 blonde-woman-is-massaged-tilt-down\n",
       "1   video4.webm  roulette-table-spinning-with-ball-in-closeup-shot\n",
       "2   video6.webm                                      khr-gangsters\n",
       "3   video8.webm               medical-helicopter-hovers-at-airport\n",
       "4  video10.webm               couple-relaxing-on-picnic-crane-shot"
      ]
     },
     "execution_count": 7,
     "metadata": {},
     "output_type": "execute_result"
    }
   ],
   "source": [
    "video_captions.head()"
   ]
  },
  {
   "cell_type": "code",
   "execution_count": 8,
   "metadata": {
    "colab": {},
    "colab_type": "code",
    "id": "X7KfnhrdlhjD"
   },
   "outputs": [],
   "source": [
    "df = pd.merge(ground_truth, video_captions, on = 'video')"
   ]
  },
  {
   "cell_type": "code",
   "execution_count": 9,
   "metadata": {
    "colab": {
     "base_uri": "https://localhost:8080/",
     "height": 343
    },
    "colab_type": "code",
    "executionInfo": {
     "elapsed": 623,
     "status": "ok",
     "timestamp": 1587152147116,
     "user": {
      "displayName": "Amruth Hebbasuru Suryanarayana",
      "photoUrl": "",
      "userId": "18271264597795541557"
     },
     "user_tz": -60
    },
    "id": "5edWwLu4li4t",
    "outputId": "3f827275-72be-4422-b4c7-15f2273a0a41"
   },
   "outputs": [
    {
     "data": {
      "text/html": [
       "<div>\n",
       "<style scoped>\n",
       "    .dataframe tbody tr th:only-of-type {\n",
       "        vertical-align: middle;\n",
       "    }\n",
       "\n",
       "    .dataframe tbody tr th {\n",
       "        vertical-align: top;\n",
       "    }\n",
       "\n",
       "    .dataframe thead th {\n",
       "        text-align: right;\n",
       "    }\n",
       "</style>\n",
       "<table border=\"1\" class=\"dataframe\">\n",
       "  <thead>\n",
       "    <tr style=\"text-align: right;\">\n",
       "      <th></th>\n",
       "      <th>video</th>\n",
       "      <th>short-term_memorability</th>\n",
       "      <th>long-term_memorability</th>\n",
       "      <th>Captions</th>\n",
       "    </tr>\n",
       "  </thead>\n",
       "  <tbody>\n",
       "    <tr>\n",
       "      <td>651</td>\n",
       "      <td>video798.webm</td>\n",
       "      <td>0.989</td>\n",
       "      <td>1.000</td>\n",
       "      <td>camera-moves-in-on-beared-man-with-shovel-taki...</td>\n",
       "    </tr>\n",
       "    <tr>\n",
       "      <td>1599</td>\n",
       "      <td>video1981.webm</td>\n",
       "      <td>0.987</td>\n",
       "      <td>0.769</td>\n",
       "      <td>happy-stylish-elegant-young-couple-welcoming-i...</td>\n",
       "    </tr>\n",
       "    <tr>\n",
       "      <td>3910</td>\n",
       "      <td>video4903.webm</td>\n",
       "      <td>0.987</td>\n",
       "      <td>0.600</td>\n",
       "      <td>mather-and-daughter-enjoying-a-movie-on-tablet</td>\n",
       "    </tr>\n",
       "    <tr>\n",
       "      <td>1771</td>\n",
       "      <td>video2203.webm</td>\n",
       "      <td>0.986</td>\n",
       "      <td>0.800</td>\n",
       "      <td>astronaut-in-outer-space-against-the-backdrop-...</td>\n",
       "    </tr>\n",
       "    <tr>\n",
       "      <td>1903</td>\n",
       "      <td>video2364.webm</td>\n",
       "      <td>0.986</td>\n",
       "      <td>1.000</td>\n",
       "      <td>head-of-big-yellow-eel</td>\n",
       "    </tr>\n",
       "    <tr>\n",
       "      <td>2089</td>\n",
       "      <td>video2596.webm</td>\n",
       "      <td>0.986</td>\n",
       "      <td>0.733</td>\n",
       "      <td>funny-little-boy-sitting-at-desk-eating-apple-...</td>\n",
       "    </tr>\n",
       "    <tr>\n",
       "      <td>4024</td>\n",
       "      <td>video5047.webm</td>\n",
       "      <td>0.986</td>\n",
       "      <td>1.000</td>\n",
       "      <td>khr-western-unloadinggun</td>\n",
       "    </tr>\n",
       "    <tr>\n",
       "      <td>4880</td>\n",
       "      <td>video6103.webm</td>\n",
       "      <td>0.986</td>\n",
       "      <td>0.731</td>\n",
       "      <td>young-asian-woman-during-snowfall-slowmotion</td>\n",
       "    </tr>\n",
       "    <tr>\n",
       "      <td>398</td>\n",
       "      <td>video498.webm</td>\n",
       "      <td>0.985</td>\n",
       "      <td>0.750</td>\n",
       "      <td>man-reading-in-closed-in-porch</td>\n",
       "    </tr>\n",
       "    <tr>\n",
       "      <td>633</td>\n",
       "      <td>video778.webm</td>\n",
       "      <td>0.985</td>\n",
       "      <td>0.929</td>\n",
       "      <td>portrait-of-real-asian-people-with-emotions-an...</td>\n",
       "    </tr>\n",
       "  </tbody>\n",
       "</table>\n",
       "</div>"
      ],
      "text/plain": [
       "               video  short-term_memorability  long-term_memorability  \\\n",
       "651    video798.webm                    0.989                   1.000   \n",
       "1599  video1981.webm                    0.987                   0.769   \n",
       "3910  video4903.webm                    0.987                   0.600   \n",
       "1771  video2203.webm                    0.986                   0.800   \n",
       "1903  video2364.webm                    0.986                   1.000   \n",
       "2089  video2596.webm                    0.986                   0.733   \n",
       "4024  video5047.webm                    0.986                   1.000   \n",
       "4880  video6103.webm                    0.986                   0.731   \n",
       "398    video498.webm                    0.985                   0.750   \n",
       "633    video778.webm                    0.985                   0.929   \n",
       "\n",
       "                                               Captions  \n",
       "651   camera-moves-in-on-beared-man-with-shovel-taki...  \n",
       "1599  happy-stylish-elegant-young-couple-welcoming-i...  \n",
       "3910     mather-and-daughter-enjoying-a-movie-on-tablet  \n",
       "1771  astronaut-in-outer-space-against-the-backdrop-...  \n",
       "1903                             head-of-big-yellow-eel  \n",
       "2089  funny-little-boy-sitting-at-desk-eating-apple-...  \n",
       "4024                           khr-western-unloadinggun  \n",
       "4880       young-asian-woman-during-snowfall-slowmotion  \n",
       "398                      man-reading-in-closed-in-porch  \n",
       "633   portrait-of-real-asian-people-with-emotions-an...  "
      ]
     },
     "execution_count": 9,
     "metadata": {},
     "output_type": "execute_result"
    }
   ],
   "source": [
    "df.nlargest(10, ['short-term_memorability'])"
   ]
  },
  {
   "cell_type": "code",
   "execution_count": 10,
   "metadata": {
    "colab": {
     "base_uri": "https://localhost:8080/",
     "height": 343
    },
    "colab_type": "code",
    "executionInfo": {
     "elapsed": 798,
     "status": "ok",
     "timestamp": 1587152149981,
     "user": {
      "displayName": "Amruth Hebbasuru Suryanarayana",
      "photoUrl": "",
      "userId": "18271264597795541557"
     },
     "user_tz": -60
    },
    "id": "5VdueugFlkfz",
    "outputId": "aca71747-b94c-4fd7-cbf1-e0590bd18bd8"
   },
   "outputs": [
    {
     "data": {
      "text/html": [
       "<div>\n",
       "<style scoped>\n",
       "    .dataframe tbody tr th:only-of-type {\n",
       "        vertical-align: middle;\n",
       "    }\n",
       "\n",
       "    .dataframe tbody tr th {\n",
       "        vertical-align: top;\n",
       "    }\n",
       "\n",
       "    .dataframe thead th {\n",
       "        text-align: right;\n",
       "    }\n",
       "</style>\n",
       "<table border=\"1\" class=\"dataframe\">\n",
       "  <thead>\n",
       "    <tr style=\"text-align: right;\">\n",
       "      <th></th>\n",
       "      <th>video</th>\n",
       "      <th>short-term_memorability</th>\n",
       "      <th>long-term_memorability</th>\n",
       "      <th>Captions</th>\n",
       "    </tr>\n",
       "  </thead>\n",
       "  <tbody>\n",
       "    <tr>\n",
       "      <td>8</td>\n",
       "      <td>video17.webm</td>\n",
       "      <td>0.777</td>\n",
       "      <td>1.0</td>\n",
       "      <td>hoover-dam-tourists-traffic</td>\n",
       "    </tr>\n",
       "    <tr>\n",
       "      <td>9</td>\n",
       "      <td>video18.webm</td>\n",
       "      <td>0.863</td>\n",
       "      <td>1.0</td>\n",
       "      <td>happy-girl-stretching-and-relaxing-on-the-station</td>\n",
       "    </tr>\n",
       "    <tr>\n",
       "      <td>33</td>\n",
       "      <td>video44.webm</td>\n",
       "      <td>0.828</td>\n",
       "      <td>1.0</td>\n",
       "      <td>christmas-market-at-schloss-charlottenburg-cha...</td>\n",
       "    </tr>\n",
       "    <tr>\n",
       "      <td>44</td>\n",
       "      <td>video56.webm</td>\n",
       "      <td>0.953</td>\n",
       "      <td>1.0</td>\n",
       "      <td>trackingof-a-couple-removing-a-sign-from-the-f...</td>\n",
       "    </tr>\n",
       "    <tr>\n",
       "      <td>46</td>\n",
       "      <td>video58.webm</td>\n",
       "      <td>0.744</td>\n",
       "      <td>1.0</td>\n",
       "      <td>firefighters-by-flaming-car</td>\n",
       "    </tr>\n",
       "    <tr>\n",
       "      <td>50</td>\n",
       "      <td>video63.webm</td>\n",
       "      <td>0.924</td>\n",
       "      <td>1.0</td>\n",
       "      <td>steadicamof-african-american-american-sports-f...</td>\n",
       "    </tr>\n",
       "    <tr>\n",
       "      <td>51</td>\n",
       "      <td>video65.webm</td>\n",
       "      <td>0.979</td>\n",
       "      <td>1.0</td>\n",
       "      <td>cowboy-pounds-fencepost</td>\n",
       "    </tr>\n",
       "    <tr>\n",
       "      <td>54</td>\n",
       "      <td>video68.webm</td>\n",
       "      <td>0.937</td>\n",
       "      <td>1.0</td>\n",
       "      <td>young-couple-portrait-smile-with-happiness-wit...</td>\n",
       "    </tr>\n",
       "    <tr>\n",
       "      <td>69</td>\n",
       "      <td>video85.webm</td>\n",
       "      <td>0.924</td>\n",
       "      <td>1.0</td>\n",
       "      <td>puppies-playing</td>\n",
       "    </tr>\n",
       "    <tr>\n",
       "      <td>70</td>\n",
       "      <td>video86.webm</td>\n",
       "      <td>0.983</td>\n",
       "      <td>1.0</td>\n",
       "      <td>young-couple-with-bottle-of-wine-standing-on-s...</td>\n",
       "    </tr>\n",
       "  </tbody>\n",
       "</table>\n",
       "</div>"
      ],
      "text/plain": [
       "           video  short-term_memorability  long-term_memorability  \\\n",
       "8   video17.webm                    0.777                     1.0   \n",
       "9   video18.webm                    0.863                     1.0   \n",
       "33  video44.webm                    0.828                     1.0   \n",
       "44  video56.webm                    0.953                     1.0   \n",
       "46  video58.webm                    0.744                     1.0   \n",
       "50  video63.webm                    0.924                     1.0   \n",
       "51  video65.webm                    0.979                     1.0   \n",
       "54  video68.webm                    0.937                     1.0   \n",
       "69  video85.webm                    0.924                     1.0   \n",
       "70  video86.webm                    0.983                     1.0   \n",
       "\n",
       "                                             Captions  \n",
       "8                         hoover-dam-tourists-traffic  \n",
       "9   happy-girl-stretching-and-relaxing-on-the-station  \n",
       "33  christmas-market-at-schloss-charlottenburg-cha...  \n",
       "44  trackingof-a-couple-removing-a-sign-from-the-f...  \n",
       "46                        firefighters-by-flaming-car  \n",
       "50  steadicamof-african-american-american-sports-f...  \n",
       "51                            cowboy-pounds-fencepost  \n",
       "54  young-couple-portrait-smile-with-happiness-wit...  \n",
       "69                                    puppies-playing  \n",
       "70  young-couple-with-bottle-of-wine-standing-on-s...  "
      ]
     },
     "execution_count": 10,
     "metadata": {},
     "output_type": "execute_result"
    }
   ],
   "source": [
    "df.nlargest(10, ['long-term_memorability'])"
   ]
  },
  {
   "cell_type": "code",
   "execution_count": 11,
   "metadata": {
    "colab": {
     "base_uri": "https://localhost:8080/",
     "height": 50
    },
    "colab_type": "code",
    "executionInfo": {
     "elapsed": 1474,
     "status": "ok",
     "timestamp": 1587152153576,
     "user": {
      "displayName": "Amruth Hebbasuru Suryanarayana",
      "photoUrl": "",
      "userId": "18271264597795541557"
     },
     "user_tz": -60
    },
    "id": "rXrllIcCll22",
    "outputId": "44654cd3-4540-4238-bb5e-09182653e629"
   },
   "outputs": [
    {
     "name": "stderr",
     "output_type": "stream",
     "text": [
      "[nltk_data] Downloading package stopwords to\n",
      "[nltk_data]     C:\\Users\\Dell\\AppData\\Roaming\\nltk_data...\n",
      "[nltk_data]   Package stopwords is already up-to-date!\n"
     ]
    }
   ],
   "source": [
    "# Importing the NLP Libraries\n",
    "import re\n",
    "import nltk\n",
    "nltk.download('stopwords')\n",
    "from nltk.corpus import stopwords"
   ]
  },
  {
   "cell_type": "code",
   "execution_count": 18,
   "metadata": {
    "colab": {
     "base_uri": "https://localhost:8080/",
     "height": 806
    },
    "colab_type": "code",
    "executionInfo": {
     "elapsed": 13203,
     "status": "ok",
     "timestamp": 1587152169029,
     "user": {
      "displayName": "Amruth Hebbasuru Suryanarayana",
      "photoUrl": "",
      "userId": "18271264597795541557"
     },
     "user_tz": -60
    },
    "id": "qcFr7GkXmDy3",
    "outputId": "b3c9c4e1-e9fa-4bdf-c956-e4dcc56fe011"
   },
   "outputs": [
    {
     "name": "stdout",
     "output_type": "stream",
     "text": [
      "[nltk_data] Downloading collection 'popular'\n",
      "[nltk_data]    | \n",
      "[nltk_data]    | Downloading package cmudict to /root/nltk_data...\n",
      "[nltk_data]    |   Unzipping corpora/cmudict.zip.\n",
      "[nltk_data]    | Downloading package gazetteers to /root/nltk_data...\n",
      "[nltk_data]    |   Unzipping corpora/gazetteers.zip.\n",
      "[nltk_data]    | Downloading package genesis to /root/nltk_data...\n",
      "[nltk_data]    |   Unzipping corpora/genesis.zip.\n",
      "[nltk_data]    | Downloading package gutenberg to /root/nltk_data...\n",
      "[nltk_data]    |   Unzipping corpora/gutenberg.zip.\n",
      "[nltk_data]    | Downloading package inaugural to /root/nltk_data...\n",
      "[nltk_data]    |   Unzipping corpora/inaugural.zip.\n",
      "[nltk_data]    | Downloading package movie_reviews to\n",
      "[nltk_data]    |     /root/nltk_data...\n",
      "[nltk_data]    |   Unzipping corpora/movie_reviews.zip.\n",
      "[nltk_data]    | Downloading package names to /root/nltk_data...\n",
      "[nltk_data]    |   Unzipping corpora/names.zip.\n",
      "[nltk_data]    | Downloading package shakespeare to /root/nltk_data...\n",
      "[nltk_data]    |   Unzipping corpora/shakespeare.zip.\n",
      "[nltk_data]    | Downloading package stopwords to /root/nltk_data...\n",
      "[nltk_data]    |   Package stopwords is already up-to-date!\n",
      "[nltk_data]    | Downloading package treebank to /root/nltk_data...\n",
      "[nltk_data]    |   Unzipping corpora/treebank.zip.\n",
      "[nltk_data]    | Downloading package twitter_samples to\n",
      "[nltk_data]    |     /root/nltk_data...\n",
      "[nltk_data]    |   Unzipping corpora/twitter_samples.zip.\n",
      "[nltk_data]    | Downloading package omw to /root/nltk_data...\n",
      "[nltk_data]    |   Unzipping corpora/omw.zip.\n",
      "[nltk_data]    | Downloading package wordnet to /root/nltk_data...\n",
      "[nltk_data]    |   Unzipping corpora/wordnet.zip.\n",
      "[nltk_data]    | Downloading package wordnet_ic to /root/nltk_data...\n",
      "[nltk_data]    |   Unzipping corpora/wordnet_ic.zip.\n",
      "[nltk_data]    | Downloading package words to /root/nltk_data...\n",
      "[nltk_data]    |   Unzipping corpora/words.zip.\n",
      "[nltk_data]    | Downloading package maxent_ne_chunker to\n",
      "[nltk_data]    |     /root/nltk_data...\n",
      "[nltk_data]    |   Unzipping chunkers/maxent_ne_chunker.zip.\n",
      "[nltk_data]    | Downloading package punkt to /root/nltk_data...\n",
      "[nltk_data]    |   Unzipping tokenizers/punkt.zip.\n",
      "[nltk_data]    | Downloading package snowball_data to\n",
      "[nltk_data]    |     /root/nltk_data...\n",
      "[nltk_data]    | Downloading package averaged_perceptron_tagger to\n",
      "[nltk_data]    |     /root/nltk_data...\n",
      "[nltk_data]    |   Unzipping taggers/averaged_perceptron_tagger.zip.\n",
      "[nltk_data]    | \n",
      "[nltk_data]  Done downloading collection popular\n"
     ]
    },
    {
     "data": {
      "text/plain": [
       "True"
      ]
     },
     "execution_count": 18,
     "metadata": {
      "tags": []
     },
     "output_type": "execute_result"
    }
   ],
   "source": [
    "# import nltk\n",
    "# nltk.download(\"popular\")"
   ]
  },
  {
   "cell_type": "code",
   "execution_count": 12,
   "metadata": {
    "colab": {},
    "colab_type": "code",
    "id": "f9QMphX-m8NH"
   },
   "outputs": [],
   "source": [
    "cleaned_captions = []\n",
    "for i in range(0, 6000):\n",
    "    text = re.sub('[^a-zA-Z]', ' ', video_captions['Captions'][i])\n",
    "    text = text.lower()\n",
    "    text = text.split()\n",
    "    text = [word for word in text if not word in set(stopwords.words('english'))]\n",
    "    text = ' '.join(text)\n",
    "    cleaned_captions.append(text)"
   ]
  },
  {
   "cell_type": "code",
   "execution_count": 13,
   "metadata": {
    "colab": {
     "base_uri": "https://localhost:8080/",
     "height": 34
    },
    "colab_type": "code",
    "executionInfo": {
     "elapsed": 1250,
     "status": "ok",
     "timestamp": 1587152188304,
     "user": {
      "displayName": "Amruth Hebbasuru Suryanarayana",
      "photoUrl": "",
      "userId": "18271264597795541557"
     },
     "user_tz": -60
    },
    "id": "jWw63XOFnOCK",
    "outputId": "93050d01-cd0d-4aaf-fb40-b4a576e1f8dd"
   },
   "outputs": [
    {
     "data": {
      "text/plain": [
       "'blonde woman massaged tilt'"
      ]
     },
     "execution_count": 13,
     "metadata": {},
     "output_type": "execute_result"
    }
   ],
   "source": [
    "cleaned_captions[0]\n"
   ]
  },
  {
   "cell_type": "markdown",
   "metadata": {
    "colab_type": "text",
    "id": "vqbBmuZQsYKC"
   },
   "source": [
    "# **CAPTION COUNTVECTORIZOR**"
   ]
  },
  {
   "cell_type": "code",
   "execution_count": 14,
   "metadata": {
    "colab": {},
    "colab_type": "code",
    "id": "L65nqmAHnQYV"
   },
   "outputs": [],
   "source": [
    "negavtive_weights = {'mountains':0.01,'sunset':0.02,'trees':0.03,'mountain':0.04,'clouds':0.05,'river':0.06,'aerialof':0.07,'lake':0.08,'forest':0.09,'kenya':0.10,'landscape':0.11,'valley':0.12,'leaves':0.13,'sun':0.14}"
   ]
  },
  {
   "cell_type": "code",
   "execution_count": 15,
   "metadata": {
    "colab": {},
    "colab_type": "code",
    "id": "Xeg9kiR0nSGG"
   },
   "outputs": [],
   "source": [
    "positive_weights = {'woman':0.65,'eating':0.64,'putting':0.63,'lying':0.62,'girl':0.61,'selfie':0.60,'relaxing':0.59,'jellyfish':0.58,'cat':0.57,'super':0.56,'slow':0.55,'super':0.54,'american':0.53,'potrait':0.52,'pregnant':0.51,'couple':0.50}"
   ]
  },
  {
   "cell_type": "code",
   "execution_count": 16,
   "metadata": {
    "colab": {},
    "colab_type": "code",
    "id": "6RJaCSGanUAi"
   },
   "outputs": [],
   "source": [
    "pos_list = []\n",
    "neg_list = []\n",
    "for i in range(0, 6000):\n",
    "    local_pos_weight = 0\n",
    "    local_neg_weight = 0\n",
    "    text = video_captions['Captions'][i]\n",
    "    text = text.split()\n",
    "    for word in text:\n",
    "        if(word in set(positive_weights.keys())):\n",
    "                pw = local_pos_weight + positive_weights[word]\n",
    "        if(word in set(negavtive_weights.keys())):\n",
    "                nw = local_neg_weight + negavtive_weights[word]\n",
    "    pos_list.append(local_pos_weight)\n",
    "    neg_list.append(local_neg_weight)"
   ]
  },
  {
   "cell_type": "code",
   "execution_count": 17,
   "metadata": {
    "colab": {},
    "colab_type": "code",
    "id": "bk2ue-yPnV2a"
   },
   "outputs": [],
   "source": [
    "weights_df = pd.DataFrame(\n",
    "    {'positive_weights': pos_list,\n",
    "     'negative_weights': neg_list\n",
    "    })"
   ]
  },
  {
   "cell_type": "code",
   "execution_count": 18,
   "metadata": {
    "colab": {},
    "colab_type": "code",
    "id": "W8x0m8LNnXf_"
   },
   "outputs": [],
   "source": [
    "from sklearn.feature_extraction.text import CountVectorizer\n",
    "cv = CountVectorizer()"
   ]
  },
  {
   "cell_type": "code",
   "execution_count": 19,
   "metadata": {
    "colab": {},
    "colab_type": "code",
    "id": "CF8N9YsDnYtF"
   },
   "outputs": [],
   "source": [
    "#Extracting the TFIDF features from the captions\n",
    "from sklearn.feature_extraction.text import TfidfVectorizer\n",
    "tf = TfidfVectorizer()"
   ]
  },
  {
   "cell_type": "code",
   "execution_count": 20,
   "metadata": {
    "colab": {},
    "colab_type": "code",
    "id": "2Q4VZoVEnaWG"
   },
   "outputs": [],
   "source": [
    "#Using CountVectorizer for feature Extraction\n",
    "caption_features = cv.fit_transform(cleaned_captions).toarray()"
   ]
  },
  {
   "cell_type": "code",
   "execution_count": 21,
   "metadata": {
    "colab": {
     "base_uri": "https://localhost:8080/",
     "height": 34
    },
    "colab_type": "code",
    "executionInfo": {
     "elapsed": 671,
     "status": "ok",
     "timestamp": 1587152207431,
     "user": {
      "displayName": "Amruth Hebbasuru Suryanarayana",
      "photoUrl": "",
      "userId": "18271264597795541557"
     },
     "user_tz": -60
    },
    "id": "D1OVP3yOnb1P",
    "outputId": "6d23c9a8-c8a1-4a92-9043-d4d6eae90b7c"
   },
   "outputs": [
    {
     "data": {
      "text/plain": [
       "array([0, 0, 0, ..., 0, 0, 0], dtype=int64)"
      ]
     },
     "execution_count": 21,
     "metadata": {},
     "output_type": "execute_result"
    }
   ],
   "source": [
    "caption_features[0]"
   ]
  },
  {
   "cell_type": "code",
   "execution_count": 22,
   "metadata": {
    "colab": {
     "base_uri": "https://localhost:8080/",
     "height": 34
    },
    "colab_type": "code",
    "executionInfo": {
     "elapsed": 1301,
     "status": "ok",
     "timestamp": 1587152210917,
     "user": {
      "displayName": "Amruth Hebbasuru Suryanarayana",
      "photoUrl": "",
      "userId": "18271264597795541557"
     },
     "user_tz": -60
    },
    "id": "LR12yrNlncuG",
    "outputId": "91f7baa6-1314-4ad9-89e6-dabdcc259a8f"
   },
   "outputs": [
    {
     "data": {
      "text/plain": [
       "(6000, 5087)"
      ]
     },
     "execution_count": 22,
     "metadata": {},
     "output_type": "execute_result"
    }
   ],
   "source": [
    "caption_features.shape"
   ]
  },
  {
   "cell_type": "markdown",
   "metadata": {
    "colab_type": "text",
    "id": "e6ivPNPRfDqY"
   },
   "source": [
    "Inputting the data into X and Y variables\n",
    "\n",
    "**bold text**"
   ]
  },
  {
   "cell_type": "code",
   "execution_count": 28,
   "metadata": {
    "colab": {},
    "colab_type": "code",
    "id": "4XEEAZm7ndod"
   },
   "outputs": [],
   "source": [
    "#Training Caption Modal\n",
    "X = caption_features\n",
    "y = ground_truth.iloc[:, 1:3].values"
   ]
  },
  {
   "cell_type": "markdown",
   "metadata": {
    "colab_type": "text",
    "id": "c8V76W2EfOGL"
   },
   "source": [
    "Splitting the dataset into the Training set and Test set\n",
    "\n",
    "bold text"
   ]
  },
  {
   "cell_type": "code",
   "execution_count": 29,
   "metadata": {
    "colab": {},
    "colab_type": "code",
    "id": "B4rXOseTnin5"
   },
   "outputs": [],
   "source": [
    "from sklearn.model_selection import train_test_split\n",
    "X_train, X_test, y_train, y_test = train_test_split(X, y, test_size = 0.20, random_state=1)"
   ]
  },
  {
   "cell_type": "markdown",
   "metadata": {
    "colab_type": "text",
    "id": "fzOhgz5BfU76"
   },
   "source": [
    "Function Spearmann\"s correlation coefficient"
   ]
  },
  {
   "cell_type": "code",
   "execution_count": 30,
   "metadata": {
    "colab": {},
    "colab_type": "code",
    "id": "qmu8EliSnkmR"
   },
   "outputs": [],
   "source": [
    "def Get_score(Y_pred,Y_true):\n",
    "    '''Calculate the Spearmann\"s correlation coefficient'''\n",
    "    Y_pred = np.squeeze(Y_pred)\n",
    "    Y_true = np.squeeze(Y_true)\n",
    "    if Y_pred.shape != Y_true.shape:\n",
    "        print('Input shapes don\\'t match!')\n",
    "    else:\n",
    "        if len(Y_pred.shape) == 1:\n",
    "            Res = pd.DataFrame({'Y_true':Y_true,'Y_pred':Y_pred})\n",
    "            score_mat = Res[['Y_true','Y_pred']].corr(method='spearman',min_periods=1)\n",
    "            print('The Spearman\\'s correlation coefficient is: %.3f' % score_mat.iloc[1][0])\n",
    "        else:\n",
    "            for ii in range(Y_pred.shape[1]):\n",
    "                Get_score(Y_pred[:,ii],Y_true[:,ii])"
   ]
  },
  {
   "cell_type": "markdown",
   "metadata": {
    "colab_type": "text",
    "id": "8NSqq08tfkIw"
   },
   "source": [
    "Using Linear Regression Model on Captions"
   ]
  },
  {
   "cell_type": "code",
   "execution_count": 31,
   "metadata": {
    "colab": {
     "base_uri": "https://localhost:8080/",
     "height": 34
    },
    "colab_type": "code",
    "executionInfo": {
     "elapsed": 77830,
     "status": "ok",
     "timestamp": 1587152295945,
     "user": {
      "displayName": "Amruth Hebbasuru Suryanarayana",
      "photoUrl": "",
      "userId": "18271264597795541557"
     },
     "user_tz": -60
    },
    "id": "Q64zFCY5nmAY",
    "outputId": "aebd0450-d41a-45e3-a5f1-c8c8f7dde444"
   },
   "outputs": [
    {
     "data": {
      "text/plain": [
       "LinearRegression(copy_X=True, fit_intercept=True, n_jobs=None, normalize=False)"
      ]
     },
     "execution_count": 31,
     "metadata": {},
     "output_type": "execute_result"
    }
   ],
   "source": [
    "# **Using Linear Regression Model on Captions**\n",
    "from sklearn.linear_model import LinearRegression\n",
    "LMregressor = LinearRegression()\n",
    "LMregressor.fit(X_train, y_train)"
   ]
  },
  {
   "cell_type": "code",
   "execution_count": 32,
   "metadata": {
    "colab": {
     "base_uri": "https://localhost:8080/",
     "height": 50
    },
    "colab_type": "code",
    "executionInfo": {
     "elapsed": 871,
     "status": "ok",
     "timestamp": 1587152300339,
     "user": {
      "displayName": "Amruth Hebbasuru Suryanarayana",
      "photoUrl": "",
      "userId": "18271264597795541557"
     },
     "user_tz": -60
    },
    "id": "JuA8ROAxnpgm",
    "outputId": "75566d4d-c5ab-4504-c117-73167bab204b"
   },
   "outputs": [
    {
     "name": "stdout",
     "output_type": "stream",
     "text": [
      "The Spearman's correlation coefficient is: 0.094\n",
      "The Spearman's correlation coefficient is: 0.077\n"
     ]
    }
   ],
   "source": [
    "y_pred = LMregressor.predict(X_test)\n",
    "Get_score(y_pred, y_test)"
   ]
  },
  {
   "cell_type": "markdown",
   "metadata": {
    "colab_type": "text",
    "id": "t6ZdstBAgE2z"
   },
   "source": [
    "Using Decision Tree Regression Model on Captions\n",
    "\n",
    "bold text"
   ]
  },
  {
   "cell_type": "code",
   "execution_count": 33,
   "metadata": {
    "colab": {
     "base_uri": "https://localhost:8080/",
     "height": 118
    },
    "colab_type": "code",
    "executionInfo": {
     "elapsed": 19132,
     "status": "ok",
     "timestamp": 1587152338900,
     "user": {
      "displayName": "Amruth Hebbasuru Suryanarayana",
      "photoUrl": "",
      "userId": "18271264597795541557"
     },
     "user_tz": -60
    },
    "id": "FysO3iYJn-7W",
    "outputId": "8bf143bb-af0c-4c3e-9b9c-2660079d6660"
   },
   "outputs": [
    {
     "data": {
      "text/plain": [
       "DecisionTreeRegressor(criterion='mse', max_depth=None, max_features=None,\n",
       "                      max_leaf_nodes=None, min_impurity_decrease=0.0,\n",
       "                      min_impurity_split=None, min_samples_leaf=1,\n",
       "                      min_samples_split=2, min_weight_fraction_leaf=0.0,\n",
       "                      presort=False, random_state=None, splitter='best')"
      ]
     },
     "execution_count": 33,
     "metadata": {},
     "output_type": "execute_result"
    }
   ],
   "source": [
    "from sklearn.tree import DecisionTreeRegressor\n",
    "DTregressor = DecisionTreeRegressor()\n",
    "DTregressor.fit(X_train, y_train)"
   ]
  },
  {
   "cell_type": "code",
   "execution_count": 36,
   "metadata": {
    "colab": {
     "base_uri": "https://localhost:8080/",
     "height": 50
    },
    "colab_type": "code",
    "executionInfo": {
     "elapsed": 897,
     "status": "ok",
     "timestamp": 1587152346749,
     "user": {
      "displayName": "Amruth Hebbasuru Suryanarayana",
      "photoUrl": "",
      "userId": "18271264597795541557"
     },
     "user_tz": -60
    },
    "id": "XCddkVbFoEwp",
    "outputId": "dbd0478c-66a4-4aa5-c196-9d426fe7fb8f"
   },
   "outputs": [
    {
     "name": "stdout",
     "output_type": "stream",
     "text": [
      "The Spearman's correlation coefficient is: 0.270\n",
      "The Spearman's correlation coefficient is: 0.145\n"
     ]
    }
   ],
   "source": [
    "y_pred = DTregressor.predict(X_test)\n",
    "Get_score(y_pred, y_test)"
   ]
  },
  {
   "cell_type": "markdown",
   "metadata": {
    "colab_type": "text",
    "id": "yNlNGHf1ggZL"
   },
   "source": [
    "# h2 VISIT AGAIN Fitting Random Forest Regression model on Captions\n",
    "\n",
    "bold text"
   ]
  },
  {
   "cell_type": "code",
   "execution_count": 34,
   "metadata": {
    "colab": {
     "base_uri": "https://localhost:8080/",
     "height": 134
    },
    "colab_type": "code",
    "executionInfo": {
     "elapsed": 730050,
     "status": "ok",
     "timestamp": 1587153094630,
     "user": {
      "displayName": "Amruth Hebbasuru Suryanarayana",
      "photoUrl": "",
      "userId": "18271264597795541557"
     },
     "user_tz": -60
    },
    "id": "4-r9LMT7ptgZ",
    "outputId": "b919c3ed-9a3f-48df-95c0-f2e0b08ab77c"
   },
   "outputs": [
    {
     "name": "stderr",
     "output_type": "stream",
     "text": [
      "C:\\Anaconda3\\lib\\site-packages\\sklearn\\ensemble\\forest.py:245: FutureWarning: The default value of n_estimators will change from 10 in version 0.20 to 100 in 0.22.\n",
      "  \"10 in version 0.20 to 100 in 0.22.\", FutureWarning)\n"
     ]
    },
    {
     "ename": "KeyboardInterrupt",
     "evalue": "",
     "output_type": "error",
     "traceback": [
      "\u001b[1;31m---------------------------------------------------------------------------\u001b[0m",
      "\u001b[1;31mKeyboardInterrupt\u001b[0m                         Traceback (most recent call last)",
      "\u001b[1;32m<ipython-input-34-052176363efc>\u001b[0m in \u001b[0;36m<module>\u001b[1;34m\u001b[0m\n\u001b[0;32m      1\u001b[0m \u001b[1;32mfrom\u001b[0m \u001b[0msklearn\u001b[0m\u001b[1;33m.\u001b[0m\u001b[0mensemble\u001b[0m \u001b[1;32mimport\u001b[0m \u001b[0mRandomForestRegressor\u001b[0m\u001b[1;33m\u001b[0m\u001b[1;33m\u001b[0m\u001b[0m\n\u001b[0;32m      2\u001b[0m \u001b[0mRFregressor\u001b[0m \u001b[1;33m=\u001b[0m \u001b[0mRandomForestRegressor\u001b[0m\u001b[1;33m(\u001b[0m\u001b[1;33m)\u001b[0m\u001b[1;33m\u001b[0m\u001b[1;33m\u001b[0m\u001b[0m\n\u001b[1;32m----> 3\u001b[1;33m \u001b[0mRFregressor\u001b[0m\u001b[1;33m.\u001b[0m\u001b[0mfit\u001b[0m\u001b[1;33m(\u001b[0m\u001b[0mX_train\u001b[0m\u001b[1;33m,\u001b[0m \u001b[0my_train\u001b[0m\u001b[1;33m)\u001b[0m\u001b[1;33m\u001b[0m\u001b[1;33m\u001b[0m\u001b[0m\n\u001b[0m",
      "\u001b[1;32mC:\\Anaconda3\\lib\\site-packages\\sklearn\\ensemble\\forest.py\u001b[0m in \u001b[0;36mfit\u001b[1;34m(self, X, y, sample_weight)\u001b[0m\n\u001b[0;32m    328\u001b[0m                     \u001b[0mt\u001b[0m\u001b[1;33m,\u001b[0m \u001b[0mself\u001b[0m\u001b[1;33m,\u001b[0m \u001b[0mX\u001b[0m\u001b[1;33m,\u001b[0m \u001b[0my\u001b[0m\u001b[1;33m,\u001b[0m \u001b[0msample_weight\u001b[0m\u001b[1;33m,\u001b[0m \u001b[0mi\u001b[0m\u001b[1;33m,\u001b[0m \u001b[0mlen\u001b[0m\u001b[1;33m(\u001b[0m\u001b[0mtrees\u001b[0m\u001b[1;33m)\u001b[0m\u001b[1;33m,\u001b[0m\u001b[1;33m\u001b[0m\u001b[1;33m\u001b[0m\u001b[0m\n\u001b[0;32m    329\u001b[0m                     verbose=self.verbose, class_weight=self.class_weight)\n\u001b[1;32m--> 330\u001b[1;33m                 for i, t in enumerate(trees))\n\u001b[0m\u001b[0;32m    331\u001b[0m \u001b[1;33m\u001b[0m\u001b[0m\n\u001b[0;32m    332\u001b[0m             \u001b[1;31m# Collect newly grown trees\u001b[0m\u001b[1;33m\u001b[0m\u001b[1;33m\u001b[0m\u001b[1;33m\u001b[0m\u001b[0m\n",
      "\u001b[1;32mC:\\Anaconda3\\lib\\site-packages\\joblib\\parallel.py\u001b[0m in \u001b[0;36m__call__\u001b[1;34m(self, iterable)\u001b[0m\n\u001b[0;32m    922\u001b[0m                 \u001b[0mself\u001b[0m\u001b[1;33m.\u001b[0m\u001b[0m_iterating\u001b[0m \u001b[1;33m=\u001b[0m \u001b[0mself\u001b[0m\u001b[1;33m.\u001b[0m\u001b[0m_original_iterator\u001b[0m \u001b[1;32mis\u001b[0m \u001b[1;32mnot\u001b[0m \u001b[1;32mNone\u001b[0m\u001b[1;33m\u001b[0m\u001b[1;33m\u001b[0m\u001b[0m\n\u001b[0;32m    923\u001b[0m \u001b[1;33m\u001b[0m\u001b[0m\n\u001b[1;32m--> 924\u001b[1;33m             \u001b[1;32mwhile\u001b[0m \u001b[0mself\u001b[0m\u001b[1;33m.\u001b[0m\u001b[0mdispatch_one_batch\u001b[0m\u001b[1;33m(\u001b[0m\u001b[0miterator\u001b[0m\u001b[1;33m)\u001b[0m\u001b[1;33m:\u001b[0m\u001b[1;33m\u001b[0m\u001b[1;33m\u001b[0m\u001b[0m\n\u001b[0m\u001b[0;32m    925\u001b[0m                 \u001b[1;32mpass\u001b[0m\u001b[1;33m\u001b[0m\u001b[1;33m\u001b[0m\u001b[0m\n\u001b[0;32m    926\u001b[0m \u001b[1;33m\u001b[0m\u001b[0m\n",
      "\u001b[1;32mC:\\Anaconda3\\lib\\site-packages\\joblib\\parallel.py\u001b[0m in \u001b[0;36mdispatch_one_batch\u001b[1;34m(self, iterator)\u001b[0m\n\u001b[0;32m    757\u001b[0m                 \u001b[1;32mreturn\u001b[0m \u001b[1;32mFalse\u001b[0m\u001b[1;33m\u001b[0m\u001b[1;33m\u001b[0m\u001b[0m\n\u001b[0;32m    758\u001b[0m             \u001b[1;32melse\u001b[0m\u001b[1;33m:\u001b[0m\u001b[1;33m\u001b[0m\u001b[1;33m\u001b[0m\u001b[0m\n\u001b[1;32m--> 759\u001b[1;33m                 \u001b[0mself\u001b[0m\u001b[1;33m.\u001b[0m\u001b[0m_dispatch\u001b[0m\u001b[1;33m(\u001b[0m\u001b[0mtasks\u001b[0m\u001b[1;33m)\u001b[0m\u001b[1;33m\u001b[0m\u001b[1;33m\u001b[0m\u001b[0m\n\u001b[0m\u001b[0;32m    760\u001b[0m                 \u001b[1;32mreturn\u001b[0m \u001b[1;32mTrue\u001b[0m\u001b[1;33m\u001b[0m\u001b[1;33m\u001b[0m\u001b[0m\n\u001b[0;32m    761\u001b[0m \u001b[1;33m\u001b[0m\u001b[0m\n",
      "\u001b[1;32mC:\\Anaconda3\\lib\\site-packages\\joblib\\parallel.py\u001b[0m in \u001b[0;36m_dispatch\u001b[1;34m(self, batch)\u001b[0m\n\u001b[0;32m    714\u001b[0m         \u001b[1;32mwith\u001b[0m \u001b[0mself\u001b[0m\u001b[1;33m.\u001b[0m\u001b[0m_lock\u001b[0m\u001b[1;33m:\u001b[0m\u001b[1;33m\u001b[0m\u001b[1;33m\u001b[0m\u001b[0m\n\u001b[0;32m    715\u001b[0m             \u001b[0mjob_idx\u001b[0m \u001b[1;33m=\u001b[0m \u001b[0mlen\u001b[0m\u001b[1;33m(\u001b[0m\u001b[0mself\u001b[0m\u001b[1;33m.\u001b[0m\u001b[0m_jobs\u001b[0m\u001b[1;33m)\u001b[0m\u001b[1;33m\u001b[0m\u001b[1;33m\u001b[0m\u001b[0m\n\u001b[1;32m--> 716\u001b[1;33m             \u001b[0mjob\u001b[0m \u001b[1;33m=\u001b[0m \u001b[0mself\u001b[0m\u001b[1;33m.\u001b[0m\u001b[0m_backend\u001b[0m\u001b[1;33m.\u001b[0m\u001b[0mapply_async\u001b[0m\u001b[1;33m(\u001b[0m\u001b[0mbatch\u001b[0m\u001b[1;33m,\u001b[0m \u001b[0mcallback\u001b[0m\u001b[1;33m=\u001b[0m\u001b[0mcb\u001b[0m\u001b[1;33m)\u001b[0m\u001b[1;33m\u001b[0m\u001b[1;33m\u001b[0m\u001b[0m\n\u001b[0m\u001b[0;32m    717\u001b[0m             \u001b[1;31m# A job can complete so quickly than its callback is\u001b[0m\u001b[1;33m\u001b[0m\u001b[1;33m\u001b[0m\u001b[1;33m\u001b[0m\u001b[0m\n\u001b[0;32m    718\u001b[0m             \u001b[1;31m# called before we get here, causing self._jobs to\u001b[0m\u001b[1;33m\u001b[0m\u001b[1;33m\u001b[0m\u001b[1;33m\u001b[0m\u001b[0m\n",
      "\u001b[1;32mC:\\Anaconda3\\lib\\site-packages\\joblib\\_parallel_backends.py\u001b[0m in \u001b[0;36mapply_async\u001b[1;34m(self, func, callback)\u001b[0m\n\u001b[0;32m    180\u001b[0m     \u001b[1;32mdef\u001b[0m \u001b[0mapply_async\u001b[0m\u001b[1;33m(\u001b[0m\u001b[0mself\u001b[0m\u001b[1;33m,\u001b[0m \u001b[0mfunc\u001b[0m\u001b[1;33m,\u001b[0m \u001b[0mcallback\u001b[0m\u001b[1;33m=\u001b[0m\u001b[1;32mNone\u001b[0m\u001b[1;33m)\u001b[0m\u001b[1;33m:\u001b[0m\u001b[1;33m\u001b[0m\u001b[1;33m\u001b[0m\u001b[0m\n\u001b[0;32m    181\u001b[0m         \u001b[1;34m\"\"\"Schedule a func to be run\"\"\"\u001b[0m\u001b[1;33m\u001b[0m\u001b[1;33m\u001b[0m\u001b[0m\n\u001b[1;32m--> 182\u001b[1;33m         \u001b[0mresult\u001b[0m \u001b[1;33m=\u001b[0m \u001b[0mImmediateResult\u001b[0m\u001b[1;33m(\u001b[0m\u001b[0mfunc\u001b[0m\u001b[1;33m)\u001b[0m\u001b[1;33m\u001b[0m\u001b[1;33m\u001b[0m\u001b[0m\n\u001b[0m\u001b[0;32m    183\u001b[0m         \u001b[1;32mif\u001b[0m \u001b[0mcallback\u001b[0m\u001b[1;33m:\u001b[0m\u001b[1;33m\u001b[0m\u001b[1;33m\u001b[0m\u001b[0m\n\u001b[0;32m    184\u001b[0m             \u001b[0mcallback\u001b[0m\u001b[1;33m(\u001b[0m\u001b[0mresult\u001b[0m\u001b[1;33m)\u001b[0m\u001b[1;33m\u001b[0m\u001b[1;33m\u001b[0m\u001b[0m\n",
      "\u001b[1;32mC:\\Anaconda3\\lib\\site-packages\\joblib\\_parallel_backends.py\u001b[0m in \u001b[0;36m__init__\u001b[1;34m(self, batch)\u001b[0m\n\u001b[0;32m    547\u001b[0m         \u001b[1;31m# Don't delay the application, to avoid keeping the input\u001b[0m\u001b[1;33m\u001b[0m\u001b[1;33m\u001b[0m\u001b[1;33m\u001b[0m\u001b[0m\n\u001b[0;32m    548\u001b[0m         \u001b[1;31m# arguments in memory\u001b[0m\u001b[1;33m\u001b[0m\u001b[1;33m\u001b[0m\u001b[1;33m\u001b[0m\u001b[0m\n\u001b[1;32m--> 549\u001b[1;33m         \u001b[0mself\u001b[0m\u001b[1;33m.\u001b[0m\u001b[0mresults\u001b[0m \u001b[1;33m=\u001b[0m \u001b[0mbatch\u001b[0m\u001b[1;33m(\u001b[0m\u001b[1;33m)\u001b[0m\u001b[1;33m\u001b[0m\u001b[1;33m\u001b[0m\u001b[0m\n\u001b[0m\u001b[0;32m    550\u001b[0m \u001b[1;33m\u001b[0m\u001b[0m\n\u001b[0;32m    551\u001b[0m     \u001b[1;32mdef\u001b[0m \u001b[0mget\u001b[0m\u001b[1;33m(\u001b[0m\u001b[0mself\u001b[0m\u001b[1;33m)\u001b[0m\u001b[1;33m:\u001b[0m\u001b[1;33m\u001b[0m\u001b[1;33m\u001b[0m\u001b[0m\n",
      "\u001b[1;32mC:\\Anaconda3\\lib\\site-packages\\joblib\\parallel.py\u001b[0m in \u001b[0;36m__call__\u001b[1;34m(self)\u001b[0m\n\u001b[0;32m    223\u001b[0m         \u001b[1;32mwith\u001b[0m \u001b[0mparallel_backend\u001b[0m\u001b[1;33m(\u001b[0m\u001b[0mself\u001b[0m\u001b[1;33m.\u001b[0m\u001b[0m_backend\u001b[0m\u001b[1;33m,\u001b[0m \u001b[0mn_jobs\u001b[0m\u001b[1;33m=\u001b[0m\u001b[0mself\u001b[0m\u001b[1;33m.\u001b[0m\u001b[0m_n_jobs\u001b[0m\u001b[1;33m)\u001b[0m\u001b[1;33m:\u001b[0m\u001b[1;33m\u001b[0m\u001b[1;33m\u001b[0m\u001b[0m\n\u001b[0;32m    224\u001b[0m             return [func(*args, **kwargs)\n\u001b[1;32m--> 225\u001b[1;33m                     for func, args, kwargs in self.items]\n\u001b[0m\u001b[0;32m    226\u001b[0m \u001b[1;33m\u001b[0m\u001b[0m\n\u001b[0;32m    227\u001b[0m     \u001b[1;32mdef\u001b[0m \u001b[0m__len__\u001b[0m\u001b[1;33m(\u001b[0m\u001b[0mself\u001b[0m\u001b[1;33m)\u001b[0m\u001b[1;33m:\u001b[0m\u001b[1;33m\u001b[0m\u001b[1;33m\u001b[0m\u001b[0m\n",
      "\u001b[1;32mC:\\Anaconda3\\lib\\site-packages\\joblib\\parallel.py\u001b[0m in \u001b[0;36m<listcomp>\u001b[1;34m(.0)\u001b[0m\n\u001b[0;32m    223\u001b[0m         \u001b[1;32mwith\u001b[0m \u001b[0mparallel_backend\u001b[0m\u001b[1;33m(\u001b[0m\u001b[0mself\u001b[0m\u001b[1;33m.\u001b[0m\u001b[0m_backend\u001b[0m\u001b[1;33m,\u001b[0m \u001b[0mn_jobs\u001b[0m\u001b[1;33m=\u001b[0m\u001b[0mself\u001b[0m\u001b[1;33m.\u001b[0m\u001b[0m_n_jobs\u001b[0m\u001b[1;33m)\u001b[0m\u001b[1;33m:\u001b[0m\u001b[1;33m\u001b[0m\u001b[1;33m\u001b[0m\u001b[0m\n\u001b[0;32m    224\u001b[0m             return [func(*args, **kwargs)\n\u001b[1;32m--> 225\u001b[1;33m                     for func, args, kwargs in self.items]\n\u001b[0m\u001b[0;32m    226\u001b[0m \u001b[1;33m\u001b[0m\u001b[0m\n\u001b[0;32m    227\u001b[0m     \u001b[1;32mdef\u001b[0m \u001b[0m__len__\u001b[0m\u001b[1;33m(\u001b[0m\u001b[0mself\u001b[0m\u001b[1;33m)\u001b[0m\u001b[1;33m:\u001b[0m\u001b[1;33m\u001b[0m\u001b[1;33m\u001b[0m\u001b[0m\n",
      "\u001b[1;32mC:\\Anaconda3\\lib\\site-packages\\sklearn\\ensemble\\forest.py\u001b[0m in \u001b[0;36m_parallel_build_trees\u001b[1;34m(tree, forest, X, y, sample_weight, tree_idx, n_trees, verbose, class_weight)\u001b[0m\n\u001b[0;32m    116\u001b[0m             \u001b[0mcurr_sample_weight\u001b[0m \u001b[1;33m*=\u001b[0m \u001b[0mcompute_sample_weight\u001b[0m\u001b[1;33m(\u001b[0m\u001b[1;34m'balanced'\u001b[0m\u001b[1;33m,\u001b[0m \u001b[0my\u001b[0m\u001b[1;33m,\u001b[0m \u001b[0mindices\u001b[0m\u001b[1;33m)\u001b[0m\u001b[1;33m\u001b[0m\u001b[1;33m\u001b[0m\u001b[0m\n\u001b[0;32m    117\u001b[0m \u001b[1;33m\u001b[0m\u001b[0m\n\u001b[1;32m--> 118\u001b[1;33m         \u001b[0mtree\u001b[0m\u001b[1;33m.\u001b[0m\u001b[0mfit\u001b[0m\u001b[1;33m(\u001b[0m\u001b[0mX\u001b[0m\u001b[1;33m,\u001b[0m \u001b[0my\u001b[0m\u001b[1;33m,\u001b[0m \u001b[0msample_weight\u001b[0m\u001b[1;33m=\u001b[0m\u001b[0mcurr_sample_weight\u001b[0m\u001b[1;33m,\u001b[0m \u001b[0mcheck_input\u001b[0m\u001b[1;33m=\u001b[0m\u001b[1;32mFalse\u001b[0m\u001b[1;33m)\u001b[0m\u001b[1;33m\u001b[0m\u001b[1;33m\u001b[0m\u001b[0m\n\u001b[0m\u001b[0;32m    119\u001b[0m     \u001b[1;32melse\u001b[0m\u001b[1;33m:\u001b[0m\u001b[1;33m\u001b[0m\u001b[1;33m\u001b[0m\u001b[0m\n\u001b[0;32m    120\u001b[0m         \u001b[0mtree\u001b[0m\u001b[1;33m.\u001b[0m\u001b[0mfit\u001b[0m\u001b[1;33m(\u001b[0m\u001b[0mX\u001b[0m\u001b[1;33m,\u001b[0m \u001b[0my\u001b[0m\u001b[1;33m,\u001b[0m \u001b[0msample_weight\u001b[0m\u001b[1;33m=\u001b[0m\u001b[0msample_weight\u001b[0m\u001b[1;33m,\u001b[0m \u001b[0mcheck_input\u001b[0m\u001b[1;33m=\u001b[0m\u001b[1;32mFalse\u001b[0m\u001b[1;33m)\u001b[0m\u001b[1;33m\u001b[0m\u001b[1;33m\u001b[0m\u001b[0m\n",
      "\u001b[1;32mC:\\Anaconda3\\lib\\site-packages\\sklearn\\tree\\tree.py\u001b[0m in \u001b[0;36mfit\u001b[1;34m(self, X, y, sample_weight, check_input, X_idx_sorted)\u001b[0m\n\u001b[0;32m   1155\u001b[0m             \u001b[0msample_weight\u001b[0m\u001b[1;33m=\u001b[0m\u001b[0msample_weight\u001b[0m\u001b[1;33m,\u001b[0m\u001b[1;33m\u001b[0m\u001b[1;33m\u001b[0m\u001b[0m\n\u001b[0;32m   1156\u001b[0m             \u001b[0mcheck_input\u001b[0m\u001b[1;33m=\u001b[0m\u001b[0mcheck_input\u001b[0m\u001b[1;33m,\u001b[0m\u001b[1;33m\u001b[0m\u001b[1;33m\u001b[0m\u001b[0m\n\u001b[1;32m-> 1157\u001b[1;33m             X_idx_sorted=X_idx_sorted)\n\u001b[0m\u001b[0;32m   1158\u001b[0m         \u001b[1;32mreturn\u001b[0m \u001b[0mself\u001b[0m\u001b[1;33m\u001b[0m\u001b[1;33m\u001b[0m\u001b[0m\n\u001b[0;32m   1159\u001b[0m \u001b[1;33m\u001b[0m\u001b[0m\n",
      "\u001b[1;32mC:\\Anaconda3\\lib\\site-packages\\sklearn\\tree\\tree.py\u001b[0m in \u001b[0;36mfit\u001b[1;34m(self, X, y, sample_weight, check_input, X_idx_sorted)\u001b[0m\n\u001b[0;32m    378\u001b[0m                                            min_impurity_split)\n\u001b[0;32m    379\u001b[0m \u001b[1;33m\u001b[0m\u001b[0m\n\u001b[1;32m--> 380\u001b[1;33m         \u001b[0mbuilder\u001b[0m\u001b[1;33m.\u001b[0m\u001b[0mbuild\u001b[0m\u001b[1;33m(\u001b[0m\u001b[0mself\u001b[0m\u001b[1;33m.\u001b[0m\u001b[0mtree_\u001b[0m\u001b[1;33m,\u001b[0m \u001b[0mX\u001b[0m\u001b[1;33m,\u001b[0m \u001b[0my\u001b[0m\u001b[1;33m,\u001b[0m \u001b[0msample_weight\u001b[0m\u001b[1;33m,\u001b[0m \u001b[0mX_idx_sorted\u001b[0m\u001b[1;33m)\u001b[0m\u001b[1;33m\u001b[0m\u001b[1;33m\u001b[0m\u001b[0m\n\u001b[0m\u001b[0;32m    381\u001b[0m \u001b[1;33m\u001b[0m\u001b[0m\n\u001b[0;32m    382\u001b[0m         \u001b[1;32mif\u001b[0m \u001b[0mself\u001b[0m\u001b[1;33m.\u001b[0m\u001b[0mn_outputs_\u001b[0m \u001b[1;33m==\u001b[0m \u001b[1;36m1\u001b[0m\u001b[1;33m:\u001b[0m\u001b[1;33m\u001b[0m\u001b[1;33m\u001b[0m\u001b[0m\n",
      "\u001b[1;31mKeyboardInterrupt\u001b[0m: "
     ]
    }
   ],
   "source": [
    "from sklearn.ensemble import RandomForestRegressor\n",
    "RFregressor = RandomForestRegressor()\n",
    "RFregressor.fit(X_train, y_train)"
   ]
  },
  {
   "cell_type": "code",
   "execution_count": 38,
   "metadata": {
    "colab": {
     "base_uri": "https://localhost:8080/",
     "height": 50
    },
    "colab_type": "code",
    "executionInfo": {
     "elapsed": 730,
     "status": "ok",
     "timestamp": 1587153176601,
     "user": {
      "displayName": "Amruth Hebbasuru Suryanarayana",
      "photoUrl": "",
      "userId": "18271264597795541557"
     },
     "user_tz": -60
    },
    "id": "Q151UKLOpyPw",
    "outputId": "23343e2d-edcf-490a-f7f7-a28fe9dcc514"
   },
   "outputs": [
    {
     "name": "stdout",
     "output_type": "stream",
     "text": [
      "The Spearman's correlation coefficient is: 0.393\n",
      "The Spearman's correlation coefficient is: 0.193\n"
     ]
    }
   ],
   "source": [
    "y_pred = RFregressor.predict(X_test)\n",
    "Get_score(y_pred, y_test)"
   ]
  },
  {
   "cell_type": "markdown",
   "metadata": {
    "colab_type": "text",
    "id": "OzIr-Xduhb4k"
   },
   "source": [
    "## TFIDF score instead of count vectorizer\n",
    "\n",
    "bold text"
   ]
  },
  {
   "cell_type": "code",
   "execution_count": 35,
   "metadata": {
    "colab": {},
    "colab_type": "code",
    "id": "9tqZYf9Ts4Tw"
   },
   "outputs": [],
   "source": [
    "# **Using TFIDF score instead of count vectorizer**\n",
    "captions_tfidf_features = tf.fit_transform(cleaned_captions).toarray()\n",
    "X= captions_tfidf_features\n",
    "y = ground_truth.iloc[:, 1:3].values"
   ]
  },
  {
   "cell_type": "markdown",
   "metadata": {
    "colab_type": "text",
    "id": "_daeWNaRhkhk"
   },
   "source": [
    "Splitting the dataset into the Training set and Test set\n",
    "\n",
    "bold text"
   ]
  },
  {
   "cell_type": "code",
   "execution_count": 36,
   "metadata": {
    "colab": {},
    "colab_type": "code",
    "id": "9KJg_DzGs_P1"
   },
   "outputs": [],
   "source": [
    "from sklearn.model_selection import train_test_split\n",
    "X_train, X_test, y_train, y_test = train_test_split(X, y, test_size = 0.20, random_state=1)"
   ]
  },
  {
   "cell_type": "markdown",
   "metadata": {
    "colab_type": "text",
    "id": "XdXUEf-phrrl"
   },
   "source": [
    "Using Linear Regression Model on Captions with TFIDF\n",
    "\n",
    "bold text"
   ]
  },
  {
   "cell_type": "code",
   "execution_count": 37,
   "metadata": {
    "colab": {
     "base_uri": "https://localhost:8080/",
     "height": 34
    },
    "colab_type": "code",
    "executionInfo": {
     "elapsed": 66258,
     "status": "ok",
     "timestamp": 1587153503958,
     "user": {
      "displayName": "Amruth Hebbasuru Suryanarayana",
      "photoUrl": "",
      "userId": "18271264597795541557"
     },
     "user_tz": -60
    },
    "id": "TzbJF_yFtkW0",
    "outputId": "020530ff-c1e8-4bd2-9819-71ef2f0986a3"
   },
   "outputs": [
    {
     "data": {
      "text/plain": [
       "LinearRegression(copy_X=True, fit_intercept=True, n_jobs=None, normalize=False)"
      ]
     },
     "execution_count": 37,
     "metadata": {},
     "output_type": "execute_result"
    }
   ],
   "source": [
    "from sklearn.linear_model import LinearRegression\n",
    "LMregressor = LinearRegression()\n",
    "LMregressor.fit(X_train, y_train)"
   ]
  },
  {
   "cell_type": "code",
   "execution_count": 38,
   "metadata": {
    "colab": {
     "base_uri": "https://localhost:8080/",
     "height": 50
    },
    "colab_type": "code",
    "executionInfo": {
     "elapsed": 725,
     "status": "ok",
     "timestamp": 1587153514321,
     "user": {
      "displayName": "Amruth Hebbasuru Suryanarayana",
      "photoUrl": "",
      "userId": "18271264597795541557"
     },
     "user_tz": -60
    },
    "id": "ZQZf7vKKt4PC",
    "outputId": "d1be3a0e-b0f0-407d-9d20-2b58b7b75716"
   },
   "outputs": [
    {
     "name": "stdout",
     "output_type": "stream",
     "text": [
      "The Spearman's correlation coefficient is: 0.140\n",
      "The Spearman's correlation coefficient is: -0.001\n"
     ]
    }
   ],
   "source": [
    "y_pred = LMregressor.predict(X_test)\n",
    "Get_score(y_pred, y_test)"
   ]
  },
  {
   "cell_type": "markdown",
   "metadata": {
    "colab_type": "text",
    "id": "iF-8Oao_jf-p"
   },
   "source": [
    "Using Decision Tree Regression Model on Captions with TFIDF"
   ]
  },
  {
   "cell_type": "code",
   "execution_count": 39,
   "metadata": {
    "colab": {
     "base_uri": "https://localhost:8080/",
     "height": 118
    },
    "colab_type": "code",
    "executionInfo": {
     "elapsed": 63541,
     "status": "ok",
     "timestamp": 1587153597829,
     "user": {
      "displayName": "Amruth Hebbasuru Suryanarayana",
      "photoUrl": "",
      "userId": "18271264597795541557"
     },
     "user_tz": -60
    },
    "id": "TBV4LS3suKw9",
    "outputId": "5c3eefcd-20c1-4123-c65e-82b247d433d4"
   },
   "outputs": [
    {
     "data": {
      "text/plain": [
       "DecisionTreeRegressor(criterion='mse', max_depth=None, max_features=None,\n",
       "                      max_leaf_nodes=None, min_impurity_decrease=0.0,\n",
       "                      min_impurity_split=None, min_samples_leaf=1,\n",
       "                      min_samples_split=2, min_weight_fraction_leaf=0.0,\n",
       "                      presort=False, random_state=None, splitter='best')"
      ]
     },
     "execution_count": 39,
     "metadata": {},
     "output_type": "execute_result"
    }
   ],
   "source": [
    "from sklearn.tree import DecisionTreeRegressor\n",
    "DTregressor = DecisionTreeRegressor()\n",
    "DTregressor.fit(X_train, y_train)"
   ]
  },
  {
   "cell_type": "code",
   "execution_count": 40,
   "metadata": {
    "colab": {
     "base_uri": "https://localhost:8080/",
     "height": 50
    },
    "colab_type": "code",
    "executionInfo": {
     "elapsed": 1274,
     "status": "ok",
     "timestamp": 1587153663691,
     "user": {
      "displayName": "Amruth Hebbasuru Suryanarayana",
      "photoUrl": "",
      "userId": "18271264597795541557"
     },
     "user_tz": -60
    },
    "id": "bXX6TFAfuP0Z",
    "outputId": "345bebeb-913f-4449-88a5-136ff716da35"
   },
   "outputs": [
    {
     "name": "stdout",
     "output_type": "stream",
     "text": [
      "The Spearman's correlation coefficient is: 0.280\n",
      "The Spearman's correlation coefficient is: 0.140\n"
     ]
    }
   ],
   "source": [
    "y_pred = DTregressor.predict(X_test)\n",
    "Get_score(y_pred, y_test)"
   ]
  },
  {
   "cell_type": "markdown",
   "metadata": {
    "colab_type": "text",
    "id": "veuGVXh8A34-"
   },
   "source": [
    "# h1 Keeps on Running Random Forest Regression model on Captions with\n",
    "*italicized text*\n",
    "> Indented block\n",
    "\n"
   ]
  },
  {
   "cell_type": "markdown",
   "metadata": {
    "colab_type": "text",
    "id": "NEuxKPyKkIEH"
   },
   "source": [
    "Fitting Random Forest Regression model on Captions with TFIDF"
   ]
  },
  {
   "cell_type": "code",
   "execution_count": 80,
   "metadata": {
    "colab": {
     "base_uri": "https://localhost:8080/",
     "height": 134
    },
    "colab_type": "code",
    "executionInfo": {
     "elapsed": 7988,
     "status": "ok",
     "timestamp": 1587168080168,
     "user": {
      "displayName": "Amruth Hebbasuru Suryanarayana",
      "photoUrl": "",
      "userId": "18271264597795541557"
     },
     "user_tz": -60
    },
    "id": "RiSb7fhLuvGY",
    "outputId": "e450c294-e3c2-4bfe-9b7f-b8bb780f3baa"
   },
   "outputs": [
    {
     "data": {
      "text/plain": [
       "RandomForestRegressor(bootstrap=True, ccp_alpha=0.0, criterion='mse',\n",
       "                      max_depth=None, max_features='auto', max_leaf_nodes=None,\n",
       "                      max_samples=None, min_impurity_decrease=0.0,\n",
       "                      min_impurity_split=None, min_samples_leaf=1,\n",
       "                      min_samples_split=2, min_weight_fraction_leaf=0.0,\n",
       "                      n_estimators=100, n_jobs=None, oob_score=False,\n",
       "                      random_state=None, verbose=0, warm_start=False)"
      ]
     },
     "execution_count": 80,
     "metadata": {
      "tags": []
     },
     "output_type": "execute_result"
    }
   ],
   "source": [
    "# **Fitting Random Forest Regression model on Captions with TFIDF**\n",
    "from sklearn.ensemble import RandomForestRegressor\n",
    "RFregressor = RandomForestRegressor(n_estimators = 100)\n",
    "RFregressor.fit(X_train, y_train)"
   ]
  },
  {
   "cell_type": "code",
   "execution_count": 81,
   "metadata": {
    "colab": {
     "base_uri": "https://localhost:8080/",
     "height": 50
    },
    "colab_type": "code",
    "executionInfo": {
     "elapsed": 1322,
     "status": "ok",
     "timestamp": 1587168201828,
     "user": {
      "displayName": "Amruth Hebbasuru Suryanarayana",
      "photoUrl": "",
      "userId": "18271264597795541557"
     },
     "user_tz": -60
    },
    "id": "5cufOkUamLmv",
    "outputId": "1827d5cd-60a1-47c5-888f-deaf2e470165"
   },
   "outputs": [
    {
     "name": "stdout",
     "output_type": "stream",
     "text": [
      "The Spearman's correlation coefficient is: 0.021\n",
      "The Spearman's correlation coefficient is: 0.048\n"
     ]
    }
   ],
   "source": [
    "y_pred = RFregressor.predict(X_test)\n",
    "Get_score(y_pred, y_test)"
   ]
  },
  {
   "cell_type": "markdown",
   "metadata": {
    "colab_type": "text",
    "id": "hLfm2KKbmcYg"
   },
   "source": [
    "Visualizing the results for Captions with TFIDF"
   ]
  },
  {
   "cell_type": "code",
   "execution_count": 41,
   "metadata": {
    "colab": {},
    "colab_type": "code",
    "id": "nmcE2wHomf_J"
   },
   "outputs": [],
   "source": [
    "#Storing the predicted results into a dataframe \n",
    "pred = pd.DataFrame(np.array(y_pred).reshape(1200,2), columns = (\"shortPred\",\"longPred\"))"
   ]
  },
  {
   "cell_type": "code",
   "execution_count": 42,
   "metadata": {
    "colab": {},
    "colab_type": "code",
    "id": "RczcjzCnmioH"
   },
   "outputs": [],
   "source": [
    "#Storing the actual test set values into a dataframe\n",
    "actual = pd.DataFrame(np.array(y_test).reshape(1200,2), columns = (\"shortActual\",\"longActual\"))"
   ]
  },
  {
   "cell_type": "markdown",
   "metadata": {
    "colab_type": "text",
    "id": "rxFWUBNImmkV"
   },
   "source": [
    "plotting the Actual vs Predicited for Short Term Memorability\n",
    "\n"
   ]
  },
  {
   "cell_type": "code",
   "execution_count": 43,
   "metadata": {
    "colab": {
     "base_uri": "https://localhost:8080/",
     "height": 295
    },
    "colab_type": "code",
    "executionInfo": {
     "elapsed": 956,
     "status": "ok",
     "timestamp": 1587168357863,
     "user": {
      "displayName": "Amruth Hebbasuru Suryanarayana",
      "photoUrl": "",
      "userId": "18271264597795541557"
     },
     "user_tz": -60
    },
    "id": "oMnyBKpxmw1E",
    "outputId": "02f8862c-9e91-4ee5-9d08-0ed07804f123"
   },
   "outputs": [
    {
     "data": {
      "image/png": "[encoded data removed]",
      "text/plain": [
       "<Figure size 432x288 with 1 Axes>"
      ]
     },
     "metadata": {
      "needs_background": "light"
     },
     "output_type": "display_data"
    }
   ],
   "source": [
    "xTest = range(1,1201)\n",
    "plt.scatter(xTest, actual[\"shortActual\"], color = 'red')\n",
    "plt.plot(xTest, pred[\"shortPred\"], color = 'blue')\n",
    "plt.title('Actual vs Predicted Using Captions with TFIDF Scores in Random Forest Regressor')\n",
    "plt.xlabel('videos')\n",
    "plt.ylabel('Short Term Memorability')\n",
    "plt.show()"
   ]
  },
  {
   "cell_type": "markdown",
   "metadata": {
    "colab_type": "text",
    "id": "nprGlIkum3hg"
   },
   "source": [
    "plotting the Actual vs Predicited for Long Term Memorability"
   ]
  },
  {
   "cell_type": "code",
   "execution_count": 44,
   "metadata": {
    "colab": {
     "base_uri": "https://localhost:8080/",
     "height": 295
    },
    "colab_type": "code",
    "executionInfo": {
     "elapsed": 1468,
     "status": "ok",
     "timestamp": 1587168404098,
     "user": {
      "displayName": "Amruth Hebbasuru Suryanarayana",
      "photoUrl": "",
      "userId": "18271264597795541557"
     },
     "user_tz": -60
    },
    "id": "kkuKgdHTm9Xb",
    "outputId": "4ce2c80b-c35d-4989-a88d-59830745d25f"
   },
   "outputs": [
    {
     "data": {
      "image/png": "[encoded data removed]",
      "text/plain": [
       "<Figure size 432x288 with 1 Axes>"
      ]
     },
     "metadata": {
      "needs_background": "light"
     },
     "output_type": "display_data"
    }
   ],
   "source": [
    "xTest = range(1,1201)\n",
    "plt.scatter(xTest, actual[\"longActual\"], color = 'red')\n",
    "plt.plot(xTest, pred[\"longPred\"], color = 'blue')\n",
    "plt.title('Actual vs Predicted Using Captions with TFIDF Scores in Random Forest Regressor')\n",
    "plt.xlabel('videos')\n",
    "plt.ylabel('Long Term Memorability')\n",
    "plt.show()"
   ]
  },
  {
   "cell_type": "markdown",
   "metadata": {
    "colab_type": "text",
    "id": "LDiHYisLo3AB"
   },
   "source": [
    "# h1 Visit Again Using ANN Sequential Model on Captions with TFIDF\n",
    "\n",
    "bold text"
   ]
  },
  {
   "cell_type": "code",
   "execution_count": 47,
   "metadata": {
    "colab": {
     "base_uri": "https://localhost:8080/",
     "height": 34
    },
    "colab_type": "code",
    "executionInfo": {
     "elapsed": 3949,
     "status": "ok",
     "timestamp": 1587168930908,
     "user": {
      "displayName": "Amruth Hebbasuru Suryanarayana",
      "photoUrl": "",
      "userId": "18271264597795541557"
     },
     "user_tz": -60
    },
    "id": "uJelvrbHo8og",
    "outputId": "fd81a604-92c8-4a33-a3b8-b35add937a7e"
   },
   "outputs": [
    {
     "name": "stdout",
     "output_type": "stream",
     "text": [
      "Requirement already satisfied: pyprind in c:\\anaconda3\\lib\\site-packages (2.11.2)\n",
      "Note: you may need to restart the kernel to use updated packages.\n"
     ]
    }
   ],
   "source": [
    "pip install pyprind\n"
   ]
  },
  {
   "cell_type": "code",
   "execution_count": 49,
   "metadata": {
    "colab": {},
    "colab_type": "code",
    "id": "oN2gjV_tpF-G"
   },
   "outputs": [
    {
     "ename": "ModuleNotFoundError",
     "evalue": "No module named 'keras'",
     "output_type": "error",
     "traceback": [
      "\u001b[1;31m---------------------------------------------------------------------------\u001b[0m",
      "\u001b[1;31mModuleNotFoundError\u001b[0m                       Traceback (most recent call last)",
      "\u001b[1;32m<ipython-input-49-ac8a26a64dcd>\u001b[0m in \u001b[0;36m<module>\u001b[1;34m\u001b[0m\n\u001b[1;32m----> 1\u001b[1;33m \u001b[1;32mfrom\u001b[0m \u001b[0mkeras\u001b[0m \u001b[1;32mimport\u001b[0m \u001b[0mSequential\u001b[0m\u001b[1;33m\u001b[0m\u001b[1;33m\u001b[0m\u001b[0m\n\u001b[0m\u001b[0;32m      2\u001b[0m \u001b[1;32mfrom\u001b[0m \u001b[0mkeras\u001b[0m \u001b[1;32mimport\u001b[0m \u001b[0mlayers\u001b[0m\u001b[1;33m\u001b[0m\u001b[1;33m\u001b[0m\u001b[0m\n\u001b[0;32m      3\u001b[0m \u001b[1;32mfrom\u001b[0m \u001b[0mkeras\u001b[0m \u001b[1;32mimport\u001b[0m \u001b[0mregularizers\u001b[0m\u001b[1;33m\u001b[0m\u001b[1;33m\u001b[0m\u001b[0m\n\u001b[0;32m      4\u001b[0m \u001b[1;32mimport\u001b[0m \u001b[0mpyprind\u001b[0m\u001b[1;33m\u001b[0m\u001b[1;33m\u001b[0m\u001b[0m\n\u001b[0;32m      5\u001b[0m \u001b[1;32mfrom\u001b[0m \u001b[0mcollections\u001b[0m \u001b[1;32mimport\u001b[0m \u001b[0mCounter\u001b[0m\u001b[1;33m\u001b[0m\u001b[1;33m\u001b[0m\u001b[0m\n",
      "\u001b[1;31mModuleNotFoundError\u001b[0m: No module named 'keras'"
     ]
    }
   ],
   "source": [
    "from keras import Sequential\n",
    "from keras import layers\n",
    "from keras import regularizers\n",
    "import pyprind\n",
    "from collections import Counter"
   ]
  },
  {
   "cell_type": "code",
   "execution_count": 89,
   "metadata": {
    "colab": {
     "base_uri": "https://localhost:8080/",
     "height": 34
    },
    "colab_type": "code",
    "executionInfo": {
     "elapsed": 764,
     "status": "ok",
     "timestamp": 1587169073829,
     "user": {
      "displayName": "Amruth Hebbasuru Suryanarayana",
      "photoUrl": "",
      "userId": "18271264597795541557"
     },
     "user_tz": -60
    },
    "id": "wsGdv5K5pbN0",
    "outputId": "b442d16c-0d55-45a7-da13-247c2fb96591"
   },
   "outputs": [
    {
     "data": {
      "text/plain": [
       "(6000, 5087)"
      ]
     },
     "execution_count": 89,
     "metadata": {
      "tags": []
     },
     "output_type": "execute_result"
    }
   ],
   "source": [
    "captions_tfidf_features.shape"
   ]
  },
  {
   "cell_type": "code",
   "execution_count": 0,
   "metadata": {
    "colab": {},
    "colab_type": "code",
    "id": "3ol_Ru1epidn"
   },
   "outputs": [],
   "source": [
    "max_len =5087"
   ]
  },
  {
   "cell_type": "code",
   "execution_count": 0,
   "metadata": {
    "colab": {},
    "colab_type": "code",
    "id": "kjvsRmywpklp"
   },
   "outputs": [],
   "source": [
    "X = captions_tfidf_features\n",
    "y = ground_truth.iloc[:, 1:3].values"
   ]
  },
  {
   "cell_type": "code",
   "execution_count": 0,
   "metadata": {
    "colab": {},
    "colab_type": "code",
    "id": "sDGdWb1ypm5m"
   },
   "outputs": [],
   "source": [
    "X_train, X_test, Y_train, Y_test = train_test_split(X,y, test_size=0.2)"
   ]
  },
  {
   "cell_type": "markdown",
   "metadata": {
    "colab_type": "text",
    "id": "Z8JOymE3po6x"
   },
   "source": [
    "Building a sequntial model with 2 layers.\n",
    "\n",
    "bold text"
   ]
  },
  {
   "cell_type": "code",
   "execution_count": 93,
   "metadata": {
    "colab": {
     "base_uri": "https://localhost:8080/",
     "height": 370
    },
    "colab_type": "code",
    "executionInfo": {
     "elapsed": 10084,
     "status": "ok",
     "timestamp": 1587169149883,
     "user": {
      "displayName": "Amruth Hebbasuru Suryanarayana",
      "photoUrl": "",
      "userId": "18271264597795541557"
     },
     "user_tz": -60
    },
    "id": "GB-9_ja7puFH",
    "outputId": "71cf2a38-cad4-41ee-91ec-3cbec4d7d923"
   },
   "outputs": [
    {
     "name": "stdout",
     "output_type": "stream",
     "text": [
      "Train on 4800 samples, validate on 1200 samples\n",
      "Epoch 1/10\n",
      "4800/4800 [==============================] - 1s 212us/step - loss: 0.0862 - accuracy: 0.6575 - val_loss: 0.0255 - val_accuracy: 0.6958\n",
      "Epoch 2/10\n",
      "4800/4800 [==============================] - 1s 171us/step - loss: 0.0220 - accuracy: 0.7035 - val_loss: 0.0159 - val_accuracy: 0.6958\n",
      "Epoch 3/10\n",
      "4800/4800 [==============================] - 1s 173us/step - loss: 0.0172 - accuracy: 0.7048 - val_loss: 0.0143 - val_accuracy: 0.6958\n",
      "Epoch 4/10\n",
      "4800/4800 [==============================] - 1s 172us/step - loss: 0.0159 - accuracy: 0.7065 - val_loss: 0.0139 - val_accuracy: 0.6958\n",
      "Epoch 5/10\n",
      "4800/4800 [==============================] - 1s 183us/step - loss: 0.0157 - accuracy: 0.7073 - val_loss: 0.0137 - val_accuracy: 0.6958\n",
      "Epoch 6/10\n",
      "4800/4800 [==============================] - 1s 182us/step - loss: 0.0153 - accuracy: 0.7071 - val_loss: 0.0136 - val_accuracy: 0.6958\n",
      "Epoch 7/10\n",
      "4800/4800 [==============================] - 1s 176us/step - loss: 0.0152 - accuracy: 0.7073 - val_loss: 0.0136 - val_accuracy: 0.6958\n",
      "Epoch 8/10\n",
      "4800/4800 [==============================] - 1s 172us/step - loss: 0.0150 - accuracy: 0.7071 - val_loss: 0.0137 - val_accuracy: 0.6958\n",
      "Epoch 9/10\n",
      "4800/4800 [==============================] - 1s 177us/step - loss: 0.0150 - accuracy: 0.7071 - val_loss: 0.0139 - val_accuracy: 0.6958\n",
      "Epoch 10/10\n",
      "4800/4800 [==============================] - 1s 174us/step - loss: 0.0149 - accuracy: 0.7071 - val_loss: 0.0138 - val_accuracy: 0.6958\n"
     ]
    }
   ],
   "source": [
    "model = Sequential()\n",
    "model.add(layers.Dense(64,activation='relu',kernel_regularizer=regularizers.l2(0.001),input_shape=(max_len,)))\n",
    "model.add(layers.Dropout(0.6))\n",
    "model.add(layers.Dense(64,activation='relu',kernel_regularizer=regularizers.l2(0.001)))\n",
    "model.add(layers.Dropout(0.5))\n",
    "model.add(layers.Dense(2,activation='sigmoid'))\n",
    "\n",
    "# compile the model \n",
    "model.compile(optimizer='adam',loss='mse',metrics=['accuracy'])\n",
    "\n",
    "# training the model \n",
    "history = model.fit(X_train,Y_train,epochs=10,validation_data=(X_test,Y_test))"
   ]
  },
  {
   "cell_type": "code",
   "execution_count": 94,
   "metadata": {
    "colab": {
     "base_uri": "https://localhost:8080/",
     "height": 50
    },
    "colab_type": "code",
    "executionInfo": {
     "elapsed": 744,
     "status": "ok",
     "timestamp": 1587169183818,
     "user": {
      "displayName": "Amruth Hebbasuru Suryanarayana",
      "photoUrl": "",
      "userId": "18271264597795541557"
     },
     "user_tz": -60
    },
    "id": "ddI9i80ap7iK",
    "outputId": "5ef3959c-00e6-4fe6-abd0-b7328f948456"
   },
   "outputs": [
    {
     "name": "stdout",
     "output_type": "stream",
     "text": [
      "The Spearman's correlation coefficient is: 0.303\n",
      "The Spearman's correlation coefficient is: 0.162\n"
     ]
    }
   ],
   "source": [
    "y_pred = model.predict(X_test)\n",
    "Get_score(y_pred, Y_test)"
   ]
  },
  {
   "cell_type": "markdown",
   "metadata": {
    "colab_type": "text",
    "id": "R44XT6uDqMZD"
   },
   "source": [
    "TFIDF gave better results compared to word count vectorizer in Random Forest Regression\n",
    "\n",
    "bold text\n"
   ]
  },
  {
   "cell_type": "markdown",
   "metadata": {
    "colab_type": "text",
    "id": "c_VgyMOVqas4"
   },
   "source": [
    "## **C3D**"
   ]
  },
  {
   "cell_type": "markdown",
   "metadata": {
    "colab_type": "text",
    "id": "iKeRkfKPu9bq"
   },
   "source": [
    "Defining the method for reading C3D Features from a file\n",
    "\n"
   ]
  },
  {
   "cell_type": "code",
   "execution_count": 104,
   "metadata": {
    "colab": {},
    "colab_type": "code",
    "id": "o5CPN_paChKm"
   },
   "outputs": [],
   "source": [
    "#function to read C3D feature\n",
    "def c3d_read(df, filename):\n",
    "  df1 = pd.read_csv(filename, header=None, sep=' ')\n",
    "  df1['video'] = filename[filename.find('video'):filename.find('.txt')] + '.webm'\n",
    "  df = df.append(df1, ignore_index=True)\n",
    "  return df\n"
   ]
  },
  {
   "cell_type": "code",
   "execution_count": 105,
   "metadata": {},
   "outputs": [
    {
     "data": {
      "text/plain": [
       "'D:\\\\DCU\\\\2nd Semester\\\\Assignments\\\\Machine Learning\\\\My Assignment'"
      ]
     },
     "execution_count": 105,
     "metadata": {},
     "output_type": "execute_result"
    }
   ],
   "source": [
    "pwd"
   ]
  },
  {
   "cell_type": "markdown",
   "metadata": {
    "colab_type": "text",
    "id": "4aMQC9XgCiro"
   },
   "source": [
    "Calling the method for fetching C3D features and storing them into a array list using loop"
   ]
  },
  {
   "cell_type": "code",
   "execution_count": 106,
   "metadata": {
    "colab": {},
    "colab_type": "code",
    "id": "kMRNaC5nCl5u"
   },
   "outputs": [],
   "source": [
    "#read file names from the path mentioned\n",
    "def reading_file_names(path):\n",
    "  files = []\n",
    "  file_number=0\n",
    "  # r=root, d=directories, f = files\n",
    "  for r, d, f in os.walk(path):\n",
    "      for file in f:\n",
    "          if '.txt' in file:\n",
    "              files.append(os.path.join(r, file))\n",
    "              file_number = file_number + 1\n",
    "  print(\"total files read = \" + str(file_number))\n",
    "  return files\n"
   ]
  },
  {
   "cell_type": "code",
   "execution_count": 107,
   "metadata": {
    "colab": {
     "base_uri": "https://localhost:8080/",
     "height": 34
    },
    "colab_type": "code",
    "executionInfo": {
     "elapsed": 1231,
     "status": "ok",
     "timestamp": 1587165559003,
     "user": {
      "displayName": "Amruth Hebbasuru Suryanarayana",
      "photoUrl": "",
      "userId": "18271264597795541557"
     },
     "user_tz": -60
    },
    "id": "J2zWkLtdC2c9",
    "outputId": "582bbfa6-202f-41a7-a6ae-3c031d7f146d"
   },
   "outputs": [
    {
     "name": "stdout",
     "output_type": "stream",
     "text": [
      "total files read = 6000\n"
     ]
    }
   ],
   "source": [
    "path='./C3D' #(need to chnage the path as per the directory the C3D or any other files are stored in)\n",
    "files = reading_file_names(path)\n",
    "dataframe_C3D = pd.DataFrame()\n",
    "for filename in files:\n",
    "    dataframe_C3D = c3d_read(dataframe_C3D, filename)"
   ]
  },
  {
   "cell_type": "code",
   "execution_count": 108,
   "metadata": {
    "colab": {
     "base_uri": "https://localhost:8080/",
     "height": 34
    },
    "colab_type": "code",
    "executionInfo": {
     "elapsed": 749,
     "status": "ok",
     "timestamp": 1587165566265,
     "user": {
      "displayName": "Amruth Hebbasuru Suryanarayana",
      "photoUrl": "",
      "userId": "18271264597795541557"
     },
     "user_tz": -60
    },
    "id": "w021JHzfcHO1",
    "outputId": "5ef93031-95be-4765-d5d3-d5fa73370d11"
   },
   "outputs": [
    {
     "data": {
      "text/html": [
       "<div>\n",
       "<style scoped>\n",
       "    .dataframe tbody tr th:only-of-type {\n",
       "        vertical-align: middle;\n",
       "    }\n",
       "\n",
       "    .dataframe tbody tr th {\n",
       "        vertical-align: top;\n",
       "    }\n",
       "\n",
       "    .dataframe thead th {\n",
       "        text-align: right;\n",
       "    }\n",
       "</style>\n",
       "<table border=\"1\" class=\"dataframe\">\n",
       "  <thead>\n",
       "    <tr style=\"text-align: right;\">\n",
       "      <th></th>\n",
       "      <th>0</th>\n",
       "      <th>1</th>\n",
       "      <th>2</th>\n",
       "      <th>3</th>\n",
       "      <th>4</th>\n",
       "      <th>5</th>\n",
       "      <th>6</th>\n",
       "      <th>7</th>\n",
       "      <th>8</th>\n",
       "      <th>9</th>\n",
       "      <th>...</th>\n",
       "      <th>93</th>\n",
       "      <th>94</th>\n",
       "      <th>95</th>\n",
       "      <th>96</th>\n",
       "      <th>97</th>\n",
       "      <th>98</th>\n",
       "      <th>99</th>\n",
       "      <th>100</th>\n",
       "      <th>101</th>\n",
       "      <th>video</th>\n",
       "    </tr>\n",
       "  </thead>\n",
       "  <tbody>\n",
       "    <tr>\n",
       "      <td>0</td>\n",
       "      <td>0.000090</td>\n",
       "      <td>0.000615</td>\n",
       "      <td>0.003436</td>\n",
       "      <td>0.001281</td>\n",
       "      <td>3.551400e-03</td>\n",
       "      <td>3.128800e-04</td>\n",
       "      <td>0.000042</td>\n",
       "      <td>0.000018</td>\n",
       "      <td>0.000157</td>\n",
       "      <td>1.171300e-04</td>\n",
       "      <td>...</td>\n",
       "      <td>1.708900e-04</td>\n",
       "      <td>0.000231</td>\n",
       "      <td>6.371500e-04</td>\n",
       "      <td>4.001000e-05</td>\n",
       "      <td>6.142000e-05</td>\n",
       "      <td>0.000075</td>\n",
       "      <td>0.000002</td>\n",
       "      <td>0.001323</td>\n",
       "      <td>NaN</td>\n",
       "      <td>video10.webm</td>\n",
       "    </tr>\n",
       "    <tr>\n",
       "      <td>1</td>\n",
       "      <td>0.002312</td>\n",
       "      <td>0.009966</td>\n",
       "      <td>0.027439</td>\n",
       "      <td>0.000006</td>\n",
       "      <td>2.155300e-04</td>\n",
       "      <td>1.394600e-04</td>\n",
       "      <td>0.000111</td>\n",
       "      <td>0.000029</td>\n",
       "      <td>0.000046</td>\n",
       "      <td>2.388820e-03</td>\n",
       "      <td>...</td>\n",
       "      <td>3.939800e-04</td>\n",
       "      <td>0.008439</td>\n",
       "      <td>1.255300e-04</td>\n",
       "      <td>1.976800e-04</td>\n",
       "      <td>1.048400e-04</td>\n",
       "      <td>0.075047</td>\n",
       "      <td>0.287573</td>\n",
       "      <td>0.003510</td>\n",
       "      <td>NaN</td>\n",
       "      <td>video100.webm</td>\n",
       "    </tr>\n",
       "    <tr>\n",
       "      <td>2</td>\n",
       "      <td>0.468035</td>\n",
       "      <td>0.489501</td>\n",
       "      <td>0.000079</td>\n",
       "      <td>0.000010</td>\n",
       "      <td>2.000000e-07</td>\n",
       "      <td>1.540000e-06</td>\n",
       "      <td>0.000168</td>\n",
       "      <td>0.000010</td>\n",
       "      <td>0.000034</td>\n",
       "      <td>5.200000e-07</td>\n",
       "      <td>...</td>\n",
       "      <td>7.000000e-08</td>\n",
       "      <td>0.000006</td>\n",
       "      <td>1.790000e-06</td>\n",
       "      <td>9.200000e-07</td>\n",
       "      <td>1.950000e-06</td>\n",
       "      <td>0.000127</td>\n",
       "      <td>0.000714</td>\n",
       "      <td>0.000408</td>\n",
       "      <td>NaN</td>\n",
       "      <td>video1001.webm</td>\n",
       "    </tr>\n",
       "    <tr>\n",
       "      <td>3</td>\n",
       "      <td>0.014036</td>\n",
       "      <td>0.000492</td>\n",
       "      <td>0.000233</td>\n",
       "      <td>0.000028</td>\n",
       "      <td>6.320000e-06</td>\n",
       "      <td>1.330000e-06</td>\n",
       "      <td>0.000006</td>\n",
       "      <td>0.000002</td>\n",
       "      <td>0.000007</td>\n",
       "      <td>4.002000e-05</td>\n",
       "      <td>...</td>\n",
       "      <td>1.878000e-05</td>\n",
       "      <td>0.000049</td>\n",
       "      <td>3.068000e-05</td>\n",
       "      <td>1.310000e-06</td>\n",
       "      <td>7.410000e-06</td>\n",
       "      <td>0.830456</td>\n",
       "      <td>0.002719</td>\n",
       "      <td>0.001101</td>\n",
       "      <td>NaN</td>\n",
       "      <td>video1003.webm</td>\n",
       "    </tr>\n",
       "    <tr>\n",
       "      <td>4</td>\n",
       "      <td>0.046734</td>\n",
       "      <td>0.000868</td>\n",
       "      <td>0.000005</td>\n",
       "      <td>0.000008</td>\n",
       "      <td>2.000000e-08</td>\n",
       "      <td>5.600000e-07</td>\n",
       "      <td>0.000013</td>\n",
       "      <td>0.000004</td>\n",
       "      <td>0.000001</td>\n",
       "      <td>5.990000e-06</td>\n",
       "      <td>...</td>\n",
       "      <td>4.500000e-07</td>\n",
       "      <td>0.000004</td>\n",
       "      <td>2.400000e-07</td>\n",
       "      <td>1.100000e-07</td>\n",
       "      <td>3.300000e-07</td>\n",
       "      <td>0.000002</td>\n",
       "      <td>0.000018</td>\n",
       "      <td>0.000080</td>\n",
       "      <td>NaN</td>\n",
       "      <td>video1004.webm</td>\n",
       "    </tr>\n",
       "  </tbody>\n",
       "</table>\n",
       "<p>5 rows × 103 columns</p>\n",
       "</div>"
      ],
      "text/plain": [
       "          0         1         2         3             4             5  \\\n",
       "0  0.000090  0.000615  0.003436  0.001281  3.551400e-03  3.128800e-04   \n",
       "1  0.002312  0.009966  0.027439  0.000006  2.155300e-04  1.394600e-04   \n",
       "2  0.468035  0.489501  0.000079  0.000010  2.000000e-07  1.540000e-06   \n",
       "3  0.014036  0.000492  0.000233  0.000028  6.320000e-06  1.330000e-06   \n",
       "4  0.046734  0.000868  0.000005  0.000008  2.000000e-08  5.600000e-07   \n",
       "\n",
       "          6         7         8             9  ...            93        94  \\\n",
       "0  0.000042  0.000018  0.000157  1.171300e-04  ...  1.708900e-04  0.000231   \n",
       "1  0.000111  0.000029  0.000046  2.388820e-03  ...  3.939800e-04  0.008439   \n",
       "2  0.000168  0.000010  0.000034  5.200000e-07  ...  7.000000e-08  0.000006   \n",
       "3  0.000006  0.000002  0.000007  4.002000e-05  ...  1.878000e-05  0.000049   \n",
       "4  0.000013  0.000004  0.000001  5.990000e-06  ...  4.500000e-07  0.000004   \n",
       "\n",
       "             95            96            97        98        99       100  \\\n",
       "0  6.371500e-04  4.001000e-05  6.142000e-05  0.000075  0.000002  0.001323   \n",
       "1  1.255300e-04  1.976800e-04  1.048400e-04  0.075047  0.287573  0.003510   \n",
       "2  1.790000e-06  9.200000e-07  1.950000e-06  0.000127  0.000714  0.000408   \n",
       "3  3.068000e-05  1.310000e-06  7.410000e-06  0.830456  0.002719  0.001101   \n",
       "4  2.400000e-07  1.100000e-07  3.300000e-07  0.000002  0.000018  0.000080   \n",
       "\n",
       "   101           video  \n",
       "0  NaN    video10.webm  \n",
       "1  NaN   video100.webm  \n",
       "2  NaN  video1001.webm  \n",
       "3  NaN  video1003.webm  \n",
       "4  NaN  video1004.webm  \n",
       "\n",
       "[5 rows x 103 columns]"
      ]
     },
     "execution_count": 108,
     "metadata": {},
     "output_type": "execute_result"
    }
   ],
   "source": [
    "dataframe_C3D.head()"
   ]
  },
  {
   "cell_type": "markdown",
   "metadata": {
    "colab_type": "text",
    "id": "v7FADcWUcJIX"
   },
   "source": [
    "Creating a dataframe to store the extracted C3D features with their video names\n",
    "\n"
   ]
  },
  {
   "cell_type": "code",
   "execution_count": 102,
   "metadata": {
    "colab": {},
    "colab_type": "code",
    "id": "3H70OyTScMZ2"
   },
   "outputs": [],
   "source": [
    "# c3d = pd.DataFrame(np.array(my_numlist).reshape(6000,101))\n",
    "# c3d[\"video\"] = my_namelist\n",
    "# c3d[\"video\"] = c3d['video'].str\n",
    "# #creating new column as video and assigning the names of the vidoes"
   ]
  },
  {
   "cell_type": "code",
   "execution_count": 103,
   "metadata": {
    "colab": {
     "base_uri": "https://localhost:8080/",
     "height": 328
    },
    "colab_type": "code",
    "executionInfo": {
     "elapsed": 958,
     "status": "ok",
     "timestamp": 1587165601721,
     "user": {
      "displayName": "Amruth Hebbasuru Suryanarayana",
      "photoUrl": "",
      "userId": "18271264597795541557"
     },
     "user_tz": -60
    },
    "id": "XMemM03_cN7T",
    "outputId": "2e500ace-3589-4e5e-cf18-e003ff6095f7"
   },
   "outputs": [
    {
     "data": {
      "text/html": [
       "<div>\n",
       "<style scoped>\n",
       "    .dataframe tbody tr th:only-of-type {\n",
       "        vertical-align: middle;\n",
       "    }\n",
       "\n",
       "    .dataframe tbody tr th {\n",
       "        vertical-align: top;\n",
       "    }\n",
       "\n",
       "    .dataframe thead th {\n",
       "        text-align: right;\n",
       "    }\n",
       "</style>\n",
       "<table border=\"1\" class=\"dataframe\">\n",
       "  <thead>\n",
       "    <tr style=\"text-align: right;\">\n",
       "      <th></th>\n",
       "      <th>0</th>\n",
       "      <th>1</th>\n",
       "      <th>2</th>\n",
       "      <th>3</th>\n",
       "      <th>4</th>\n",
       "      <th>5</th>\n",
       "      <th>6</th>\n",
       "      <th>7</th>\n",
       "      <th>8</th>\n",
       "      <th>9</th>\n",
       "      <th>...</th>\n",
       "      <th>92</th>\n",
       "      <th>93</th>\n",
       "      <th>94</th>\n",
       "      <th>95</th>\n",
       "      <th>96</th>\n",
       "      <th>97</th>\n",
       "      <th>98</th>\n",
       "      <th>99</th>\n",
       "      <th>100</th>\n",
       "      <th>video</th>\n",
       "    </tr>\n",
       "  </thead>\n",
       "  <tbody>\n",
       "    <tr>\n",
       "      <td>0</td>\n",
       "      <td>0.000090</td>\n",
       "      <td>0.000615</td>\n",
       "      <td>0.003436</td>\n",
       "      <td>0.001281</td>\n",
       "      <td>3.551400e-03</td>\n",
       "      <td>3.128800e-04</td>\n",
       "      <td>0.000042</td>\n",
       "      <td>0.000018</td>\n",
       "      <td>0.000157</td>\n",
       "      <td>1.171300e-04</td>\n",
       "      <td>...</td>\n",
       "      <td>6.900100e-04</td>\n",
       "      <td>1.708900e-04</td>\n",
       "      <td>0.000231</td>\n",
       "      <td>6.371500e-04</td>\n",
       "      <td>4.001000e-05</td>\n",
       "      <td>6.142000e-05</td>\n",
       "      <td>0.000075</td>\n",
       "      <td>0.000002</td>\n",
       "      <td>0.001323</td>\n",
       "      <td>C3D\\video10.webm</td>\n",
       "    </tr>\n",
       "    <tr>\n",
       "      <td>1</td>\n",
       "      <td>0.002312</td>\n",
       "      <td>0.009966</td>\n",
       "      <td>0.027439</td>\n",
       "      <td>0.000006</td>\n",
       "      <td>2.155300e-04</td>\n",
       "      <td>1.394600e-04</td>\n",
       "      <td>0.000111</td>\n",
       "      <td>0.000029</td>\n",
       "      <td>0.000046</td>\n",
       "      <td>2.388820e-03</td>\n",
       "      <td>...</td>\n",
       "      <td>1.226390e-03</td>\n",
       "      <td>3.939800e-04</td>\n",
       "      <td>0.008439</td>\n",
       "      <td>1.255300e-04</td>\n",
       "      <td>1.976800e-04</td>\n",
       "      <td>1.048400e-04</td>\n",
       "      <td>0.075047</td>\n",
       "      <td>0.287573</td>\n",
       "      <td>0.003510</td>\n",
       "      <td>C3D\\video100.webm</td>\n",
       "    </tr>\n",
       "    <tr>\n",
       "      <td>2</td>\n",
       "      <td>0.468035</td>\n",
       "      <td>0.489501</td>\n",
       "      <td>0.000079</td>\n",
       "      <td>0.000010</td>\n",
       "      <td>2.000000e-07</td>\n",
       "      <td>1.540000e-06</td>\n",
       "      <td>0.000168</td>\n",
       "      <td>0.000010</td>\n",
       "      <td>0.000034</td>\n",
       "      <td>5.200000e-07</td>\n",
       "      <td>...</td>\n",
       "      <td>1.300000e-07</td>\n",
       "      <td>7.000000e-08</td>\n",
       "      <td>0.000006</td>\n",
       "      <td>1.790000e-06</td>\n",
       "      <td>9.200000e-07</td>\n",
       "      <td>1.950000e-06</td>\n",
       "      <td>0.000127</td>\n",
       "      <td>0.000714</td>\n",
       "      <td>0.000408</td>\n",
       "      <td>C3D\\video1001.webm</td>\n",
       "    </tr>\n",
       "    <tr>\n",
       "      <td>3</td>\n",
       "      <td>0.014036</td>\n",
       "      <td>0.000492</td>\n",
       "      <td>0.000233</td>\n",
       "      <td>0.000028</td>\n",
       "      <td>6.320000e-06</td>\n",
       "      <td>1.330000e-06</td>\n",
       "      <td>0.000006</td>\n",
       "      <td>0.000002</td>\n",
       "      <td>0.000007</td>\n",
       "      <td>4.002000e-05</td>\n",
       "      <td>...</td>\n",
       "      <td>4.673000e-05</td>\n",
       "      <td>1.878000e-05</td>\n",
       "      <td>0.000049</td>\n",
       "      <td>3.068000e-05</td>\n",
       "      <td>1.310000e-06</td>\n",
       "      <td>7.410000e-06</td>\n",
       "      <td>0.830456</td>\n",
       "      <td>0.002719</td>\n",
       "      <td>0.001101</td>\n",
       "      <td>C3D\\video1003.webm</td>\n",
       "    </tr>\n",
       "    <tr>\n",
       "      <td>4</td>\n",
       "      <td>0.046734</td>\n",
       "      <td>0.000868</td>\n",
       "      <td>0.000005</td>\n",
       "      <td>0.000008</td>\n",
       "      <td>2.000000e-08</td>\n",
       "      <td>5.600000e-07</td>\n",
       "      <td>0.000013</td>\n",
       "      <td>0.000004</td>\n",
       "      <td>0.000001</td>\n",
       "      <td>5.990000e-06</td>\n",
       "      <td>...</td>\n",
       "      <td>1.000000e-08</td>\n",
       "      <td>4.500000e-07</td>\n",
       "      <td>0.000004</td>\n",
       "      <td>2.400000e-07</td>\n",
       "      <td>1.100000e-07</td>\n",
       "      <td>3.300000e-07</td>\n",
       "      <td>0.000002</td>\n",
       "      <td>0.000018</td>\n",
       "      <td>0.000080</td>\n",
       "      <td>C3D\\video1004.webm</td>\n",
       "    </tr>\n",
       "  </tbody>\n",
       "</table>\n",
       "<p>5 rows × 102 columns</p>\n",
       "</div>"
      ],
      "text/plain": [
       "          0         1         2         3             4             5  \\\n",
       "0  0.000090  0.000615  0.003436  0.001281  3.551400e-03  3.128800e-04   \n",
       "1  0.002312  0.009966  0.027439  0.000006  2.155300e-04  1.394600e-04   \n",
       "2  0.468035  0.489501  0.000079  0.000010  2.000000e-07  1.540000e-06   \n",
       "3  0.014036  0.000492  0.000233  0.000028  6.320000e-06  1.330000e-06   \n",
       "4  0.046734  0.000868  0.000005  0.000008  2.000000e-08  5.600000e-07   \n",
       "\n",
       "          6         7         8             9  ...            92  \\\n",
       "0  0.000042  0.000018  0.000157  1.171300e-04  ...  6.900100e-04   \n",
       "1  0.000111  0.000029  0.000046  2.388820e-03  ...  1.226390e-03   \n",
       "2  0.000168  0.000010  0.000034  5.200000e-07  ...  1.300000e-07   \n",
       "3  0.000006  0.000002  0.000007  4.002000e-05  ...  4.673000e-05   \n",
       "4  0.000013  0.000004  0.000001  5.990000e-06  ...  1.000000e-08   \n",
       "\n",
       "             93        94            95            96            97        98  \\\n",
       "0  1.708900e-04  0.000231  6.371500e-04  4.001000e-05  6.142000e-05  0.000075   \n",
       "1  3.939800e-04  0.008439  1.255300e-04  1.976800e-04  1.048400e-04  0.075047   \n",
       "2  7.000000e-08  0.000006  1.790000e-06  9.200000e-07  1.950000e-06  0.000127   \n",
       "3  1.878000e-05  0.000049  3.068000e-05  1.310000e-06  7.410000e-06  0.830456   \n",
       "4  4.500000e-07  0.000004  2.400000e-07  1.100000e-07  3.300000e-07  0.000002   \n",
       "\n",
       "         99       100               video  \n",
       "0  0.000002  0.001323    C3D\\video10.webm  \n",
       "1  0.287573  0.003510   C3D\\video100.webm  \n",
       "2  0.000714  0.000408  C3D\\video1001.webm  \n",
       "3  0.002719  0.001101  C3D\\video1003.webm  \n",
       "4  0.000018  0.000080  C3D\\video1004.webm  \n",
       "\n",
       "[5 rows x 102 columns]"
      ]
     },
     "execution_count": 103,
     "metadata": {},
     "output_type": "execute_result"
    }
   ],
   "source": [
    "c3d.head() \n",
    "#includes video names and captions, which will help further while merging these features with ground truth"
   ]
  },
  {
   "cell_type": "markdown",
   "metadata": {
    "colab_type": "text",
    "id": "A8VnRvCVcRvF"
   },
   "source": [
    "Merging the datsets with ground truth and C3D features using Video column\n",
    "\n"
   ]
  },
  {
   "cell_type": "code",
   "execution_count": 109,
   "metadata": {
    "colab": {},
    "colab_type": "code",
    "id": "zbWVt3-acWDS"
   },
   "outputs": [],
   "source": [
    "c3d_df = pd.merge(ground_truth, dataframe_C3D, on='video')"
   ]
  },
  {
   "cell_type": "code",
   "execution_count": 110,
   "metadata": {
    "colab": {
     "base_uri": "https://localhost:8080/",
     "height": 345
    },
    "colab_type": "code",
    "executionInfo": {
     "elapsed": 759,
     "status": "ok",
     "timestamp": 1587165629726,
     "user": {
      "displayName": "Amruth Hebbasuru Suryanarayana",
      "photoUrl": "",
      "userId": "18271264597795541557"
     },
     "user_tz": -60
    },
    "id": "Bye2LJFBcXYx",
    "outputId": "ffd04f28-c0b5-4c44-c1be-460b1ed37538"
   },
   "outputs": [
    {
     "data": {
      "text/html": [
       "<div>\n",
       "<style scoped>\n",
       "    .dataframe tbody tr th:only-of-type {\n",
       "        vertical-align: middle;\n",
       "    }\n",
       "\n",
       "    .dataframe tbody tr th {\n",
       "        vertical-align: top;\n",
       "    }\n",
       "\n",
       "    .dataframe thead th {\n",
       "        text-align: right;\n",
       "    }\n",
       "</style>\n",
       "<table border=\"1\" class=\"dataframe\">\n",
       "  <thead>\n",
       "    <tr style=\"text-align: right;\">\n",
       "      <th></th>\n",
       "      <th>video</th>\n",
       "      <th>short-term_memorability</th>\n",
       "      <th>long-term_memorability</th>\n",
       "      <th>0</th>\n",
       "      <th>1</th>\n",
       "      <th>2</th>\n",
       "      <th>3</th>\n",
       "      <th>4</th>\n",
       "      <th>5</th>\n",
       "      <th>6</th>\n",
       "      <th>...</th>\n",
       "      <th>92</th>\n",
       "      <th>93</th>\n",
       "      <th>94</th>\n",
       "      <th>95</th>\n",
       "      <th>96</th>\n",
       "      <th>97</th>\n",
       "      <th>98</th>\n",
       "      <th>99</th>\n",
       "      <th>100</th>\n",
       "      <th>101</th>\n",
       "    </tr>\n",
       "  </thead>\n",
       "  <tbody>\n",
       "    <tr>\n",
       "      <td>0</td>\n",
       "      <td>video3.webm</td>\n",
       "      <td>0.924</td>\n",
       "      <td>0.846</td>\n",
       "      <td>0.020249</td>\n",
       "      <td>0.001578</td>\n",
       "      <td>0.000826</td>\n",
       "      <td>0.000945</td>\n",
       "      <td>0.000063</td>\n",
       "      <td>0.000003</td>\n",
       "      <td>0.001162</td>\n",
       "      <td>...</td>\n",
       "      <td>0.000161</td>\n",
       "      <td>0.000257</td>\n",
       "      <td>0.046617</td>\n",
       "      <td>0.000156</td>\n",
       "      <td>0.000006</td>\n",
       "      <td>0.000537</td>\n",
       "      <td>0.000339</td>\n",
       "      <td>0.008437</td>\n",
       "      <td>0.000470</td>\n",
       "      <td>NaN</td>\n",
       "    </tr>\n",
       "    <tr>\n",
       "      <td>1</td>\n",
       "      <td>video4.webm</td>\n",
       "      <td>0.923</td>\n",
       "      <td>0.667</td>\n",
       "      <td>0.000118</td>\n",
       "      <td>0.000891</td>\n",
       "      <td>0.000188</td>\n",
       "      <td>0.000045</td>\n",
       "      <td>0.000063</td>\n",
       "      <td>0.000002</td>\n",
       "      <td>0.000641</td>\n",
       "      <td>...</td>\n",
       "      <td>0.000393</td>\n",
       "      <td>0.000864</td>\n",
       "      <td>0.000947</td>\n",
       "      <td>0.000136</td>\n",
       "      <td>0.000007</td>\n",
       "      <td>0.000360</td>\n",
       "      <td>0.000159</td>\n",
       "      <td>0.001025</td>\n",
       "      <td>0.000020</td>\n",
       "      <td>NaN</td>\n",
       "    </tr>\n",
       "    <tr>\n",
       "      <td>2</td>\n",
       "      <td>video6.webm</td>\n",
       "      <td>0.863</td>\n",
       "      <td>0.700</td>\n",
       "      <td>0.011765</td>\n",
       "      <td>0.000746</td>\n",
       "      <td>0.000784</td>\n",
       "      <td>0.000013</td>\n",
       "      <td>0.000007</td>\n",
       "      <td>0.000028</td>\n",
       "      <td>0.000041</td>\n",
       "      <td>...</td>\n",
       "      <td>0.000003</td>\n",
       "      <td>0.000031</td>\n",
       "      <td>0.002538</td>\n",
       "      <td>0.000104</td>\n",
       "      <td>0.000005</td>\n",
       "      <td>0.000064</td>\n",
       "      <td>0.005380</td>\n",
       "      <td>0.001027</td>\n",
       "      <td>0.001384</td>\n",
       "      <td>NaN</td>\n",
       "    </tr>\n",
       "    <tr>\n",
       "      <td>3</td>\n",
       "      <td>video8.webm</td>\n",
       "      <td>0.922</td>\n",
       "      <td>0.818</td>\n",
       "      <td>0.000223</td>\n",
       "      <td>0.000165</td>\n",
       "      <td>0.000007</td>\n",
       "      <td>0.000016</td>\n",
       "      <td>0.000005</td>\n",
       "      <td>0.000014</td>\n",
       "      <td>0.000154</td>\n",
       "      <td>...</td>\n",
       "      <td>0.000009</td>\n",
       "      <td>0.000023</td>\n",
       "      <td>0.000053</td>\n",
       "      <td>0.000048</td>\n",
       "      <td>0.000019</td>\n",
       "      <td>0.000001</td>\n",
       "      <td>0.000004</td>\n",
       "      <td>0.000380</td>\n",
       "      <td>0.000029</td>\n",
       "      <td>NaN</td>\n",
       "    </tr>\n",
       "    <tr>\n",
       "      <td>4</td>\n",
       "      <td>video10.webm</td>\n",
       "      <td>0.950</td>\n",
       "      <td>0.900</td>\n",
       "      <td>0.000090</td>\n",
       "      <td>0.000615</td>\n",
       "      <td>0.003436</td>\n",
       "      <td>0.001281</td>\n",
       "      <td>0.003551</td>\n",
       "      <td>0.000313</td>\n",
       "      <td>0.000042</td>\n",
       "      <td>...</td>\n",
       "      <td>0.000690</td>\n",
       "      <td>0.000171</td>\n",
       "      <td>0.000231</td>\n",
       "      <td>0.000637</td>\n",
       "      <td>0.000040</td>\n",
       "      <td>0.000061</td>\n",
       "      <td>0.000075</td>\n",
       "      <td>0.000002</td>\n",
       "      <td>0.001323</td>\n",
       "      <td>NaN</td>\n",
       "    </tr>\n",
       "  </tbody>\n",
       "</table>\n",
       "<p>5 rows × 105 columns</p>\n",
       "</div>"
      ],
      "text/plain": [
       "          video  short-term_memorability  long-term_memorability         0  \\\n",
       "0   video3.webm                    0.924                   0.846  0.020249   \n",
       "1   video4.webm                    0.923                   0.667  0.000118   \n",
       "2   video6.webm                    0.863                   0.700  0.011765   \n",
       "3   video8.webm                    0.922                   0.818  0.000223   \n",
       "4  video10.webm                    0.950                   0.900  0.000090   \n",
       "\n",
       "          1         2         3         4         5         6  ...        92  \\\n",
       "0  0.001578  0.000826  0.000945  0.000063  0.000003  0.001162  ...  0.000161   \n",
       "1  0.000891  0.000188  0.000045  0.000063  0.000002  0.000641  ...  0.000393   \n",
       "2  0.000746  0.000784  0.000013  0.000007  0.000028  0.000041  ...  0.000003   \n",
       "3  0.000165  0.000007  0.000016  0.000005  0.000014  0.000154  ...  0.000009   \n",
       "4  0.000615  0.003436  0.001281  0.003551  0.000313  0.000042  ...  0.000690   \n",
       "\n",
       "         93        94        95        96        97        98        99  \\\n",
       "0  0.000257  0.046617  0.000156  0.000006  0.000537  0.000339  0.008437   \n",
       "1  0.000864  0.000947  0.000136  0.000007  0.000360  0.000159  0.001025   \n",
       "2  0.000031  0.002538  0.000104  0.000005  0.000064  0.005380  0.001027   \n",
       "3  0.000023  0.000053  0.000048  0.000019  0.000001  0.000004  0.000380   \n",
       "4  0.000171  0.000231  0.000637  0.000040  0.000061  0.000075  0.000002   \n",
       "\n",
       "        100  101  \n",
       "0  0.000470  NaN  \n",
       "1  0.000020  NaN  \n",
       "2  0.001384  NaN  \n",
       "3  0.000029  NaN  \n",
       "4  0.001323  NaN  \n",
       "\n",
       "[5 rows x 105 columns]"
      ]
     },
     "execution_count": 110,
     "metadata": {},
     "output_type": "execute_result"
    }
   ],
   "source": [
    "c3d_df.head()"
   ]
  },
  {
   "cell_type": "markdown",
   "metadata": {
    "colab_type": "text",
    "id": "HrjwII6ecYn4"
   },
   "source": [
    "locking the feature attributes onlt from the dataframe\n",
    "\n"
   ]
  },
  {
   "cell_type": "code",
   "execution_count": 111,
   "metadata": {
    "colab": {},
    "colab_type": "code",
    "id": "-YfFr7r0cdkn"
   },
   "outputs": [],
   "source": [
    "c3d_features = c3d_df.iloc[:,3:104].values"
   ]
  },
  {
   "cell_type": "code",
   "execution_count": 112,
   "metadata": {
    "colab": {
     "base_uri": "https://localhost:8080/",
     "height": 34
    },
    "colab_type": "code",
    "executionInfo": {
     "elapsed": 718,
     "status": "ok",
     "timestamp": 1587165660433,
     "user": {
      "displayName": "Amruth Hebbasuru Suryanarayana",
      "photoUrl": "",
      "userId": "18271264597795541557"
     },
     "user_tz": -60
    },
    "id": "SV55XzaQceug",
    "outputId": "3d1d07f5-9b7c-4919-f46f-eb89d58b1878"
   },
   "outputs": [
    {
     "data": {
      "text/plain": [
       "(6000, 101)"
      ]
     },
     "execution_count": 112,
     "metadata": {},
     "output_type": "execute_result"
    }
   ],
   "source": [
    "c3d_features.shape"
   ]
  },
  {
   "cell_type": "markdown",
   "metadata": {
    "colab_type": "text",
    "id": "oVj3QmkEcgID"
   },
   "source": [
    "The training set C3D features are ready now and they can now be used into model directly.\n"
   ]
  },
  {
   "cell_type": "markdown",
   "metadata": {
    "colab_type": "text",
    "id": "rkc9Ck9BcjvR"
   },
   "source": [
    "Inputting the data into X and Y variables\n",
    "\n"
   ]
  },
  {
   "cell_type": "code",
   "execution_count": 113,
   "metadata": {
    "colab": {},
    "colab_type": "code",
    "id": "tcM4iXI4cnoA"
   },
   "outputs": [],
   "source": [
    "X = c3d_features\n",
    "y = ground_truth.iloc[:, 1:3].values"
   ]
  },
  {
   "cell_type": "markdown",
   "metadata": {
    "colab_type": "text",
    "id": "i-UZLwCUcpAf"
   },
   "source": [
    "Splitting the dataset into the Training set and Test set\n",
    "\n"
   ]
  },
  {
   "cell_type": "code",
   "execution_count": 114,
   "metadata": {
    "colab": {},
    "colab_type": "code",
    "id": "CAHxr5MbcrH9"
   },
   "outputs": [],
   "source": [
    "from sklearn.model_selection import train_test_split\n",
    "X_train, X_test, y_train, y_test = train_test_split(X, y, test_size = 0.20)"
   ]
  },
  {
   "cell_type": "markdown",
   "metadata": {
    "colab_type": "text",
    "id": "TLIbBn9-csj2"
   },
   "source": [
    "Using Linear Regression Model on C3D\n"
   ]
  },
  {
   "cell_type": "code",
   "execution_count": 115,
   "metadata": {
    "colab": {
     "base_uri": "https://localhost:8080/",
     "height": 34
    },
    "colab_type": "code",
    "executionInfo": {
     "elapsed": 746,
     "status": "ok",
     "timestamp": 1587165751090,
     "user": {
      "displayName": "Amruth Hebbasuru Suryanarayana",
      "photoUrl": "",
      "userId": "18271264597795541557"
     },
     "user_tz": -60
    },
    "id": "0lrEfk_vcvjN",
    "outputId": "6ee975f5-fcb8-47ef-b563-48d9cb2a33ef"
   },
   "outputs": [
    {
     "data": {
      "text/plain": [
       "LinearRegression(copy_X=True, fit_intercept=True, n_jobs=None, normalize=False)"
      ]
     },
     "execution_count": 115,
     "metadata": {},
     "output_type": "execute_result"
    }
   ],
   "source": [
    "from sklearn.linear_model import LinearRegression\n",
    "LMregressor = LinearRegression()\n",
    "LMregressor.fit(X_train, y_train)"
   ]
  },
  {
   "cell_type": "code",
   "execution_count": 116,
   "metadata": {
    "colab": {
     "base_uri": "https://localhost:8080/",
     "height": 50
    },
    "colab_type": "code",
    "executionInfo": {
     "elapsed": 811,
     "status": "ok",
     "timestamp": 1587165764343,
     "user": {
      "displayName": "Amruth Hebbasuru Suryanarayana",
      "photoUrl": "",
      "userId": "18271264597795541557"
     },
     "user_tz": -60
    },
    "id": "v3ACIO1nc2QK",
    "outputId": "bc49e283-9863-4694-98e8-bd783aa9c56e"
   },
   "outputs": [
    {
     "name": "stdout",
     "output_type": "stream",
     "text": [
      "The Spearman's correlation coefficient is: 0.275\n",
      "The Spearman's correlation coefficient is: 0.090\n"
     ]
    }
   ],
   "source": [
    "y_pred = LMregressor.predict(X_test)\n",
    "Get_score(y_pred, y_test)"
   ]
  },
  {
   "cell_type": "markdown",
   "metadata": {
    "colab_type": "text",
    "id": "OxFIGRR6c5eW"
   },
   "source": [
    "Using Decision Tree Regression Model on C3D\n",
    "**bold text**\n",
    "bold text"
   ]
  },
  {
   "cell_type": "code",
   "execution_count": 117,
   "metadata": {
    "colab": {
     "base_uri": "https://localhost:8080/",
     "height": 118
    },
    "colab_type": "code",
    "executionInfo": {
     "elapsed": 1013,
     "status": "ok",
     "timestamp": 1587165820182,
     "user": {
      "displayName": "Amruth Hebbasuru Suryanarayana",
      "photoUrl": "",
      "userId": "18271264597795541557"
     },
     "user_tz": -60
    },
    "id": "nLWilR6WdEHW",
    "outputId": "27bb0a40-4471-4875-e4ce-5572b85a33ea"
   },
   "outputs": [
    {
     "data": {
      "text/plain": [
       "DecisionTreeRegressor(criterion='mse', max_depth=None, max_features=None,\n",
       "                      max_leaf_nodes=None, min_impurity_decrease=0.0,\n",
       "                      min_impurity_split=None, min_samples_leaf=1,\n",
       "                      min_samples_split=2, min_weight_fraction_leaf=0.0,\n",
       "                      presort=False, random_state=None, splitter='best')"
      ]
     },
     "execution_count": 117,
     "metadata": {},
     "output_type": "execute_result"
    }
   ],
   "source": [
    "from sklearn.tree import DecisionTreeRegressor\n",
    "DTregressor = DecisionTreeRegressor()\n",
    "DTregressor.fit(X_train, y_train)"
   ]
  },
  {
   "cell_type": "code",
   "execution_count": 118,
   "metadata": {
    "colab": {
     "base_uri": "https://localhost:8080/",
     "height": 50
    },
    "colab_type": "code",
    "executionInfo": {
     "elapsed": 718,
     "status": "ok",
     "timestamp": 1587165883922,
     "user": {
      "displayName": "Amruth Hebbasuru Suryanarayana",
      "photoUrl": "",
      "userId": "18271264597795541557"
     },
     "user_tz": -60
    },
    "id": "3gHY644ldHDm",
    "outputId": "84d2c09c-9c45-40dd-a2a3-051403808940"
   },
   "outputs": [
    {
     "name": "stdout",
     "output_type": "stream",
     "text": [
      "The Spearman's correlation coefficient is: 0.055\n",
      "The Spearman's correlation coefficient is: -0.002\n"
     ]
    }
   ],
   "source": [
    "y_pred = DTregressor.predict(X_test)\n",
    "Get_score(y_pred, y_test)"
   ]
  },
  {
   "cell_type": "markdown",
   "metadata": {
    "colab_type": "text",
    "id": "V4umoGRedWr0"
   },
   "source": [
    "Fitting Random Forest Regression model on C3D\n",
    "\n",
    "bold text"
   ]
  },
  {
   "cell_type": "code",
   "execution_count": 119,
   "metadata": {
    "colab": {
     "base_uri": "https://localhost:8080/",
     "height": 134
    },
    "colab_type": "code",
    "executionInfo": {
     "elapsed": 4425,
     "status": "ok",
     "timestamp": 1587165922172,
     "user": {
      "displayName": "Amruth Hebbasuru Suryanarayana",
      "photoUrl": "",
      "userId": "18271264597795541557"
     },
     "user_tz": -60
    },
    "id": "v-XkSylSdapV",
    "outputId": "da880950-8bd3-4444-edd6-9d7aef56426d"
   },
   "outputs": [
    {
     "data": {
      "text/plain": [
       "RandomForestRegressor(bootstrap=True, criterion='mse', max_depth=None,\n",
       "                      max_features='auto', max_leaf_nodes=None,\n",
       "                      min_impurity_decrease=0.0, min_impurity_split=None,\n",
       "                      min_samples_leaf=1, min_samples_split=2,\n",
       "                      min_weight_fraction_leaf=0.0, n_estimators=10,\n",
       "                      n_jobs=None, oob_score=False, random_state=None,\n",
       "                      verbose=0, warm_start=False)"
      ]
     },
     "execution_count": 119,
     "metadata": {},
     "output_type": "execute_result"
    }
   ],
   "source": [
    "from sklearn.ensemble import RandomForestRegressor\n",
    "RFregressor = RandomForestRegressor(n_estimators=10)\n",
    "RFregressor.fit(X_train, y_train)"
   ]
  },
  {
   "cell_type": "markdown",
   "metadata": {
    "colab_type": "text",
    "id": "Og_wGeujdqIk"
   },
   "source": [
    "Predicting the values using the trained model\n",
    "\n"
   ]
  },
  {
   "cell_type": "code",
   "execution_count": 120,
   "metadata": {
    "colab": {
     "base_uri": "https://localhost:8080/",
     "height": 50
    },
    "colab_type": "code",
    "executionInfo": {
     "elapsed": 720,
     "status": "ok",
     "timestamp": 1587165975189,
     "user": {
      "displayName": "Amruth Hebbasuru Suryanarayana",
      "photoUrl": "",
      "userId": "18271264597795541557"
     },
     "user_tz": -60
    },
    "id": "aV91amaBdruQ",
    "outputId": "79b8307f-e761-4a57-e7ac-743f20c652e5"
   },
   "outputs": [
    {
     "name": "stdout",
     "output_type": "stream",
     "text": [
      "The Spearman's correlation coefficient is: 0.224\n",
      "The Spearman's correlation coefficient is: 0.127\n"
     ]
    }
   ],
   "source": [
    "y_pred = RFregressor.predict(X_test)\n",
    "Get_score(y_pred, y_test)"
   ]
  },
  {
   "cell_type": "markdown",
   "metadata": {
    "colab_type": "text",
    "id": "BOXB3eYBds-O"
   },
   "source": [
    "Visualizing the results\n",
    "\n"
   ]
  },
  {
   "cell_type": "code",
   "execution_count": 121,
   "metadata": {
    "colab": {},
    "colab_type": "code",
    "id": "872Mgsmbdy_O"
   },
   "outputs": [],
   "source": [
    "#Storing the predicted results into a dataframe \n",
    "pred = pd.DataFrame(np.array(y_pred).reshape(1200,2), columns = (\"shortPred\",\"longPred\"))"
   ]
  },
  {
   "cell_type": "code",
   "execution_count": 122,
   "metadata": {
    "colab": {},
    "colab_type": "code",
    "id": "-oGPnyJEd0Y4"
   },
   "outputs": [],
   "source": [
    "#Storing the actual test set values into a dataframe\n",
    "actual = pd.DataFrame(np.array(y_test).reshape(1200,2), columns = (\"shortActual\",\"longActual\"))"
   ]
  },
  {
   "cell_type": "markdown",
   "metadata": {
    "colab_type": "text",
    "id": "yDJBnuaqd2Ff"
   },
   "source": [
    "plotting the Actual vs Predicited for Short Term Memorability\n",
    "\n"
   ]
  },
  {
   "cell_type": "code",
   "execution_count": 123,
   "metadata": {
    "colab": {
     "base_uri": "https://localhost:8080/",
     "height": 295
    },
    "colab_type": "code",
    "executionInfo": {
     "elapsed": 1053,
     "status": "ok",
     "timestamp": 1587166027712,
     "user": {
      "displayName": "Amruth Hebbasuru Suryanarayana",
      "photoUrl": "",
      "userId": "18271264597795541557"
     },
     "user_tz": -60
    },
    "id": "kQxwnT_fd4Yv",
    "outputId": "dd8ca607-ee73-4a24-8e11-29eccb6f5eb4"
   },
   "outputs": [
    {
     "data": {
      "image/png": "[encoded data removed]",
      "text/plain": [
       "<Figure size 432x288 with 1 Axes>"
      ]
     },
     "metadata": {
      "needs_background": "light"
     },
     "output_type": "display_data"
    }
   ],
   "source": [
    "xTest = range(1,1201)\n",
    "plt.scatter(xTest, actual[\"shortActual\"], color = 'red')\n",
    "plt.plot(xTest, pred[\"shortPred\"], color = 'blue')\n",
    "plt.title('Actual vs Predicted Using C3D with Decision Tree')\n",
    "plt.xlabel('videos')\n",
    "plt.ylabel('Short Term Memorability')\n",
    "plt.show()\n"
   ]
  },
  {
   "cell_type": "markdown",
   "metadata": {
    "colab_type": "text",
    "id": "JzJHodBfd5ts"
   },
   "source": [
    "plotting the Actual vs Predicited for Long Term Memorability\n",
    "\n"
   ]
  },
  {
   "cell_type": "code",
   "execution_count": 124,
   "metadata": {
    "colab": {
     "base_uri": "https://localhost:8080/",
     "height": 295
    },
    "colab_type": "code",
    "executionInfo": {
     "elapsed": 975,
     "status": "ok",
     "timestamp": 1587166051271,
     "user": {
      "displayName": "Amruth Hebbasuru Suryanarayana",
      "photoUrl": "",
      "userId": "18271264597795541557"
     },
     "user_tz": -60
    },
    "id": "ZnwjK8Jdd-LC",
    "outputId": "2cce4cc2-3e68-45a8-85e3-21e9448a9e71"
   },
   "outputs": [
    {
     "data": {
      "image/png": "[encoded data removed]",
      "text/plain": [
       "<Figure size 432x288 with 1 Axes>"
      ]
     },
     "metadata": {
      "needs_background": "light"
     },
     "output_type": "display_data"
    }
   ],
   "source": [
    "xTest = range(1,1201)\n",
    "plt.scatter(xTest, actual[\"longActual\"], color = 'red')\n",
    "plt.plot(xTest, pred[\"longPred\"], color = 'blue')\n",
    "plt.title('Actual vs Predicted Using C3D with Decision Tree')\n",
    "plt.xlabel('videos')\n",
    "plt.ylabel('Long Term Memorability')\n",
    "plt.show()"
   ]
  },
  {
   "cell_type": "markdown",
   "metadata": {
    "colab_type": "text",
    "id": "NuF-JP1gd_fC"
   },
   "source": [
    "Fitting ANN model on C3D alone\n",
    "\n",
    "bold text"
   ]
  },
  {
   "cell_type": "code",
   "execution_count": 139,
   "metadata": {
    "colab": {
     "base_uri": "https://localhost:8080/",
     "height": 84
    },
    "colab_type": "code",
    "executionInfo": {
     "elapsed": 5777,
     "status": "ok",
     "timestamp": 1587166080540,
     "user": {
      "displayName": "Amruth Hebbasuru Suryanarayana",
      "photoUrl": "",
      "userId": "18271264597795541557"
     },
     "user_tz": -60
    },
    "id": "j3aU-_DGeD6M",
    "outputId": "208b71c7-55c8-47d4-fc44-5431bc22ac25"
   },
   "outputs": [
    {
     "name": "stdout",
     "output_type": "stream",
     "text": [
      "Requirement already up-to-date: tensorflow in c:\\anaconda3\\lib\\site-packages (2.1.0)\n",
      "Requirement already satisfied, skipping upgrade: absl-py>=0.7.0 in c:\\anaconda3\\lib\\site-packages (from tensorflow) (0.9.0)\n",
      "Requirement already satisfied, skipping upgrade: gast==0.2.2 in c:\\anaconda3\\lib\\site-packages (from tensorflow) (0.2.2)\n",
      "Requirement already satisfied, skipping upgrade: keras-applications>=1.0.8 in c:\\anaconda3\\lib\\site-packages (from tensorflow) (1.0.8)\n",
      "Requirement already satisfied, skipping upgrade: google-pasta>=0.1.6 in c:\\anaconda3\\lib\\site-packages (from tensorflow) (0.2.0)\n",
      "Requirement already satisfied, skipping upgrade: protobuf>=3.8.0 in c:\\anaconda3\\lib\\site-packages (from tensorflow) (3.11.4)\n",
      "Requirement already satisfied, skipping upgrade: numpy<2.0,>=1.16.0 in c:\\anaconda3\\lib\\site-packages (from tensorflow) (1.16.5)\n",
      "Requirement already satisfied, skipping upgrade: termcolor>=1.1.0 in c:\\anaconda3\\lib\\site-packages (from tensorflow) (1.1.0)\n",
      "Requirement already satisfied, skipping upgrade: scipy==1.4.1; python_version >= \"3\" in c:\\anaconda3\\lib\\site-packages (from tensorflow) (1.4.1)\n",
      "Requirement already satisfied, skipping upgrade: opt-einsum>=2.3.2 in c:\\anaconda3\\lib\\site-packages (from tensorflow) (3.2.1)\n",
      "Requirement already satisfied, skipping upgrade: wheel>=0.26; python_version >= \"3\" in c:\\anaconda3\\lib\\site-packages (from tensorflow) (0.33.6)\n",
      "Requirement already satisfied, skipping upgrade: keras-preprocessing>=1.1.0 in c:\\anaconda3\\lib\\site-packages (from tensorflow) (1.1.0)\n",
      "Requirement already satisfied, skipping upgrade: six>=1.12.0 in c:\\anaconda3\\lib\\site-packages (from tensorflow) (1.12.0)\n",
      "Requirement already satisfied, skipping upgrade: tensorflow-estimator<2.2.0,>=2.1.0rc0 in c:\\anaconda3\\lib\\site-packages (from tensorflow) (2.1.0)\n",
      "Requirement already satisfied, skipping upgrade: astor>=0.6.0 in c:\\anaconda3\\lib\\site-packages (from tensorflow) (0.8.1)\n",
      "Requirement already satisfied, skipping upgrade: grpcio>=1.8.6 in c:\\anaconda3\\lib\\site-packages (from tensorflow) (1.27.2)\n",
      "Requirement already satisfied, skipping upgrade: tensorboard<2.2.0,>=2.1.0 in c:\\anaconda3\\lib\\site-packages (from tensorflow) (2.1.0)\n",
      "Requirement already satisfied, skipping upgrade: wrapt>=1.11.1 in c:\\anaconda3\\lib\\site-packages (from tensorflow) (1.11.2)\n",
      "Requirement already satisfied, skipping upgrade: h5py in c:\\anaconda3\\lib\\site-packages (from keras-applications>=1.0.8->tensorflow) (2.9.0)\n",
      "Requirement already satisfied, skipping upgrade: setuptools in c:\\anaconda3\\lib\\site-packages (from protobuf>=3.8.0->tensorflow) (41.4.0)\n",
      "Requirement already satisfied, skipping upgrade: markdown>=2.6.8 in c:\\anaconda3\\lib\\site-packages (from tensorboard<2.2.0,>=2.1.0->tensorflow) (3.1.1)\n",
      "Requirement already satisfied, skipping upgrade: google-auth<2,>=1.6.3 in c:\\anaconda3\\lib\\site-packages (from tensorboard<2.2.0,>=2.1.0->tensorflow) (1.11.2)\n",
      "Requirement already satisfied, skipping upgrade: werkzeug>=0.11.15 in c:\\anaconda3\\lib\\site-packages (from tensorboard<2.2.0,>=2.1.0->tensorflow) (0.16.0)\n",
      "Requirement already satisfied, skipping upgrade: requests<3,>=2.21.0 in c:\\anaconda3\\lib\\site-packages (from tensorboard<2.2.0,>=2.1.0->tensorflow) (2.22.0)\n",
      "Requirement already satisfied, skipping upgrade: google-auth-oauthlib<0.5,>=0.4.1 in c:\\anaconda3\\lib\\site-packages (from tensorboard<2.2.0,>=2.1.0->tensorflow) (0.4.1)\n",
      "Requirement already satisfied, skipping upgrade: pyasn1-modules>=0.2.1 in c:\\anaconda3\\lib\\site-packages (from google-auth<2,>=1.6.3->tensorboard<2.2.0,>=2.1.0->tensorflow) (0.2.7)\n",
      "Requirement already satisfied, skipping upgrade: rsa<4.1,>=3.1.4 in c:\\anaconda3\\lib\\site-packages (from google-auth<2,>=1.6.3->tensorboard<2.2.0,>=2.1.0->tensorflow) (4.0)\n",
      "Requirement already satisfied, skipping upgrade: cachetools<5.0,>=2.0.0 in c:\\anaconda3\\lib\\site-packages (from google-auth<2,>=1.6.3->tensorboard<2.2.0,>=2.1.0->tensorflow) (3.1.1)\n",
      "Requirement already satisfied, skipping upgrade: chardet<3.1.0,>=3.0.2 in c:\\anaconda3\\lib\\site-packages (from requests<3,>=2.21.0->tensorboard<2.2.0,>=2.1.0->tensorflow) (3.0.4)\n",
      "Requirement already satisfied, skipping upgrade: urllib3!=1.25.0,!=1.25.1,<1.26,>=1.21.1 in c:\\anaconda3\\lib\\site-packages (from requests<3,>=2.21.0->tensorboard<2.2.0,>=2.1.0->tensorflow) (1.24.2)\n",
      "Requirement already satisfied, skipping upgrade: idna<2.9,>=2.5 in c:\\anaconda3\\lib\\site-packages (from requests<3,>=2.21.0->tensorboard<2.2.0,>=2.1.0->tensorflow) (2.8)\n",
      "Requirement already satisfied, skipping upgrade: certifi>=2017.4.17 in c:\\anaconda3\\lib\\site-packages (from requests<3,>=2.21.0->tensorboard<2.2.0,>=2.1.0->tensorflow) (2019.9.11)\n",
      "Requirement already satisfied, skipping upgrade: requests-oauthlib>=0.7.0 in c:\\anaconda3\\lib\\site-packages (from google-auth-oauthlib<0.5,>=0.4.1->tensorboard<2.2.0,>=2.1.0->tensorflow) (1.3.0)\n",
      "Requirement already satisfied, skipping upgrade: pyasn1<0.5.0,>=0.4.6 in c:\\anaconda3\\lib\\site-packages (from pyasn1-modules>=0.2.1->google-auth<2,>=1.6.3->tensorboard<2.2.0,>=2.1.0->tensorflow) (0.4.8)\n",
      "Requirement already satisfied, skipping upgrade: oauthlib>=3.0.0 in c:\\anaconda3\\lib\\site-packages (from requests-oauthlib>=0.7.0->google-auth-oauthlib<0.5,>=0.4.1->tensorboard<2.2.0,>=2.1.0->tensorflow) (3.1.0)\n"
     ]
    }
   ],
   "source": [
    "# !pip install pyprind\n",
    "# !pip install keras\n",
    "!pip install --upgrade tensorflow"
   ]
  },
  {
   "cell_type": "code",
   "execution_count": 140,
   "metadata": {
    "colab": {
     "base_uri": "https://localhost:8080/",
     "height": 34
    },
    "colab_type": "code",
    "executionInfo": {
     "elapsed": 696,
     "status": "ok",
     "timestamp": 1587166138851,
     "user": {
      "displayName": "Amruth Hebbasuru Suryanarayana",
      "photoUrl": "",
      "userId": "18271264597795541557"
     },
     "user_tz": -60
    },
    "id": "bI6I0IV9eFdN",
    "outputId": "f73419a6-4a81-44c0-fbbd-65a4d2d5272e"
   },
   "outputs": [],
   "source": [
    "from keras import Sequential\n",
    "from keras import layers\n",
    "from keras import regularizers\n",
    "import pyprind\n",
    "from collections import Counter"
   ]
  },
  {
   "cell_type": "code",
   "execution_count": 141,
   "metadata": {
    "colab": {
     "base_uri": "https://localhost:8080/",
     "height": 34
    },
    "colab_type": "code",
    "executionInfo": {
     "elapsed": 737,
     "status": "ok",
     "timestamp": 1587166144990,
     "user": {
      "displayName": "Amruth Hebbasuru Suryanarayana",
      "photoUrl": "",
      "userId": "18271264597795541557"
     },
     "user_tz": -60
    },
    "id": "8gsmawgleU7l",
    "outputId": "e27cbce4-54f9-4652-c532-da967948ea0c"
   },
   "outputs": [
    {
     "data": {
      "text/plain": [
       "(6000, 101)"
      ]
     },
     "execution_count": 141,
     "metadata": {},
     "output_type": "execute_result"
    }
   ],
   "source": [
    "c3d_features.shape\n"
   ]
  },
  {
   "cell_type": "code",
   "execution_count": 142,
   "metadata": {
    "colab": {},
    "colab_type": "code",
    "id": "bPlBSUzleWa5"
   },
   "outputs": [],
   "source": [
    "max_len =101\n"
   ]
  },
  {
   "cell_type": "code",
   "execution_count": 143,
   "metadata": {
    "colab": {},
    "colab_type": "code",
    "id": "pddKoLMCeXv6"
   },
   "outputs": [],
   "source": [
    "X = c3d_features\n",
    "y = ground_truth.iloc[:, 1:3].values"
   ]
  },
  {
   "cell_type": "code",
   "execution_count": 145,
   "metadata": {
    "colab": {},
    "colab_type": "code",
    "id": "MBK9qNSOeaWm"
   },
   "outputs": [],
   "source": [
    "X_train, X_test, Y_train, Y_test = train_test_split(X,y, test_size=0.2,random_state=1)\n"
   ]
  },
  {
   "cell_type": "markdown",
   "metadata": {
    "colab_type": "text",
    "id": "G7YAO48EebpR"
   },
   "source": [
    "Building a sequntial model with 2 layers.\n",
    "\n"
   ]
  },
  {
   "cell_type": "code",
   "execution_count": 146,
   "metadata": {
    "colab": {
     "base_uri": "https://localhost:8080/",
     "height": 370
    },
    "colab_type": "code",
    "executionInfo": {
     "elapsed": 8133,
     "status": "ok",
     "timestamp": 1587166200376,
     "user": {
      "displayName": "Amruth Hebbasuru Suryanarayana",
      "photoUrl": "",
      "userId": "18271264597795541557"
     },
     "user_tz": -60
    },
    "id": "3fCcZWsEedij",
    "outputId": "16e23ec0-b9e8-42c0-efbc-ddda16f173bc"
   },
   "outputs": [
    {
     "name": "stdout",
     "output_type": "stream",
     "text": [
      "WARNING:tensorflow:Large dropout rate: 0.6 (>0.5). In TensorFlow 2.x, dropout() uses dropout rate instead of keep_prob. Please ensure that this is intended.\n",
      "Train on 4800 samples, validate on 1200 samples\n",
      "Epoch 1/10\n",
      "4800/4800 [==============================] - 0s 57us/step - loss: 0.0933 - accuracy: 0.6367 - val_loss: 0.0267 - val_accuracy: 0.7233\n",
      "Epoch 2/10\n",
      "4800/4800 [==============================] - 0s 32us/step - loss: 0.0205 - accuracy: 0.6946 - val_loss: 0.0147 - val_accuracy: 0.7233\n",
      "Epoch 3/10\n",
      "4800/4800 [==============================] - 0s 31us/step - loss: 0.0156 - accuracy: 0.7002 - val_loss: 0.0137 - val_accuracy: 0.7233\n",
      "Epoch 4/10\n",
      "4800/4800 [==============================] - 0s 31us/step - loss: 0.0149 - accuracy: 0.7000 - val_loss: 0.0136 - val_accuracy: 0.7233\n",
      "Epoch 5/10\n",
      "4800/4800 [==============================] - 0s 32us/step - loss: 0.0147 - accuracy: 0.7002 - val_loss: 0.0136 - val_accuracy: 0.7233\n",
      "Epoch 6/10\n",
      "4800/4800 [==============================] - 0s 29us/step - loss: 0.0146 - accuracy: 0.7002 - val_loss: 0.0136 - val_accuracy: 0.7233\n",
      "Epoch 7/10\n",
      "4800/4800 [==============================] - 0s 30us/step - loss: 0.0147 - accuracy: 0.7002 - val_loss: 0.0136 - val_accuracy: 0.7233\n",
      "Epoch 8/10\n",
      "4800/4800 [==============================] - 0s 32us/step - loss: 0.0146 - accuracy: 0.7002 - val_loss: 0.0136 - val_accuracy: 0.7233\n",
      "Epoch 9/10\n",
      "4800/4800 [==============================] - 0s 31us/step - loss: 0.0145 - accuracy: 0.7002 - val_loss: 0.0136 - val_accuracy: 0.7233\n",
      "Epoch 10/10\n",
      "4800/4800 [==============================] - 0s 31us/step - loss: 0.0145 - accuracy: 0.7002 - val_loss: 0.0135 - val_accuracy: 0.7233\n"
     ]
    }
   ],
   "source": [
    "model = Sequential()\n",
    "model.add(layers.Dense(64,activation='relu',kernel_regularizer=regularizers.l2(0.001),input_shape=(max_len,)))\n",
    "model.add(layers.Dropout(0.6))\n",
    "model.add(layers.Dense(64,activation='relu',kernel_regularizer=regularizers.l2(0.001)))\n",
    "model.add(layers.Dropout(0.5))\n",
    "model.add(layers.Dense(2,activation='sigmoid'))\n",
    "\n",
    "# compile the model \n",
    "model.compile(optimizer='rmsprop',loss='mse',metrics=['accuracy'])\n",
    "\n",
    "# training the model \n",
    "history = model.fit(X_train,Y_train,epochs=10,validation_data=(X_test,Y_test))"
   ]
  },
  {
   "cell_type": "code",
   "execution_count": 147,
   "metadata": {
    "colab": {
     "base_uri": "https://localhost:8080/",
     "height": 50
    },
    "colab_type": "code",
    "executionInfo": {
     "elapsed": 709,
     "status": "ok",
     "timestamp": 1587166226086,
     "user": {
      "displayName": "Amruth Hebbasuru Suryanarayana",
      "photoUrl": "",
      "userId": "18271264597795541557"
     },
     "user_tz": -60
    },
    "id": "Y-Lx6yF-eiI5",
    "outputId": "9d95059d-979e-48f9-8e20-53c809973c42"
   },
   "outputs": [
    {
     "name": "stdout",
     "output_type": "stream",
     "text": [
      "The Spearman's correlation coefficient is: 0.265\n",
      "The Spearman's correlation coefficient is: 0.133\n"
     ]
    }
   ],
   "source": [
    "y_pred = model.predict(X_test)\n",
    "Get_score(y_pred, Y_test)"
   ]
  },
  {
   "cell_type": "markdown",
   "metadata": {
    "colab_type": "text",
    "id": "9axRrbmseqOk"
   },
   "source": [
    "After changing the number of trees in the Random Forest method it is noticed that maximum accuracy is achieved with 500 trees.\n",
    "\n"
   ]
  },
  {
   "cell_type": "markdown",
   "metadata": {
    "colab_type": "text",
    "id": "43FLHLdqe06D"
   },
   "source": [
    "## **Merging** both the caption features and C3D features\n"
   ]
  },
  {
   "cell_type": "code",
   "execution_count": 148,
   "metadata": {
    "colab": {},
    "colab_type": "code",
    "id": "tFPkaDMgs76i"
   },
   "outputs": [],
   "source": [
    "#Using Count vector features\n",
    "c3dAndCaption_features = np.concatenate((caption_features, c3d_features), axis=1)"
   ]
  },
  {
   "cell_type": "code",
   "execution_count": 149,
   "metadata": {
    "colab": {},
    "colab_type": "code",
    "id": "gPuI4pLItCqP"
   },
   "outputs": [],
   "source": [
    "#Using TFIDF features\n",
    "c3dAndCaption_features = np.concatenate((captions_tfidf_features, c3d_features), axis=1)"
   ]
  },
  {
   "cell_type": "code",
   "execution_count": 150,
   "metadata": {
    "colab": {
     "base_uri": "https://localhost:8080/",
     "height": 34
    },
    "colab_type": "code",
    "executionInfo": {
     "elapsed": 712,
     "status": "ok",
     "timestamp": 1587170023672,
     "user": {
      "displayName": "Amruth Hebbasuru Suryanarayana",
      "photoUrl": "",
      "userId": "18271264597795541557"
     },
     "user_tz": -60
    },
    "id": "uK-_rSd8tHGF",
    "outputId": "ea95c5af-5b59-41ab-ac05-a65732977dc2"
   },
   "outputs": [
    {
     "data": {
      "text/plain": [
       "(6000, 5188)"
      ]
     },
     "execution_count": 150,
     "metadata": {},
     "output_type": "execute_result"
    }
   ],
   "source": [
    "c3dAndCaption_features.shape\n",
    "#101 c3d features + 5087 caption features are merged"
   ]
  },
  {
   "cell_type": "markdown",
   "metadata": {
    "colab_type": "text",
    "id": "ckyamLQhtJXk"
   },
   "source": [
    "**Inputting the data into X and Y variables**\n",
    "\n"
   ]
  },
  {
   "cell_type": "code",
   "execution_count": 151,
   "metadata": {
    "colab": {},
    "colab_type": "code",
    "id": "3-zVqlDStLvh"
   },
   "outputs": [],
   "source": [
    "X = c3dAndCaption_features\n",
    "y = ground_truth.iloc[:, 1:3].values"
   ]
  },
  {
   "cell_type": "markdown",
   "metadata": {
    "colab_type": "text",
    "id": "hnR5DIp2tSlS"
   },
   "source": [
    "Splitting the dataset into the Training set and Test set\n"
   ]
  },
  {
   "cell_type": "code",
   "execution_count": 152,
   "metadata": {
    "colab": {},
    "colab_type": "code",
    "id": "zJoWGkMmtYsa"
   },
   "outputs": [],
   "source": [
    "from sklearn.model_selection import train_test_split\n",
    "X_train, X_test, y_train, y_test = train_test_split(X, y, test_size = 0.20,random_state=1)"
   ]
  },
  {
   "cell_type": "markdown",
   "metadata": {
    "colab_type": "text",
    "id": "B3IzO30stb6Z"
   },
   "source": [
    "Using Linear Regression Model on Captions and C3D features"
   ]
  },
  {
   "cell_type": "code",
   "execution_count": 153,
   "metadata": {
    "colab": {
     "base_uri": "https://localhost:8080/",
     "height": 34
    },
    "colab_type": "code",
    "executionInfo": {
     "elapsed": 73649,
     "status": "ok",
     "timestamp": 1587170193375,
     "user": {
      "displayName": "Amruth Hebbasuru Suryanarayana",
      "photoUrl": "",
      "userId": "18271264597795541557"
     },
     "user_tz": -60
    },
    "id": "uywBA_matfNZ",
    "outputId": "bce8d85d-c910-46c5-a02d-d613e2dfffc8"
   },
   "outputs": [
    {
     "data": {
      "text/plain": [
       "LinearRegression(copy_X=True, fit_intercept=True, n_jobs=None, normalize=False)"
      ]
     },
     "execution_count": 153,
     "metadata": {},
     "output_type": "execute_result"
    }
   ],
   "source": [
    "from sklearn.linear_model import LinearRegression\n",
    "LMregressor = LinearRegression()\n",
    "LMregressor.fit(X_train, y_train)"
   ]
  },
  {
   "cell_type": "code",
   "execution_count": 154,
   "metadata": {
    "colab": {
     "base_uri": "https://localhost:8080/",
     "height": 50
    },
    "colab_type": "code",
    "executionInfo": {
     "elapsed": 1045,
     "status": "ok",
     "timestamp": 1587170653350,
     "user": {
      "displayName": "Amruth Hebbasuru Suryanarayana",
      "photoUrl": "",
      "userId": "18271264597795541557"
     },
     "user_tz": -60
    },
    "id": "3MhoesAstg-b",
    "outputId": "215d8f84-ecec-4983-d557-5a00a676121a"
   },
   "outputs": [
    {
     "name": "stdout",
     "output_type": "stream",
     "text": [
      "The Spearman's correlation coefficient is: 0.064\n",
      "The Spearman's correlation coefficient is: 0.003\n"
     ]
    }
   ],
   "source": [
    "y_pred = LMregressor.predict(X_test)\n",
    "Get_score(y_pred, y_test)"
   ]
  },
  {
   "cell_type": "markdown",
   "metadata": {
    "colab_type": "text",
    "id": "_NbwJHXIvjAN"
   },
   "source": [
    "Using Decision Tree Regression Model on Captions and C3D features\n",
    "\n"
   ]
  },
  {
   "cell_type": "code",
   "execution_count": 155,
   "metadata": {
    "colab": {
     "base_uri": "https://localhost:8080/",
     "height": 118
    },
    "colab_type": "code",
    "executionInfo": {
     "elapsed": 3876,
     "status": "ok",
     "timestamp": 1587170747969,
     "user": {
      "displayName": "Amruth Hebbasuru Suryanarayana",
      "photoUrl": "",
      "userId": "18271264597795541557"
     },
     "user_tz": -60
    },
    "id": "Cms0Mfh8v2OU",
    "outputId": "6197e3aa-c6d4-45ae-b316-452b721ca8e0"
   },
   "outputs": [
    {
     "data": {
      "text/plain": [
       "DecisionTreeRegressor(criterion='mse', max_depth=None, max_features=None,\n",
       "                      max_leaf_nodes=None, min_impurity_decrease=0.0,\n",
       "                      min_impurity_split=None, min_samples_leaf=1,\n",
       "                      min_samples_split=2, min_weight_fraction_leaf=0.0,\n",
       "                      presort=False, random_state=None, splitter='best')"
      ]
     },
     "execution_count": 155,
     "metadata": {},
     "output_type": "execute_result"
    }
   ],
   "source": [
    "from sklearn.tree import DecisionTreeRegressor\n",
    "DTregressor = DecisionTreeRegressor()\n",
    "DTregressor.fit(X_train, y_train)"
   ]
  },
  {
   "cell_type": "code",
   "execution_count": 156,
   "metadata": {
    "colab": {
     "base_uri": "https://localhost:8080/",
     "height": 50
    },
    "colab_type": "code",
    "executionInfo": {
     "elapsed": 853,
     "status": "ok",
     "timestamp": 1587170751622,
     "user": {
      "displayName": "Amruth Hebbasuru Suryanarayana",
      "photoUrl": "",
      "userId": "18271264597795541557"
     },
     "user_tz": -60
    },
    "id": "tc4ISBwjv5aM",
    "outputId": "36b773d7-c8c9-4bc4-df77-a4605f9deb0e"
   },
   "outputs": [
    {
     "name": "stdout",
     "output_type": "stream",
     "text": [
      "The Spearman's correlation coefficient is: 0.142\n",
      "The Spearman's correlation coefficient is: 0.012\n"
     ]
    }
   ],
   "source": [
    "y_pred = DTregressor.predict(X_test)\n",
    "Get_score(y_pred, y_test)"
   ]
  },
  {
   "cell_type": "markdown",
   "metadata": {
    "colab_type": "text",
    "id": "9_xh7QF0v7CN"
   },
   "source": [
    "Fitting Random Forest Regression model on Captions and C3D features"
   ]
  },
  {
   "cell_type": "code",
   "execution_count": 157,
   "metadata": {
    "colab": {
     "base_uri": "https://localhost:8080/",
     "height": 134
    },
    "colab_type": "code",
    "executionInfo": {
     "elapsed": 149303,
     "status": "ok",
     "timestamp": 1587171131421,
     "user": {
      "displayName": "Amruth Hebbasuru Suryanarayana",
      "photoUrl": "",
      "userId": "18271264597795541557"
     },
     "user_tz": -60
    },
    "id": "emQ08PogwwhD",
    "outputId": "09ed77ef-e607-41f7-c3d4-5e6c6ff1d542"
   },
   "outputs": [
    {
     "name": "stderr",
     "output_type": "stream",
     "text": [
      "C:\\Anaconda3\\lib\\site-packages\\sklearn\\ensemble\\forest.py:245: FutureWarning: The default value of n_estimators will change from 10 in version 0.20 to 100 in 0.22.\n",
      "  \"10 in version 0.20 to 100 in 0.22.\", FutureWarning)\n"
     ]
    },
    {
     "data": {
      "text/plain": [
       "RandomForestRegressor(bootstrap=True, criterion='mse', max_depth=None,\n",
       "                      max_features='auto', max_leaf_nodes=None,\n",
       "                      min_impurity_decrease=0.0, min_impurity_split=None,\n",
       "                      min_samples_leaf=1, min_samples_split=2,\n",
       "                      min_weight_fraction_leaf=0.0, n_estimators=10,\n",
       "                      n_jobs=None, oob_score=False, random_state=None,\n",
       "                      verbose=0, warm_start=False)"
      ]
     },
     "execution_count": 157,
     "metadata": {},
     "output_type": "execute_result"
    }
   ],
   "source": [
    "from sklearn.ensemble import RandomForestRegressor\n",
    "RFregressor = RandomForestRegressor()\n",
    "RFregressor.fit(X_train, y_train)"
   ]
  },
  {
   "cell_type": "code",
   "execution_count": 158,
   "metadata": {
    "colab": {
     "base_uri": "https://localhost:8080/",
     "height": 178
    },
    "colab_type": "code",
    "executionInfo": {
     "elapsed": 1003,
     "status": "error",
     "timestamp": 1587200495352,
     "user": {
      "displayName": "Amruth Hebbasuru Suryanarayana",
      "photoUrl": "",
      "userId": "18271264597795541557"
     },
     "user_tz": -60
    },
    "id": "PiRLag0Owzhc",
    "outputId": "c2719cbc-b5b3-44b6-e8ac-29e36ae5455d"
   },
   "outputs": [
    {
     "name": "stdout",
     "output_type": "stream",
     "text": [
      "The Spearman's correlation coefficient is: 0.306\n",
      "The Spearman's correlation coefficient is: 0.091\n"
     ]
    }
   ],
   "source": [
    "y_pred = RFregressor.predict(X_test)\n",
    "Get_score(y_pred, y_test)"
   ]
  },
  {
   "cell_type": "markdown",
   "metadata": {
    "colab_type": "text",
    "id": "wd1burvNxcdV"
   },
   "source": [
    "ANN"
   ]
  },
  {
   "cell_type": "code",
   "execution_count": 159,
   "metadata": {
    "colab": {},
    "colab_type": "code",
    "id": "i7_ncO-fxwLM"
   },
   "outputs": [],
   "source": [
    "from keras import Sequential\n",
    "from keras import layers\n",
    "from keras import regularizers\n",
    "import pyprind\n",
    "from collections import Counter"
   ]
  },
  {
   "cell_type": "code",
   "execution_count": 160,
   "metadata": {
    "colab": {
     "base_uri": "https://localhost:8080/",
     "height": 34
    },
    "colab_type": "code",
    "executionInfo": {
     "elapsed": 919,
     "status": "ok",
     "timestamp": 1587171246992,
     "user": {
      "displayName": "Amruth Hebbasuru Suryanarayana",
      "photoUrl": "",
      "userId": "18271264597795541557"
     },
     "user_tz": -60
    },
    "id": "dAswgLdFxyx2",
    "outputId": "f7403462-0450-4cfb-eb4a-a041322fa3ea"
   },
   "outputs": [
    {
     "data": {
      "text/plain": [
       "(6000, 5188)"
      ]
     },
     "execution_count": 160,
     "metadata": {},
     "output_type": "execute_result"
    }
   ],
   "source": [
    "c3dAndCaption_features.shape\n"
   ]
  },
  {
   "cell_type": "code",
   "execution_count": 161,
   "metadata": {
    "colab": {},
    "colab_type": "code",
    "id": "XgbtXUqixz9X"
   },
   "outputs": [],
   "source": [
    "max_len =5188\n"
   ]
  },
  {
   "cell_type": "code",
   "execution_count": 162,
   "metadata": {
    "colab": {},
    "colab_type": "code",
    "id": "mcp-I0prx1jB"
   },
   "outputs": [],
   "source": [
    "X = c3dAndCaption_features\n",
    "y = ground_truth.iloc[:, 1:3].values"
   ]
  },
  {
   "cell_type": "code",
   "execution_count": 163,
   "metadata": {
    "colab": {},
    "colab_type": "code",
    "id": "vjEmiAU7x4_g"
   },
   "outputs": [],
   "source": [
    "X_train, X_test, Y_train, Y_test = train_test_split(X,y, test_size=0.1,random_state=1)\n"
   ]
  },
  {
   "cell_type": "code",
   "execution_count": 164,
   "metadata": {
    "colab": {
     "base_uri": "https://localhost:8080/",
     "height": 370
    },
    "colab_type": "code",
    "executionInfo": {
     "elapsed": 9598,
     "status": "ok",
     "timestamp": 1587171287319,
     "user": {
      "displayName": "Amruth Hebbasuru Suryanarayana",
      "photoUrl": "",
      "userId": "18271264597795541557"
     },
     "user_tz": -60
    },
    "id": "sdA4J0z4x6H1",
    "outputId": "10e15404-077b-46c8-ecfa-3de07af08912"
   },
   "outputs": [
    {
     "name": "stdout",
     "output_type": "stream",
     "text": [
      "WARNING:tensorflow:Large dropout rate: 0.6 (>0.5). In TensorFlow 2.x, dropout() uses dropout rate instead of keep_prob. Please ensure that this is intended.\n",
      "Train on 5400 samples, validate on 600 samples\n",
      "Epoch 1/10\n",
      "5400/5400 [==============================] - 1s 178us/step - loss: 0.0575 - accuracy: 0.6809 - val_loss: 0.0194 - val_accuracy: 0.7200\n",
      "Epoch 2/10\n",
      "5400/5400 [==============================] - 1s 152us/step - loss: 0.0170 - accuracy: 0.7024 - val_loss: 0.0148 - val_accuracy: 0.7200\n",
      "Epoch 3/10\n",
      "5400/5400 [==============================] - 1s 147us/step - loss: 0.0152 - accuracy: 0.7033 - val_loss: 0.0147 - val_accuracy: 0.7200\n",
      "Epoch 4/10\n",
      "5400/5400 [==============================] - 1s 145us/step - loss: 0.0148 - accuracy: 0.7031 - val_loss: 0.0146 - val_accuracy: 0.7200\n",
      "Epoch 5/10\n",
      "5400/5400 [==============================] - 1s 146us/step - loss: 0.0145 - accuracy: 0.7031 - val_loss: 0.0146 - val_accuracy: 0.7200\n",
      "Epoch 6/10\n",
      "5400/5400 [==============================] - 1s 148us/step - loss: 0.0146 - accuracy: 0.7031 - val_loss: 0.0147 - val_accuracy: 0.7200\n",
      "Epoch 7/10\n",
      "5400/5400 [==============================] - 1s 148us/step - loss: 0.0145 - accuracy: 0.7031 - val_loss: 0.0145 - val_accuracy: 0.7200\n",
      "Epoch 8/10\n",
      "5400/5400 [==============================] - 1s 149us/step - loss: 0.0145 - accuracy: 0.7031 - val_loss: 0.0147 - val_accuracy: 0.7200\n",
      "Epoch 9/10\n",
      "5400/5400 [==============================] - 1s 147us/step - loss: 0.0143 - accuracy: 0.7031 - val_loss: 0.0147 - val_accuracy: 0.7200\n",
      "Epoch 10/10\n",
      "5400/5400 [==============================] - 1s 150us/step - loss: 0.0142 - accuracy: 0.7031 - val_loss: 0.0145 - val_accuracy: 0.7200\n"
     ]
    }
   ],
   "source": [
    "model = Sequential()\n",
    "model.add(layers.Dense(64,activation='relu',kernel_regularizer=regularizers.l2(0.001),input_shape=(max_len,)))\n",
    "model.add(layers.Dropout(0.6))\n",
    "model.add(layers.Dense(64,activation='relu',kernel_regularizer=regularizers.l2(0.001)))\n",
    "model.add(layers.Dropout(0.5))\n",
    "model.add(layers.Dense(2,activation='sigmoid'))\n",
    "\n",
    "# compile the model \n",
    "model.compile(optimizer='rmsprop',loss='mse',metrics=['accuracy'])\n",
    "\n",
    "# training the model \n",
    "history = model.fit(X_train,Y_train,epochs=10,validation_data=(X_test,Y_test))"
   ]
  },
  {
   "cell_type": "code",
   "execution_count": 166,
   "metadata": {
    "colab": {
     "base_uri": "https://localhost:8080/",
     "height": 524
    },
    "colab_type": "code",
    "executionInfo": {
     "elapsed": 1480,
     "status": "error",
     "timestamp": 1587171305089,
     "user": {
      "displayName": "Amruth Hebbasuru Suryanarayana",
      "photoUrl": "",
      "userId": "18271264597795541557"
     },
     "user_tz": -60
    },
    "id": "ZHl2yvxzx7sE",
    "outputId": "2b7142bf-a7ef-4ad6-e7ab-e70bad780763"
   },
   "outputs": [
    {
     "data": {
      "image/png": "[encoded data removed]",
      "text/plain": [
       "<Figure size 432x288 with 1 Axes>"
      ]
     },
     "metadata": {
      "needs_background": "light"
     },
     "output_type": "display_data"
    },
    {
     "ename": "KeyError",
     "evalue": "'acc'",
     "output_type": "error",
     "traceback": [
      "\u001b[1;31m---------------------------------------------------------------------------\u001b[0m",
      "\u001b[1;31mKeyError\u001b[0m                                  Traceback (most recent call last)",
      "\u001b[1;32m<ipython-input-166-c02616b0c786>\u001b[0m in \u001b[0;36m<module>\u001b[1;34m\u001b[0m\n\u001b[0;32m     14\u001b[0m \u001b[1;33m\u001b[0m\u001b[0m\n\u001b[0;32m     15\u001b[0m \u001b[0mplt\u001b[0m\u001b[1;33m.\u001b[0m\u001b[0mfigure\u001b[0m\u001b[1;33m(\u001b[0m\u001b[1;33m)\u001b[0m\u001b[1;33m\u001b[0m\u001b[1;33m\u001b[0m\u001b[0m\n\u001b[1;32m---> 16\u001b[1;33m \u001b[0macc\u001b[0m \u001b[1;33m=\u001b[0m \u001b[0mhistory\u001b[0m\u001b[1;33m.\u001b[0m\u001b[0mhistory\u001b[0m\u001b[1;33m[\u001b[0m\u001b[1;34m'acc'\u001b[0m\u001b[1;33m]\u001b[0m\u001b[1;33m\u001b[0m\u001b[1;33m\u001b[0m\u001b[0m\n\u001b[0m\u001b[0;32m     17\u001b[0m \u001b[0mval_acc\u001b[0m \u001b[1;33m=\u001b[0m \u001b[0mhistory\u001b[0m\u001b[1;33m.\u001b[0m\u001b[0mhistory\u001b[0m\u001b[1;33m[\u001b[0m\u001b[1;34m'val_acc'\u001b[0m\u001b[1;33m]\u001b[0m\u001b[1;33m\u001b[0m\u001b[1;33m\u001b[0m\u001b[0m\n\u001b[0;32m     18\u001b[0m \u001b[0mplt\u001b[0m\u001b[1;33m.\u001b[0m\u001b[0mplot\u001b[0m\u001b[1;33m(\u001b[0m\u001b[0mepochs\u001b[0m\u001b[1;33m,\u001b[0m \u001b[0macc\u001b[0m\u001b[1;33m,\u001b[0m \u001b[1;34m'bo'\u001b[0m\u001b[1;33m,\u001b[0m \u001b[0mlabel\u001b[0m\u001b[1;33m=\u001b[0m\u001b[1;34m'Training acc'\u001b[0m\u001b[1;33m)\u001b[0m\u001b[1;33m\u001b[0m\u001b[1;33m\u001b[0m\u001b[0m\n",
      "\u001b[1;31mKeyError\u001b[0m: 'acc'"
     ]
    },
    {
     "data": {
      "text/plain": [
       "<Figure size 432x288 with 0 Axes>"
      ]
     },
     "metadata": {},
     "output_type": "display_data"
    }
   ],
   "source": [
    "# visualizing the model\n",
    "loss = history.history['loss']\n",
    "val_loss = history.history['val_loss']\n",
    "\n",
    "epochs = range(1,len(loss)+1)\n",
    "\n",
    "plt.plot(epochs,loss,'bo',label='Training loss')\n",
    "plt.plot(epochs,val_loss,'b',label='Validation loss')\n",
    "plt.title('Training and validation loss')\n",
    "plt.xlabel('Epochs')\n",
    "plt.ylabel('Loss')\n",
    "plt.legend()\n",
    "plt.show()\n",
    "\n",
    "plt.figure()\n",
    "acc = history.history['acc']\n",
    "val_acc = history.history['val_acc']\n",
    "plt.plot(epochs, acc, 'bo', label='Training acc')\n",
    "plt.plot(epochs, val_acc, 'b', label='Validation acc')\n",
    "plt.title('Training and validation accuracy')\n",
    "plt.xlabel('Epochs')\n",
    "plt.ylabel('Acc')\n",
    "plt.legend()\n",
    "plt.show()\n"
   ]
  },
  {
   "cell_type": "markdown",
   "metadata": {
    "colab_type": "text",
    "id": "xSegFLLhyB6c"
   },
   "source": [
    "## **HMP**"
   ]
  },
  {
   "cell_type": "markdown",
   "metadata": {
    "colab_type": "text",
    "id": "na9Xe1GczGQA"
   },
   "source": [
    "Defining the method for reading HMP Features from a file"
   ]
  },
  {
   "cell_type": "code",
   "execution_count": 167,
   "metadata": {
    "colab": {},
    "colab_type": "code",
    "id": "Rmy8Dr6mzPvM"
   },
   "outputs": [],
   "source": [
    "def read_HMP(fname):\n",
    "    \"\"\"Scan HMP(Histogram of Motion Patterns) features from file\"\"\"\n",
    "    with open(fname) as f:\n",
    "        for line in f:\n",
    "            pairs=line.split()\n",
    "            HMP_temp = { int(p.split(':')[0]) : float(p.split(':')[1]) for p in pairs}\n",
    "    # there are 6075 bins, fill zeros\n",
    "    HMP = np.zeros(6075)\n",
    "    for idx in HMP_temp.keys():\n",
    "        HMP[idx-1] = HMP_temp[idx]            \n",
    "    return HMP"
   ]
  },
  {
   "cell_type": "markdown",
   "metadata": {
    "colab_type": "text",
    "id": "4Q_I9fJLzRn2"
   },
   "source": [
    "Calling the method for fetching HMP features and storing them into a array list using loop Method works similar to that of the\n",
    "\n"
   ]
  },
  {
   "cell_type": "code",
   "execution_count": 168,
   "metadata": {
    "colab": {},
    "colab_type": "code",
    "id": "yrmTfibXzYZq"
   },
   "outputs": [],
   "source": [
    "HMP_feature_list= []\n",
    "video_names_list = []\n",
    "path = 'HMP/*.txt'\n",
    "for filename in glob.glob('HMP/*.txt'):\n",
    "    name = ((filename.split('/')[-1]).split('.')[0]+'.webm')\n",
    "    video_names_list.append(name)\n",
    "    HMP_features = read_HMP(filename)\n",
    "    HMP_feature_list.append(HMP_features)"
   ]
  },
  {
   "cell_type": "code",
   "execution_count": 180,
   "metadata": {
    "colab": {
     "base_uri": "https://localhost:8080/",
     "height": 178
    },
    "colab_type": "code",
    "executionInfo": {
     "elapsed": 1637,
     "status": "error",
     "timestamp": 1587200392998,
     "user": {
      "displayName": "Amruth Hebbasuru Suryanarayana",
      "photoUrl": "",
      "userId": "18271264597795541557"
     },
     "user_tz": -60
    },
    "id": "FqU5ViWIzap1",
    "outputId": "d0f25bce-5dd9-4eed-def5-30a20f1bfdda"
   },
   "outputs": [],
   "source": [
    "HMP_features = pd.DataFrame(np.array(HMP_feature_list).reshape(6000,6075))\n",
    "HMP_features[\"video\"] = video_names_list\n",
    "HMP_features[\"video\"] = HMP_features[\"video\"].str.slice(start=4)"
   ]
  },
  {
   "cell_type": "code",
   "execution_count": 182,
   "metadata": {
    "colab": {
     "base_uri": "https://localhost:8080/",
     "height": 162
    },
    "colab_type": "code",
    "executionInfo": {
     "elapsed": 1471,
     "status": "error",
     "timestamp": 1587200450106,
     "user": {
      "displayName": "Amruth Hebbasuru Suryanarayana",
      "photoUrl": "",
      "userId": "18271264597795541557"
     },
     "user_tz": -60
    },
    "id": "0a13RFsUg-3p",
    "outputId": "02573d9e-3b20-4460-c3e7-6f205f17d442"
   },
   "outputs": [
    {
     "data": {
      "text/html": [
       "<div>\n",
       "<style scoped>\n",
       "    .dataframe tbody tr th:only-of-type {\n",
       "        vertical-align: middle;\n",
       "    }\n",
       "\n",
       "    .dataframe tbody tr th {\n",
       "        vertical-align: top;\n",
       "    }\n",
       "\n",
       "    .dataframe thead th {\n",
       "        text-align: right;\n",
       "    }\n",
       "</style>\n",
       "<table border=\"1\" class=\"dataframe\">\n",
       "  <thead>\n",
       "    <tr style=\"text-align: right;\">\n",
       "      <th></th>\n",
       "      <th>0</th>\n",
       "      <th>1</th>\n",
       "      <th>2</th>\n",
       "      <th>3</th>\n",
       "      <th>4</th>\n",
       "      <th>5</th>\n",
       "      <th>6</th>\n",
       "      <th>7</th>\n",
       "      <th>8</th>\n",
       "      <th>9</th>\n",
       "      <th>...</th>\n",
       "      <th>6066</th>\n",
       "      <th>6067</th>\n",
       "      <th>6068</th>\n",
       "      <th>6069</th>\n",
       "      <th>6070</th>\n",
       "      <th>6071</th>\n",
       "      <th>6072</th>\n",
       "      <th>6073</th>\n",
       "      <th>6074</th>\n",
       "      <th>video</th>\n",
       "    </tr>\n",
       "  </thead>\n",
       "  <tbody>\n",
       "    <tr>\n",
       "      <td>0</td>\n",
       "      <td>0.005026</td>\n",
       "      <td>0.001356</td>\n",
       "      <td>0.000055</td>\n",
       "      <td>0.0</td>\n",
       "      <td>0.000665</td>\n",
       "      <td>0.000029</td>\n",
       "      <td>0.0</td>\n",
       "      <td>0.000000</td>\n",
       "      <td>0.000024</td>\n",
       "      <td>0.0</td>\n",
       "      <td>...</td>\n",
       "      <td>0.000882</td>\n",
       "      <td>0.000200</td>\n",
       "      <td>0.000009</td>\n",
       "      <td>0.000559</td>\n",
       "      <td>0.001097</td>\n",
       "      <td>0.000018</td>\n",
       "      <td>0.000632</td>\n",
       "      <td>0.001128</td>\n",
       "      <td>0.000064</td>\n",
       "      <td>video10.webm</td>\n",
       "    </tr>\n",
       "    <tr>\n",
       "      <td>1</td>\n",
       "      <td>0.019473</td>\n",
       "      <td>0.005004</td>\n",
       "      <td>0.000098</td>\n",
       "      <td>0.0</td>\n",
       "      <td>0.001991</td>\n",
       "      <td>0.000038</td>\n",
       "      <td>0.0</td>\n",
       "      <td>0.000000</td>\n",
       "      <td>0.000011</td>\n",
       "      <td>0.0</td>\n",
       "      <td>...</td>\n",
       "      <td>0.000056</td>\n",
       "      <td>0.000013</td>\n",
       "      <td>0.000000</td>\n",
       "      <td>0.000045</td>\n",
       "      <td>0.000178</td>\n",
       "      <td>0.000022</td>\n",
       "      <td>0.000071</td>\n",
       "      <td>0.000256</td>\n",
       "      <td>0.000085</td>\n",
       "      <td>video100.webm</td>\n",
       "    </tr>\n",
       "    <tr>\n",
       "      <td>2</td>\n",
       "      <td>0.007250</td>\n",
       "      <td>0.002722</td>\n",
       "      <td>0.000050</td>\n",
       "      <td>0.0</td>\n",
       "      <td>0.001070</td>\n",
       "      <td>0.000055</td>\n",
       "      <td>0.0</td>\n",
       "      <td>0.000000</td>\n",
       "      <td>0.000035</td>\n",
       "      <td>0.0</td>\n",
       "      <td>...</td>\n",
       "      <td>0.000090</td>\n",
       "      <td>0.000060</td>\n",
       "      <td>0.000000</td>\n",
       "      <td>0.000100</td>\n",
       "      <td>0.000234</td>\n",
       "      <td>0.000010</td>\n",
       "      <td>0.000164</td>\n",
       "      <td>0.000413</td>\n",
       "      <td>0.000025</td>\n",
       "      <td>video1001.webm</td>\n",
       "    </tr>\n",
       "    <tr>\n",
       "      <td>3</td>\n",
       "      <td>0.071224</td>\n",
       "      <td>0.011862</td>\n",
       "      <td>0.000320</td>\n",
       "      <td>0.0</td>\n",
       "      <td>0.007180</td>\n",
       "      <td>0.000301</td>\n",
       "      <td>0.0</td>\n",
       "      <td>0.000002</td>\n",
       "      <td>0.000208</td>\n",
       "      <td>0.0</td>\n",
       "      <td>...</td>\n",
       "      <td>0.000093</td>\n",
       "      <td>0.000049</td>\n",
       "      <td>0.000000</td>\n",
       "      <td>0.000086</td>\n",
       "      <td>0.000208</td>\n",
       "      <td>0.000019</td>\n",
       "      <td>0.000063</td>\n",
       "      <td>0.000236</td>\n",
       "      <td>0.000139</td>\n",
       "      <td>video1003.webm</td>\n",
       "    </tr>\n",
       "    <tr>\n",
       "      <td>4</td>\n",
       "      <td>0.053318</td>\n",
       "      <td>0.009491</td>\n",
       "      <td>0.000454</td>\n",
       "      <td>0.0</td>\n",
       "      <td>0.004754</td>\n",
       "      <td>0.000414</td>\n",
       "      <td>0.0</td>\n",
       "      <td>0.000004</td>\n",
       "      <td>0.000155</td>\n",
       "      <td>0.0</td>\n",
       "      <td>...</td>\n",
       "      <td>0.000290</td>\n",
       "      <td>0.000113</td>\n",
       "      <td>0.000007</td>\n",
       "      <td>0.000190</td>\n",
       "      <td>0.000808</td>\n",
       "      <td>0.000111</td>\n",
       "      <td>0.000317</td>\n",
       "      <td>0.000974</td>\n",
       "      <td>0.001045</td>\n",
       "      <td>video1004.webm</td>\n",
       "    </tr>\n",
       "  </tbody>\n",
       "</table>\n",
       "<p>5 rows × 6076 columns</p>\n",
       "</div>"
      ],
      "text/plain": [
       "          0         1         2    3         4         5    6         7  \\\n",
       "0  0.005026  0.001356  0.000055  0.0  0.000665  0.000029  0.0  0.000000   \n",
       "1  0.019473  0.005004  0.000098  0.0  0.001991  0.000038  0.0  0.000000   \n",
       "2  0.007250  0.002722  0.000050  0.0  0.001070  0.000055  0.0  0.000000   \n",
       "3  0.071224  0.011862  0.000320  0.0  0.007180  0.000301  0.0  0.000002   \n",
       "4  0.053318  0.009491  0.000454  0.0  0.004754  0.000414  0.0  0.000004   \n",
       "\n",
       "          8    9  ...      6066      6067      6068      6069      6070  \\\n",
       "0  0.000024  0.0  ...  0.000882  0.000200  0.000009  0.000559  0.001097   \n",
       "1  0.000011  0.0  ...  0.000056  0.000013  0.000000  0.000045  0.000178   \n",
       "2  0.000035  0.0  ...  0.000090  0.000060  0.000000  0.000100  0.000234   \n",
       "3  0.000208  0.0  ...  0.000093  0.000049  0.000000  0.000086  0.000208   \n",
       "4  0.000155  0.0  ...  0.000290  0.000113  0.000007  0.000190  0.000808   \n",
       "\n",
       "       6071      6072      6073      6074           video  \n",
       "0  0.000018  0.000632  0.001128  0.000064    video10.webm  \n",
       "1  0.000022  0.000071  0.000256  0.000085   video100.webm  \n",
       "2  0.000010  0.000164  0.000413  0.000025  video1001.webm  \n",
       "3  0.000019  0.000063  0.000236  0.000139  video1003.webm  \n",
       "4  0.000111  0.000317  0.000974  0.001045  video1004.webm  \n",
       "\n",
       "[5 rows x 6076 columns]"
      ]
     },
     "execution_count": 182,
     "metadata": {},
     "output_type": "execute_result"
    }
   ],
   "source": [
    "HMP_features.head()"
   ]
  },
  {
   "cell_type": "code",
   "execution_count": 183,
   "metadata": {
    "colab": {},
    "colab_type": "code",
    "id": "PsBi6N5LhNgs"
   },
   "outputs": [],
   "source": [
    "hdf = pd.merge(ground_truth, HMP_features , on='video')"
   ]
  },
  {
   "cell_type": "code",
   "execution_count": 184,
   "metadata": {},
   "outputs": [
    {
     "data": {
      "text/html": [
       "<div>\n",
       "<style scoped>\n",
       "    .dataframe tbody tr th:only-of-type {\n",
       "        vertical-align: middle;\n",
       "    }\n",
       "\n",
       "    .dataframe tbody tr th {\n",
       "        vertical-align: top;\n",
       "    }\n",
       "\n",
       "    .dataframe thead th {\n",
       "        text-align: right;\n",
       "    }\n",
       "</style>\n",
       "<table border=\"1\" class=\"dataframe\">\n",
       "  <thead>\n",
       "    <tr style=\"text-align: right;\">\n",
       "      <th></th>\n",
       "      <th>video</th>\n",
       "      <th>short-term_memorability</th>\n",
       "      <th>long-term_memorability</th>\n",
       "      <th>0</th>\n",
       "      <th>1</th>\n",
       "      <th>2</th>\n",
       "      <th>3</th>\n",
       "      <th>4</th>\n",
       "      <th>5</th>\n",
       "      <th>6</th>\n",
       "      <th>...</th>\n",
       "      <th>6065</th>\n",
       "      <th>6066</th>\n",
       "      <th>6067</th>\n",
       "      <th>6068</th>\n",
       "      <th>6069</th>\n",
       "      <th>6070</th>\n",
       "      <th>6071</th>\n",
       "      <th>6072</th>\n",
       "      <th>6073</th>\n",
       "      <th>6074</th>\n",
       "    </tr>\n",
       "  </thead>\n",
       "  <tbody>\n",
       "    <tr>\n",
       "      <td>0</td>\n",
       "      <td>video3.webm</td>\n",
       "      <td>0.924</td>\n",
       "      <td>0.846</td>\n",
       "      <td>0.125563</td>\n",
       "      <td>0.024036</td>\n",
       "      <td>0.000314</td>\n",
       "      <td>0.0</td>\n",
       "      <td>0.015864</td>\n",
       "      <td>0.000358</td>\n",
       "      <td>0.0</td>\n",
       "      <td>...</td>\n",
       "      <td>0.000000</td>\n",
       "      <td>0.000393</td>\n",
       "      <td>0.000279</td>\n",
       "      <td>0.000000</td>\n",
       "      <td>0.000289</td>\n",
       "      <td>0.001926</td>\n",
       "      <td>0.000000</td>\n",
       "      <td>0.000086</td>\n",
       "      <td>0.000580</td>\n",
       "      <td>0.000000</td>\n",
       "    </tr>\n",
       "    <tr>\n",
       "      <td>1</td>\n",
       "      <td>video4.webm</td>\n",
       "      <td>0.923</td>\n",
       "      <td>0.667</td>\n",
       "      <td>0.007526</td>\n",
       "      <td>0.001421</td>\n",
       "      <td>0.000068</td>\n",
       "      <td>0.0</td>\n",
       "      <td>0.001184</td>\n",
       "      <td>0.000143</td>\n",
       "      <td>0.0</td>\n",
       "      <td>...</td>\n",
       "      <td>0.000053</td>\n",
       "      <td>0.000244</td>\n",
       "      <td>0.000066</td>\n",
       "      <td>0.000000</td>\n",
       "      <td>0.000081</td>\n",
       "      <td>0.000617</td>\n",
       "      <td>0.000094</td>\n",
       "      <td>0.000220</td>\n",
       "      <td>0.000762</td>\n",
       "      <td>0.001224</td>\n",
       "    </tr>\n",
       "    <tr>\n",
       "      <td>2</td>\n",
       "      <td>video6.webm</td>\n",
       "      <td>0.863</td>\n",
       "      <td>0.700</td>\n",
       "      <td>0.109584</td>\n",
       "      <td>0.018978</td>\n",
       "      <td>0.000289</td>\n",
       "      <td>0.0</td>\n",
       "      <td>0.008774</td>\n",
       "      <td>0.000208</td>\n",
       "      <td>0.0</td>\n",
       "      <td>...</td>\n",
       "      <td>0.000007</td>\n",
       "      <td>0.000054</td>\n",
       "      <td>0.000045</td>\n",
       "      <td>0.000000</td>\n",
       "      <td>0.000028</td>\n",
       "      <td>0.000291</td>\n",
       "      <td>0.000033</td>\n",
       "      <td>0.000052</td>\n",
       "      <td>0.000258</td>\n",
       "      <td>0.000215</td>\n",
       "    </tr>\n",
       "    <tr>\n",
       "      <td>3</td>\n",
       "      <td>video8.webm</td>\n",
       "      <td>0.922</td>\n",
       "      <td>0.818</td>\n",
       "      <td>0.120431</td>\n",
       "      <td>0.013561</td>\n",
       "      <td>0.000277</td>\n",
       "      <td>0.0</td>\n",
       "      <td>0.018974</td>\n",
       "      <td>0.000913</td>\n",
       "      <td>0.0</td>\n",
       "      <td>...</td>\n",
       "      <td>0.000059</td>\n",
       "      <td>0.001110</td>\n",
       "      <td>0.000075</td>\n",
       "      <td>0.000008</td>\n",
       "      <td>0.000333</td>\n",
       "      <td>0.000793</td>\n",
       "      <td>0.000101</td>\n",
       "      <td>0.000588</td>\n",
       "      <td>0.000503</td>\n",
       "      <td>0.000452</td>\n",
       "    </tr>\n",
       "    <tr>\n",
       "      <td>4</td>\n",
       "      <td>video10.webm</td>\n",
       "      <td>0.950</td>\n",
       "      <td>0.900</td>\n",
       "      <td>0.005026</td>\n",
       "      <td>0.001356</td>\n",
       "      <td>0.000055</td>\n",
       "      <td>0.0</td>\n",
       "      <td>0.000665</td>\n",
       "      <td>0.000029</td>\n",
       "      <td>0.0</td>\n",
       "      <td>...</td>\n",
       "      <td>0.000009</td>\n",
       "      <td>0.000882</td>\n",
       "      <td>0.000200</td>\n",
       "      <td>0.000009</td>\n",
       "      <td>0.000559</td>\n",
       "      <td>0.001097</td>\n",
       "      <td>0.000018</td>\n",
       "      <td>0.000632</td>\n",
       "      <td>0.001128</td>\n",
       "      <td>0.000064</td>\n",
       "    </tr>\n",
       "  </tbody>\n",
       "</table>\n",
       "<p>5 rows × 6078 columns</p>\n",
       "</div>"
      ],
      "text/plain": [
       "          video  short-term_memorability  long-term_memorability         0  \\\n",
       "0   video3.webm                    0.924                   0.846  0.125563   \n",
       "1   video4.webm                    0.923                   0.667  0.007526   \n",
       "2   video6.webm                    0.863                   0.700  0.109584   \n",
       "3   video8.webm                    0.922                   0.818  0.120431   \n",
       "4  video10.webm                    0.950                   0.900  0.005026   \n",
       "\n",
       "          1         2    3         4         5    6  ...      6065      6066  \\\n",
       "0  0.024036  0.000314  0.0  0.015864  0.000358  0.0  ...  0.000000  0.000393   \n",
       "1  0.001421  0.000068  0.0  0.001184  0.000143  0.0  ...  0.000053  0.000244   \n",
       "2  0.018978  0.000289  0.0  0.008774  0.000208  0.0  ...  0.000007  0.000054   \n",
       "3  0.013561  0.000277  0.0  0.018974  0.000913  0.0  ...  0.000059  0.001110   \n",
       "4  0.001356  0.000055  0.0  0.000665  0.000029  0.0  ...  0.000009  0.000882   \n",
       "\n",
       "       6067      6068      6069      6070      6071      6072      6073  \\\n",
       "0  0.000279  0.000000  0.000289  0.001926  0.000000  0.000086  0.000580   \n",
       "1  0.000066  0.000000  0.000081  0.000617  0.000094  0.000220  0.000762   \n",
       "2  0.000045  0.000000  0.000028  0.000291  0.000033  0.000052  0.000258   \n",
       "3  0.000075  0.000008  0.000333  0.000793  0.000101  0.000588  0.000503   \n",
       "4  0.000200  0.000009  0.000559  0.001097  0.000018  0.000632  0.001128   \n",
       "\n",
       "       6074  \n",
       "0  0.000000  \n",
       "1  0.001224  \n",
       "2  0.000215  \n",
       "3  0.000452  \n",
       "4  0.000064  \n",
       "\n",
       "[5 rows x 6078 columns]"
      ]
     },
     "execution_count": 184,
     "metadata": {},
     "output_type": "execute_result"
    }
   ],
   "source": [
    "hdf.head()"
   ]
  },
  {
   "cell_type": "code",
   "execution_count": 185,
   "metadata": {},
   "outputs": [],
   "source": [
    "hmp_features = hdf.iloc[:,3:6078].values"
   ]
  },
  {
   "cell_type": "markdown",
   "metadata": {},
   "source": [
    "**Assigning the features to X and Y**"
   ]
  },
  {
   "cell_type": "code",
   "execution_count": 186,
   "metadata": {},
   "outputs": [],
   "source": [
    "X = hmp_features\n",
    "Y = ground_truth.iloc[:, 1:3].values"
   ]
  },
  {
   "cell_type": "markdown",
   "metadata": {},
   "source": [
    "**Splitting the dataset into the Training set and Test set**"
   ]
  },
  {
   "cell_type": "code",
   "execution_count": 187,
   "metadata": {},
   "outputs": [],
   "source": [
    "from sklearn.model_selection import train_test_split\n",
    "X_train, X_test, y_train, y_test = train_test_split(X, y, test_size = 0.20)"
   ]
  },
  {
   "cell_type": "markdown",
   "metadata": {},
   "source": [
    "**Using Linear Regression Model on HMP**"
   ]
  },
  {
   "cell_type": "code",
   "execution_count": 190,
   "metadata": {},
   "outputs": [
    {
     "data": {
      "text/plain": [
       "LinearRegression(copy_X=True, fit_intercept=True, n_jobs=None, normalize=False)"
      ]
     },
     "execution_count": 190,
     "metadata": {},
     "output_type": "execute_result"
    }
   ],
   "source": [
    "from sklearn.linear_model import LinearRegression\n",
    "LMregressor = LinearRegression()\n",
    "LMregressor.fit(X_train, y_train)"
   ]
  },
  {
   "cell_type": "code",
   "execution_count": 191,
   "metadata": {},
   "outputs": [
    {
     "name": "stdout",
     "output_type": "stream",
     "text": [
      "The Spearman's correlation coefficient is: 0.048\n",
      "The Spearman's correlation coefficient is: 0.010\n"
     ]
    }
   ],
   "source": [
    "y_pred = LMregressor.predict(X_test)\n",
    "Get_score(y_pred, y_test)"
   ]
  },
  {
   "cell_type": "markdown",
   "metadata": {},
   "source": [
    "**Using Decision Tree Regression Model on HMP**"
   ]
  },
  {
   "cell_type": "code",
   "execution_count": 193,
   "metadata": {},
   "outputs": [
    {
     "data": {
      "text/plain": [
       "DecisionTreeRegressor(criterion='mse', max_depth=None, max_features=None,\n",
       "                      max_leaf_nodes=None, min_impurity_decrease=0.0,\n",
       "                      min_impurity_split=None, min_samples_leaf=1,\n",
       "                      min_samples_split=2, min_weight_fraction_leaf=0.0,\n",
       "                      presort=False, random_state=None, splitter='best')"
      ]
     },
     "execution_count": 193,
     "metadata": {},
     "output_type": "execute_result"
    }
   ],
   "source": [
    "from sklearn.tree import DecisionTreeRegressor\n",
    "DTregressor = DecisionTreeRegressor()\n",
    "DTregressor.fit(X_train, y_train)"
   ]
  },
  {
   "cell_type": "code",
   "execution_count": 194,
   "metadata": {},
   "outputs": [
    {
     "name": "stdout",
     "output_type": "stream",
     "text": [
      "The Spearman's correlation coefficient is: 0.065\n",
      "The Spearman's correlation coefficient is: 0.085\n"
     ]
    }
   ],
   "source": [
    "y_pred = DTregressor.predict(X_test)\n",
    "Get_score(y_pred, y_test)"
   ]
  },
  {
   "cell_type": "markdown",
   "metadata": {},
   "source": [
    "**Fitting Random Forest Regression model on HMPfeatures**\n",
    "\n"
   ]
  },
  {
   "cell_type": "code",
   "execution_count": 195,
   "metadata": {},
   "outputs": [
    {
     "name": "stderr",
     "output_type": "stream",
     "text": [
      "C:\\Anaconda3\\lib\\site-packages\\sklearn\\ensemble\\forest.py:245: FutureWarning: The default value of n_estimators will change from 10 in version 0.20 to 100 in 0.22.\n",
      "  \"10 in version 0.20 to 100 in 0.22.\", FutureWarning)\n"
     ]
    },
    {
     "data": {
      "text/plain": [
       "RandomForestRegressor(bootstrap=True, criterion='mse', max_depth=None,\n",
       "                      max_features='auto', max_leaf_nodes=None,\n",
       "                      min_impurity_decrease=0.0, min_impurity_split=None,\n",
       "                      min_samples_leaf=1, min_samples_split=2,\n",
       "                      min_weight_fraction_leaf=0.0, n_estimators=10,\n",
       "                      n_jobs=None, oob_score=False, random_state=None,\n",
       "                      verbose=0, warm_start=False)"
      ]
     },
     "execution_count": 195,
     "metadata": {},
     "output_type": "execute_result"
    }
   ],
   "source": [
    "from sklearn.ensemble import RandomForestRegressor\n",
    "RFregressor = RandomForestRegressor()\n",
    "RFregressor.fit(X_train, y_train)"
   ]
  },
  {
   "cell_type": "code",
   "execution_count": 196,
   "metadata": {},
   "outputs": [
    {
     "name": "stdout",
     "output_type": "stream",
     "text": [
      "The Spearman's correlation coefficient is: 0.217\n",
      "The Spearman's correlation coefficient is: 0.067\n"
     ]
    }
   ],
   "source": [
    "y_pred = RFregressor.predict(X_test)\n",
    "Get_score(y_pred, y_test)"
   ]
  },
  {
   "cell_type": "markdown",
   "metadata": {},
   "source": [
    "**Using ANN Sequential Model on HMP Features**"
   ]
  },
  {
   "cell_type": "code",
   "execution_count": 197,
   "metadata": {},
   "outputs": [
    {
     "name": "stdout",
     "output_type": "stream",
     "text": [
      "Requirement already satisfied: pyprind in c:\\anaconda3\\lib\\site-packages (2.11.2)\n"
     ]
    }
   ],
   "source": [
    "!pip install pyprind"
   ]
  },
  {
   "cell_type": "code",
   "execution_count": 198,
   "metadata": {},
   "outputs": [],
   "source": [
    "from keras import Sequential\n",
    "from keras import layers\n",
    "from keras import regularizers\n",
    "import pyprind\n",
    "from collections import Counter"
   ]
  },
  {
   "cell_type": "code",
   "execution_count": 199,
   "metadata": {},
   "outputs": [
    {
     "data": {
      "text/plain": [
       "(6000, 6075)"
      ]
     },
     "execution_count": 199,
     "metadata": {},
     "output_type": "execute_result"
    }
   ],
   "source": [
    "hmp_features.shape"
   ]
  },
  {
   "cell_type": "code",
   "execution_count": 200,
   "metadata": {},
   "outputs": [],
   "source": [
    "max_len = 6075"
   ]
  },
  {
   "cell_type": "code",
   "execution_count": 201,
   "metadata": {},
   "outputs": [],
   "source": [
    "X = hmp_features\n",
    "y = ground_truth.iloc[:, 1:3].values"
   ]
  },
  {
   "cell_type": "code",
   "execution_count": 202,
   "metadata": {},
   "outputs": [],
   "source": [
    "X_train, X_test, Y_train, Y_test = train_test_split(X,y, test_size=0.2)"
   ]
  },
  {
   "cell_type": "markdown",
   "metadata": {},
   "source": [
    "**Building a sequntial model with 2 layers.**"
   ]
  },
  {
   "cell_type": "code",
   "execution_count": 203,
   "metadata": {},
   "outputs": [
    {
     "name": "stdout",
     "output_type": "stream",
     "text": [
      "WARNING:tensorflow:Large dropout rate: 0.6 (>0.5). In TensorFlow 2.x, dropout() uses dropout rate instead of keep_prob. Please ensure that this is intended.\n",
      "Train on 4800 samples, validate on 1200 samples\n",
      "Epoch 1/10\n",
      "4800/4800 [==============================] - 1s 239us/step - loss: 0.0813 - accuracy: 0.6879 - val_loss: 0.0247 - val_accuracy: 0.7133\n",
      "Epoch 2/10\n",
      "4800/4800 [==============================] - 1s 199us/step - loss: 0.0208 - accuracy: 0.6979 - val_loss: 0.0163 - val_accuracy: 0.7133\n",
      "Epoch 3/10\n",
      "4800/4800 [==============================] - 1s 201us/step - loss: 0.0163 - accuracy: 0.7017 - val_loss: 0.0150 - val_accuracy: 0.7133\n",
      "Epoch 4/10\n",
      "4800/4800 [==============================] - 1s 202us/step - loss: 0.0154 - accuracy: 0.7021 - val_loss: 0.0146 - val_accuracy: 0.7133\n",
      "Epoch 5/10\n",
      "4800/4800 [==============================] - 1s 201us/step - loss: 0.0148 - accuracy: 0.7025 - val_loss: 0.0145 - val_accuracy: 0.7133\n",
      "Epoch 6/10\n",
      "4800/4800 [==============================] - 1s 199us/step - loss: 0.0148 - accuracy: 0.7027 - val_loss: 0.0145 - val_accuracy: 0.7133\n",
      "Epoch 7/10\n",
      "4800/4800 [==============================] - 1s 205us/step - loss: 0.0147 - accuracy: 0.7029 - val_loss: 0.0145 - val_accuracy: 0.7133\n",
      "Epoch 8/10\n",
      "4800/4800 [==============================] - 1s 202us/step - loss: 0.0147 - accuracy: 0.7027 - val_loss: 0.0145 - val_accuracy: 0.7133\n",
      "Epoch 9/10\n",
      "4800/4800 [==============================] - 1s 209us/step - loss: 0.0146 - accuracy: 0.7027 - val_loss: 0.0145 - val_accuracy: 0.7133\n",
      "Epoch 10/10\n",
      "4800/4800 [==============================] - 1s 198us/step - loss: 0.0148 - accuracy: 0.7027 - val_loss: 0.0145 - val_accuracy: 0.7133\n"
     ]
    }
   ],
   "source": [
    "model = Sequential()\n",
    "model.add(layers.Dense(64,activation='relu',kernel_regularizer=regularizers.l2(0.001),input_shape=(max_len,)))\n",
    "model.add(layers.Dropout(0.6))\n",
    "model.add(layers.Dense(64,activation='relu',kernel_regularizer=regularizers.l2(0.001)))\n",
    "model.add(layers.Dropout(0.5))\n",
    "model.add(layers.Dense(2,activation='sigmoid'))\n",
    "\n",
    "# compile the model \n",
    "model.compile(optimizer='adam',loss='mse',metrics=['accuracy'])\n",
    "\n",
    "# training the model \n",
    "history = model.fit(X_train,Y_train,epochs=10,validation_data=(X_test,Y_test))"
   ]
  },
  {
   "cell_type": "code",
   "execution_count": 204,
   "metadata": {},
   "outputs": [
    {
     "name": "stdout",
     "output_type": "stream",
     "text": [
      "The Spearman's correlation coefficient is: 0.159\n",
      "The Spearman's correlation coefficient is: 0.062\n"
     ]
    }
   ],
   "source": [
    "y_pred = model.predict(X_test)\n",
    "Get_score(y_pred, Y_test)"
   ]
  },
  {
   "cell_type": "markdown",
   "metadata": {},
   "source": [
    "**HMP is clearly performing worst compared to other features, So i have excluded these features in the final model**"
   ]
  },
  {
   "cell_type": "code",
   "execution_count": null,
   "metadata": {},
   "outputs": [],
   "source": [
    "\"\"\"Conclusion:\n",
    "None of the models Outperfomed the model that used captions when used with TFIDF vectorizer, \n",
    "Therefore My final model will be based on TFIDF values of captions using Random Forest Regressor.\n",
    "\"\"\""
   ]
  }
 ],
 "metadata": {
  "accelerator": "GPU",
  "colab": {
   "authorship_tag": "ABX9TyNvTwtcY2ON9PHb8I0jUO9/",
   "name": "MemorabilityScore.ipynb",
   "provenance": []
  },
  "kernelspec": {
   "display_name": "Python 3",
   "language": "python",
   "name": "python3"
  },
  "language_info": {
   "codemirror_mode": {
    "name": "ipython",
    "version": 3
   },
   "file_extension": ".py",
   "mimetype": "text/x-python",
   "name": "python",
   "nbconvert_exporter": "python",
   "pygments_lexer": "ipython3",
   "version": "3.7.4"
  }
 },
 "nbformat": 4,
 "nbformat_minor": 1
}
